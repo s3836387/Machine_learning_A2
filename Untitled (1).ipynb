{
 "cells": [
  {
   "cell_type": "markdown",
   "id": "f69b336b",
   "metadata": {},
   "source": [
    "<hr style=\"border:0.1px solid gray\">"
   ]
  },
  {
   "cell_type": "markdown",
   "id": "6f629d5c",
   "metadata": {},
   "source": [
    "# <center style='color:Red'> COSC2753 - Machine Learning </center> \n",
    "## <center style='color:Red'> Assignment 2 - Classify Images of Colon Cancer </center>"
   ]
  },
  {
   "cell_type": "markdown",
   "id": "92aa65e3",
   "metadata": {},
   "source": [
    "**Group Number:** 8\n",
    "\n",
    "**Student 1:** Ngo Quang Khai - s3836387 \n",
    "\n",
    "**Student 2:** Nguyen Quoc Minh - s3758994\n",
    "\n",
    "**Student 3:** Bui Thanh Huy - s3740934\n",
    "\n",
    "**Student 4:** Tran Vinh Khang - s3855823\n",
    "\n",
    "**Student 5:** Le Trong Hung - s3805504\n",
    "\n",
    "**Lecturer:** Dr. Bao Nguyen\n",
    "\n",
    "**Due Date:** May 14th, 2021"
   ]
  },
  {
   "cell_type": "markdown",
   "id": "baf7d6af",
   "metadata": {},
   "source": [
    "<hr style=\"border:0.1px solid gray\">"
   ]
  },
  {
   "cell_type": "markdown",
   "id": "d958fcfd",
   "metadata": {},
   "source": [
    "# Main Task"
   ]
  },
  {
   "cell_type": "markdown",
   "id": "0b10ae1e",
   "metadata": {},
   "source": [
    "- **Task 1**: Classify images according to whether given cell image represents a cancerous cells or not (isCancerous)\n",
    "\n",
    "\n",
    "- **Task 2**: Classify images according to cell-type, such as: fibroblast, inflammatory, epithelial or others.\n",
    "\n",
    "\n",
    "- **Extra task**:"
   ]
  },
  {
   "cell_type": "markdown",
   "id": "17cc28c3",
   "metadata": {},
   "source": [
    "# 1. Import libraries and setting up environment"
   ]
  },
  {
   "cell_type": "code",
   "execution_count": 1,
   "id": "968c270e",
   "metadata": {},
   "outputs": [],
   "source": [
    "#!pip install tensorflow\n",
    "#!pip install keras\n",
    "#!pip install opencv-python\n"
   ]
  },
  {
   "cell_type": "code",
   "execution_count": 2,
   "id": "bdcf75fd",
   "metadata": {},
   "outputs": [
    {
     "name": "stdout",
     "output_type": "stream",
     "text": [
      "Tensorflow version: 2.6.0\n",
      "CV2 version: 4.5.5\n"
     ]
    }
   ],
   "source": [
    "import pandas as pd\n",
    "import numpy as np\n",
    "import matplotlib.pyplot as plt\n",
    "%matplotlib inline \n",
    "import seaborn as sns\n",
    "from tqdm import tqdm\n",
    "\n",
    "import cv2\n",
    "import os\n",
    "import tensorflow as tf\n",
    "import sklearn as sk\n",
    "\n",
    "import warnings\n",
    "warnings.filterwarnings('ignore')\n",
    "\n",
    "\n",
    "#It is important to check the version of these libraries to make sure that implement the latest method.\n",
    "print('Tensorflow version:', tf.__version__)\n",
    "print('CV2 version:', cv2.__version__)"
   ]
  },
  {
   "cell_type": "markdown",
   "id": "9c253d70",
   "metadata": {},
   "source": [
    "# 2. Import Dataset"
   ]
  },
  {
   "cell_type": "code",
   "execution_count": 3,
   "id": "9a1ee400",
   "metadata": {},
   "outputs": [],
   "source": [
    "# Import data_labels_mainData.csv into a DataFrame\n",
    "main_data = pd.read_csv('data_labels_mainData.csv')\n",
    "\n",
    "# Import data_labels_extraData.csv into a DataFrame\n",
    "extra_data = pd.read_csv('data_labels_extraData.csv')"
   ]
  },
  {
   "cell_type": "markdown",
   "id": "b2d64513",
   "metadata": {},
   "source": [
    "# 3. Exploratory Data Analysis (EDA)"
   ]
  },
  {
   "cell_type": "markdown",
   "id": "520b23ab",
   "metadata": {},
   "source": [
    "## 3.1. Process the data"
   ]
  },
  {
   "cell_type": "code",
   "execution_count": 4,
   "id": "c7620550",
   "metadata": {},
   "outputs": [
    {
     "name": "stdout",
     "output_type": "stream",
     "text": [
      "Dataframe of main_data: \n",
      "       InstanceID  patientID  ImageName cellTypeName  cellType  isCancerous\n",
      "0          22405          1  22405.png   fibroblast         0            0\n",
      "1          22406          1  22406.png   fibroblast         0            0\n",
      "2          22407          1  22407.png   fibroblast         0            0\n",
      "3          22408          1  22408.png   fibroblast         0            0\n",
      "4          22409          1  22409.png   fibroblast         0            0\n",
      "...          ...        ...        ...          ...       ...          ...\n",
      "9891        1625         60   1625.png   epithelial         2            1\n",
      "9892        1626         60   1626.png   epithelial         2            1\n",
      "9893        1627         60   1627.png   epithelial         2            1\n",
      "9894        1628         60   1628.png   epithelial         2            1\n",
      "9895        1629         60   1629.png   epithelial         2            1\n",
      "\n",
      "[9896 rows x 6 columns] \n",
      "\n",
      "Dataframe of extra_data: \n",
      "        InstanceID  patientID  ImageName  isCancerous\n",
      "0           12681         61  12681.png            0\n",
      "1           12682         61  12682.png            0\n",
      "2           12683         61  12683.png            0\n",
      "3           12684         61  12684.png            0\n",
      "4           12685         61  12685.png            0\n",
      "...           ...        ...        ...          ...\n",
      "10379       20028         99  20028.png            0\n",
      "10380       20029         99  20029.png            0\n",
      "10381       20030         99  20030.png            0\n",
      "10382       20031         99  20031.png            0\n",
      "10383       20032         99  20032.png            0\n",
      "\n",
      "[10384 rows x 4 columns]\n"
     ]
    }
   ],
   "source": [
    "#See the data frame of main_data\n",
    "print(\"Dataframe of main_data: \\n\", main_data, \"\\n\")\n",
    "\n",
    "#See the data frame of extra_data\n",
    "print(\"Dataframe of extra_data: \\n\", extra_data)"
   ]
  },
  {
   "cell_type": "markdown",
   "id": "68ca9884",
   "metadata": {},
   "source": [
    "**=>** Next, we will check if the data have any null values and datatype of each columns."
   ]
  },
  {
   "cell_type": "code",
   "execution_count": 5,
   "id": "0e93d75f",
   "metadata": {},
   "outputs": [
    {
     "name": "stdout",
     "output_type": "stream",
     "text": [
      "<class 'pandas.core.frame.DataFrame'>\n",
      "RangeIndex: 9896 entries, 0 to 9895\n",
      "Data columns (total 6 columns):\n",
      " #   Column        Non-Null Count  Dtype \n",
      "---  ------        --------------  ----- \n",
      " 0   InstanceID    9896 non-null   int64 \n",
      " 1   patientID     9896 non-null   int64 \n",
      " 2   ImageName     9896 non-null   object\n",
      " 3   cellTypeName  9896 non-null   object\n",
      " 4   cellType      9896 non-null   int64 \n",
      " 5   isCancerous   9896 non-null   int64 \n",
      "dtypes: int64(4), object(2)\n",
      "memory usage: 464.0+ KB\n"
     ]
    },
    {
     "data": {
      "text/plain": [
       "InstanceID      0\n",
       "patientID       0\n",
       "ImageName       0\n",
       "cellTypeName    0\n",
       "cellType        0\n",
       "isCancerous     0\n",
       "dtype: int64"
      ]
     },
     "execution_count": 5,
     "metadata": {},
     "output_type": "execute_result"
    }
   ],
   "source": [
    "main_data.info()\n",
    "main_data.isnull().sum()"
   ]
  },
  {
   "cell_type": "code",
   "execution_count": 6,
   "id": "dc7dc0b6",
   "metadata": {},
   "outputs": [
    {
     "name": "stdout",
     "output_type": "stream",
     "text": [
      "<class 'pandas.core.frame.DataFrame'>\n",
      "RangeIndex: 10384 entries, 0 to 10383\n",
      "Data columns (total 4 columns):\n",
      " #   Column       Non-Null Count  Dtype \n",
      "---  ------       --------------  ----- \n",
      " 0   InstanceID   10384 non-null  int64 \n",
      " 1   patientID    10384 non-null  int64 \n",
      " 2   ImageName    10384 non-null  object\n",
      " 3   isCancerous  10384 non-null  int64 \n",
      "dtypes: int64(3), object(1)\n",
      "memory usage: 324.6+ KB\n"
     ]
    },
    {
     "data": {
      "text/plain": [
       "InstanceID     0\n",
       "patientID      0\n",
       "ImageName      0\n",
       "isCancerous    0\n",
       "dtype: int64"
      ]
     },
     "execution_count": 6,
     "metadata": {},
     "output_type": "execute_result"
    }
   ],
   "source": [
    "extra_data.info()\n",
    "extra_data.isnull().sum()"
   ]
  },
  {
   "cell_type": "markdown",
   "id": "5553755d",
   "metadata": {},
   "source": [
    "**=>** Since our data is no missing/null value and properly formatted, we will move on to analyzing data."
   ]
  },
  {
   "cell_type": "markdown",
   "id": "3d8ff5d3",
   "metadata": {},
   "source": [
    "## 3.2. Data Analysis and Visualiztion"
   ]
  },
  {
   "cell_type": "markdown",
   "id": "26ffbe57",
   "metadata": {},
   "source": [
    "Based on the information provided by the biomedical company as well as the DataFrames in **section 3.1** above. We are aware of:\n",
    "- The **main_data** contains both **cellType (0 to 3)** and **isCancerous (0 and 1)** columns. In there, **cellType** values 0 to 3 represent fibroblast, inflammatory, epithelial, and miscellaneous cell types respectively based on the **cellTypeName** column. In addition, **isCancerous** values 0 and 1 represent colon cells with non-Cancer and Cancer.\n",
    "\n",
    "\n",
    "- The **extra_data** only contains **isCancerous (0 and 1)** column.\n",
    "\n",
    "**=>** Therefore, we choose the **isCancerous** attribute as the target column because both **main_data** and **extra_data** have the column **isCancerous**."
   ]
  },
  {
   "cell_type": "markdown",
   "id": "5ecfa939",
   "metadata": {},
   "source": [
    "### 3.2.1. Correlation and Correlation Matrix"
   ]
  },
  {
   "cell_type": "markdown",
   "id": "57e95090",
   "metadata": {},
   "source": [
    "Firstly, we will draw the correlation matrix to find out any relationship between **isCancerous** column with the others\n",
    "columns in **main_data**."
   ]
  },
  {
   "cell_type": "code",
   "execution_count": 7,
   "id": "bd101a5d",
   "metadata": {},
   "outputs": [
    {
     "data": {
      "image/png": "[encoded data removed]",
      "text/plain": [
       "<Figure size 1008x720 with 2 Axes>"
      ]
     },
     "metadata": {
      "needs_background": "light"
     },
     "output_type": "display_data"
    }
   ],
   "source": [
    "f = plt.figure(figsize=(14, 10))\n",
    "plt.title('Correlation Matrix', fontsize=16);\n",
    "sns.heatmap(main_data.corr(), annot = True)\n",
    "plt.show()"
   ]
  },
  {
   "cell_type": "markdown",
   "id": "a690da07",
   "metadata": {},
   "source": [
    "**Analysis**\n",
    "\n",
    "As we can see from the matrix above, most of the attributes do not correlate with **isCancerous** much are **InstanceID** (-0.44), **patientID** (-0.0012). Since these attributes do not affect much to isCancerous attribute, we will not use these attributes to train our model. Applying these two attributes to train the model can cause noise and overcomplicated issue to our prediction model.\n",
    "\n",
    "**=>** There is only attribute **cellType** with 0.44 has high impact on the attribute 'isCancerous'"
   ]
  },
  {
   "cell_type": "markdown",
   "id": "9acfa007",
   "metadata": {},
   "source": [
    "### 3.2.2. Data Distribution"
   ]
  },
  {
   "cell_type": "markdown",
   "id": "8f4f6a62",
   "metadata": {},
   "source": [
    "### Countplot"
   ]
  },
  {
   "cell_type": "code",
   "execution_count": 8,
   "id": "593a2064",
   "metadata": {},
   "outputs": [
    {
     "data": {
      "image/png": "[encoded data removed]",
      "text/plain": [
       "<Figure size 864x432 with 2 Axes>"
      ]
     },
     "metadata": {
      "needs_background": "light"
     },
     "output_type": "display_data"
    }
   ],
   "source": [
    "#Using the countplot to see the classification of cellType and isCancerous \n",
    "fig, ax =plt.subplots(1,2, figsize = (12,6))\n",
    "\n",
    "# 0 = fibroblast, 1 = imflammatory, 2 = epithelial, 3 = others\n",
    "sns.countplot(main_data['cellType'], palette='Set2', ax=ax[0]).set_title(\"Classification of Cell Types\")\n",
    "\n",
    "sns.countplot(main_data['isCancerous'], palette='Set1', ax=ax[1]).set_title(\"Classification of Cells isCancerous and Non-Cancerous\")\n",
    "fig.show()"
   ]
  },
  {
   "cell_type": "markdown",
   "id": "647541d8",
   "metadata": {},
   "source": [
    "**Analysis**\n",
    "- The first countplot shows us there 4 different types of cell: 0, 1, 2, 3. The first type of cell is 0 has approximately 1900, the second type of cell is 2 has approximately 2600, the third one is 4100 and last one is 1500.\n",
    "\n",
    "\n",
    "- The second countplot shows us number of cells that are cancer and not. In the first column is 0 represent the cell that are not cancerous, and 1 represent the cell that are cancerous. There are approximately 5900 cells that are not cancerous and 4200 cells that are cancerous in our data."
   ]
  },
  {
   "cell_type": "markdown",
   "id": "5b791a84",
   "metadata": {},
   "source": [
    "### Histogram"
   ]
  },
  {
   "cell_type": "code",
   "execution_count": 9,
   "id": "f6360f9b",
   "metadata": {},
   "outputs": [
    {
     "data": {
      "text/plain": [
       "<seaborn.axisgrid.FacetGrid at 0x172d47271c0>"
      ]
     },
     "execution_count": 9,
     "metadata": {},
     "output_type": "execute_result"
    },
    {
     "data": {
      "image/png": "[encoded data removed]",
      "text/plain": [
       "<Figure size 1152x288 with 2 Axes>"
      ]
     },
     "metadata": {
      "needs_background": "light"
     },
     "output_type": "display_data"
    }
   ],
   "source": [
    "# Draw the histogram for cellType respected to isCancerous (class 0 and 1)\n",
    "g = sns.FacetGrid(main_data, col='isCancerous', height=4, aspect=2)\n",
    "g.map(plt.hist, str('cellType'), bins=20)\n",
    "g.set_axis_labels('cellType', \"Count\")"
   ]
  },
  {
   "cell_type": "markdown",
   "id": "79f79792",
   "metadata": {},
   "source": [
    "**Analysis**\n",
    "\n",
    "Looking at these two histograms, we can see that 'cellType' 0, 1, and 3 are not cancerous. Meanwhile only 'cellType' 2 is cancerous."
   ]
  },
  {
   "cell_type": "code",
   "execution_count": 10,
   "id": "bcad300b",
   "metadata": {},
   "outputs": [
    {
     "data": {
      "text/html": [
       "<div>\n",
       "<style scoped>\n",
       "    .dataframe tbody tr th:only-of-type {\n",
       "        vertical-align: middle;\n",
       "    }\n",
       "\n",
       "    .dataframe tbody tr th {\n",
       "        vertical-align: top;\n",
       "    }\n",
       "\n",
       "    .dataframe thead th {\n",
       "        text-align: right;\n",
       "    }\n",
       "</style>\n",
       "<table border=\"1\" class=\"dataframe\">\n",
       "  <thead>\n",
       "    <tr style=\"text-align: right;\">\n",
       "      <th></th>\n",
       "      <th>InstanceID</th>\n",
       "      <th>patientID</th>\n",
       "      <th>ImageName</th>\n",
       "      <th>cellTypeName</th>\n",
       "      <th>cellType</th>\n",
       "      <th>isCancerous</th>\n",
       "    </tr>\n",
       "  </thead>\n",
       "  <tbody>\n",
       "    <tr>\n",
       "      <th>449</th>\n",
       "      <td>276</td>\n",
       "      <td>5</td>\n",
       "      <td>276.png</td>\n",
       "      <td>epithelial</td>\n",
       "      <td>2</td>\n",
       "      <td>1</td>\n",
       "    </tr>\n",
       "    <tr>\n",
       "      <th>450</th>\n",
       "      <td>277</td>\n",
       "      <td>5</td>\n",
       "      <td>277.png</td>\n",
       "      <td>epithelial</td>\n",
       "      <td>2</td>\n",
       "      <td>1</td>\n",
       "    </tr>\n",
       "    <tr>\n",
       "      <th>451</th>\n",
       "      <td>278</td>\n",
       "      <td>5</td>\n",
       "      <td>278.png</td>\n",
       "      <td>epithelial</td>\n",
       "      <td>2</td>\n",
       "      <td>1</td>\n",
       "    </tr>\n",
       "    <tr>\n",
       "      <th>452</th>\n",
       "      <td>279</td>\n",
       "      <td>5</td>\n",
       "      <td>279.png</td>\n",
       "      <td>epithelial</td>\n",
       "      <td>2</td>\n",
       "      <td>1</td>\n",
       "    </tr>\n",
       "    <tr>\n",
       "      <th>453</th>\n",
       "      <td>280</td>\n",
       "      <td>5</td>\n",
       "      <td>280.png</td>\n",
       "      <td>epithelial</td>\n",
       "      <td>2</td>\n",
       "      <td>1</td>\n",
       "    </tr>\n",
       "    <tr>\n",
       "      <th>...</th>\n",
       "      <td>...</td>\n",
       "      <td>...</td>\n",
       "      <td>...</td>\n",
       "      <td>...</td>\n",
       "      <td>...</td>\n",
       "      <td>...</td>\n",
       "    </tr>\n",
       "    <tr>\n",
       "      <th>9891</th>\n",
       "      <td>1625</td>\n",
       "      <td>60</td>\n",
       "      <td>1625.png</td>\n",
       "      <td>epithelial</td>\n",
       "      <td>2</td>\n",
       "      <td>1</td>\n",
       "    </tr>\n",
       "    <tr>\n",
       "      <th>9892</th>\n",
       "      <td>1626</td>\n",
       "      <td>60</td>\n",
       "      <td>1626.png</td>\n",
       "      <td>epithelial</td>\n",
       "      <td>2</td>\n",
       "      <td>1</td>\n",
       "    </tr>\n",
       "    <tr>\n",
       "      <th>9893</th>\n",
       "      <td>1627</td>\n",
       "      <td>60</td>\n",
       "      <td>1627.png</td>\n",
       "      <td>epithelial</td>\n",
       "      <td>2</td>\n",
       "      <td>1</td>\n",
       "    </tr>\n",
       "    <tr>\n",
       "      <th>9894</th>\n",
       "      <td>1628</td>\n",
       "      <td>60</td>\n",
       "      <td>1628.png</td>\n",
       "      <td>epithelial</td>\n",
       "      <td>2</td>\n",
       "      <td>1</td>\n",
       "    </tr>\n",
       "    <tr>\n",
       "      <th>9895</th>\n",
       "      <td>1629</td>\n",
       "      <td>60</td>\n",
       "      <td>1629.png</td>\n",
       "      <td>epithelial</td>\n",
       "      <td>2</td>\n",
       "      <td>1</td>\n",
       "    </tr>\n",
       "  </tbody>\n",
       "</table>\n",
       "<p>4079 rows × 6 columns</p>\n",
       "</div>"
      ],
      "text/plain": [
       "      InstanceID  patientID ImageName cellTypeName  cellType  isCancerous\n",
       "449          276          5   276.png   epithelial         2            1\n",
       "450          277          5   277.png   epithelial         2            1\n",
       "451          278          5   278.png   epithelial         2            1\n",
       "452          279          5   279.png   epithelial         2            1\n",
       "453          280          5   280.png   epithelial         2            1\n",
       "...          ...        ...       ...          ...       ...          ...\n",
       "9891        1625         60  1625.png   epithelial         2            1\n",
       "9892        1626         60  1626.png   epithelial         2            1\n",
       "9893        1627         60  1627.png   epithelial         2            1\n",
       "9894        1628         60  1628.png   epithelial         2            1\n",
       "9895        1629         60  1629.png   epithelial         2            1\n",
       "\n",
       "[4079 rows x 6 columns]"
      ]
     },
     "execution_count": 10,
     "metadata": {},
     "output_type": "execute_result"
    }
   ],
   "source": [
    "# Apply loc to make sure\n",
    "main_data.loc[(main_data['cellType'] == 2) & (main_data['isCancerous'] == 1)]"
   ]
  },
  {
   "cell_type": "markdown",
   "id": "dfd878ff",
   "metadata": {},
   "source": [
    "### Conclusion\n",
    "\n",
    "- In **main_data**, only the attribute **cellType** continue to be our strongest candidate for to influence our model when it has high impact on our target attribute is **isCancerous**.\n",
    "\n",
    "\n",
    "- Attributes such as **InstanceID** and **patientID** might create a lot of noise in our model. \n",
    "\n",
    "\n",
    "- There are 4 types of cells: 0, 1, 2, 3. Only cell type number 2 is cancerous while others are not cancerous.\n",
    "\n",
    "\n",
    "- We expect the the model would predict class 0 more accurately than class 1"
   ]
  },
  {
   "cell_type": "markdown",
   "id": "9e43f450",
   "metadata": {},
   "source": [
    "## 3.3. Data Preparation"
   ]
  },
  {
   "cell_type": "code",
   "execution_count": 11,
   "id": "5ac75d03",
   "metadata": {},
   "outputs": [
    {
     "name": "stdout",
     "output_type": "stream",
     "text": [
      "Training data shape task 1: (6927, 2)\n",
      "Validation data shape task 1: (2969, 2)\n",
      "Training data shape task 2: (6927, 2)\n",
      "Validation data shape task 2: (2969, 2)\n"
     ]
    }
   ],
   "source": [
    "from sklearn.model_selection import train_test_split\n",
    "\n",
    "#splitting data into train and validation \n",
    "train_task1, val_task1 = train_test_split(main_data[['ImageName', 'isCancerous']], \n",
    "                                              test_size=0.3, random_state=9)\n",
    "\n",
    "\n",
    "train_task2, val_task2 = train_test_split(main_data[['ImageName','cellType']], \n",
    "                                              test_size=0.3, random_state=9)                                        \n",
    "\n",
    "print('Training data shape task 1:', train_task1.shape)\n",
    "print('Validation data shape task 1:', val_task1.shape)\n",
    "\n",
    "print('Training data shape task 2:', train_task2.shape)\n",
    "print('Validation data shape task 2:', val_task2.shape)"
   ]
  },
  {
   "cell_type": "code",
   "execution_count": 12,
   "id": "e8e9c4c3",
   "metadata": {},
   "outputs": [],
   "source": [
    "#Create a a function to add image according to the name given from the list\n",
    "from PIL import Image\n",
    "def GetImage(directory):\n",
    "    images=[]\n",
    "    for name in tqdm(directory, desc=\"Adding images\"):\n",
    "        image = cv2.imread(\"patch_images/\"+name)\n",
    "        image = Image.fromarray(image,'RGB')\n",
    "        images.append(np.array(image))\n",
    "    result = np.array(images)\n",
    "    print(\"\\ngetImage COMPLETED!\")\n",
    "    return result\n",
    "\n"
   ]
  },
  {
   "cell_type": "code",
   "execution_count": 13,
   "id": "d7ac7950",
   "metadata": {},
   "outputs": [],
   "source": [
    "#Create a function to generate sample to fix the Imblance of the dataset\n",
    "from imblearn.over_sampling import RandomOverSampler\n",
    "def GenerateSample(X,Y):\n",
    "    ros = RandomOverSampler(random_state = 1)\n",
    "    x, y = ros.fit_resample(X.values.reshape(-1,1), Y)\n",
    "    x = x.flatten()\n",
    "    return x,y"
   ]
  },
  {
   "cell_type": "code",
   "execution_count": 14,
   "id": "c0cc8fb2",
   "metadata": {},
   "outputs": [
    {
     "name": "stdout",
     "output_type": "stream",
     "text": [
      "Original Dataset:\n",
      " 0    4030\n",
      "1    2897\n",
      "Name: isCancerous, dtype: int64\n",
      "Sampled Dataset:\n",
      " 0    4030\n",
      "1    4030\n",
      "Name: isCancerous, dtype: int64\n"
     ]
    },
    {
     "name": "stderr",
     "output_type": "stream",
     "text": [
      "Adding images: 100%|█████████████████████████████████████████████████████████████| 8060/8060 [00:01<00:00, 6048.66it/s]\n"
     ]
    },
    {
     "name": "stdout",
     "output_type": "stream",
     "text": [
      "\n",
      "getImage COMPLETED!\n"
     ]
    },
    {
     "name": "stderr",
     "output_type": "stream",
     "text": [
      "Adding images: 100%|█████████████████████████████████████████████████████████████| 2969/2969 [00:00<00:00, 6073.60it/s]"
     ]
    },
    {
     "name": "stdout",
     "output_type": "stream",
     "text": [
      "\n",
      "getImage COMPLETED!\n"
     ]
    },
    {
     "name": "stderr",
     "output_type": "stream",
     "text": [
      "\n"
     ]
    }
   ],
   "source": [
    "x1_train = train_task1['ImageName']\n",
    "y1_train = train_task1['isCancerous']\n",
    "print(\"Original Dataset:\\n\",y1_train.value_counts())\n",
    "\n",
    "#Generate sample\n",
    "x1_train, y1_train = GenerateSample(x1_train,y1_train)\n",
    "print(\"Sampled Dataset:\\n\",y1_train.value_counts())\n",
    "x1_train = GetImage(x1_train)\n",
    "\n",
    "x1_test = val_task1['ImageName']\n",
    "x1_test = GetImage(x1_test)\n",
    "\n",
    "y1_test = val_task1['isCancerous']\n"
   ]
  },
  {
   "cell_type": "code",
   "execution_count": 15,
   "id": "c8e2fb20",
   "metadata": {},
   "outputs": [
    {
     "name": "stdout",
     "output_type": "stream",
     "text": [
      "Original Dataset:\n",
      " 2    2897\n",
      "1    1778\n",
      "0    1302\n",
      "3     950\n",
      "Name: cellType, dtype: int64\n",
      "Sampled Dataset:\n",
      " 1    2897\n",
      "2    2897\n",
      "3    2897\n",
      "0    2897\n",
      "Name: cellType, dtype: int64\n"
     ]
    },
    {
     "name": "stderr",
     "output_type": "stream",
     "text": [
      "Adding images: 100%|███████████████████████████████████████████████████████████| 11588/11588 [00:01<00:00, 6016.78it/s]\n"
     ]
    },
    {
     "name": "stdout",
     "output_type": "stream",
     "text": [
      "\n",
      "getImage COMPLETED!\n"
     ]
    },
    {
     "name": "stderr",
     "output_type": "stream",
     "text": [
      "Adding images: 100%|█████████████████████████████████████████████████████████████| 2969/2969 [00:00<00:00, 5975.43it/s]"
     ]
    },
    {
     "name": "stdout",
     "output_type": "stream",
     "text": [
      "\n",
      "getImage COMPLETED!\n"
     ]
    },
    {
     "name": "stderr",
     "output_type": "stream",
     "text": [
      "\n"
     ]
    }
   ],
   "source": [
    "x2_train = train_task2['ImageName']\n",
    "y2_train = train_task2['cellType']\n",
    "print(\"Original Dataset:\\n\",y2_train.value_counts())\n",
    "\n",
    "#Generate sample\n",
    "x2_train, y2_train = GenerateSample(x2_train,y2_train)\n",
    "print(\"Sampled Dataset:\\n\",y2_train.value_counts())\n",
    "x2_train = GetImage(x2_train)\n",
    "\n",
    "x2_test = val_task2['ImageName']\n",
    "x2_test = GetImage(x2_test)\n",
    "\n",
    "y2_test = val_task2['cellType']\n",
    "\n",
    "x2_test,x2_val,y2_test,y2_val = train_test_split(x2_test, y2_test,\n",
    "                                              test_size=0.5, random_state=9)"
   ]
  },
  {
   "cell_type": "code",
   "execution_count": 16,
   "id": "a67fa11c",
   "metadata": {},
   "outputs": [
    {
     "name": "stdout",
     "output_type": "stream",
     "text": [
      "TASK 1 SHAPE:\n",
      "TRAIN SHAPE:\n",
      "x1 shape: (8060, 27, 27, 3)\n",
      "y1 shape: (8060,)\n",
      "TEST SHAPE:\n",
      "x1 shape: (2969, 27, 27, 3)\n",
      "y1 shape: (2969,)\n",
      "TASK 2 SHAPE:\n",
      "x1 shape: (11588, 27, 27, 3)\n",
      "y1 shape: (11588,)\n",
      "VALIDATION SHAPE:\n",
      "x1 shape: (1485, 27, 27, 3)\n",
      "y1 shape: (1485,)\n",
      "TEST SHAPE:\n",
      "x1 shape: (1484, 27, 27, 3)\n",
      "y1 shape: (1484,)\n"
     ]
    }
   ],
   "source": [
    "print(\"TASK 1 SHAPE:\")\n",
    "print(\"TRAIN SHAPE:\")\n",
    "print(\"x1 shape:\", x1_train.shape)\n",
    "print(\"y1 shape:\", y1_train.shape)\n",
    "print(\"TEST SHAPE:\")\n",
    "print(\"x1 shape:\", x1_test.shape)\n",
    "print(\"y1 shape:\", y1_test.shape)\n",
    "\n",
    "print(\"TASK 2 SHAPE:\")\n",
    "print(\"x1 shape:\", x2_train.shape)\n",
    "print(\"y1 shape:\", y2_train.shape)\n",
    "print(\"VALIDATION SHAPE:\")\n",
    "print(\"x1 shape:\", x2_val.shape)\n",
    "print(\"y1 shape:\", y2_val.shape)\n",
    "print(\"TEST SHAPE:\")\n",
    "print(\"x1 shape:\", x2_test.shape)\n",
    "print(\"y1 shape:\", y2_test.shape)"
   ]
  },
  {
   "cell_type": "code",
   "execution_count": 17,
   "id": "145b17be",
   "metadata": {},
   "outputs": [],
   "source": [
    "X2_train_scaled = x2_train / 255\n",
    "X2_val_scaled = x2_val / 255\n",
    "X2_test_scaled = x2_test / 255\n"
   ]
  },
  {
   "cell_type": "code",
   "execution_count": 18,
   "id": "a9dc56c9",
   "metadata": {},
   "outputs": [],
   "source": [
    "from tensorflow import keras\n",
    "from tensorflow.keras import layers\n",
    "from tensorflow.keras.models import Sequential"
   ]
  },
  {
   "cell_type": "code",
   "execution_count": 19,
   "id": "a7a7fefa",
   "metadata": {},
   "outputs": [
    {
     "data": {
      "text/plain": [
       "[PhysicalDevice(name='/physical_device:CPU:0', device_type='CPU'),\n",
       " PhysicalDevice(name='/physical_device:GPU:0', device_type='GPU')]"
      ]
     },
     "execution_count": 19,
     "metadata": {},
     "output_type": "execute_result"
    }
   ],
   "source": [
    "tf.config.experimental.list_physical_devices()"
   ]
  },
  {
   "cell_type": "code",
   "execution_count": 20,
   "id": "4861c72f",
   "metadata": {},
   "outputs": [],
   "source": [
    "data_augmentation = tf.keras.Sequential(\n",
    "  [\n",
    "    layers.experimental.preprocessing.RandomFlip(\"horizontal\", \n",
    "                                                 input_shape=(27, \n",
    "                                                              27,\n",
    "                                                              3)),\n",
    "    layers.experimental.preprocessing.RandomRotation(0.1),\n",
    "    layers.experimental.preprocessing.RandomZoom(0.1),\n",
    "  ]\n",
    ")"
   ]
  },
  {
   "cell_type": "code",
   "execution_count": 21,
   "id": "6290a044",
   "metadata": {},
   "outputs": [],
   "source": [
    "from tensorflow.keras.regularizers import l2\n",
    "\n",
    "model = Sequential([\n",
    "    data_augmentation,\n",
    "    layers.Conv2D(32, (3, 3), activation='relu', kernel_initializer='he_uniform', padding='same'),\n",
    "    layers.BatchNormalization(),\n",
    "    layers.Conv2D(32, (3, 3), activation='relu', kernel_initializer='he_uniform', padding='same'),\n",
    "    layers.BatchNormalization(),\n",
    "    layers.MaxPooling2D(2,2),\n",
    "    layers.Dropout(0.2),\n",
    "    \n",
    "    layers.Conv2D(64, (3, 3), activation='relu', kernel_initializer='he_uniform', padding='same'),\n",
    "    layers.BatchNormalization(),\n",
    "    layers.Conv2D(64, (3, 3), activation='relu', kernel_initializer='he_uniform', padding='same'),\n",
    "    layers.BatchNormalization(),\n",
    "    layers.MaxPooling2D(2,2),\n",
    "    layers.Dropout(0.3),\n",
    "\n",
    "    \n",
    "    layers.Conv2D(128, (3, 3), activation='relu', kernel_initializer='he_uniform', padding='same'),\n",
    "    layers.BatchNormalization(),\n",
    "    layers.Conv2D(128, (3, 3), activation='relu', kernel_initializer='he_uniform', padding='same'),\n",
    "    layers.BatchNormalization(),\n",
    "    layers.MaxPooling2D(2,2),\n",
    "    layers.Dropout(0.4),\n",
    "    \n",
    "    layers.Flatten(),\n",
    "    layers.Dense(512, kernel_regularizer=l2(l=0.01), activation='relu'),\n",
    "    layers.BatchNormalization(),\n",
    "    layers.Dropout(0.2),\n",
    "    layers.Dense(512, kernel_regularizer=l2(l=0.01), activation='relu'),\n",
    "    layers.BatchNormalization(),\n",
    "    layers.Dropout(0.2),\n",
    "    layers.Dense(4, activation='softmax')\n",
    "])\n",
    "\n",
    "\n"
   ]
  },
  {
   "cell_type": "code",
   "execution_count": 22,
   "id": "4e90bea7",
   "metadata": {},
   "outputs": [],
   "source": [
    "from tensorflow.keras.optimizers import Adam\n",
    "opt = Adam(lr=0.0005, beta_1=0.4, beta_2=0.444, decay=1.0e-6, amsgrad=True)\n",
    "model.compile(optimizer=opt , loss=tf.keras.losses.SparseCategoricalCrossentropy(from_logits=True), metrics=['accuracy'])"
   ]
  },
  {
   "cell_type": "code",
   "execution_count": 23,
   "id": "f898136a",
   "metadata": {},
   "outputs": [],
   "source": [
    "# model.compile(optimizer='adam',\n",
    "#               loss=tf.keras.losses.SparseCategoricalCrossentropy(from_logits=True),\n",
    "#               metrics=['accuracy'])"
   ]
  },
  {
   "cell_type": "code",
   "execution_count": 24,
   "id": "637c96d1",
   "metadata": {},
   "outputs": [
    {
     "name": "stdout",
     "output_type": "stream",
     "text": [
      "Epoch 1/500\n",
      "363/363 [==============================] - 8s 14ms/step - loss: 12.1571 - accuracy: 0.5388 - val_loss: 11.3956 - val_accuracy: 0.5327\n",
      "Epoch 2/500\n",
      "363/363 [==============================] - 5s 13ms/step - loss: 10.1851 - accuracy: 0.5869 - val_loss: 9.2719 - val_accuracy: 0.6714\n",
      "Epoch 3/500\n",
      "363/363 [==============================] - 5s 13ms/step - loss: 8.8561 - accuracy: 0.6019 - val_loss: 8.0345 - val_accuracy: 0.7131\n",
      "Epoch 4/500\n",
      "363/363 [==============================] - 5s 13ms/step - loss: 7.7960 - accuracy: 0.6135 - val_loss: 7.1476 - val_accuracy: 0.7024\n",
      "Epoch 5/500\n",
      "363/363 [==============================] - 5s 13ms/step - loss: 6.9446 - accuracy: 0.6218 - val_loss: 6.3693 - val_accuracy: 0.7199\n",
      "Epoch 6/500\n",
      "363/363 [==============================] - 5s 13ms/step - loss: 6.2468 - accuracy: 0.6379 - val_loss: 5.7566 - val_accuracy: 0.7199\n",
      "Epoch 7/500\n",
      "363/363 [==============================] - 5s 13ms/step - loss: 5.6599 - accuracy: 0.6409 - val_loss: 5.2228 - val_accuracy: 0.7327\n",
      "Epoch 8/500\n",
      "363/363 [==============================] - 5s 13ms/step - loss: 5.1612 - accuracy: 0.6512 - val_loss: 4.8182 - val_accuracy: 0.7131\n",
      "Epoch 9/500\n",
      "363/363 [==============================] - 5s 13ms/step - loss: 4.7436 - accuracy: 0.6590 - val_loss: 4.4469 - val_accuracy: 0.7158\n",
      "Epoch 10/500\n",
      "363/363 [==============================] - 5s 13ms/step - loss: 4.3758 - accuracy: 0.6640 - val_loss: 4.0861 - val_accuracy: 0.7232\n",
      "Epoch 11/500\n",
      "363/363 [==============================] - 5s 13ms/step - loss: 4.0684 - accuracy: 0.6682 - val_loss: 3.7995 - val_accuracy: 0.7212\n",
      "Epoch 12/500\n",
      "363/363 [==============================] - 5s 13ms/step - loss: 3.7830 - accuracy: 0.6784 - val_loss: 3.6003 - val_accuracy: 0.6990\n",
      "Epoch 13/500\n",
      "363/363 [==============================] - 5s 13ms/step - loss: 3.5407 - accuracy: 0.6832 - val_loss: 3.3517 - val_accuracy: 0.7178\n",
      "Epoch 14/500\n",
      "363/363 [==============================] - 5s 13ms/step - loss: 3.3536 - accuracy: 0.6736 - val_loss: 3.1571 - val_accuracy: 0.7205\n",
      "Epoch 15/500\n",
      "363/363 [==============================] - 5s 13ms/step - loss: 3.1610 - accuracy: 0.6876 - val_loss: 3.0028 - val_accuracy: 0.7192\n",
      "Epoch 16/500\n",
      "363/363 [==============================] - 5s 13ms/step - loss: 2.9982 - accuracy: 0.6822 - val_loss: 2.8636 - val_accuracy: 0.7205\n",
      "Epoch 17/500\n",
      "363/363 [==============================] - 5s 13ms/step - loss: 2.8314 - accuracy: 0.6971 - val_loss: 2.7233 - val_accuracy: 0.7185\n",
      "Epoch 18/500\n",
      "363/363 [==============================] - 5s 13ms/step - loss: 2.7150 - accuracy: 0.6930 - val_loss: 2.5731 - val_accuracy: 0.7266\n",
      "Epoch 19/500\n",
      "363/363 [==============================] - 5s 13ms/step - loss: 2.5876 - accuracy: 0.6994 - val_loss: 2.4767 - val_accuracy: 0.7178\n",
      "Epoch 20/500\n",
      "363/363 [==============================] - 5s 13ms/step - loss: 2.4750 - accuracy: 0.6972 - val_loss: 2.3862 - val_accuracy: 0.7239\n",
      "Epoch 21/500\n",
      "363/363 [==============================] - 5s 13ms/step - loss: 2.3754 - accuracy: 0.7010 - val_loss: 2.2959 - val_accuracy: 0.7172\n",
      "Epoch 22/500\n",
      "363/363 [==============================] - 5s 13ms/step - loss: 2.2861 - accuracy: 0.7001 - val_loss: 2.1550 - val_accuracy: 0.7468\n",
      "Epoch 23/500\n",
      "363/363 [==============================] - 5s 13ms/step - loss: 2.1939 - accuracy: 0.7052 - val_loss: 2.0778 - val_accuracy: 0.7508\n",
      "Epoch 24/500\n",
      "363/363 [==============================] - 5s 13ms/step - loss: 2.1215 - accuracy: 0.7044 - val_loss: 2.0319 - val_accuracy: 0.7401\n",
      "Epoch 25/500\n",
      "363/363 [==============================] - 5s 13ms/step - loss: 2.0483 - accuracy: 0.7055 - val_loss: 1.9507 - val_accuracy: 0.7428\n",
      "Epoch 26/500\n",
      "363/363 [==============================] - 5s 13ms/step - loss: 1.9777 - accuracy: 0.7157 - val_loss: 1.9084 - val_accuracy: 0.7313\n",
      "Epoch 27/500\n",
      "363/363 [==============================] - 5s 13ms/step - loss: 1.9243 - accuracy: 0.7098 - val_loss: 1.8442 - val_accuracy: 0.7434\n",
      "Epoch 28/500\n",
      "363/363 [==============================] - 5s 13ms/step - loss: 1.8575 - accuracy: 0.7219 - val_loss: 1.7971 - val_accuracy: 0.7253\n",
      "Epoch 29/500\n",
      "363/363 [==============================] - 5s 13ms/step - loss: 1.8007 - accuracy: 0.7168 - val_loss: 1.7199 - val_accuracy: 0.7481\n",
      "Epoch 30/500\n",
      "363/363 [==============================] - 5s 13ms/step - loss: 1.7545 - accuracy: 0.7148 - val_loss: 1.6811 - val_accuracy: 0.7522\n",
      "Epoch 31/500\n",
      "363/363 [==============================] - 5s 13ms/step - loss: 1.7077 - accuracy: 0.7243 - val_loss: 1.6155 - val_accuracy: 0.7576\n",
      "Epoch 32/500\n",
      "363/363 [==============================] - 5s 13ms/step - loss: 1.6715 - accuracy: 0.7182 - val_loss: 1.6215 - val_accuracy: 0.7354\n",
      "Epoch 33/500\n",
      "363/363 [==============================] - 5s 13ms/step - loss: 1.6194 - accuracy: 0.7222 - val_loss: 1.5714 - val_accuracy: 0.7360\n",
      "Epoch 34/500\n",
      "363/363 [==============================] - 5s 13ms/step - loss: 1.5837 - accuracy: 0.7235 - val_loss: 1.5344 - val_accuracy: 0.7448\n",
      "Epoch 35/500\n",
      "363/363 [==============================] - 5s 13ms/step - loss: 1.5370 - accuracy: 0.7359 - val_loss: 1.4840 - val_accuracy: 0.7529\n",
      "Epoch 36/500\n",
      "363/363 [==============================] - 5s 13ms/step - loss: 1.5200 - accuracy: 0.7256 - val_loss: 1.4621 - val_accuracy: 0.7461\n",
      "Epoch 37/500\n",
      "363/363 [==============================] - 5s 13ms/step - loss: 1.4844 - accuracy: 0.7255 - val_loss: 1.4209 - val_accuracy: 0.7582\n",
      "Epoch 38/500\n",
      "363/363 [==============================] - 5s 13ms/step - loss: 1.4524 - accuracy: 0.7320 - val_loss: 1.3728 - val_accuracy: 0.7609\n",
      "Epoch 39/500\n",
      "363/363 [==============================] - 5s 13ms/step - loss: 1.4231 - accuracy: 0.7254 - val_loss: 1.3938 - val_accuracy: 0.7461\n",
      "Epoch 40/500\n",
      "363/363 [==============================] - 5s 13ms/step - loss: 1.3896 - accuracy: 0.7354 - val_loss: 1.3424 - val_accuracy: 0.7529\n",
      "Epoch 41/500\n",
      "363/363 [==============================] - 5s 13ms/step - loss: 1.3675 - accuracy: 0.7371 - val_loss: 1.3117 - val_accuracy: 0.7630\n",
      "Epoch 42/500\n",
      "363/363 [==============================] - 5s 13ms/step - loss: 1.3325 - accuracy: 0.7358 - val_loss: 1.2836 - val_accuracy: 0.7596\n",
      "Epoch 43/500\n",
      "363/363 [==============================] - 5s 13ms/step - loss: 1.3209 - accuracy: 0.7352 - val_loss: 1.2715 - val_accuracy: 0.7603\n",
      "Epoch 44/500\n",
      "363/363 [==============================] - 5s 13ms/step - loss: 1.2904 - accuracy: 0.7435 - val_loss: 1.2701 - val_accuracy: 0.7556\n",
      "Epoch 45/500\n",
      "363/363 [==============================] - 5s 13ms/step - loss: 1.2703 - accuracy: 0.7358 - val_loss: 1.2291 - val_accuracy: 0.7630\n",
      "Epoch 46/500\n",
      "363/363 [==============================] - 5s 13ms/step - loss: 1.2613 - accuracy: 0.7333 - val_loss: 1.1901 - val_accuracy: 0.7643\n",
      "Epoch 47/500\n",
      "363/363 [==============================] - 5s 13ms/step - loss: 1.2340 - accuracy: 0.7410 - val_loss: 1.1757 - val_accuracy: 0.7623\n",
      "Epoch 48/500\n",
      "363/363 [==============================] - 5s 13ms/step - loss: 1.2093 - accuracy: 0.7439 - val_loss: 1.1538 - val_accuracy: 0.7737\n",
      "Epoch 49/500\n",
      "363/363 [==============================] - 5s 13ms/step - loss: 1.1875 - accuracy: 0.7483 - val_loss: 1.1570 - val_accuracy: 0.7609\n",
      "Epoch 50/500\n",
      "363/363 [==============================] - 5s 13ms/step - loss: 1.1762 - accuracy: 0.7451 - val_loss: 1.0962 - val_accuracy: 0.7825\n",
      "Epoch 51/500\n",
      "363/363 [==============================] - 5s 13ms/step - loss: 1.1493 - accuracy: 0.7521 - val_loss: 1.1729 - val_accuracy: 0.7414\n",
      "Epoch 52/500\n",
      "363/363 [==============================] - 5s 13ms/step - loss: 1.1457 - accuracy: 0.7481 - val_loss: 1.1178 - val_accuracy: 0.7569\n",
      "Epoch 53/500\n",
      "363/363 [==============================] - 5s 13ms/step - loss: 1.1239 - accuracy: 0.7492 - val_loss: 1.0874 - val_accuracy: 0.7690\n",
      "Epoch 54/500\n",
      "363/363 [==============================] - 5s 13ms/step - loss: 1.1107 - accuracy: 0.7514 - val_loss: 1.0528 - val_accuracy: 0.7771\n",
      "Epoch 55/500\n",
      "363/363 [==============================] - 5s 13ms/step - loss: 1.0890 - accuracy: 0.7578 - val_loss: 1.0617 - val_accuracy: 0.7724\n",
      "Epoch 56/500\n",
      "363/363 [==============================] - 5s 14ms/step - loss: 1.0806 - accuracy: 0.7491 - val_loss: 1.0969 - val_accuracy: 0.7529\n",
      "Epoch 57/500\n",
      "363/363 [==============================] - 5s 14ms/step - loss: 1.0687 - accuracy: 0.7532 - val_loss: 1.0450 - val_accuracy: 0.7697\n",
      "Epoch 58/500\n",
      "363/363 [==============================] - 5s 13ms/step - loss: 1.0472 - accuracy: 0.7604 - val_loss: 1.0559 - val_accuracy: 0.7677\n",
      "Epoch 59/500\n",
      "363/363 [==============================] - 5s 13ms/step - loss: 1.0456 - accuracy: 0.7547 - val_loss: 1.0369 - val_accuracy: 0.7542\n",
      "Epoch 60/500\n",
      "363/363 [==============================] - 5s 13ms/step - loss: 1.0314 - accuracy: 0.7524 - val_loss: 1.0200 - val_accuracy: 0.7643\n",
      "Epoch 61/500\n",
      "363/363 [==============================] - 5s 13ms/step - loss: 1.0137 - accuracy: 0.7585 - val_loss: 1.0071 - val_accuracy: 0.7690\n",
      "Epoch 62/500\n",
      "363/363 [==============================] - 5s 13ms/step - loss: 1.0106 - accuracy: 0.7532 - val_loss: 0.9930 - val_accuracy: 0.7697\n",
      "Epoch 63/500\n",
      "363/363 [==============================] - 5s 13ms/step - loss: 0.9963 - accuracy: 0.7619 - val_loss: 1.0263 - val_accuracy: 0.7609\n",
      "Epoch 64/500\n",
      "363/363 [==============================] - 5s 13ms/step - loss: 0.9837 - accuracy: 0.7629 - val_loss: 0.9418 - val_accuracy: 0.7845\n",
      "Epoch 65/500\n",
      "363/363 [==============================] - 5s 13ms/step - loss: 0.9726 - accuracy: 0.7618 - val_loss: 0.9516 - val_accuracy: 0.7798\n",
      "Epoch 66/500\n",
      "363/363 [==============================] - 5s 13ms/step - loss: 0.9698 - accuracy: 0.7623 - val_loss: 1.0208 - val_accuracy: 0.7481\n",
      "Epoch 67/500\n",
      "363/363 [==============================] - 5s 13ms/step - loss: 0.9586 - accuracy: 0.7656 - val_loss: 0.9515 - val_accuracy: 0.7737\n",
      "Epoch 68/500\n",
      "363/363 [==============================] - 5s 13ms/step - loss: 0.9512 - accuracy: 0.7608 - val_loss: 0.9483 - val_accuracy: 0.7684\n",
      "Epoch 69/500\n",
      "363/363 [==============================] - 5s 13ms/step - loss: 0.9373 - accuracy: 0.7696 - val_loss: 0.9596 - val_accuracy: 0.7556\n",
      "Epoch 70/500\n",
      "363/363 [==============================] - 5s 13ms/step - loss: 0.9327 - accuracy: 0.7661 - val_loss: 0.9260 - val_accuracy: 0.7710\n",
      "Epoch 71/500\n",
      "363/363 [==============================] - 5s 14ms/step - loss: 0.9163 - accuracy: 0.7685 - val_loss: 0.8793 - val_accuracy: 0.7872\n",
      "Epoch 72/500\n",
      "363/363 [==============================] - 5s 14ms/step - loss: 0.9133 - accuracy: 0.7683 - val_loss: 0.8768 - val_accuracy: 0.7865\n",
      "Epoch 73/500\n",
      "363/363 [==============================] - 5s 14ms/step - loss: 0.9044 - accuracy: 0.7688 - val_loss: 0.8847 - val_accuracy: 0.7879\n",
      "Epoch 74/500\n",
      "363/363 [==============================] - 5s 14ms/step - loss: 0.9008 - accuracy: 0.7714 - val_loss: 0.8848 - val_accuracy: 0.7751\n",
      "Epoch 75/500\n",
      "363/363 [==============================] - 5s 13ms/step - loss: 0.8866 - accuracy: 0.7736 - val_loss: 0.9168 - val_accuracy: 0.7556\n",
      "Epoch 76/500\n",
      "363/363 [==============================] - 5s 13ms/step - loss: 0.8890 - accuracy: 0.7672 - val_loss: 0.8678 - val_accuracy: 0.7791\n",
      "Epoch 77/500\n",
      "363/363 [==============================] - 5s 13ms/step - loss: 0.8709 - accuracy: 0.7789 - val_loss: 0.8783 - val_accuracy: 0.7710\n",
      "Epoch 78/500\n",
      "363/363 [==============================] - 5s 14ms/step - loss: 0.8597 - accuracy: 0.7722 - val_loss: 0.8371 - val_accuracy: 0.7926\n",
      "Epoch 79/500\n",
      "363/363 [==============================] - 5s 14ms/step - loss: 0.8614 - accuracy: 0.7730 - val_loss: 0.8619 - val_accuracy: 0.7636\n",
      "Epoch 80/500\n",
      "363/363 [==============================] - 5s 14ms/step - loss: 0.8631 - accuracy: 0.7774 - val_loss: 0.8812 - val_accuracy: 0.7710\n",
      "Epoch 81/500\n",
      "363/363 [==============================] - 5s 14ms/step - loss: 0.8516 - accuracy: 0.7774 - val_loss: 0.8123 - val_accuracy: 0.7953\n",
      "Epoch 82/500\n",
      "363/363 [==============================] - 5s 14ms/step - loss: 0.8526 - accuracy: 0.7684 - val_loss: 0.8243 - val_accuracy: 0.7859\n",
      "Epoch 83/500\n",
      "363/363 [==============================] - 5s 14ms/step - loss: 0.8351 - accuracy: 0.7805 - val_loss: 0.8375 - val_accuracy: 0.7825\n",
      "Epoch 84/500\n",
      "363/363 [==============================] - 5s 15ms/step - loss: 0.8293 - accuracy: 0.7789 - val_loss: 0.8982 - val_accuracy: 0.7643\n",
      "Epoch 85/500\n",
      "363/363 [==============================] - 5s 13ms/step - loss: 0.8195 - accuracy: 0.7842 - val_loss: 0.8315 - val_accuracy: 0.7785\n",
      "Epoch 86/500\n",
      "363/363 [==============================] - 5s 13ms/step - loss: 0.8195 - accuracy: 0.7815 - val_loss: 0.8419 - val_accuracy: 0.7684\n",
      "Epoch 87/500\n",
      "363/363 [==============================] - 5s 13ms/step - loss: 0.8166 - accuracy: 0.7847 - val_loss: 0.8233 - val_accuracy: 0.7778\n",
      "Epoch 88/500\n",
      "363/363 [==============================] - 5s 13ms/step - loss: 0.8016 - accuracy: 0.7864 - val_loss: 0.8203 - val_accuracy: 0.7805\n",
      "Epoch 89/500\n",
      "363/363 [==============================] - 5s 13ms/step - loss: 0.7899 - accuracy: 0.7897 - val_loss: 0.8141 - val_accuracy: 0.7811\n",
      "Epoch 90/500\n",
      "363/363 [==============================] - 5s 13ms/step - loss: 0.7827 - accuracy: 0.7866 - val_loss: 0.7943 - val_accuracy: 0.7845\n",
      "Epoch 91/500\n",
      "363/363 [==============================] - 5s 13ms/step - loss: 0.7804 - accuracy: 0.7938 - val_loss: 0.7970 - val_accuracy: 0.7852\n",
      "Epoch 92/500\n",
      "363/363 [==============================] - 5s 13ms/step - loss: 0.7746 - accuracy: 0.7969 - val_loss: 0.8073 - val_accuracy: 0.7771\n",
      "Epoch 93/500\n",
      "363/363 [==============================] - 5s 13ms/step - loss: 0.7796 - accuracy: 0.7889 - val_loss: 0.7891 - val_accuracy: 0.7859\n",
      "Epoch 94/500\n",
      "363/363 [==============================] - 5s 13ms/step - loss: 0.7699 - accuracy: 0.7961 - val_loss: 0.7881 - val_accuracy: 0.7798\n",
      "Epoch 95/500\n",
      "363/363 [==============================] - 5s 13ms/step - loss: 0.7623 - accuracy: 0.7994 - val_loss: 0.7963 - val_accuracy: 0.7805\n",
      "Epoch 96/500\n",
      "363/363 [==============================] - 5s 13ms/step - loss: 0.7632 - accuracy: 0.7975 - val_loss: 0.8009 - val_accuracy: 0.7818\n",
      "Epoch 97/500\n",
      "363/363 [==============================] - 5s 13ms/step - loss: 0.7611 - accuracy: 0.7954 - val_loss: 0.8095 - val_accuracy: 0.7690\n",
      "Epoch 98/500\n",
      "363/363 [==============================] - 5s 13ms/step - loss: 0.7614 - accuracy: 0.7915 - val_loss: 0.8067 - val_accuracy: 0.7771\n",
      "Epoch 99/500\n",
      "363/363 [==============================] - 5s 13ms/step - loss: 0.7571 - accuracy: 0.7958 - val_loss: 0.8067 - val_accuracy: 0.7731\n",
      "Epoch 100/500\n",
      "363/363 [==============================] - 5s 13ms/step - loss: 0.7477 - accuracy: 0.8011 - val_loss: 0.8047 - val_accuracy: 0.7717\n",
      "Epoch 101/500\n",
      "363/363 [==============================] - 5s 13ms/step - loss: 0.7469 - accuracy: 0.7987 - val_loss: 0.7965 - val_accuracy: 0.7737\n",
      "Epoch 102/500\n",
      "363/363 [==============================] - 5s 13ms/step - loss: 0.7477 - accuracy: 0.8032 - val_loss: 0.7906 - val_accuracy: 0.7778\n",
      "Epoch 103/500\n",
      "363/363 [==============================] - 5s 13ms/step - loss: 0.7528 - accuracy: 0.7963 - val_loss: 0.7952 - val_accuracy: 0.7731\n",
      "Epoch 104/500\n",
      "363/363 [==============================] - 5s 13ms/step - loss: 0.7476 - accuracy: 0.7989 - val_loss: 0.7947 - val_accuracy: 0.7751\n",
      "Epoch 105/500\n",
      "363/363 [==============================] - 5s 13ms/step - loss: 0.7459 - accuracy: 0.8010 - val_loss: 0.7901 - val_accuracy: 0.7737\n",
      "Epoch 106/500\n",
      "363/363 [==============================] - 5s 14ms/step - loss: 0.7427 - accuracy: 0.8017 - val_loss: 0.7951 - val_accuracy: 0.7717\n",
      "Epoch 107/500\n",
      "363/363 [==============================] - 5s 14ms/step - loss: 0.7319 - accuracy: 0.8073 - val_loss: 0.7927 - val_accuracy: 0.7751\n",
      "Epoch 108/500\n",
      "363/363 [==============================] - 5s 14ms/step - loss: 0.7396 - accuracy: 0.8051 - val_loss: 0.7947 - val_accuracy: 0.7724\n",
      "Epoch 109/500\n",
      "363/363 [==============================] - 5s 13ms/step - loss: 0.7422 - accuracy: 0.7982 - val_loss: 0.7926 - val_accuracy: 0.7778\n",
      "Epoch 110/500\n",
      "363/363 [==============================] - 5s 13ms/step - loss: 0.7369 - accuracy: 0.7986 - val_loss: 0.7942 - val_accuracy: 0.7751\n",
      "Epoch 111/500\n",
      "363/363 [==============================] - 5s 13ms/step - loss: 0.7462 - accuracy: 0.7971 - val_loss: 0.7917 - val_accuracy: 0.7805\n",
      "Epoch 112/500\n",
      "363/363 [==============================] - 5s 14ms/step - loss: 0.7354 - accuracy: 0.8021 - val_loss: 0.7936 - val_accuracy: 0.7791\n",
      "Epoch 113/500\n"
     ]
    },
    {
     "name": "stdout",
     "output_type": "stream",
     "text": [
      "363/363 [==============================] - 5s 13ms/step - loss: 0.7386 - accuracy: 0.8003 - val_loss: 0.7945 - val_accuracy: 0.7771\n",
      "Epoch 114/500\n",
      "363/363 [==============================] - 5s 13ms/step - loss: 0.7416 - accuracy: 0.8004 - val_loss: 0.7970 - val_accuracy: 0.7764\n",
      "Epoch 115/500\n",
      "363/363 [==============================] - 5s 13ms/step - loss: 0.7254 - accuracy: 0.8108 - val_loss: 0.7884 - val_accuracy: 0.7778\n",
      "Epoch 116/500\n",
      "363/363 [==============================] - 5s 13ms/step - loss: 0.7380 - accuracy: 0.8034 - val_loss: 0.7916 - val_accuracy: 0.7758\n",
      "Epoch 117/500\n",
      "363/363 [==============================] - 5s 13ms/step - loss: 0.7290 - accuracy: 0.8039 - val_loss: 0.7954 - val_accuracy: 0.7758\n",
      "Epoch 118/500\n",
      "363/363 [==============================] - 5s 13ms/step - loss: 0.7387 - accuracy: 0.7976 - val_loss: 0.7961 - val_accuracy: 0.7744\n",
      "Epoch 119/500\n",
      "363/363 [==============================] - 5s 13ms/step - loss: 0.7374 - accuracy: 0.8025 - val_loss: 0.7943 - val_accuracy: 0.7724\n",
      "Epoch 120/500\n",
      "363/363 [==============================] - 5s 13ms/step - loss: 0.7271 - accuracy: 0.8069 - val_loss: 0.7937 - val_accuracy: 0.7744\n",
      "Epoch 121/500\n",
      "363/363 [==============================] - 5s 13ms/step - loss: 0.7397 - accuracy: 0.8045 - val_loss: 0.7920 - val_accuracy: 0.7764\n",
      "Epoch 122/500\n",
      "363/363 [==============================] - 5s 13ms/step - loss: 0.7362 - accuracy: 0.8026 - val_loss: 0.7941 - val_accuracy: 0.7744\n",
      "Epoch 123/500\n",
      "363/363 [==============================] - 5s 13ms/step - loss: 0.7473 - accuracy: 0.7983 - val_loss: 0.7896 - val_accuracy: 0.7771\n",
      "Epoch 124/500\n",
      "363/363 [==============================] - 5s 13ms/step - loss: 0.7418 - accuracy: 0.8002 - val_loss: 0.7945 - val_accuracy: 0.7737\n",
      "Epoch 125/500\n",
      "363/363 [==============================] - 5s 13ms/step - loss: 0.7336 - accuracy: 0.8031 - val_loss: 0.7930 - val_accuracy: 0.7751\n",
      "Epoch 00125: early stopping\n",
      "---  Training time in seconds ---608.2374155521393 \n"
     ]
    }
   ],
   "source": [
    "from tensorflow.keras.callbacks import EarlyStopping, ReduceLROnPlateau\n",
    "early = EarlyStopping(monitor='accuracy', min_delta=0.001, patience=10, verbose=1, mode='auto')\n",
    "reduce_lr = ReduceLROnPlateau(monitor='val_loss', factor=np.sqrt(0.1), cooldown=0, patience=6, min_lr=0.5e-15) \n",
    "\n",
    "EPOCHS = 500\n",
    "BATCH_SIZE = 32\n",
    "\n",
    "import time\n",
    "start_time = time.time()\n",
    "\n",
    "with tf.device('/GPU:0'): \n",
    "    history = model.fit(X2_train_scaled, y2_train,\n",
    "                    validation_data=(X2_val_scaled, y2_val), \n",
    "                    batch_size=BATCH_SIZE, \n",
    "                    epochs=EPOCHS, \n",
    "                    verbose=1,\n",
    "                    callbacks=[reduce_lr, early])\n",
    "\n",
    "print(\"---  Training time in seconds ---%s \" % (time.time() - start_time))"
   ]
  },
  {
   "cell_type": "code",
   "execution_count": 25,
   "id": "8b035c95",
   "metadata": {},
   "outputs": [
    {
     "name": "stdout",
     "output_type": "stream",
     "text": [
      "INFO:tensorflow:Assets written to: task2_11.5.2022_1\\assets\n"
     ]
    }
   ],
   "source": [
    "model.save(\"task2_11.5.2022_1\")"
   ]
  },
  {
   "cell_type": "code",
   "execution_count": 26,
   "id": "b066b122",
   "metadata": {},
   "outputs": [
    {
     "name": "stdout",
     "output_type": "stream",
     "text": [
      "47/47 [==============================] - 0s 4ms/step - loss: 0.7930 - accuracy: 0.7751\n",
      "Validation loss: 0.7929975986480713\n",
      "Validation accuracy: 0.7750841975212097\n",
      "Max Validation accuracy: 0.8108388185501099\n"
     ]
    },
    {
     "data": {
      "image/png": "[encoded data removed]",
      "text/plain": [
       "<Figure size 432x288 with 1 Axes>"
      ]
     },
     "metadata": {
      "needs_background": "light"
     },
     "output_type": "display_data"
    },
    {
     "data": {
      "image/png": "[encoded data removed]",
      "text/plain": [
       "<Figure size 432x288 with 1 Axes>"
      ]
     },
     "metadata": {
      "needs_background": "light"
     },
     "output_type": "display_data"
    }
   ],
   "source": [
    "\n",
    "scores = model.evaluate(X2_val_scaled, y2_val, verbose=1)\n",
    "print('Validation loss:', scores[0])\n",
    "print('Validation accuracy:', scores[1])\n",
    "print('Max Validation accuracy:', max(history.history['accuracy']))\n",
    "\n",
    "# summarize history for accuracy\n",
    "plt.plot(history.history['accuracy'])\n",
    "plt.plot(history.history['val_accuracy'])\n",
    "plt.title('Model accuracy')\n",
    "plt.ylabel('Accuracy')\n",
    "plt.xlabel('Epoch')\n",
    "plt.legend(['Train', 'Validation'], loc='upper left')\n",
    "plt.show()\n",
    "# summarize history for loss\n",
    "plt.plot(history.history['loss'])\n",
    "plt.plot(history.history['val_loss'])\n",
    "plt.title('Model loss')\n",
    "plt.ylabel('Loss')\n",
    "plt.xlabel('Epoch')\n",
    "plt.legend(['Train', 'Validation'], loc='upper right')\n",
    "plt.show()"
   ]
  },
  {
   "cell_type": "code",
   "execution_count": 27,
   "id": "3df4116f",
   "metadata": {},
   "outputs": [
    {
     "name": "stdout",
     "output_type": "stream",
     "text": [
      "              precision    recall  f1-score   support\n",
      "\n",
      "           0       0.63      0.86      0.73       292\n",
      "           1       0.89      0.63      0.74       384\n",
      "           2       0.90      0.92      0.91       607\n",
      "           3       0.61      0.58      0.59       201\n",
      "\n",
      "    accuracy                           0.79      1484\n",
      "   macro avg       0.76      0.75      0.74      1484\n",
      "weighted avg       0.80      0.79      0.79      1484\n",
      "\n"
     ]
    }
   ],
   "source": [
    "from sklearn.metrics import classification_report\n",
    "predict=model.predict(X2_test_scaled)\n",
    "classes=np.argmax(predict,axis=1)\n",
    "\n",
    "print(classification_report(y2_test, classes))\n"
   ]
  },
  {
   "cell_type": "code",
   "execution_count": 28,
   "id": "3f45f7e6",
   "metadata": {},
   "outputs": [],
   "source": [
    "class_names = [\"fibroblast\",\"inflammatory\",\"epithelial\",\"others\"]"
   ]
  },
  {
   "cell_type": "code",
   "execution_count": 30,
   "id": "480c023a",
   "metadata": {},
   "outputs": [
    {
     "data": {
      "image/png": "[encoded data removed]",
      "text/plain": [
       "<Figure size 1080x1080 with 9 Axes>"
      ]
     },
     "metadata": {
      "needs_background": "light"
     },
     "output_type": "display_data"
    }
   ],
   "source": [
    "import numpy as np\n",
    "batch_predict = model.predict (X2_test_scaled)\n",
    "plt.figure(figsize=(15, 15))\n",
    "\n",
    "for i in range(9):\n",
    "    ax = plt.subplot(3, 3, i+1)\n",
    "    first_image = X2_test_scaled[i]\n",
    "    first_label = int(y2_test.iloc[i])\n",
    "    plt.imshow(first_image)\n",
    "    confidence = round(100 * (np.max(batch_predict[i][0])), 2)\n",
    "    actual_class= class_names[first_label]\n",
    "    predicted_class = class_names[np.argmax(batch_predict[i])]\n",
    "    \n",
    "    plt.title(f\"Actual: {actual_class},\\n Predicted: {predicted_class}.\\n Confidence: {confidence}%\")\n",
    "    plt.axis(\"off\")\n",
    "    "
   ]
  }
 ],
 "metadata": {
  "kernelspec": {
   "display_name": "Python 3 (ipykernel)",
   "language": "python",
   "name": "python3"
  },
  "language_info": {
   "codemirror_mode": {
    "name": "ipython",
    "version": 3
   },
   "file_extension": ".py",
   "mimetype": "text/x-python",
   "name": "python",
   "nbconvert_exporter": "python",
   "pygments_lexer": "ipython3",
   "version": "3.9.7"
  }
 },
 "nbformat": 4,
 "nbformat_minor": 5
}

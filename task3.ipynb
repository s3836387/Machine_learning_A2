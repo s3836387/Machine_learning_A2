{
 "cells": [
  {
   "cell_type": "markdown",
   "id": "f69b336b",
   "metadata": {},
   "source": [
    "<hr style=\"border:0.1px solid gray\">"
   ]
  },
  {
   "cell_type": "markdown",
   "id": "6f629d5c",
   "metadata": {},
   "source": [
    "# <center style='color:Red'> COSC2753 - Machine Learning </center> \n",
    "## <center style='color:Red'> Assignment 2 - Classify Images of Colon Cancer </center>"
   ]
  },
  {
   "cell_type": "markdown",
   "id": "39870a75",
   "metadata": {
    "toc": true
   },
   "source": [
    "<h1>Table of Contents<span class=\"tocSkip\"></span></h1>\n",
    "<div class=\"toc\"><ul class=\"toc-item\"><li><span><a href=\"#-COSC2753---Machine-Learning-\" data-toc-modified-id=\"-COSC2753---Machine-Learning--1\"><center style=\"color:Red\"> COSC2753 - Machine Learning </center></a></span><ul class=\"toc-item\"><li><span><a href=\"#-Assignment-2---Classify-Images-of-Colon-Cancer-\" data-toc-modified-id=\"-Assignment-2---Classify-Images-of-Colon-Cancer--1.1\"><center style=\"color:Red\"> Assignment 2 - Classify Images of Colon Cancer </center></a></span></li></ul></li><li><span><a href=\"#Main-Task\" data-toc-modified-id=\"Main-Task-2\">Main Task</a></span></li><li><span><a href=\"#1.-Import-libraries-and-setting-up-environment\" data-toc-modified-id=\"1.-Import-libraries-and-setting-up-environment-3\">1. Import libraries and setting up environment</a></span></li><li><span><a href=\"#2.-Import-Dataset\" data-toc-modified-id=\"2.-Import-Dataset-4\">2. Import Dataset</a></span></li><li><span><a href=\"#3.-Exploratory-Data-Analysis-(EDA)\" data-toc-modified-id=\"3.-Exploratory-Data-Analysis-(EDA)-5\">3. Exploratory Data Analysis (EDA)</a></span><ul class=\"toc-item\"><li><span><a href=\"#3.1.-Process-the-data\" data-toc-modified-id=\"3.1.-Process-the-data-5.1\">3.1. Process the data</a></span></li><li><span><a href=\"#3.2.-Data-Analysis-and-Visualiztion\" data-toc-modified-id=\"3.2.-Data-Analysis-and-Visualiztion-5.2\">3.2. Data Analysis and Visualiztion</a></span><ul class=\"toc-item\"><li><span><a href=\"#3.2.1.-Correlation-and-Correlation-Matrix\" data-toc-modified-id=\"3.2.1.-Correlation-and-Correlation-Matrix-5.2.1\">3.2.1. Correlation and Correlation Matrix</a></span></li><li><span><a href=\"#3.2.2.-Data-Distribution\" data-toc-modified-id=\"3.2.2.-Data-Distribution-5.2.2\">3.2.2. Data Distribution</a></span></li><li><span><a href=\"#Countplot\" data-toc-modified-id=\"Countplot-5.2.3\">Countplot</a></span></li><li><span><a href=\"#Histogram\" data-toc-modified-id=\"Histogram-5.2.4\">Histogram</a></span></li><li><span><a href=\"#Conclusion\" data-toc-modified-id=\"Conclusion-5.2.5\">Conclusion</a></span></li></ul></li><li><span><a href=\"#3.3.-Data-Preparation\" data-toc-modified-id=\"3.3.-Data-Preparation-5.3\">3.3. Data Preparation</a></span></li><li><span><a href=\"#Image-functions\" data-toc-modified-id=\"Image-functions-5.4\">Image functions</a></span></li><li><span><a href=\"#------------------------\" data-toc-modified-id=\"-------------------------5.5\">------------------------</a></span></li></ul></li><li><span><a href=\"#4.-Models\" data-toc-modified-id=\"4.-Models-6\">4. Models</a></span><ul class=\"toc-item\"><li><span><a href=\"#4.1-Convolutional-neural-network\" data-toc-modified-id=\"4.1-Convolutional-neural-network-6.1\">4.1 Convolutional neural network</a></span><ul class=\"toc-item\"><li><span><a href=\"#4.1.1-Baseline-model\" data-toc-modified-id=\"4.1.1-Baseline-model-6.1.1\">4.1.1 Baseline model</a></span></li></ul></li></ul></li><li><span><a href=\"#summarize-history-for-accuracy\" data-toc-modified-id=\"summarize-history-for-accuracy-7\">summarize history for accuracy</a></span></li><li><span><a href=\"#summarize-history-for-loss\" data-toc-modified-id=\"summarize-history-for-loss-8\">summarize history for loss</a></span><ul class=\"toc-item\"><li><ul class=\"toc-item\"><li><span><a href=\"#4.1.2-Hyperparameter-tuning\" data-toc-modified-id=\"4.1.2-Hyperparameter-tuning-8.0.1\">4.1.2 Hyperparameter tuning</a></span><ul class=\"toc-item\"><li><span><a href=\"#I.-Layers-tuning\" data-toc-modified-id=\"I.-Layers-tuning-8.0.1.1\">I. Layers tuning</a></span></li></ul></li><li><span><a href=\"#4.1.3-Final-model\" data-toc-modified-id=\"4.1.3-Final-model-8.0.2\">4.1.3 Final model</a></span></li></ul></li></ul></li></ul></div>"
   ]
  },
  {
   "cell_type": "markdown",
   "id": "92aa65e3",
   "metadata": {},
   "source": [
    "**Group Number:** 8\n",
    "\n",
    "**Student 1:** Ngo Quang Khai - s3836387 \n",
    "\n",
    "**Student 2:** Nguyen Quoc Minh - s3758994\n",
    "\n",
    "**Student 3:** Bui Thanh Huy - s3740934\n",
    "\n",
    "**Student 4:** Tran Vinh Khang - s3855823\n",
    "\n",
    "**Student 5:** Le Trong Hung - s3805504\n",
    "\n",
    "**Lecturer:** Dr. Bao Nguyen\n",
    "\n",
    "**Due Date:** May 14th, 2021"
   ]
  },
  {
   "cell_type": "markdown",
   "id": "baf7d6af",
   "metadata": {},
   "source": [
    "<hr style=\"border:0.1px solid gray\">"
   ]
  },
  {
   "cell_type": "markdown",
   "id": "d958fcfd",
   "metadata": {},
   "source": [
    "# Main Task"
   ]
  },
  {
   "cell_type": "markdown",
   "id": "0b10ae1e",
   "metadata": {},
   "source": [
    "- **Task 1**: Classify images according to whether given cell image represents a cancerous cells or not (isCancerous)\n",
    "\n",
    "\n",
    "- **Task 2**: Classify images according to cell-type, such as: fibroblast, inflammatory, epithelial or others.\n",
    "\n",
    "\n",
    "- **Extra task**:"
   ]
  },
  {
   "cell_type": "markdown",
   "id": "17cc28c3",
   "metadata": {},
   "source": [
    "# 1. Import libraries and setting up environment"
   ]
  },
  {
   "cell_type": "code",
   "execution_count": 2,
   "id": "968c270e",
   "metadata": {},
   "outputs": [],
   "source": [
    "# !pip install tensorflow\n",
    "# !pip install keras\n",
    "# !pip install opencv-python\n",
    "# !pip install bayesian-optimization "
   ]
  },
  {
   "cell_type": "code",
   "execution_count": 2,
   "id": "45899c69",
   "metadata": {},
   "outputs": [],
   "source": [
    "# Import packages\n",
    "import numpy as np\n",
    "import pandas as pd\n",
    "import matplotlib.pyplot as plt\n",
    "%matplotlib inline\n",
    "import sklearn as sk\n",
    "import seaborn as sns\n",
    "import cv2\n",
    "import os\n",
    "import tensorflow as tf\n",
    "\n",
    "from tqdm import tqdm\n",
    "from sklearn.model_selection import train_test_split, cross_val_score\n",
    "from imblearn.over_sampling import RandomOverSampler\n",
    "\n",
    "from tensorflow.keras.models import Sequential\n",
    "from tensorflow.keras.optimizers import Adam, SGD, RMSprop, Adadelta, Adagrad, Adamax, Nadam, Ftrl\n",
    "from tensorflow.keras.callbacks import EarlyStopping, ModelCheckpoint, ReduceLROnPlateau\n",
    "from tensorflow.keras.wrappers.scikit_learn import KerasClassifier\n",
    "from tensorflow.keras import layers\n",
    "from tensorflow.keras.layers import LeakyReLU\n",
    "from tensorflow.keras.regularizers import l2\n",
    "from keras import backend as K\n",
    "from math import floor\n",
    "from sklearn.metrics import make_scorer, accuracy_score, classification_report\n",
    "\n",
    "from bayes_opt import BayesianOptimization\n",
    "from sklearn.model_selection import StratifiedKFold,GridSearchCV\n",
    "\n",
    "from PIL import Image\n",
    "import warnings\n",
    "warnings.filterwarnings('ignore')\n",
    "\n",
    "LeakyReLU = LeakyReLU(alpha=0.1)"
   ]
  },
  {
   "cell_type": "code",
   "execution_count": 3,
   "id": "bdcf75fd",
   "metadata": {},
   "outputs": [
    {
     "name": "stdout",
     "output_type": "stream",
     "text": [
      "Tensorflow version: 2.6.0\n",
      "CV2 version: 4.5.5\n"
     ]
    }
   ],
   "source": [
    "#It is important to check the version of these libraries to make sure that implement the latest method.\n",
    "print('Tensorflow version:', tf.__version__)\n",
    "print('CV2 version:', cv2.__version__)"
   ]
  },
  {
   "cell_type": "markdown",
   "id": "9c253d70",
   "metadata": {},
   "source": [
    "# 2. Import Dataset"
   ]
  },
  {
   "cell_type": "code",
   "execution_count": 4,
   "id": "9a1ee400",
   "metadata": {},
   "outputs": [],
   "source": [
    "# Import data_labels_mainData.csv into a DataFrame\n",
    "main_data = pd.read_csv('data_labels_mainData.csv')\n",
    "\n",
    "# Import data_labels_extraData.csv into a DataFrame\n",
    "extra_data = pd.read_csv('data_labels_extraData.csv')"
   ]
  },
  {
   "cell_type": "markdown",
   "id": "b2d64513",
   "metadata": {},
   "source": [
    "# 3. Exploratory Data Analysis (EDA)"
   ]
  },
  {
   "cell_type": "markdown",
   "id": "520b23ab",
   "metadata": {},
   "source": [
    "## 3.1. Process the data"
   ]
  },
  {
   "cell_type": "code",
   "execution_count": 5,
   "id": "c7620550",
   "metadata": {},
   "outputs": [
    {
     "name": "stdout",
     "output_type": "stream",
     "text": [
      "Dataframe of main_data: \n",
      "       InstanceID  patientID  ImageName cellTypeName  cellType  isCancerous\n",
      "0          22405          1  22405.png   fibroblast         0            0\n",
      "1          22406          1  22406.png   fibroblast         0            0\n",
      "2          22407          1  22407.png   fibroblast         0            0\n",
      "3          22408          1  22408.png   fibroblast         0            0\n",
      "4          22409          1  22409.png   fibroblast         0            0\n",
      "...          ...        ...        ...          ...       ...          ...\n",
      "9891        1625         60   1625.png   epithelial         2            1\n",
      "9892        1626         60   1626.png   epithelial         2            1\n",
      "9893        1627         60   1627.png   epithelial         2            1\n",
      "9894        1628         60   1628.png   epithelial         2            1\n",
      "9895        1629         60   1629.png   epithelial         2            1\n",
      "\n",
      "[9896 rows x 6 columns] \n",
      "\n",
      "Dataframe of extra_data: \n",
      "        InstanceID  patientID  ImageName  isCancerous\n",
      "0           12681         61  12681.png            0\n",
      "1           12682         61  12682.png            0\n",
      "2           12683         61  12683.png            0\n",
      "3           12684         61  12684.png            0\n",
      "4           12685         61  12685.png            0\n",
      "...           ...        ...        ...          ...\n",
      "10379       20028         99  20028.png            0\n",
      "10380       20029         99  20029.png            0\n",
      "10381       20030         99  20030.png            0\n",
      "10382       20031         99  20031.png            0\n",
      "10383       20032         99  20032.png            0\n",
      "\n",
      "[10384 rows x 4 columns]\n"
     ]
    }
   ],
   "source": [
    "#See the data frame of main_data\n",
    "print(\"Dataframe of main_data: \\n\", main_data, \"\\n\")\n",
    "\n",
    "#See the data frame of extra_data\n",
    "print(\"Dataframe of extra_data: \\n\", extra_data)"
   ]
  },
  {
   "cell_type": "markdown",
   "id": "68ca9884",
   "metadata": {},
   "source": [
    "**=>** Next, we will check if the data have any null values and datatype of each columns."
   ]
  },
  {
   "cell_type": "code",
   "execution_count": 7,
   "id": "0e93d75f",
   "metadata": {
    "collapsed": true
   },
   "outputs": [
    {
     "name": "stdout",
     "output_type": "stream",
     "text": [
      "<class 'pandas.core.frame.DataFrame'>\n",
      "RangeIndex: 9896 entries, 0 to 9895\n",
      "Data columns (total 6 columns):\n",
      " #   Column        Non-Null Count  Dtype \n",
      "---  ------        --------------  ----- \n",
      " 0   InstanceID    9896 non-null   int64 \n",
      " 1   patientID     9896 non-null   int64 \n",
      " 2   ImageName     9896 non-null   object\n",
      " 3   cellTypeName  9896 non-null   object\n",
      " 4   cellType      9896 non-null   int64 \n",
      " 5   isCancerous   9896 non-null   int64 \n",
      "dtypes: int64(4), object(2)\n",
      "memory usage: 464.0+ KB\n"
     ]
    },
    {
     "data": {
      "text/plain": [
       "InstanceID      0\n",
       "patientID       0\n",
       "ImageName       0\n",
       "cellTypeName    0\n",
       "cellType        0\n",
       "isCancerous     0\n",
       "dtype: int64"
      ]
     },
     "execution_count": 7,
     "metadata": {},
     "output_type": "execute_result"
    }
   ],
   "source": [
    "main_data.info()\n",
    "main_data.isnull().sum()"
   ]
  },
  {
   "cell_type": "code",
   "execution_count": 8,
   "id": "dc7dc0b6",
   "metadata": {
    "collapsed": true
   },
   "outputs": [
    {
     "name": "stdout",
     "output_type": "stream",
     "text": [
      "<class 'pandas.core.frame.DataFrame'>\n",
      "RangeIndex: 10384 entries, 0 to 10383\n",
      "Data columns (total 4 columns):\n",
      " #   Column       Non-Null Count  Dtype \n",
      "---  ------       --------------  ----- \n",
      " 0   InstanceID   10384 non-null  int64 \n",
      " 1   patientID    10384 non-null  int64 \n",
      " 2   ImageName    10384 non-null  object\n",
      " 3   isCancerous  10384 non-null  int64 \n",
      "dtypes: int64(3), object(1)\n",
      "memory usage: 324.6+ KB\n"
     ]
    },
    {
     "data": {
      "text/plain": [
       "InstanceID     0\n",
       "patientID      0\n",
       "ImageName      0\n",
       "isCancerous    0\n",
       "dtype: int64"
      ]
     },
     "execution_count": 8,
     "metadata": {},
     "output_type": "execute_result"
    }
   ],
   "source": [
    "extra_data.info()\n",
    "extra_data.isnull().sum()"
   ]
  },
  {
   "cell_type": "markdown",
   "id": "5553755d",
   "metadata": {},
   "source": [
    "**=>** Since our data is no missing/null value and properly formatted, we will move on to analyzing data."
   ]
  },
  {
   "cell_type": "markdown",
   "id": "3d8ff5d3",
   "metadata": {},
   "source": [
    "## 3.2. Data Analysis and Visualiztion"
   ]
  },
  {
   "cell_type": "markdown",
   "id": "26ffbe57",
   "metadata": {},
   "source": [
    "Based on the information provided by the biomedical company as well as the DataFrames in **section 3.1** above. We are aware of:\n",
    "- The **main_data** contains both **cellType (0 to 3)** and **isCancerous (0 and 1)** columns. In there, **cellType** values 0 to 3 represent fibroblast, inflammatory, epithelial, and miscellaneous cell types respectively based on the **cellTypeName** column. In addition, **isCancerous** values 0 and 1 represent colon cells with non-Cancer and Cancer.\n",
    "\n",
    "\n",
    "- The **extra_data** only contains **isCancerous (0 and 1)** column.\n",
    "\n",
    "**=>** Therefore, we choose the **isCancerous** attribute as the target column because both **main_data** and **extra_data** have the column **isCancerous**."
   ]
  },
  {
   "cell_type": "markdown",
   "id": "5ecfa939",
   "metadata": {},
   "source": [
    "### 3.2.1. Correlation and Correlation Matrix"
   ]
  },
  {
   "cell_type": "markdown",
   "id": "57e95090",
   "metadata": {},
   "source": [
    "Firstly, we will draw the correlation matrix to find out any relationship between **isCancerous** column with the others\n",
    "columns in **main_data**."
   ]
  },
  {
   "cell_type": "markdown",
   "id": "a690da07",
   "metadata": {},
   "source": [
    "**Analysis**\n",
    "\n",
    "As we can see from the matrix above, most of the attributes do not correlate with **isCancerous** much are **InstanceID** (-0.44), **patientID** (-0.0012). Since these attributes do not affect much to isCancerous attribute, we will not use these attributes to train our model. Applying these two attributes to train the model can cause noise and overcomplicated issue to our prediction model.\n",
    "\n",
    "**=>** There is only attribute **cellType** with 0.44 has high impact on the attribute 'isCancerous'"
   ]
  },
  {
   "cell_type": "markdown",
   "id": "9acfa007",
   "metadata": {},
   "source": [
    "### 3.2.2. Data Distribution"
   ]
  },
  {
   "cell_type": "markdown",
   "id": "8f4f6a62",
   "metadata": {},
   "source": [
    "### Countplot"
   ]
  },
  {
   "cell_type": "markdown",
   "id": "647541d8",
   "metadata": {},
   "source": [
    "**Analysis**\n",
    "- The first countplot shows us there 4 different types of cell: 0, 1, 2, 3. The first type of cell is 0 has approximately 1900, the second type of cell is 2 has approximately 2600, the third one is 4100 and last one is 1500.\n",
    "\n",
    "\n",
    "- The second countplot shows us number of cells that are cancer and not. In the first column is 0 represent the cell that are not cancerous, and 1 represent the cell that are cancerous. There are approximately 5900 cells that are not cancerous and 4200 cells that are cancerous in our data."
   ]
  },
  {
   "cell_type": "markdown",
   "id": "5b791a84",
   "metadata": {},
   "source": [
    "### Histogram"
   ]
  },
  {
   "cell_type": "markdown",
   "id": "79f79792",
   "metadata": {},
   "source": [
    "**Analysis**\n",
    "\n",
    "Looking at these two histograms, we can see that 'cellType' 0, 1, and 3 are not cancerous. Meanwhile only 'cellType' 2 is cancerous."
   ]
  },
  {
   "cell_type": "markdown",
   "id": "dfd878ff",
   "metadata": {},
   "source": [
    "### Conclusion\n",
    "\n",
    "- In **main_data**, only the attribute **cellType** continue to be our strongest candidate for to influence our model when it has high impact on our target attribute is **isCancerous**.\n",
    "\n",
    "\n",
    "- Attributes such as **InstanceID** and **patientID** might create a lot of noise in our model. \n",
    "\n",
    "\n",
    "- There are 4 types of cells: 0, 1, 2, 3. Only cell type number 2 is cancerous while others are not cancerous.\n",
    "\n",
    "\n",
    "- We expect the the model would predict class 0 more accurately than class 1"
   ]
  },
  {
   "cell_type": "markdown",
   "id": "9e43f450",
   "metadata": {},
   "source": [
    "## 3.3. Data Preparation"
   ]
  },
  {
   "cell_type": "code",
   "execution_count": 6,
   "id": "5ac75d03",
   "metadata": {},
   "outputs": [
    {
     "name": "stdout",
     "output_type": "stream",
     "text": [
      "Training data shape task 1: (6927, 2)\n",
      "Validation data shape task 1: (2969, 2)\n"
     ]
    }
   ],
   "source": [
    "\n",
    "traindata, validata = train_test_split(main_data[['ImageName','cellType']], \n",
    "                                              test_size=0.3, random_state=9, stratify = main_data[['cellType']])                                        \n",
    "\n",
    "print('Training data shape task 1:', traindata.shape)\n",
    "print('Validation data shape task 1:', validata.shape)\n"
   ]
  },
  {
   "cell_type": "code",
   "execution_count": 13,
   "id": "cd2afeae",
   "metadata": {
    "collapsed": true
   },
   "outputs": [
    {
     "name": "stdout",
     "output_type": "stream",
     "text": [
      "1242     4988.png\n",
      "4946    18534.png\n",
      "4936    18523.png\n",
      "2094    15839.png\n",
      "8858    13948.png\n",
      "          ...    \n",
      "9667    17698.png\n",
      "9217    12241.png\n",
      "6611     9991.png\n",
      "235     18639.png\n",
      "8818    13908.png\n",
      "Name: ImageName, Length: 6927, dtype: object\n"
     ]
    }
   ],
   "source": [
    "print(traindata['ImageName'])"
   ]
  },
  {
   "cell_type": "markdown",
   "id": "0ce58724",
   "metadata": {},
   "source": [
    "## Image functions"
   ]
  },
  {
   "cell_type": "code",
   "execution_count": 7,
   "id": "e8e9c4c3",
   "metadata": {},
   "outputs": [],
   "source": [
    "#Create a a function to add image according to the name given from the list\n",
    "\n",
    "def GetImage(directory):\n",
    "    images=[]\n",
    "    for name in tqdm(directory, desc=\"Adding images\"):\n",
    "        image = cv2.imread(\"patch_images/\"+name)\n",
    "        image = Image.fromarray(image,'RGB')\n",
    "        images.append(np.array(image))\n",
    "    result = np.array(images)\n",
    "    print(\"\\ngetImage COMPLETED!\")\n",
    "    return result\n",
    "\n"
   ]
  },
  {
   "cell_type": "code",
   "execution_count": 8,
   "id": "70f3f247",
   "metadata": {},
   "outputs": [],
   "source": [
    "# Get images ready by loading and preprocessing.\n",
    "def load_real_samples(n_classes=10):\n",
    "    (trainX, trainy), (_, _) = load_data()\n",
    "    X = expand_dims(trainX, axis=-1)\n",
    "    X = X.astype('float32')\n",
    "    X = (X - 127.5) / 127.5  # scale from [0,255] to [-1,1] as we will be using tanh activation. \n",
    "    print(X.shape, trainy.shape)\n",
    "    return [X, trainy]\n"
   ]
  },
  {
   "cell_type": "code",
   "execution_count": 13,
   "id": "d26f8222",
   "metadata": {},
   "outputs": [],
   "source": [
    "#Pick a subset of images. \n",
    "num_images = 120\n",
    "def select_subset_images(dataset, n_samples=num_images, n_classes=10):\n",
    "    X, y = dataset\n",
    "    X_list, y_list = list(), list()\n",
    "    n_per_class = int(n_samples / n_classes) #Number of samples per class.\n",
    "    for i in range(n_classes):\n",
    "        X_with_class = X[y == i] # get all images for this class\n",
    "        ix = randint(0, len(X_with_class), n_per_class) # choose random images for each class\n",
    "        [X_list.append(X_with_class[j]) for j in ix] # add to list\n",
    "        [y_list.append(i) for j in ix]\n",
    "    return np.asarray(X_list), np.asarray(y_list) #Returns a list of 2 numpy arrays corresponding to X and Y"
   ]
  },
  {
   "cell_type": "code",
   "execution_count": 14,
   "id": "d7ac7950",
   "metadata": {},
   "outputs": [],
   "source": [
    "#Create a function to generate sample to fix the Imblance of the dataset\n",
    "def GenerateSample(X,Y):\n",
    "    ros = RandomOverSampler(random_state = 1)\n",
    "    x, y = ros.fit_resample(X.values.reshape(-1,1), Y)\n",
    "    x = x.flatten()\n",
    "    return x,y"
   ]
  },
  {
   "cell_type": "markdown",
   "id": "c56b78b3",
   "metadata": {},
   "source": [
    "## ------------------------"
   ]
  },
  {
   "cell_type": "code",
   "execution_count": 15,
   "id": "c52c3735",
   "metadata": {
    "collapsed": true
   },
   "outputs": [
    {
     "name": "stderr",
     "output_type": "stream",
     "text": [
      "Adding images: 100%|█████████████████████████████████████████████████████████████| 6927/6927 [00:02<00:00, 3032.45it/s]"
     ]
    },
    {
     "name": "stdout",
     "output_type": "stream",
     "text": [
      "\n",
      "getImage COMPLETED!\n"
     ]
    },
    {
     "name": "stderr",
     "output_type": "stream",
     "text": [
      "\n"
     ]
    }
   ],
   "source": [
    "dataset = GetImage(traindata['ImageName'])\n",
    "# X, Y = select_subset_images(dataset)\n"
   ]
  },
  {
   "cell_type": "code",
   "execution_count": 28,
   "id": "0786a2ba",
   "metadata": {
    "collapsed": true
   },
   "outputs": [
    {
     "name": "stdout",
     "output_type": "stream",
     "text": [
      "[[[[142.  66. 117.]\n",
      "   [151.  75. 125.]\n",
      "   [136.  55. 106.]\n",
      "   ...\n",
      "   [124.  42.  97.]\n",
      "   [150.  64. 121.]\n",
      "   [147.  66. 122.]]\n",
      "\n",
      "  [[127.  55. 105.]\n",
      "   [136.  65. 114.]\n",
      "   [153.  74. 124.]\n",
      "   ...\n",
      "   [138.  53. 108.]\n",
      "   [148.  57. 112.]\n",
      "   [139.  57. 110.]]\n",
      "\n",
      "  [[122.  51. 102.]\n",
      "   [132.  63. 112.]\n",
      "   [188. 109. 160.]\n",
      "   ...\n",
      "   [146.  61. 116.]\n",
      "   [131.  39.  93.]\n",
      "   [118.  35.  86.]]\n",
      "\n",
      "  ...\n",
      "\n",
      "  [[149.  63. 121.]\n",
      "   [165.  80. 136.]\n",
      "   [159.  72. 125.]\n",
      "   ...\n",
      "   [133.  46.  98.]\n",
      "   [139.  65. 115.]\n",
      "   [148.  72. 123.]]\n",
      "\n",
      "  [[158.  70. 128.]\n",
      "   [168.  84. 139.]\n",
      "   [164.  79. 132.]\n",
      "   ...\n",
      "   [157.  72. 127.]\n",
      "   [174.  97. 150.]\n",
      "   [173.  97. 150.]]\n",
      "\n",
      "  [[148.  59. 117.]\n",
      "   [164.  79. 135.]\n",
      "   [161.  77. 132.]\n",
      "   ...\n",
      "   [183. 101. 158.]\n",
      "   [172.  94. 149.]\n",
      "   [167.  90. 144.]]]\n",
      "\n",
      "\n",
      " [[[207. 175. 220.]\n",
      "   [248. 214. 255.]\n",
      "   [211. 177. 223.]\n",
      "   ...\n",
      "   [194. 156. 230.]\n",
      "   [172. 130. 209.]\n",
      "   [181. 142. 225.]]\n",
      "\n",
      "  [[205. 175. 217.]\n",
      "   [235. 203. 246.]\n",
      "   [211. 177. 222.]\n",
      "   ...\n",
      "   [211. 176. 247.]\n",
      "   [198. 159. 238.]\n",
      "   [190. 153. 235.]]\n",
      "\n",
      "  [[195. 164. 206.]\n",
      "   [204. 174. 216.]\n",
      "   [215. 180. 225.]\n",
      "   ...\n",
      "   [216. 180. 250.]\n",
      "   [207. 171. 249.]\n",
      "   [196. 160. 239.]]\n",
      "\n",
      "  ...\n",
      "\n",
      "  [[214. 177. 229.]\n",
      "   [235. 198. 249.]\n",
      "   [226. 190. 241.]\n",
      "   ...\n",
      "   [222. 188. 238.]\n",
      "   [233. 208. 255.]\n",
      "   [219. 184. 238.]]\n",
      "\n",
      "  [[216. 179. 230.]\n",
      "   [222. 185. 235.]\n",
      "   [219. 183. 233.]\n",
      "   ...\n",
      "   [214. 178. 226.]\n",
      "   [218. 190. 241.]\n",
      "   [224. 190. 246.]]\n",
      "\n",
      "  [[221. 182. 233.]\n",
      "   [215. 177. 227.]\n",
      "   [198. 161. 211.]\n",
      "   ...\n",
      "   [248. 214. 255.]\n",
      "   [230. 199. 254.]\n",
      "   [226. 192. 248.]]]\n",
      "\n",
      "\n",
      " [[[172. 115. 184.]\n",
      "   [180. 132. 202.]\n",
      "   [224. 182. 246.]\n",
      "   ...\n",
      "   [216. 183. 248.]\n",
      "   [192. 145. 214.]\n",
      "   [172. 126. 197.]]\n",
      "\n",
      "  [[187. 138. 202.]\n",
      "   [219. 179. 244.]\n",
      "   [236. 203. 255.]\n",
      "   ...\n",
      "   [217. 185. 247.]\n",
      "   [212. 168. 237.]\n",
      "   [186. 143. 214.]]\n",
      "\n",
      "  [[230. 192. 248.]\n",
      "   [236. 206. 255.]\n",
      "   [219. 188. 244.]\n",
      "   ...\n",
      "   [228. 195. 255.]\n",
      "   [226. 187. 255.]\n",
      "   [201. 161. 230.]]\n",
      "\n",
      "  ...\n",
      "\n",
      "  [[240. 202. 250.]\n",
      "   [197. 150. 206.]\n",
      "   [208. 168. 223.]\n",
      "   ...\n",
      "   [174. 143. 233.]\n",
      "   [178. 147. 238.]\n",
      "   [182. 150. 240.]]\n",
      "\n",
      "  [[250. 225. 255.]\n",
      "   [212. 176. 234.]\n",
      "   [191. 151. 209.]\n",
      "   ...\n",
      "   [180. 146. 233.]\n",
      "   [191. 157. 247.]\n",
      "   [199. 167. 255.]]\n",
      "\n",
      "  [[238. 218. 254.]\n",
      "   [199. 175. 229.]\n",
      "   [181. 142. 201.]\n",
      "   ...\n",
      "   [160. 123. 205.]\n",
      "   [186. 151. 237.]\n",
      "   [204. 172. 255.]]]\n",
      "\n",
      "\n",
      " ...\n",
      "\n",
      "\n",
      " [[[255. 220. 252.]\n",
      "   [255. 227. 255.]\n",
      "   [234. 187. 236.]\n",
      "   ...\n",
      "   [226. 190. 209.]\n",
      "   [243. 210. 230.]\n",
      "   [255. 235. 254.]]\n",
      "\n",
      "  [[234. 179. 215.]\n",
      "   [251. 197. 240.]\n",
      "   [214. 167. 213.]\n",
      "   ...\n",
      "   [255. 230. 248.]\n",
      "   [255. 246. 255.]\n",
      "   [252. 226. 245.]]\n",
      "\n",
      "  [[184. 129. 170.]\n",
      "   [203. 148. 192.]\n",
      "   [193. 141. 188.]\n",
      "   ...\n",
      "   [255. 239. 255.]\n",
      "   [241. 213. 232.]\n",
      "   [205. 174. 194.]]\n",
      "\n",
      "  ...\n",
      "\n",
      "  [[239. 184. 204.]\n",
      "   [255. 233. 251.]\n",
      "   [243. 219. 237.]\n",
      "   ...\n",
      "   [135.  49.  70.]\n",
      "   [146.  54.  70.]\n",
      "   [137.  41.  55.]]\n",
      "\n",
      "  [[249. 197. 216.]\n",
      "   [242. 228. 242.]\n",
      "   [220. 193. 209.]\n",
      "   ...\n",
      "   [128.  45.  70.]\n",
      "   [143.  57.  80.]\n",
      "   [156.  67.  87.]]\n",
      "\n",
      "  [[249. 207. 227.]\n",
      "   [221. 206. 220.]\n",
      "   [213. 192. 206.]\n",
      "   ...\n",
      "   [135.  51.  78.]\n",
      "   [137.  49.  71.]\n",
      "   [159.  69.  89.]]]\n",
      "\n",
      "\n",
      " [[[165.  77. 120.]\n",
      "   [174.  87. 130.]\n",
      "   [170.  85. 129.]\n",
      "   ...\n",
      "   [220. 166. 225.]\n",
      "   [213. 160. 218.]\n",
      "   [214. 162. 218.]]\n",
      "\n",
      "  [[127.  37.  83.]\n",
      "   [156.  72. 117.]\n",
      "   [152.  75. 118.]\n",
      "   ...\n",
      "   [234. 180. 238.]\n",
      "   [225. 169. 226.]\n",
      "   [219. 161. 218.]]\n",
      "\n",
      "  [[156.  74. 122.]\n",
      "   [150.  63. 110.]\n",
      "   [158.  72. 117.]\n",
      "   ...\n",
      "   [225. 171. 229.]\n",
      "   [223. 164. 221.]\n",
      "   [210. 147. 205.]]\n",
      "\n",
      "  ...\n",
      "\n",
      "  [[160. 125. 192.]\n",
      "   [127.  89. 158.]\n",
      "   [159. 117. 189.]\n",
      "   ...\n",
      "   [192. 140. 194.]\n",
      "   [181. 143. 200.]\n",
      "   [210. 166. 228.]]\n",
      "\n",
      "  [[158. 135. 206.]\n",
      "   [144. 118. 190.]\n",
      "   [136. 102. 177.]\n",
      "   ...\n",
      "   [193. 137. 191.]\n",
      "   [176. 142. 196.]\n",
      "   [211. 158. 218.]]\n",
      "\n",
      "  [[161. 139. 213.]\n",
      "   [166. 143. 218.]\n",
      "   [153. 127. 202.]\n",
      "   ...\n",
      "   [197. 139. 194.]\n",
      "   [200. 169. 220.]\n",
      "   [227. 169. 227.]]]\n",
      "\n",
      "\n",
      " [[[215. 158. 217.]\n",
      "   [206. 150. 209.]\n",
      "   [221. 166. 224.]\n",
      "   ...\n",
      "   [209. 177. 213.]\n",
      "   [218. 182. 219.]\n",
      "   [218. 179. 217.]]\n",
      "\n",
      "  [[213. 157. 217.]\n",
      "   [218. 163. 222.]\n",
      "   [202. 147. 206.]\n",
      "   ...\n",
      "   [214. 189. 219.]\n",
      "   [236. 203. 235.]\n",
      "   [233. 194. 229.]]\n",
      "\n",
      "  [[188. 132. 191.]\n",
      "   [211. 156. 215.]\n",
      "   [196. 140. 200.]\n",
      "   ...\n",
      "   [253. 236. 255.]\n",
      "   [232. 201. 231.]\n",
      "   [225. 186. 220.]]\n",
      "\n",
      "  ...\n",
      "\n",
      "  [[197. 121. 168.]\n",
      "   [207. 121. 175.]\n",
      "   [179.  99. 157.]\n",
      "   ...\n",
      "   [183. 110. 165.]\n",
      "   [147.  61. 106.]\n",
      "   [157.  82. 127.]]\n",
      "\n",
      "  [[190. 118. 170.]\n",
      "   [209. 131. 187.]\n",
      "   [188. 108. 168.]\n",
      "   ...\n",
      "   [159.  83. 136.]\n",
      "   [134.  43.  88.]\n",
      "   [134.  38.  86.]]\n",
      "\n",
      "  [[203. 133. 193.]\n",
      "   [197. 128. 187.]\n",
      "   [216. 138. 199.]\n",
      "   ...\n",
      "   [167.  85. 137.]\n",
      "   [156.  57. 104.]\n",
      "   [159.  72. 121.]]]]\n",
      "[[[[ 0.11372549 -0.48235294 -0.08235294]\n",
      "   [ 0.18431373 -0.41176471 -0.01960784]\n",
      "   [ 0.06666667 -0.56862745 -0.16862745]\n",
      "   ...\n",
      "   [-0.02745098 -0.67058824 -0.23921569]\n",
      "   [ 0.17647059 -0.49803922 -0.05098039]\n",
      "   [ 0.15294118 -0.48235294 -0.04313725]]\n",
      "\n",
      "  [[-0.00392157 -0.56862745 -0.17647059]\n",
      "   [ 0.06666667 -0.49019608 -0.10588235]\n",
      "   [ 0.2        -0.41960784 -0.02745098]\n",
      "   ...\n",
      "   [ 0.08235294 -0.58431373 -0.15294118]\n",
      "   [ 0.16078431 -0.55294118 -0.12156863]\n",
      "   [ 0.09019608 -0.55294118 -0.1372549 ]]\n",
      "\n",
      "  [[-0.04313725 -0.6        -0.2       ]\n",
      "   [ 0.03529412 -0.50588235 -0.12156863]\n",
      "   [ 0.4745098  -0.14509804  0.25490196]\n",
      "   ...\n",
      "   [ 0.14509804 -0.52156863 -0.09019608]\n",
      "   [ 0.02745098 -0.69411765 -0.27058824]\n",
      "   [-0.0745098  -0.7254902  -0.3254902 ]]\n",
      "\n",
      "  ...\n",
      "\n",
      "  [[ 0.16862745 -0.50588235 -0.05098039]\n",
      "   [ 0.29411765 -0.37254902  0.06666667]\n",
      "   [ 0.24705882 -0.43529412 -0.01960784]\n",
      "   ...\n",
      "   [ 0.04313725 -0.63921569 -0.23137255]\n",
      "   [ 0.09019608 -0.49019608 -0.09803922]\n",
      "   [ 0.16078431 -0.43529412 -0.03529412]]\n",
      "\n",
      "  [[ 0.23921569 -0.45098039  0.00392157]\n",
      "   [ 0.31764706 -0.34117647  0.09019608]\n",
      "   [ 0.28627451 -0.38039216  0.03529412]\n",
      "   ...\n",
      "   [ 0.23137255 -0.43529412 -0.00392157]\n",
      "   [ 0.36470588 -0.23921569  0.17647059]\n",
      "   [ 0.35686275 -0.23921569  0.17647059]]\n",
      "\n",
      "  [[ 0.16078431 -0.5372549  -0.08235294]\n",
      "   [ 0.28627451 -0.38039216  0.05882353]\n",
      "   [ 0.2627451  -0.39607843  0.03529412]\n",
      "   ...\n",
      "   [ 0.43529412 -0.20784314  0.23921569]\n",
      "   [ 0.34901961 -0.2627451   0.16862745]\n",
      "   [ 0.30980392 -0.29411765  0.12941176]]]\n",
      "\n",
      "\n",
      " [[[ 0.62352941  0.37254902  0.7254902 ]\n",
      "   [ 0.94509804  0.67843137  1.        ]\n",
      "   [ 0.65490196  0.38823529  0.74901961]\n",
      "   ...\n",
      "   [ 0.52156863  0.22352941  0.80392157]\n",
      "   [ 0.34901961  0.01960784  0.63921569]\n",
      "   [ 0.41960784  0.11372549  0.76470588]]\n",
      "\n",
      "  [[ 0.60784314  0.37254902  0.70196078]\n",
      "   [ 0.84313725  0.59215686  0.92941176]\n",
      "   [ 0.65490196  0.38823529  0.74117647]\n",
      "   ...\n",
      "   [ 0.65490196  0.38039216  0.9372549 ]\n",
      "   [ 0.55294118  0.24705882  0.86666667]\n",
      "   [ 0.49019608  0.2         0.84313725]]\n",
      "\n",
      "  [[ 0.52941176  0.28627451  0.61568627]\n",
      "   [ 0.6         0.36470588  0.69411765]\n",
      "   [ 0.68627451  0.41176471  0.76470588]\n",
      "   ...\n",
      "   [ 0.69411765  0.41176471  0.96078431]\n",
      "   [ 0.62352941  0.34117647  0.95294118]\n",
      "   [ 0.5372549   0.25490196  0.8745098 ]]\n",
      "\n",
      "  ...\n",
      "\n",
      "  [[ 0.67843137  0.38823529  0.79607843]\n",
      "   [ 0.84313725  0.55294118  0.95294118]\n",
      "   [ 0.77254902  0.49019608  0.89019608]\n",
      "   ...\n",
      "   [ 0.74117647  0.4745098   0.86666667]\n",
      "   [ 0.82745098  0.63137255  1.        ]\n",
      "   [ 0.71764706  0.44313725  0.86666667]]\n",
      "\n",
      "  [[ 0.69411765  0.40392157  0.80392157]\n",
      "   [ 0.74117647  0.45098039  0.84313725]\n",
      "   [ 0.71764706  0.43529412  0.82745098]\n",
      "   ...\n",
      "   [ 0.67843137  0.39607843  0.77254902]\n",
      "   [ 0.70980392  0.49019608  0.89019608]\n",
      "   [ 0.75686275  0.49019608  0.92941176]]\n",
      "\n",
      "  [[ 0.73333333  0.42745098  0.82745098]\n",
      "   [ 0.68627451  0.38823529  0.78039216]\n",
      "   [ 0.55294118  0.2627451   0.65490196]\n",
      "   ...\n",
      "   [ 0.94509804  0.67843137  1.        ]\n",
      "   [ 0.80392157  0.56078431  0.99215686]\n",
      "   [ 0.77254902  0.50588235  0.94509804]]]\n",
      "\n",
      "\n",
      " [[[ 0.34901961 -0.09803922  0.44313725]\n",
      "   [ 0.41176471  0.03529412  0.58431373]\n",
      "   [ 0.75686275  0.42745098  0.92941176]\n",
      "   ...\n",
      "   [ 0.69411765  0.43529412  0.94509804]\n",
      "   [ 0.50588235  0.1372549   0.67843137]\n",
      "   [ 0.34901961 -0.01176471  0.54509804]]\n",
      "\n",
      "  [[ 0.46666667  0.08235294  0.58431373]\n",
      "   [ 0.71764706  0.40392157  0.91372549]\n",
      "   [ 0.85098039  0.59215686  1.        ]\n",
      "   ...\n",
      "   [ 0.70196078  0.45098039  0.9372549 ]\n",
      "   [ 0.6627451   0.31764706  0.85882353]\n",
      "   [ 0.45882353  0.12156863  0.67843137]]\n",
      "\n",
      "  [[ 0.80392157  0.50588235  0.94509804]\n",
      "   [ 0.85098039  0.61568627  1.        ]\n",
      "   [ 0.71764706  0.4745098   0.91372549]\n",
      "   ...\n",
      "   [ 0.78823529  0.52941176  1.        ]\n",
      "   [ 0.77254902  0.46666667  1.        ]\n",
      "   [ 0.57647059  0.2627451   0.80392157]]\n",
      "\n",
      "  ...\n",
      "\n",
      "  [[ 0.88235294  0.58431373  0.96078431]\n",
      "   [ 0.54509804  0.17647059  0.61568627]\n",
      "   [ 0.63137255  0.31764706  0.74901961]\n",
      "   ...\n",
      "   [ 0.36470588  0.12156863  0.82745098]\n",
      "   [ 0.39607843  0.15294118  0.86666667]\n",
      "   [ 0.42745098  0.17647059  0.88235294]]\n",
      "\n",
      "  [[ 0.96078431  0.76470588  1.        ]\n",
      "   [ 0.6627451   0.38039216  0.83529412]\n",
      "   [ 0.49803922  0.18431373  0.63921569]\n",
      "   ...\n",
      "   [ 0.41176471  0.14509804  0.82745098]\n",
      "   [ 0.49803922  0.23137255  0.9372549 ]\n",
      "   [ 0.56078431  0.30980392  1.        ]]\n",
      "\n",
      "  [[ 0.86666667  0.70980392  0.99215686]\n",
      "   [ 0.56078431  0.37254902  0.79607843]\n",
      "   [ 0.41960784  0.11372549  0.57647059]\n",
      "   ...\n",
      "   [ 0.25490196 -0.03529412  0.60784314]\n",
      "   [ 0.45882353  0.18431373  0.85882353]\n",
      "   [ 0.6         0.34901961  1.        ]]]\n",
      "\n",
      "\n",
      " ...\n",
      "\n",
      "\n",
      " [[[ 1.          0.7254902   0.97647059]\n",
      "   [ 1.          0.78039216  1.        ]\n",
      "   [ 0.83529412  0.46666667  0.85098039]\n",
      "   ...\n",
      "   [ 0.77254902  0.49019608  0.63921569]\n",
      "   [ 0.90588235  0.64705882  0.80392157]\n",
      "   [ 1.          0.84313725  0.99215686]]\n",
      "\n",
      "  [[ 0.83529412  0.40392157  0.68627451]\n",
      "   [ 0.96862745  0.54509804  0.88235294]\n",
      "   [ 0.67843137  0.30980392  0.67058824]\n",
      "   ...\n",
      "   [ 1.          0.80392157  0.94509804]\n",
      "   [ 1.          0.92941176  1.        ]\n",
      "   [ 0.97647059  0.77254902  0.92156863]]\n",
      "\n",
      "  [[ 0.44313725  0.01176471  0.33333333]\n",
      "   [ 0.59215686  0.16078431  0.50588235]\n",
      "   [ 0.51372549  0.10588235  0.4745098 ]\n",
      "   ...\n",
      "   [ 1.          0.8745098   1.        ]\n",
      "   [ 0.89019608  0.67058824  0.81960784]\n",
      "   [ 0.60784314  0.36470588  0.52156863]]\n",
      "\n",
      "  ...\n",
      "\n",
      "  [[ 0.8745098   0.44313725  0.6       ]\n",
      "   [ 1.          0.82745098  0.96862745]\n",
      "   [ 0.90588235  0.71764706  0.85882353]\n",
      "   ...\n",
      "   [ 0.05882353 -0.61568627 -0.45098039]\n",
      "   [ 0.14509804 -0.57647059 -0.45098039]\n",
      "   [ 0.0745098  -0.67843137 -0.56862745]]\n",
      "\n",
      "  [[ 0.95294118  0.54509804  0.69411765]\n",
      "   [ 0.89803922  0.78823529  0.89803922]\n",
      "   [ 0.7254902   0.51372549  0.63921569]\n",
      "   ...\n",
      "   [ 0.00392157 -0.64705882 -0.45098039]\n",
      "   [ 0.12156863 -0.55294118 -0.37254902]\n",
      "   [ 0.22352941 -0.4745098  -0.31764706]]\n",
      "\n",
      "  [[ 0.95294118  0.62352941  0.78039216]\n",
      "   [ 0.73333333  0.61568627  0.7254902 ]\n",
      "   [ 0.67058824  0.50588235  0.61568627]\n",
      "   ...\n",
      "   [ 0.05882353 -0.6        -0.38823529]\n",
      "   [ 0.0745098  -0.61568627 -0.44313725]\n",
      "   [ 0.24705882 -0.45882353 -0.30196078]]]\n",
      "\n",
      "\n",
      " [[[ 0.29411765 -0.39607843 -0.05882353]\n",
      "   [ 0.36470588 -0.31764706  0.01960784]\n",
      "   [ 0.33333333 -0.33333333  0.01176471]\n",
      "   ...\n",
      "   [ 0.7254902   0.30196078  0.76470588]\n",
      "   [ 0.67058824  0.25490196  0.70980392]\n",
      "   [ 0.67843137  0.27058824  0.70980392]]\n",
      "\n",
      "  [[-0.00392157 -0.70980392 -0.34901961]\n",
      "   [ 0.22352941 -0.43529412 -0.08235294]\n",
      "   [ 0.19215686 -0.41176471 -0.0745098 ]\n",
      "   ...\n",
      "   [ 0.83529412  0.41176471  0.86666667]\n",
      "   [ 0.76470588  0.3254902   0.77254902]\n",
      "   [ 0.71764706  0.2627451   0.70980392]]\n",
      "\n",
      "  [[ 0.22352941 -0.41960784 -0.04313725]\n",
      "   [ 0.17647059 -0.50588235 -0.1372549 ]\n",
      "   [ 0.23921569 -0.43529412 -0.08235294]\n",
      "   ...\n",
      "   [ 0.76470588  0.34117647  0.79607843]\n",
      "   [ 0.74901961  0.28627451  0.73333333]\n",
      "   [ 0.64705882  0.15294118  0.60784314]]\n",
      "\n",
      "  ...\n",
      "\n",
      "  [[ 0.25490196 -0.01960784  0.50588235]\n",
      "   [-0.00392157 -0.30196078  0.23921569]\n",
      "   [ 0.24705882 -0.08235294  0.48235294]\n",
      "   ...\n",
      "   [ 0.50588235  0.09803922  0.52156863]\n",
      "   [ 0.41960784  0.12156863  0.56862745]\n",
      "   [ 0.64705882  0.30196078  0.78823529]]\n",
      "\n",
      "  [[ 0.23921569  0.05882353  0.61568627]\n",
      "   [ 0.12941176 -0.0745098   0.49019608]\n",
      "   [ 0.06666667 -0.2         0.38823529]\n",
      "   ...\n",
      "   [ 0.51372549  0.0745098   0.49803922]\n",
      "   [ 0.38039216  0.11372549  0.5372549 ]\n",
      "   [ 0.65490196  0.23921569  0.70980392]]\n",
      "\n",
      "  [[ 0.2627451   0.09019608  0.67058824]\n",
      "   [ 0.30196078  0.12156863  0.70980392]\n",
      "   [ 0.2        -0.00392157  0.58431373]\n",
      "   ...\n",
      "   [ 0.54509804  0.09019608  0.52156863]\n",
      "   [ 0.56862745  0.3254902   0.7254902 ]\n",
      "   [ 0.78039216  0.3254902   0.78039216]]]\n",
      "\n",
      "\n",
      " [[[ 0.68627451  0.23921569  0.70196078]\n",
      "   [ 0.61568627  0.17647059  0.63921569]\n",
      "   [ 0.73333333  0.30196078  0.75686275]\n",
      "   ...\n",
      "   [ 0.63921569  0.38823529  0.67058824]\n",
      "   [ 0.70980392  0.42745098  0.71764706]\n",
      "   [ 0.70980392  0.40392157  0.70196078]]\n",
      "\n",
      "  [[ 0.67058824  0.23137255  0.70196078]\n",
      "   [ 0.70980392  0.27843137  0.74117647]\n",
      "   [ 0.58431373  0.15294118  0.61568627]\n",
      "   ...\n",
      "   [ 0.67843137  0.48235294  0.71764706]\n",
      "   [ 0.85098039  0.59215686  0.84313725]\n",
      "   [ 0.82745098  0.52156863  0.79607843]]\n",
      "\n",
      "  [[ 0.4745098   0.03529412  0.49803922]\n",
      "   [ 0.65490196  0.22352941  0.68627451]\n",
      "   [ 0.5372549   0.09803922  0.56862745]\n",
      "   ...\n",
      "   [ 0.98431373  0.85098039  1.        ]\n",
      "   [ 0.81960784  0.57647059  0.81176471]\n",
      "   [ 0.76470588  0.45882353  0.7254902 ]]\n",
      "\n",
      "  ...\n",
      "\n",
      "  [[ 0.54509804 -0.05098039  0.31764706]\n",
      "   [ 0.62352941 -0.05098039  0.37254902]\n",
      "   [ 0.40392157 -0.22352941  0.23137255]\n",
      "   ...\n",
      "   [ 0.43529412 -0.1372549   0.29411765]\n",
      "   [ 0.15294118 -0.52156863 -0.16862745]\n",
      "   [ 0.23137255 -0.35686275 -0.00392157]]\n",
      "\n",
      "  [[ 0.49019608 -0.0745098   0.33333333]\n",
      "   [ 0.63921569  0.02745098  0.46666667]\n",
      "   [ 0.4745098  -0.15294118  0.31764706]\n",
      "   ...\n",
      "   [ 0.24705882 -0.34901961  0.06666667]\n",
      "   [ 0.05098039 -0.6627451  -0.30980392]\n",
      "   [ 0.05098039 -0.70196078 -0.3254902 ]]\n",
      "\n",
      "  [[ 0.59215686  0.04313725  0.51372549]\n",
      "   [ 0.54509804  0.00392157  0.46666667]\n",
      "   [ 0.69411765  0.08235294  0.56078431]\n",
      "   ...\n",
      "   [ 0.30980392 -0.33333333  0.0745098 ]\n",
      "   [ 0.22352941 -0.55294118 -0.18431373]\n",
      "   [ 0.24705882 -0.43529412 -0.05098039]]]]\n"
     ]
    }
   ],
   "source": [
    "print(dataset.astype('float32'))\n",
    "print( (dataset - 127.5) / 127.5 )"
   ]
  },
  {
   "cell_type": "code",
   "execution_count": 16,
   "id": "c8e2fb20",
   "metadata": {
    "collapsed": true
   },
   "outputs": [
    {
     "name": "stdout",
     "output_type": "stream",
     "text": [
      "Original Dataset:\n",
      " 2    2855\n",
      "1    1780\n",
      "0    1322\n",
      "3     970\n",
      "Name: cellType, dtype: int64\n",
      "Sampled Dataset:\n",
      " 2    2855\n",
      "3    2855\n",
      "1    2855\n",
      "0    2855\n",
      "Name: cellType, dtype: int64\n"
     ]
    },
    {
     "name": "stderr",
     "output_type": "stream",
     "text": [
      "Adding images: 100%|███████████████████████████████████████████████████████████| 11420/11420 [00:02<00:00, 5688.91it/s]\n"
     ]
    },
    {
     "name": "stdout",
     "output_type": "stream",
     "text": [
      "\n",
      "getImage COMPLETED!\n"
     ]
    },
    {
     "name": "stderr",
     "output_type": "stream",
     "text": [
      "Adding images: 100%|█████████████████████████████████████████████████████████████| 2969/2969 [00:00<00:00, 5417.34it/s]"
     ]
    },
    {
     "name": "stdout",
     "output_type": "stream",
     "text": [
      "\n",
      "getImage COMPLETED!\n"
     ]
    },
    {
     "name": "stderr",
     "output_type": "stream",
     "text": [
      "\n"
     ]
    }
   ],
   "source": [
    "x2_train = train_task2['ImageName']\n",
    "y2_train = train_task2['cellType']\n",
    "print(\"Original Dataset:\\n\",y2_train.value_counts())\n",
    "\n",
    "#Generate sample\n",
    "x2_train, y2_train = GenerateSample(x2_train,y2_train)\n",
    "print(\"Sampled Dataset:\\n\",y2_train.value_counts())\n",
    "x2_train = GetImage(x2_train)\n",
    "\n",
    "train_images = train_images.reshape(train_images.shape[0], 28, 28, 1).astype('float32')\n",
    "train_images = (train_images - 127.5) / 127.5  # Normalize the images to [-1, 1]\n",
    "\n",
    "x2_val = val_task2['ImageName']\n",
    "x2_val = GetImage(x2_val)\n",
    "\n",
    "y2_val = val_task2['cellType']\n",
    "\n",
    "x2_test,x2_val,y2_test,y2_val = train_test_split(x2_val, y2_val,\n",
    "                                              test_size=0.5, random_state=9, stratify = y2_val)\n"
   ]
  },
  {
   "cell_type": "code",
   "execution_count": 17,
   "id": "a67fa11c",
   "metadata": {},
   "outputs": [
    {
     "name": "stdout",
     "output_type": "stream",
     "text": [
      "TASK 2 SHAPE:\n",
      "x1 shape: (11420, 27, 27, 3)\n",
      "y1 shape: (11420,)\n",
      "VALIDATION SHAPE:\n",
      "x1 shape: (1485, 27, 27, 3)\n",
      "y1 shape: (1485,)\n",
      "TEST SHAPE:\n",
      "x1 shape: (1484, 27, 27, 3)\n",
      "y1 shape: (1484,)\n"
     ]
    }
   ],
   "source": [
    "print(\"TASK 2 SHAPE:\")\n",
    "print(\"x1 shape:\", x2_train.shape)\n",
    "print(\"y1 shape:\", y2_train.shape)\n",
    "print(\"VALIDATION SHAPE:\")\n",
    "print(\"x1 shape:\", x2_val.shape)\n",
    "print(\"y1 shape:\", y2_val.shape)\n",
    "print(\"TEST SHAPE:\")\n",
    "print(\"x1 shape:\", x2_test.shape)\n",
    "print(\"y1 shape:\", y2_test.shape)"
   ]
  },
  {
   "cell_type": "code",
   "execution_count": 18,
   "id": "145b17be",
   "metadata": {},
   "outputs": [],
   "source": [
    "X2_train_scaled = x2_train / 255\n",
    "X2_val_scaled = x2_val / 255\n",
    "X2_test_scaled = x2_test / 255\n"
   ]
  },
  {
   "cell_type": "code",
   "execution_count": 19,
   "id": "4861c72f",
   "metadata": {},
   "outputs": [],
   "source": [
    "data_augmentation = tf.keras.Sequential(\n",
    "  [\n",
    "    layers.experimental.preprocessing.RandomFlip(\"horizontal_and_vertical\",input_shape=(27,27,3)),\n",
    "    layers.experimental.preprocessing.RandomRotation(0.2),\n",
    "    layers.experimental.preprocessing.RandomZoom(0.1),\n",
    "  ]\n",
    ")"
   ]
  },
  {
   "cell_type": "markdown",
   "id": "8d363c85",
   "metadata": {},
   "source": [
    "# 4. Models"
   ]
  },
  {
   "cell_type": "markdown",
   "id": "61cce0ad",
   "metadata": {},
   "source": [
    "## 4.1 Convolutional neural network"
   ]
  },
  {
   "cell_type": "markdown",
   "id": "8e8aa6ab",
   "metadata": {},
   "source": [
    "### 4.1.1 Baseline model"
   ]
  },
  {
   "cell_type": "markdown",
   "id": "0e5f0f68",
   "metadata": {},
   "source": [
    "model = Sequential([\n",
    "    data_augmentation,\n",
    "    layers.Conv2D(32, (3, 3), activation='relu', kernel_initializer='he_uniform', padding='same'),\n",
    "    layers.BatchNormalization(),\n",
    "    layers.Conv2D(32, (3, 3), activation='relu', kernel_initializer='he_uniform', padding='same'),\n",
    "    layers.BatchNormalization(),\n",
    "    layers.MaxPooling2D(2,2),\n",
    "    layers.Dropout(0.2),\n",
    "    \n",
    "    layers.Conv2D(64, (3, 3), activation='relu', kernel_initializer='he_uniform', kernel_regularizer=l2(l=0.01),padding='same'),\n",
    "    layers.BatchNormalization(),\n",
    "    layers.Conv2D(64, (3, 3), activation='relu', kernel_initializer='he_uniform', kernel_regularizer=l2(l=0.01),padding='same'),\n",
    "    layers.BatchNormalization(),\n",
    "    layers.MaxPooling2D(2,2),\n",
    "    layers.Dropout(0.3),\n",
    "\n",
    "    \n",
    "    layers.Conv2D(128, (3, 3), activation='relu', kernel_initializer='he_uniform', kernel_regularizer=l2(l=0.01),padding='same'),\n",
    "    layers.BatchNormalization(),\n",
    "    layers.Conv2D(128, (3, 3), activation='relu', kernel_initializer='he_uniform', kernel_regularizer=l2(l=0.01),padding='same'),\n",
    "    layers.BatchNormalization(),\n",
    "    layers.MaxPooling2D(2,2),\n",
    "    layers.Dropout(0.4),\n",
    "    \n",
    "    layers.Flatten(),\n",
    "    layers.Dense(512, kernel_regularizer=l2(l=0.01), activation='relu'),\n",
    "    layers.BatchNormalization(),\n",
    "    layers.Dropout(0.2),\n",
    "    layers.Dense(512, kernel_regularizer=l2(l=0.01), activation='relu'),\n",
    "    layers.BatchNormalization(),\n",
    "    layers.Dropout(0.2),\n",
    "    layers.Dense(4, activation='softmax')\n",
    "])\n",
    "\n",
    "opt = Adam(lr=0.0005, beta_1=0.4, beta_2=0.444, decay=1.0e-6, amsgrad=True)\n",
    "model.compile(optimizer=opt , loss=tf.keras.losses.SparseCategoricalCrossentropy(from_logits=True), metrics=['accuracy'])\n"
   ]
  },
  {
   "cell_type": "markdown",
   "id": "f65d34d3",
   "metadata": {
    "collapsed": true
   },
   "source": [
    "my_callbacks = [\n",
    "    tf.keras.callbacks.EarlyStopping(monitor='accuracy', min_delta=0.001, patience=10, verbose=1, mode='auto'),\n",
    "    tf.keras.callbacks.ModelCheckpoint(\n",
    "    filepath=\"task2/task2_weights.{epoch:02d}-valloss.{val_loss:.2f}.h5\",\n",
    "    save_weights_only=False,\n",
    "    monitor='val_accuracy',\n",
    "    mode='max',\n",
    "    save_best_only=True),\n",
    "    ReduceLROnPlateau(monitor='val_loss', factor=np.sqrt(0.1), cooldown=0, patience=6, min_lr=0.5e-15) \n",
    "]\n",
    "\n",
    "EPOCHS = 500\n",
    "BATCH_SIZE = 32\n",
    "\n",
    "import time\n",
    "start_time = time.time()\n",
    "\n",
    "with tf.device('/GPU:0'): \n",
    "    history = model.fit(X2_train_scaled, y2_train,\n",
    "                    validation_data=(X2_val_scaled, y2_val), \n",
    "                    batch_size=BATCH_SIZE, \n",
    "                    epochs=EPOCHS, \n",
    "                    verbose=1,\n",
    "                    callbacks=my_callbacks)\n",
    "\n",
    "print(\"---  Training time in seconds ---%s \" % (time.time() - start_time))"
   ]
  },
  {
   "cell_type": "markdown",
   "id": "98a738ce",
   "metadata": {},
   "source": [
    "\n",
    "scores = model.evaluate(X2_val_scaled, y2_val, verbose=1)\n",
    "print('Validation loss:', scores[0])\n",
    "print('Validation accuracy:', scores[1])\n",
    "print('Max Validation accuracy:', max(history.history['accuracy']))\n",
    "\n",
    "# summarize history for accuracy\n",
    "plt.plot(history.history['accuracy'])\n",
    "plt.plot(history.history['val_accuracy'])\n",
    "plt.title('Model accuracy')\n",
    "plt.ylabel('Accuracy')\n",
    "plt.xlabel('Epoch')\n",
    "plt.legend(['Train', 'Validation'], loc='upper left')\n",
    "plt.show()\n",
    "# summarize history for loss\n",
    "plt.plot(history.history['loss'])\n",
    "plt.plot(history.history['val_loss'])\n",
    "plt.title('Model loss')\n",
    "plt.ylabel('Loss')\n",
    "plt.xlabel('Epoch')\n",
    "plt.legend(['Train', 'Validation'], loc='upper right')\n",
    "plt.show()"
   ]
  },
  {
   "cell_type": "markdown",
   "id": "19d98370",
   "metadata": {},
   "source": [
    "predict=model.predict(X2_test_scaled)\n",
    "classes=np.argmax(predict,axis=1)\n",
    "\n",
    "print(classification_report(y2_test, classes))\n"
   ]
  },
  {
   "cell_type": "markdown",
   "id": "c6d9e677",
   "metadata": {},
   "source": [
    "class_names = [\"fibroblast\",\"inflammatory\",\"epithelial\",\"others\"]"
   ]
  },
  {
   "cell_type": "markdown",
   "id": "398ddef4",
   "metadata": {},
   "source": [
    "import numpy as np\n",
    "batch_predict = model.predict (X2_test_scaled)\n",
    "plt.figure(figsize=(15, 15))\n",
    "\n",
    "for i in range(9):\n",
    "    ax = plt.subplot(3, 3, i+1)\n",
    "    first_image = X2_test_scaled[i]\n",
    "    first_label = int(y2_test.iloc[i])\n",
    "    plt.imshow(first_image)\n",
    "    confidence = round(100 * (np.max(batch_predict[i][0])), 2)\n",
    "    actual_class= class_names[first_label]\n",
    "    predicted_class = class_names[np.argmax(batch_predict[i])]\n",
    "    \n",
    "    plt.title(f\"Actual: {actual_class},\\n Predicted: {predicted_class}.\\n Confidence: {confidence}%\")\n",
    "    plt.axis(\"off\")\n",
    "    "
   ]
  },
  {
   "cell_type": "markdown",
   "id": "3b969744",
   "metadata": {},
   "source": [
    "### 4.1.2 Hyperparameter tuning\n",
    "#### I. Layers tuning"
   ]
  },
  {
   "cell_type": "markdown",
   "id": "da74cd95",
   "metadata": {},
   "source": [
    "### 4.1.3 Final model"
   ]
  },
  {
   "cell_type": "markdown",
   "id": "319e6130",
   "metadata": {},
   "source": [
    "tf.config.experimental.list_physical_devices()"
   ]
  },
  {
   "cell_type": "markdown",
   "id": "c460916a",
   "metadata": {},
   "source": [
    " model.load_weights(\"task2_weights.111-0.76.h5\")"
   ]
  }
 ],
 "metadata": {
  "kernelspec": {
   "display_name": "Python 3 (ipykernel)",
   "language": "python",
   "name": "python3"
  },
  "language_info": {
   "codemirror_mode": {
    "name": "ipython",
    "version": 3
   },
   "file_extension": ".py",
   "mimetype": "text/x-python",
   "name": "python",
   "nbconvert_exporter": "python",
   "pygments_lexer": "ipython3",
   "version": "3.9.12"
  },
  "toc": {
   "base_numbering": 1,
   "nav_menu": {},
   "number_sections": false,
   "sideBar": true,
   "skip_h1_title": false,
   "title_cell": "Table of Contents",
   "title_sidebar": "Contents",
   "toc_cell": true,
   "toc_position": {
    "height": "calc(100% - 180px)",
    "left": "10px",
    "top": "150px",
    "width": "383.984px"
   },
   "toc_section_display": true,
   "toc_window_display": false
  }
 },
 "nbformat": 4,
 "nbformat_minor": 5
}

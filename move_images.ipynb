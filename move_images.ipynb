{
 "cells": [
  {
   "cell_type": "markdown",
   "id": "0014c8b6",
   "metadata": {
    "toc": true
   },
   "source": [
    "<h1>Table of Contents<span class=\"tocSkip\"></span></h1>\n",
    "<div class=\"toc\"><ul class=\"toc-item\"></ul></div>"
   ]
  },
  {
   "cell_type": "code",
   "execution_count": 1,
   "id": "4de21a9f",
   "metadata": {},
   "outputs": [
    {
     "data": {
      "text/plain": [
       "InstanceID         12681\n",
       "patientID             61\n",
       "ImageName      12681.png\n",
       "isCancerous            0\n",
       "Name: 0, dtype: object"
      ]
     },
     "execution_count": 1,
     "metadata": {},
     "output_type": "execute_result"
    }
   ],
   "source": [
    "import pandas as pd\n",
    "import numpy as np\n",
    "import matplotlib.pyplot as plt\n",
    "import shutil\n",
    "\n",
    "#Import data_labels_mainData.csv into a DataFrame\n",
    "main_data = pd.read_csv('data_labels_mainData.csv')\n",
    "\n",
    "#Import data_labels_extraData.csv into a DataFrame\n",
    "extra_data = pd.read_csv('data_labels_extraData.csv')\n",
    "\n",
    "classes = [\"fibroblast\",\"inflammatory\",\"epithelial\",\"others\"]\n",
    "classes_extra = [\"false\",\"true\"]\n",
    "extra_data.iloc[0]\n"
   ]
  },
  {
   "cell_type": "code",
   "execution_count": 8,
   "id": "16a8fa20",
   "metadata": {},
   "outputs": [],
   "source": [
    "for i in range (main_data.shape[0]):\n",
    "    data = main_data.iloc[i]\n",
    "    new_loc = main_data.iloc[i]['cellTypeName']\n",
    "    curr = \"patch_images2/\"+data[\"ImageName\"]\n",
    "    new_location = \"patch_images2/\"+new_loc+\"/\"+data[\"ImageName\"]\n",
    "    shutil.move(curr, new_location)"
   ]
  },
  {
   "cell_type": "code",
   "execution_count": null,
   "id": "b836ea58",
   "metadata": {},
   "outputs": [],
   "source": [
    "import numpy as np\n",
    "plt.figure(figsize=(15, 15))\n",
    "\n",
    "for i in range(9):\n",
    "    ax = plt.subplot(3, 3, i+1)\n",
    "    first_image = X2_test_scaled[i]\n",
    "    first_label = int(y2_test.iloc[i])\n",
    "    plt.imshow(first_image)\n",
    "    confidence = round(100 * (np.max(batch_predict[i][0])), 2)\n",
    "    actual_class= class_names[first_label]\n",
    "    predicted_class = class_names[np.argmax(batch_predict[i])]\n",
    "    \n",
    "    plt.title(f\"Actual: {actual_class},\\n Predicted: {predicted_class}.\\n Confidence: {confidence}%\")\n",
    "    plt.axis(\"off\")"
   ]
  }
 ],
 "metadata": {
  "kernelspec": {
   "display_name": "Python 3 (ipykernel)",
   "language": "python",
   "name": "python3"
  },
  "language_info": {
   "codemirror_mode": {
    "name": "ipython",
    "version": 3
   },
   "file_extension": ".py",
   "mimetype": "text/x-python",
   "name": "python",
   "nbconvert_exporter": "python",
   "pygments_lexer": "ipython3",
   "version": "3.9.12"
  },
  "toc": {
   "base_numbering": 1,
   "nav_menu": {},
   "number_sections": true,
   "sideBar": true,
   "skip_h1_title": false,
   "title_cell": "Table of Contents",
   "title_sidebar": "Contents",
   "toc_cell": true,
   "toc_position": {},
   "toc_section_display": true,
   "toc_window_display": false
  }
 },
 "nbformat": 4,
 "nbformat_minor": 5
}

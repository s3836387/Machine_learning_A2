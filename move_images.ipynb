{
 "cells": [
  {
   "cell_type": "code",
   "execution_count": 1,
   "id": "4de21a9f",
   "metadata": {},
   "outputs": [
    {
     "data": {
      "text/plain": [
       "InstanceID         12681\n",
       "patientID             61\n",
       "ImageName      12681.png\n",
       "isCancerous            0\n",
       "Name: 0, dtype: object"
      ]
     },
     "execution_count": 1,
     "metadata": {},
     "output_type": "execute_result"
    }
   ],
   "source": [
    "import pandas as pd\n",
    "import numpy as np\n",
    "import matplotlib.pyplot as plt\n",
    "import shutil\n",
    "\n",
    "#Import data_labels_mainData.csv into a DataFrame\n",
    "main_data = pd.read_csv('data_labels_mainData.csv')\n",
    "\n",
    "#Import data_labels_extraData.csv into a DataFrame\n",
    "extra_data = pd.read_csv('data_labels_extraData.csv')\n",
    "\n",
    "classes = [\"fibroblast\",\"inflammatory\",\"epithelial\",\"others\"]\n",
    "classes_extra = [\"false\",\"true\"]\n",
    "extra_data.iloc[0]\n"
   ]
  },
  {
   "cell_type": "code",
   "execution_count": 2,
   "id": "16a8fa20",
   "metadata": {},
   "outputs": [],
   "source": [
    "for i in range (extra_data.shape[0]):\n",
    "    data = extra_data.iloc[i]\n",
    "    new_loc = classes_extra[data['isCancerous']]\n",
    "    curr = \"patch_images/\"+data[\"ImageName\"]\n",
    "    new_location = \"patch_images/\"+new_loc+\"/\"+data[\"ImageName\"]\n",
    "    shutil.move(curr, new_location)"
   ]
  }
 ],
 "metadata": {
  "kernelspec": {
   "display_name": "Python 3 (ipykernel)",
   "language": "python",
   "name": "python3"
  },
  "language_info": {
   "codemirror_mode": {
    "name": "ipython",
    "version": 3
   },
   "file_extension": ".py",
   "mimetype": "text/x-python",
   "name": "python",
   "nbconvert_exporter": "python",
   "pygments_lexer": "ipython3",
   "version": "3.9.7"
  }
 },
 "nbformat": 4,
 "nbformat_minor": 5
}

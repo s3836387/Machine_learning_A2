{
 "cells": [
  {
   "cell_type": "markdown",
   "id": "f69b336b",
   "metadata": {},
   "source": [
    "<hr style=\"border:0.1px solid gray\">"
   ]
  },
  {
   "cell_type": "markdown",
   "id": "6f629d5c",
   "metadata": {},
   "source": [
    "# <center style='color:Red'> COSC2753 - Machine Learning </center> \n",
    "## <center style='color:Red'> Assignment 2 - Classify Images of Colon Cancer </center>"
   ]
  },
  {
   "cell_type": "markdown",
   "id": "92aa65e3",
   "metadata": {},
   "source": [
    "**Group Number:** 8\n",
    "\n",
    "**Student 1:** Ngo Quang Khai - s3836387 \n",
    "\n",
    "**Student 2:** Nguyen Quoc Minh - s3758994\n",
    "\n",
    "**Student 3:** Bui Thanh Huy - s3740934\n",
    "\n",
    "**Student 4:** Tran Vinh Khang - s3855823\n",
    "\n",
    "**Student 5:** Le Trong Hung - s3805504\n",
    "\n",
    "**Lecturer:** Dr. Bao Nguyen\n",
    "\n",
    "**Due Date:** May 14th, 2021"
   ]
  },
  {
   "cell_type": "markdown",
   "id": "baf7d6af",
   "metadata": {},
   "source": [
    "<hr style=\"border:0.1px solid gray\">"
   ]
  },
  {
   "cell_type": "markdown",
   "id": "d958fcfd",
   "metadata": {},
   "source": [
    "# Main Task"
   ]
  },
  {
   "cell_type": "markdown",
   "id": "0b10ae1e",
   "metadata": {},
   "source": [
    "- **Task 1**: Classify images according to whether given cell image represents a cancerous cells or not (isCancerous)\n",
    "\n",
    "\n",
    "- **Task 2**: Classify images according to cell-type, such as: fibroblast, inflammatory, epithelial or others.\n",
    "\n",
    "\n",
    "- **Extra task**:"
   ]
  },
  {
   "cell_type": "markdown",
   "id": "17cc28c3",
   "metadata": {},
   "source": [
    "# 1. Import libraries and setting up environment"
   ]
  },
  {
   "cell_type": "code",
   "execution_count": 1,
   "id": "968c270e",
   "metadata": {},
   "outputs": [],
   "source": [
    "#!pip install tensorflow\n",
    "#!pip install keras\n",
    "#!pip install opencv-python\n",
    "#!pip install imblearn"
   ]
  },
  {
   "cell_type": "code",
   "execution_count": 2,
   "id": "bdcf75fd",
   "metadata": {},
   "outputs": [
    {
     "name": "stdout",
     "output_type": "stream",
     "text": [
      "Tensorflow version: 2.8.0\n",
      "CV2 version: 4.5.5\n"
     ]
    }
   ],
   "source": [
    "import pandas as pd\n",
    "import numpy as np\n",
    "import matplotlib.pyplot as plt\n",
    "%matplotlib inline \n",
    "import seaborn as sns\n",
    "from tqdm import tqdm\n",
    "\n",
    "import cv2\n",
    "import os\n",
    "import tensorflow as tf\n",
    "import sklearn as sk\n",
    "\n",
    "import warnings\n",
    "warnings.filterwarnings('ignore')\n",
    "\n",
    "\n",
    "#It is important to check the version of these libraries to make sure that implement the latest method.\n",
    "print('Tensorflow version:', tf.__version__)\n",
    "print('CV2 version:', cv2.__version__)"
   ]
  },
  {
   "cell_type": "markdown",
   "id": "9c253d70",
   "metadata": {},
   "source": [
    "# 2. Import Dataset"
   ]
  },
  {
   "cell_type": "code",
   "execution_count": 3,
   "id": "9a1ee400",
   "metadata": {},
   "outputs": [],
   "source": [
    "#Import data_labels_mainData.csv into a DataFrame\n",
    "main_data = pd.read_csv('data_labels_mainData.csv')\n",
    "\n",
    "#Import data_labels_extraData.csv into a DataFrame\n",
    "extra_data = pd.read_csv('data_labels_extraData.csv')"
   ]
  },
  {
   "cell_type": "markdown",
   "id": "b2d64513",
   "metadata": {},
   "source": [
    "# 3. Exploratory Data Analysis (EDA)"
   ]
  },
  {
   "cell_type": "markdown",
   "id": "520b23ab",
   "metadata": {},
   "source": [
    "## 3.1. Process the data"
   ]
  },
  {
   "cell_type": "code",
   "execution_count": 4,
   "id": "c7620550",
   "metadata": {},
   "outputs": [
    {
     "name": "stdout",
     "output_type": "stream",
     "text": [
      "Dataframe of main_data: \n",
      "       InstanceID  patientID  ImageName cellTypeName  cellType  isCancerous\n",
      "0          22405          1  22405.png   fibroblast         0            0\n",
      "1          22406          1  22406.png   fibroblast         0            0\n",
      "2          22407          1  22407.png   fibroblast         0            0\n",
      "3          22408          1  22408.png   fibroblast         0            0\n",
      "4          22409          1  22409.png   fibroblast         0            0\n",
      "...          ...        ...        ...          ...       ...          ...\n",
      "9891        1625         60   1625.png   epithelial         2            1\n",
      "9892        1626         60   1626.png   epithelial         2            1\n",
      "9893        1627         60   1627.png   epithelial         2            1\n",
      "9894        1628         60   1628.png   epithelial         2            1\n",
      "9895        1629         60   1629.png   epithelial         2            1\n",
      "\n",
      "[9896 rows x 6 columns] \n",
      "\n",
      "Dataframe of extra_data: \n",
      "        InstanceID  patientID  ImageName  isCancerous\n",
      "0           12681         61  12681.png            0\n",
      "1           12682         61  12682.png            0\n",
      "2           12683         61  12683.png            0\n",
      "3           12684         61  12684.png            0\n",
      "4           12685         61  12685.png            0\n",
      "...           ...        ...        ...          ...\n",
      "10379       20028         99  20028.png            0\n",
      "10380       20029         99  20029.png            0\n",
      "10381       20030         99  20030.png            0\n",
      "10382       20031         99  20031.png            0\n",
      "10383       20032         99  20032.png            0\n",
      "\n",
      "[10384 rows x 4 columns]\n"
     ]
    }
   ],
   "source": [
    "#See the data frame of main_data\n",
    "print(\"Dataframe of main_data: \\n\", main_data, \"\\n\")\n",
    "\n",
    "#See the data frame of extra_data\n",
    "print(\"Dataframe of extra_data: \\n\", extra_data)"
   ]
  },
  {
   "cell_type": "markdown",
   "id": "68ca9884",
   "metadata": {},
   "source": [
    "Next, we will check if the data have any null values and datatype of each columns."
   ]
  },
  {
   "cell_type": "code",
   "execution_count": 5,
   "id": "0e93d75f",
   "metadata": {},
   "outputs": [
    {
     "name": "stdout",
     "output_type": "stream",
     "text": [
      "<class 'pandas.core.frame.DataFrame'>\n",
      "RangeIndex: 9896 entries, 0 to 9895\n",
      "Data columns (total 6 columns):\n",
      " #   Column        Non-Null Count  Dtype \n",
      "---  ------        --------------  ----- \n",
      " 0   InstanceID    9896 non-null   int64 \n",
      " 1   patientID     9896 non-null   int64 \n",
      " 2   ImageName     9896 non-null   object\n",
      " 3   cellTypeName  9896 non-null   object\n",
      " 4   cellType      9896 non-null   int64 \n",
      " 5   isCancerous   9896 non-null   int64 \n",
      "dtypes: int64(4), object(2)\n",
      "memory usage: 464.0+ KB\n"
     ]
    },
    {
     "data": {
      "text/plain": [
       "InstanceID      0\n",
       "patientID       0\n",
       "ImageName       0\n",
       "cellTypeName    0\n",
       "cellType        0\n",
       "isCancerous     0\n",
       "dtype: int64"
      ]
     },
     "execution_count": 5,
     "metadata": {},
     "output_type": "execute_result"
    }
   ],
   "source": [
    "main_data.info()\n",
    "main_data.isnull().sum()"
   ]
  },
  {
   "cell_type": "code",
   "execution_count": 6,
   "id": "ebc73fd5",
   "metadata": {},
   "outputs": [
    {
     "name": "stdout",
     "output_type": "stream",
     "text": [
      "<class 'pandas.core.frame.DataFrame'>\n",
      "RangeIndex: 10384 entries, 0 to 10383\n",
      "Data columns (total 4 columns):\n",
      " #   Column       Non-Null Count  Dtype \n",
      "---  ------       --------------  ----- \n",
      " 0   InstanceID   10384 non-null  int64 \n",
      " 1   patientID    10384 non-null  int64 \n",
      " 2   ImageName    10384 non-null  object\n",
      " 3   isCancerous  10384 non-null  int64 \n",
      "dtypes: int64(3), object(1)\n",
      "memory usage: 324.6+ KB\n"
     ]
    },
    {
     "data": {
      "text/plain": [
       "InstanceID     0\n",
       "patientID      0\n",
       "ImageName      0\n",
       "isCancerous    0\n",
       "dtype: int64"
      ]
     },
     "execution_count": 6,
     "metadata": {},
     "output_type": "execute_result"
    }
   ],
   "source": [
    "extra_data.info()\n",
    "extra_data.isnull().sum()"
   ]
  },
  {
   "cell_type": "markdown",
   "id": "889d13c5",
   "metadata": {},
   "source": [
    "**=>** Since our data is no missing/null value and properly formatted, we will move on to analyzing data."
   ]
  },
  {
   "cell_type": "markdown",
   "id": "ac1ba332",
   "metadata": {},
   "source": [
    "Because we don't need columns InstanceID and patientID to train the models, so we are going to drop them."
   ]
  },
  {
   "cell_type": "code",
   "execution_count": 7,
   "id": "a82d7935",
   "metadata": {},
   "outputs": [
    {
     "name": "stdout",
     "output_type": "stream",
     "text": [
      "Dataframe of main_data after drop : \n",
      "       ImageName cellTypeName  cellType  isCancerous\n",
      "0     22405.png   fibroblast         0            0\n",
      "1     22406.png   fibroblast         0            0\n",
      "2     22407.png   fibroblast         0            0\n",
      "3     22408.png   fibroblast         0            0\n",
      "4     22409.png   fibroblast         0            0\n",
      "...         ...          ...       ...          ...\n",
      "9891   1625.png   epithelial         2            1\n",
      "9892   1626.png   epithelial         2            1\n",
      "9893   1627.png   epithelial         2            1\n",
      "9894   1628.png   epithelial         2            1\n",
      "9895   1629.png   epithelial         2            1\n",
      "\n",
      "[9896 rows x 4 columns] \n",
      "\n",
      "Dataframe of extra_data after drop: \n",
      "        ImageName  isCancerous\n",
      "0      12681.png            0\n",
      "1      12682.png            0\n",
      "2      12683.png            0\n",
      "3      12684.png            0\n",
      "4      12685.png            0\n",
      "...          ...          ...\n",
      "10379  20028.png            0\n",
      "10380  20029.png            0\n",
      "10381  20030.png            0\n",
      "10382  20031.png            0\n",
      "10383  20032.png            0\n",
      "\n",
      "[10384 rows x 2 columns]\n"
     ]
    }
   ],
   "source": [
    "#Drop 2 columns InstanceID and patientID for main_data\n",
    "main_data = main_data.drop(['InstanceID', 'patientID'], axis='columns')\n",
    "\n",
    "#Drop 2 columns InstanceID and patientID for extra_data\n",
    "extra_data = extra_data.drop(['InstanceID', 'patientID'], axis='columns')\n",
    "\n",
    "#See the dataframe of main_data and extra_data after drop 2 columns InstanceID and patientID\n",
    "print(\"Dataframe of main_data after drop : \\n\", main_data, \"\\n\")\n",
    "print(\"Dataframe of extra_data after drop: \\n\", extra_data)"
   ]
  },
  {
   "cell_type": "markdown",
   "id": "b3f2a0da",
   "metadata": {},
   "source": [
    "## 3.2. Data Analysis and Visualiztion"
   ]
  },
  {
   "cell_type": "markdown",
   "id": "db9ee750",
   "metadata": {},
   "source": [
    "Based on the information provided by the biomedical company as well as the DataFrames in **section 3.1** above. We are aware of:\n",
    "- The **main_data** contains both **cellType (0 to 3)** and **isCancerous (0 and 1)** columns. In there, **cellType** values 0 to 3 represent fibroblast, inflammatory, epithelial, and miscellaneous cell types respectively based on the **cellTypeName** column. In addition, **isCancerous** values 0 and 1 represent colon cells with non-Cancer and Cancer.\n",
    "\n",
    "\n",
    "- The **extra_data** only contains **isCancerous (0 and 1)** column.\n",
    "\n",
    "**=>** Therefore, we choose the **isCancerous** attribute as the target column because both **main_data** and **extra_data** have the column **isCancerous**."
   ]
  },
  {
   "cell_type": "markdown",
   "id": "f6375c50",
   "metadata": {},
   "source": [
    "### 3.2.1. Data Distribution"
   ]
  },
  {
   "cell_type": "markdown",
   "id": "341246ca",
   "metadata": {},
   "source": [
    "### Countplot"
   ]
  },
  {
   "cell_type": "code",
   "execution_count": 8,
   "id": "6ea54490",
   "metadata": {},
   "outputs": [
    {
     "data": {
      "image/png": "[encoded data removed]",
      "text/plain": [
       "<Figure size 864x432 with 2 Axes>"
      ]
     },
     "metadata": {
      "needs_background": "light"
     },
     "output_type": "display_data"
    }
   ],
   "source": [
    "#Using the countplot to see the classification of cellType and isCancerous \n",
    "fig, ax =plt.subplots(1,2, figsize = (12,6))\n",
    "\n",
    "# 0 = fibroblast, 1 = imflammatory, 2 = epithelial, 3 = others\n",
    "sns.countplot(main_data['cellType'], palette='Set2', ax=ax[0]).set_title(\"Classification of Cell Types\")\n",
    "\n",
    "sns.countplot(main_data['isCancerous'], palette='Set1', ax=ax[1]).set_title(\"Classification of Cells isCancerous and Non-Cancerous\")\n",
    "fig.show()"
   ]
  },
  {
   "cell_type": "markdown",
   "id": "bb3262ae",
   "metadata": {},
   "source": [
    "**Analysis**\n",
    "- The first countplot shows us there 4 different types of cell: 0, 1, 2, 3. The first type of cell is 0 has approximately 1900, the second type of cell is 2 has approximately 2600, the third one is 4100 and last one is 1500.\n",
    "\n",
    "\n",
    "- The second countplot shows us number of cells that are cancer and not. In the first column is 0 represent the cell that are not cancerous, and 1 represent the cell that are cancerous. There are approximately 5900 cells that are not cancerous and 4200 cells that are cancerous in our data."
   ]
  },
  {
   "cell_type": "markdown",
   "id": "fa8c6509",
   "metadata": {},
   "source": [
    "### Histogram"
   ]
  },
  {
   "cell_type": "code",
   "execution_count": 9,
   "id": "9afe5fb4",
   "metadata": {},
   "outputs": [
    {
     "data": {
      "text/plain": [
       "<seaborn.axisgrid.FacetGrid at 0x163f57b5a60>"
      ]
     },
     "execution_count": 9,
     "metadata": {},
     "output_type": "execute_result"
    },
    {
     "data": {
      "image/png": "[encoded data removed]",
      "text/plain": [
       "<Figure size 1152x288 with 2 Axes>"
      ]
     },
     "metadata": {
      "needs_background": "light"
     },
     "output_type": "display_data"
    }
   ],
   "source": [
    "# Draw the histogram for cellType respected to isCancerous (class 0 and 1)\n",
    "g = sns.FacetGrid(main_data, col='isCancerous', height=4, aspect=2)\n",
    "g.map(plt.hist, str('cellType'), bins=20)\n",
    "g.set_axis_labels('cellType', \"Count\")"
   ]
  },
  {
   "cell_type": "markdown",
   "id": "fcd3d58b",
   "metadata": {},
   "source": [
    "**Analysis**\n",
    "\n",
    "Looking at these two histograms, we can see that 'cellType' 0, 1, and 3 are not cancerous. Meanwhile only 'cellType' 2 is cancerous."
   ]
  },
  {
   "cell_type": "code",
   "execution_count": 10,
   "id": "f2616099",
   "metadata": {},
   "outputs": [
    {
     "data": {
      "text/html": [
       "<div>\n",
       "<style scoped>\n",
       "    .dataframe tbody tr th:only-of-type {\n",
       "        vertical-align: middle;\n",
       "    }\n",
       "\n",
       "    .dataframe tbody tr th {\n",
       "        vertical-align: top;\n",
       "    }\n",
       "\n",
       "    .dataframe thead th {\n",
       "        text-align: right;\n",
       "    }\n",
       "</style>\n",
       "<table border=\"1\" class=\"dataframe\">\n",
       "  <thead>\n",
       "    <tr style=\"text-align: right;\">\n",
       "      <th></th>\n",
       "      <th>ImageName</th>\n",
       "      <th>cellTypeName</th>\n",
       "      <th>cellType</th>\n",
       "      <th>isCancerous</th>\n",
       "    </tr>\n",
       "  </thead>\n",
       "  <tbody>\n",
       "    <tr>\n",
       "      <th>449</th>\n",
       "      <td>276.png</td>\n",
       "      <td>epithelial</td>\n",
       "      <td>2</td>\n",
       "      <td>1</td>\n",
       "    </tr>\n",
       "    <tr>\n",
       "      <th>450</th>\n",
       "      <td>277.png</td>\n",
       "      <td>epithelial</td>\n",
       "      <td>2</td>\n",
       "      <td>1</td>\n",
       "    </tr>\n",
       "    <tr>\n",
       "      <th>451</th>\n",
       "      <td>278.png</td>\n",
       "      <td>epithelial</td>\n",
       "      <td>2</td>\n",
       "      <td>1</td>\n",
       "    </tr>\n",
       "    <tr>\n",
       "      <th>452</th>\n",
       "      <td>279.png</td>\n",
       "      <td>epithelial</td>\n",
       "      <td>2</td>\n",
       "      <td>1</td>\n",
       "    </tr>\n",
       "    <tr>\n",
       "      <th>453</th>\n",
       "      <td>280.png</td>\n",
       "      <td>epithelial</td>\n",
       "      <td>2</td>\n",
       "      <td>1</td>\n",
       "    </tr>\n",
       "    <tr>\n",
       "      <th>...</th>\n",
       "      <td>...</td>\n",
       "      <td>...</td>\n",
       "      <td>...</td>\n",
       "      <td>...</td>\n",
       "    </tr>\n",
       "    <tr>\n",
       "      <th>9891</th>\n",
       "      <td>1625.png</td>\n",
       "      <td>epithelial</td>\n",
       "      <td>2</td>\n",
       "      <td>1</td>\n",
       "    </tr>\n",
       "    <tr>\n",
       "      <th>9892</th>\n",
       "      <td>1626.png</td>\n",
       "      <td>epithelial</td>\n",
       "      <td>2</td>\n",
       "      <td>1</td>\n",
       "    </tr>\n",
       "    <tr>\n",
       "      <th>9893</th>\n",
       "      <td>1627.png</td>\n",
       "      <td>epithelial</td>\n",
       "      <td>2</td>\n",
       "      <td>1</td>\n",
       "    </tr>\n",
       "    <tr>\n",
       "      <th>9894</th>\n",
       "      <td>1628.png</td>\n",
       "      <td>epithelial</td>\n",
       "      <td>2</td>\n",
       "      <td>1</td>\n",
       "    </tr>\n",
       "    <tr>\n",
       "      <th>9895</th>\n",
       "      <td>1629.png</td>\n",
       "      <td>epithelial</td>\n",
       "      <td>2</td>\n",
       "      <td>1</td>\n",
       "    </tr>\n",
       "  </tbody>\n",
       "</table>\n",
       "<p>4079 rows × 4 columns</p>\n",
       "</div>"
      ],
      "text/plain": [
       "     ImageName cellTypeName  cellType  isCancerous\n",
       "449    276.png   epithelial         2            1\n",
       "450    277.png   epithelial         2            1\n",
       "451    278.png   epithelial         2            1\n",
       "452    279.png   epithelial         2            1\n",
       "453    280.png   epithelial         2            1\n",
       "...        ...          ...       ...          ...\n",
       "9891  1625.png   epithelial         2            1\n",
       "9892  1626.png   epithelial         2            1\n",
       "9893  1627.png   epithelial         2            1\n",
       "9894  1628.png   epithelial         2            1\n",
       "9895  1629.png   epithelial         2            1\n",
       "\n",
       "[4079 rows x 4 columns]"
      ]
     },
     "execution_count": 10,
     "metadata": {},
     "output_type": "execute_result"
    }
   ],
   "source": [
    "# Apply loc to double check that only cellType = 2 is Cancerous\n",
    "main_data.loc[(main_data['cellType'] == 2) & (main_data['isCancerous'] == 1)]"
   ]
  },
  {
   "cell_type": "markdown",
   "id": "5df10589",
   "metadata": {},
   "source": [
    "### Conclusion\n",
    "\n",
    "- In **main_data**, only the attribute **cellType** continue to be our strongest candidate for to influence our model when it has high impact on our target attribute is **isCancerous**.\n",
    "\n",
    "\n",
    "- Attributes such as **InstanceID** and **patientID** might create a lot of noise in our model. \n",
    "\n",
    "\n",
    "- There are 4 types of cells: 0, 1, 2, 3. Only cell type number 2 is cancerous while others are not cancerous.\n",
    "\n",
    "\n",
    "- We expect the the model would predict class 0 more accurately than class 1"
   ]
  },
  {
   "cell_type": "markdown",
   "id": "e3ba8005",
   "metadata": {},
   "source": [
    "## 3.3. Data Preparation"
   ]
  },
  {
   "cell_type": "markdown",
   "id": "0bca630c",
   "metadata": {},
   "source": [
    "### 3.1 Split data into train and validation set"
   ]
  },
  {
   "cell_type": "code",
   "execution_count": 11,
   "id": "475708eb",
   "metadata": {},
   "outputs": [
    {
     "name": "stdout",
     "output_type": "stream",
     "text": [
      "Training data shape task 1: (7916, 2)\n",
      "Validation data shape task 1: (1980, 2)\n",
      "Training data shape task 2: (7916, 2)\n",
      "Validation data shape task 2: (1980, 2)\n"
     ]
    }
   ],
   "source": [
    "from sklearn.model_selection import train_test_split\n",
    "\n",
    "#splitting data into train and validation \n",
    "train_task1, val_task1 = train_test_split(main_data[['ImageName', 'isCancerous']], \n",
    "                                              test_size=0.2, random_state=9)\n",
    "\n",
    "\n",
    "train_task2, val_task2 = train_test_split(main_data[['ImageName','cellType']], \n",
    "                                              test_size=0.2, random_state=9)                                        \n",
    "\n",
    "print('Training data shape task 1:', train_task1.shape)\n",
    "print('Validation data shape task 1:', val_task1.shape)\n",
    "\n",
    "print('Training data shape task 2:', train_task2.shape)\n",
    "print('Validation data shape task 2:', val_task2.shape)"
   ]
  },
  {
   "cell_type": "markdown",
   "id": "81ddf13b",
   "metadata": {},
   "source": [
    "### 3.2. Create sample image to balance among classes (Oversampling Technique)"
   ]
  },
  {
   "cell_type": "code",
   "execution_count": 12,
   "id": "d1a5f84c",
   "metadata": {},
   "outputs": [],
   "source": [
    "from tensorflow import keras\n",
    "from tensorflow.keras import layers\n",
    "\n",
    "data_augmentation = keras.Sequential(\n",
    "  [\n",
    "    layers.experimental.preprocessing.RandomRotation(0.1),\n",
    "    layers.experimental.preprocessing.RandomZoom(0.1),\n",
    "  ]\n",
    ")\n",
    "#Create a a function to add image according to the name given from the list\n",
    "from PIL import Image\n",
    "def GetImage(training_dataset):\n",
    "    images=[]\n",
    "    unique = []\n",
    "    for name in tqdm(training_dataset, desc=\"Adding images\"):\n",
    "        if name not in unique:\n",
    "            image = cv2.imread(\"patch_images/\"+name)\n",
    "            image = Image.fromarray(image,'RGB')\n",
    "            images.append(np.array(image))\n",
    "            unique.append(name)\n",
    "        else:\n",
    "            image = cv2.imread(\"patch_images/\"+name)\n",
    "            image = Image.fromarray(image,'RGB')\n",
    "            image = data_augmentation(image)\n",
    "            images.append(np.array(image))\n",
    "\n",
    "    result = np.array(images)\n",
    "    print(\"\\ngetImage COMPLETED!\")\n",
    "    return result"
   ]
  },
  {
   "cell_type": "markdown",
   "id": "4e3da8e9",
   "metadata": {},
   "source": [
    "sai dòng 3 (directory) bởi vù nó chỉ muốn lấy data từ folder hình ảnh"
   ]
  },
  {
   "cell_type": "code",
   "execution_count": 13,
   "id": "ecbb7977",
   "metadata": {},
   "outputs": [],
   "source": [
    "#Create a function to generate sample to fix the Imblance of the dataset\n",
    "from imblearn.over_sampling import RandomOverSampler\n",
    "def GenerateSample(X,Y):\n",
    "    ros = RandomOverSampler(random_state = 1)\n",
    "    x, y = ros.fit_resample(X.values.reshape(-1,1), Y)\n",
    "    x = x.flatten()\n",
    "    return x,y"
   ]
  },
  {
   "cell_type": "code",
   "execution_count": null,
   "id": "7caafc4d",
   "metadata": {},
   "outputs": [
    {
     "name": "stdout",
     "output_type": "stream",
     "text": [
      "Original Dataset:\n",
      " 0    4634\n",
      "1    3282\n",
      "Name: isCancerous, dtype: int64\n",
      "Sampled Dataset:\n",
      " 0    4634\n",
      "1    4634\n",
      "Name: isCancerous, dtype: int64\n"
     ]
    },
    {
     "name": "stderr",
     "output_type": "stream",
     "text": [
      "Adding images:  85%|████████████████████████████████████████████████████▋         | 7882/9268 [00:19<00:03, 382.00it/s]"
     ]
    },
    {
     "name": "stdout",
     "output_type": "stream",
     "text": [
      "WARNING:tensorflow:Layers in a Sequential model should only have a single input tensor. Received: inputs=<PIL.Image.Image image mode=RGB size=27x27 at 0x163F709E100>. Consider rewriting this model with the Functional API.\n",
      "WARNING:tensorflow:Layers in a Sequential model should only have a single input tensor. Received: inputs=<PIL.Image.Image image mode=RGB size=27x27 at 0x163F709EB20>. Consider rewriting this model with the Functional API.\n",
      "WARNING:tensorflow:Layers in a Sequential model should only have a single input tensor. Received: inputs=<PIL.Image.Image image mode=RGB size=27x27 at 0x163F709EA60>. Consider rewriting this model with the Functional API.\n",
      "WARNING:tensorflow:Layers in a Sequential model should only have a single input tensor. Received: inputs=<PIL.Image.Image image mode=RGB size=27x27 at 0x163F709E400>. Consider rewriting this model with the Functional API.\n",
      "WARNING:tensorflow:Layers in a Sequential model should only have a single input tensor. Received: inputs=<PIL.Image.Image image mode=RGB size=27x27 at 0x163F709EEB0>. Consider rewriting this model with the Functional API.\n"
     ]
    },
    {
     "name": "stderr",
     "output_type": "stream",
     "text": [
      "\r",
      "Adding images:  85%|████████████████████████████████████████████████████▉         | 7921/9268 [00:19<00:04, 332.78it/s]"
     ]
    },
    {
     "name": "stdout",
     "output_type": "stream",
     "text": [
      "WARNING:tensorflow:Layers in a Sequential model should only have a single input tensor. Received: inputs=<PIL.Image.Image image mode=RGB size=27x27 at 0x163F709ECA0>. Consider rewriting this model with the Functional API.\n",
      "WARNING:tensorflow:Layers in a Sequential model should only have a single input tensor. Received: inputs=<PIL.Image.Image image mode=RGB size=27x27 at 0x163F709E400>. Consider rewriting this model with the Functional API.\n",
      "WARNING:tensorflow:Layers in a Sequential model should only have a single input tensor. Received: inputs=<PIL.Image.Image image mode=RGB size=27x27 at 0x163F709EA30>. Consider rewriting this model with the Functional API.\n",
      "WARNING:tensorflow:Layers in a Sequential model should only have a single input tensor. Received: inputs=<PIL.Image.Image image mode=RGB size=27x27 at 0x163F709ED90>. Consider rewriting this model with the Functional API.\n",
      "WARNING:tensorflow:Layers in a Sequential model should only have a single input tensor. Received: inputs=<PIL.Image.Image image mode=RGB size=27x27 at 0x163F709EEE0>. Consider rewriting this model with the Functional API.\n",
      "WARNING:tensorflow:Layers in a Sequential model should only have a single input tensor. Received: inputs=<PIL.Image.Image image mode=RGB size=27x27 at 0x163F709EDF0>. Consider rewriting this model with the Functional API.\n",
      "WARNING:tensorflow:Layers in a Sequential model should only have a single input tensor. Received: inputs=<PIL.Image.Image image mode=RGB size=27x27 at 0x163F709ECA0>. Consider rewriting this model with the Functional API.\n",
      "WARNING:tensorflow:Layers in a Sequential model should only have a single input tensor. Received: inputs=<PIL.Image.Image image mode=RGB size=27x27 at 0x163F709E400>. Consider rewriting this model with the Functional API.\n",
      "WARNING:tensorflow:Layers in a Sequential model should only have a single input tensor. Received: inputs=<PIL.Image.Image image mode=RGB size=27x27 at 0x163F709EA30>. Consider rewriting this model with the Functional API.\n",
      "WARNING:tensorflow:Layers in a Sequential model should only have a single input tensor. Received: inputs=<PIL.Image.Image image mode=RGB size=27x27 at 0x163F709ED90>. Consider rewriting this model with the Functional API.\n",
      "WARNING:tensorflow:Layers in a Sequential model should only have a single input tensor. Received: inputs=<PIL.Image.Image image mode=RGB size=27x27 at 0x163F709EEE0>. Consider rewriting this model with the Functional API.\n",
      "WARNING:tensorflow:Layers in a Sequential model should only have a single input tensor. Received: inputs=<PIL.Image.Image image mode=RGB size=27x27 at 0x163F709EDF0>. Consider rewriting this model with the Functional API.\n",
      "WARNING:tensorflow:Layers in a Sequential model should only have a single input tensor. Received: inputs=<PIL.Image.Image image mode=RGB size=27x27 at 0x163F709ECA0>. Consider rewriting this model with the Functional API.\n",
      "WARNING:tensorflow:Layers in a Sequential model should only have a single input tensor. Received: inputs=<PIL.Image.Image image mode=RGB size=27x27 at 0x163F709E400>. Consider rewriting this model with the Functional API.\n",
      "WARNING:tensorflow:Layers in a Sequential model should only have a single input tensor. Received: inputs=<PIL.Image.Image image mode=RGB size=27x27 at 0x163F709EA30>. Consider rewriting this model with the Functional API.\n",
      "WARNING:tensorflow:Layers in a Sequential model should only have a single input tensor. Received: inputs=<PIL.Image.Image image mode=RGB size=27x27 at 0x163F709ED90>. Consider rewriting this model with the Functional API.\n",
      "WARNING:tensorflow:Layers in a Sequential model should only have a single input tensor. Received: inputs=<PIL.Image.Image image mode=RGB size=27x27 at 0x163F709EEE0>. Consider rewriting this model with the Functional API.\n",
      "WARNING:tensorflow:Layers in a Sequential model should only have a single input tensor. Received: inputs=<PIL.Image.Image image mode=RGB size=27x27 at 0x163F709EDF0>. Consider rewriting this model with the Functional API.\n",
      "WARNING:tensorflow:Layers in a Sequential model should only have a single input tensor. Received: inputs=<PIL.Image.Image image mode=RGB size=27x27 at 0x163F709ECA0>. Consider rewriting this model with the Functional API.\n",
      "WARNING:tensorflow:Layers in a Sequential model should only have a single input tensor. Received: inputs=<PIL.Image.Image image mode=RGB size=27x27 at 0x163F709E400>. Consider rewriting this model with the Functional API.\n",
      "WARNING:tensorflow:Layers in a Sequential model should only have a single input tensor. Received: inputs=<PIL.Image.Image image mode=RGB size=27x27 at 0x163F709EA30>. Consider rewriting this model with the Functional API.\n",
      "WARNING:tensorflow:Layers in a Sequential model should only have a single input tensor. Received: inputs=<PIL.Image.Image image mode=RGB size=27x27 at 0x163F709ED90>. Consider rewriting this model with the Functional API.\n",
      "WARNING:tensorflow:Layers in a Sequential model should only have a single input tensor. Received: inputs=<PIL.Image.Image image mode=RGB size=27x27 at 0x163F709EEE0>. Consider rewriting this model with the Functional API.\n",
      "WARNING:tensorflow:Layers in a Sequential model should only have a single input tensor. Received: inputs=<PIL.Image.Image image mode=RGB size=27x27 at 0x163F709EDF0>. Consider rewriting this model with the Functional API.\n",
      "WARNING:tensorflow:Layers in a Sequential model should only have a single input tensor. Received: inputs=<PIL.Image.Image image mode=RGB size=27x27 at 0x163F709ECA0>. Consider rewriting this model with the Functional API.\n",
      "WARNING:tensorflow:Layers in a Sequential model should only have a single input tensor. Received: inputs=<PIL.Image.Image image mode=RGB size=27x27 at 0x163F709E400>. Consider rewriting this model with the Functional API.\n",
      "WARNING:tensorflow:Layers in a Sequential model should only have a single input tensor. Received: inputs=<PIL.Image.Image image mode=RGB size=27x27 at 0x163F709EA30>. Consider rewriting this model with the Functional API.\n",
      "WARNING:tensorflow:Layers in a Sequential model should only have a single input tensor. Received: inputs=<PIL.Image.Image image mode=RGB size=27x27 at 0x163F709ED90>. Consider rewriting this model with the Functional API.\n",
      "WARNING:tensorflow:Layers in a Sequential model should only have a single input tensor. Received: inputs=<PIL.Image.Image image mode=RGB size=27x27 at 0x163F709EEE0>. Consider rewriting this model with the Functional API.\n",
      "WARNING:tensorflow:Layers in a Sequential model should only have a single input tensor. Received: inputs=<PIL.Image.Image image mode=RGB size=27x27 at 0x163F709EDF0>. Consider rewriting this model with the Functional API.\n",
      "WARNING:tensorflow:Layers in a Sequential model should only have a single input tensor. Received: inputs=<PIL.Image.Image image mode=RGB size=27x27 at 0x163F709ECA0>. Consider rewriting this model with the Functional API.\n",
      "WARNING:tensorflow:Layers in a Sequential model should only have a single input tensor. Received: inputs=<PIL.Image.Image image mode=RGB size=27x27 at 0x163F709E400>. Consider rewriting this model with the Functional API.\n",
      "WARNING:tensorflow:Layers in a Sequential model should only have a single input tensor. Received: inputs=<PIL.Image.Image image mode=RGB size=27x27 at 0x163F709EA30>. Consider rewriting this model with the Functional API.\n",
      "WARNING:tensorflow:Layers in a Sequential model should only have a single input tensor. Received: inputs=<PIL.Image.Image image mode=RGB size=27x27 at 0x163F709ED90>. Consider rewriting this model with the Functional API.\n",
      "WARNING:tensorflow:Layers in a Sequential model should only have a single input tensor. Received: inputs=<PIL.Image.Image image mode=RGB size=27x27 at 0x163F709EEE0>. Consider rewriting this model with the Functional API.\n"
     ]
    },
    {
     "name": "stderr",
     "output_type": "stream",
     "text": [
      "\r",
      "Adding images:  86%|█████████████████████████████████████████████████████▏        | 7956/9268 [00:20<00:05, 240.18it/s]"
     ]
    },
    {
     "name": "stdout",
     "output_type": "stream",
     "text": [
      "WARNING:tensorflow:Layers in a Sequential model should only have a single input tensor. Received: inputs=<PIL.Image.Image image mode=RGB size=27x27 at 0x163F709ECA0>. Consider rewriting this model with the Functional API.\n",
      "WARNING:tensorflow:Layers in a Sequential model should only have a single input tensor. Received: inputs=<PIL.Image.Image image mode=RGB size=27x27 at 0x163F709ED30>. Consider rewriting this model with the Functional API.\n",
      "WARNING:tensorflow:Layers in a Sequential model should only have a single input tensor. Received: inputs=<PIL.Image.Image image mode=RGB size=27x27 at 0x163F709EA60>. Consider rewriting this model with the Functional API.\n",
      "WARNING:tensorflow:Layers in a Sequential model should only have a single input tensor. Received: inputs=<PIL.Image.Image image mode=RGB size=27x27 at 0x163F709EA30>. Consider rewriting this model with the Functional API.\n",
      "WARNING:tensorflow:Layers in a Sequential model should only have a single input tensor. Received: inputs=<PIL.Image.Image image mode=RGB size=27x27 at 0x163F709EEB0>. Consider rewriting this model with the Functional API.\n",
      "WARNING:tensorflow:Layers in a Sequential model should only have a single input tensor. Received: inputs=<PIL.Image.Image image mode=RGB size=27x27 at 0x163F709E400>. Consider rewriting this model with the Functional API.\n",
      "WARNING:tensorflow:Layers in a Sequential model should only have a single input tensor. Received: inputs=<PIL.Image.Image image mode=RGB size=27x27 at 0x163F709ECA0>. Consider rewriting this model with the Functional API.\n",
      "WARNING:tensorflow:Layers in a Sequential model should only have a single input tensor. Received: inputs=<PIL.Image.Image image mode=RGB size=27x27 at 0x163F709ED30>. Consider rewriting this model with the Functional API.\n",
      "WARNING:tensorflow:Layers in a Sequential model should only have a single input tensor. Received: inputs=<PIL.Image.Image image mode=RGB size=27x27 at 0x163F709EA60>. Consider rewriting this model with the Functional API.\n",
      "WARNING:tensorflow:Layers in a Sequential model should only have a single input tensor. Received: inputs=<PIL.Image.Image image mode=RGB size=27x27 at 0x163F709EA30>. Consider rewriting this model with the Functional API.\n",
      "WARNING:tensorflow:Layers in a Sequential model should only have a single input tensor. Received: inputs=<PIL.Image.Image image mode=RGB size=27x27 at 0x163F709EEB0>. Consider rewriting this model with the Functional API.\n",
      "WARNING:tensorflow:Layers in a Sequential model should only have a single input tensor. Received: inputs=<PIL.Image.Image image mode=RGB size=27x27 at 0x163F709E400>. Consider rewriting this model with the Functional API.\n",
      "WARNING:tensorflow:Layers in a Sequential model should only have a single input tensor. Received: inputs=<PIL.Image.Image image mode=RGB size=27x27 at 0x163F709ECA0>. Consider rewriting this model with the Functional API.\n",
      "WARNING:tensorflow:Layers in a Sequential model should only have a single input tensor. Received: inputs=<PIL.Image.Image image mode=RGB size=27x27 at 0x163F709ED30>. Consider rewriting this model with the Functional API.\n",
      "WARNING:tensorflow:Layers in a Sequential model should only have a single input tensor. Received: inputs=<PIL.Image.Image image mode=RGB size=27x27 at 0x163F709EA60>. Consider rewriting this model with the Functional API.\n",
      "WARNING:tensorflow:Layers in a Sequential model should only have a single input tensor. Received: inputs=<PIL.Image.Image image mode=RGB size=27x27 at 0x163F709EA30>. Consider rewriting this model with the Functional API.\n",
      "WARNING:tensorflow:Layers in a Sequential model should only have a single input tensor. Received: inputs=<PIL.Image.Image image mode=RGB size=27x27 at 0x163F709EEB0>. Consider rewriting this model with the Functional API.\n",
      "WARNING:tensorflow:Layers in a Sequential model should only have a single input tensor. Received: inputs=<PIL.Image.Image image mode=RGB size=27x27 at 0x163F709E400>. Consider rewriting this model with the Functional API.\n",
      "WARNING:tensorflow:Layers in a Sequential model should only have a single input tensor. Received: inputs=<PIL.Image.Image image mode=RGB size=27x27 at 0x163F709ECA0>. Consider rewriting this model with the Functional API.\n",
      "WARNING:tensorflow:Layers in a Sequential model should only have a single input tensor. Received: inputs=<PIL.Image.Image image mode=RGB size=27x27 at 0x163F709ED30>. Consider rewriting this model with the Functional API.\n",
      "WARNING:tensorflow:Layers in a Sequential model should only have a single input tensor. Received: inputs=<PIL.Image.Image image mode=RGB size=27x27 at 0x163F709EA60>. Consider rewriting this model with the Functional API.\n",
      "WARNING:tensorflow:Layers in a Sequential model should only have a single input tensor. Received: inputs=<PIL.Image.Image image mode=RGB size=27x27 at 0x163F709EA30>. Consider rewriting this model with the Functional API.\n",
      "WARNING:tensorflow:Layers in a Sequential model should only have a single input tensor. Received: inputs=<PIL.Image.Image image mode=RGB size=27x27 at 0x163F709EEB0>. Consider rewriting this model with the Functional API.\n",
      "WARNING:tensorflow:Layers in a Sequential model should only have a single input tensor. Received: inputs=<PIL.Image.Image image mode=RGB size=27x27 at 0x163F709E400>. Consider rewriting this model with the Functional API.\n",
      "WARNING:tensorflow:Layers in a Sequential model should only have a single input tensor. Received: inputs=<PIL.Image.Image image mode=RGB size=27x27 at 0x163F709ECA0>. Consider rewriting this model with the Functional API.\n",
      "WARNING:tensorflow:Layers in a Sequential model should only have a single input tensor. Received: inputs=<PIL.Image.Image image mode=RGB size=27x27 at 0x163F709ED30>. Consider rewriting this model with the Functional API.\n",
      "WARNING:tensorflow:Layers in a Sequential model should only have a single input tensor. Received: inputs=<PIL.Image.Image image mode=RGB size=27x27 at 0x163F709EA60>. Consider rewriting this model with the Functional API.\n",
      "WARNING:tensorflow:Layers in a Sequential model should only have a single input tensor. Received: inputs=<PIL.Image.Image image mode=RGB size=27x27 at 0x163F709EA30>. Consider rewriting this model with the Functional API.\n",
      "WARNING:tensorflow:Layers in a Sequential model should only have a single input tensor. Received: inputs=<PIL.Image.Image image mode=RGB size=27x27 at 0x163F709EEB0>. Consider rewriting this model with the Functional API.\n"
     ]
    },
    {
     "name": "stderr",
     "output_type": "stream",
     "text": [
      "\r",
      "Adding images:  86%|█████████████████████████████████████████████████████▍        | 7985/9268 [00:20<00:06, 209.52it/s]"
     ]
    },
    {
     "name": "stdout",
     "output_type": "stream",
     "text": [
      "WARNING:tensorflow:Layers in a Sequential model should only have a single input tensor. Received: inputs=<PIL.Image.Image image mode=RGB size=27x27 at 0x163F709ECA0>. Consider rewriting this model with the Functional API.\n",
      "WARNING:tensorflow:Layers in a Sequential model should only have a single input tensor. Received: inputs=<PIL.Image.Image image mode=RGB size=27x27 at 0x163F709EEE0>. Consider rewriting this model with the Functional API.\n",
      "WARNING:tensorflow:Layers in a Sequential model should only have a single input tensor. Received: inputs=<PIL.Image.Image image mode=RGB size=27x27 at 0x163F709EDF0>. Consider rewriting this model with the Functional API.\n",
      "WARNING:tensorflow:Layers in a Sequential model should only have a single input tensor. Received: inputs=<PIL.Image.Image image mode=RGB size=27x27 at 0x163F709EA60>. Consider rewriting this model with the Functional API.\n",
      "WARNING:tensorflow:Layers in a Sequential model should only have a single input tensor. Received: inputs=<PIL.Image.Image image mode=RGB size=27x27 at 0x163F709E880>. Consider rewriting this model with the Functional API.\n",
      "WARNING:tensorflow:Layers in a Sequential model should only have a single input tensor. Received: inputs=<PIL.Image.Image image mode=RGB size=27x27 at 0x163F709ED30>. Consider rewriting this model with the Functional API.\n",
      "WARNING:tensorflow:Layers in a Sequential model should only have a single input tensor. Received: inputs=<PIL.Image.Image image mode=RGB size=27x27 at 0x163F709ECA0>. Consider rewriting this model with the Functional API.\n",
      "WARNING:tensorflow:Layers in a Sequential model should only have a single input tensor. Received: inputs=<PIL.Image.Image image mode=RGB size=27x27 at 0x163F709EEE0>. Consider rewriting this model with the Functional API.\n",
      "WARNING:tensorflow:Layers in a Sequential model should only have a single input tensor. Received: inputs=<PIL.Image.Image image mode=RGB size=27x27 at 0x163F709EDF0>. Consider rewriting this model with the Functional API.\n",
      "WARNING:tensorflow:Layers in a Sequential model should only have a single input tensor. Received: inputs=<PIL.Image.Image image mode=RGB size=27x27 at 0x163F709EA60>. Consider rewriting this model with the Functional API.\n",
      "WARNING:tensorflow:Layers in a Sequential model should only have a single input tensor. Received: inputs=<PIL.Image.Image image mode=RGB size=27x27 at 0x163F709E880>. Consider rewriting this model with the Functional API.\n",
      "WARNING:tensorflow:Layers in a Sequential model should only have a single input tensor. Received: inputs=<PIL.Image.Image image mode=RGB size=27x27 at 0x163F709ED30>. Consider rewriting this model with the Functional API.\n",
      "WARNING:tensorflow:Layers in a Sequential model should only have a single input tensor. Received: inputs=<PIL.Image.Image image mode=RGB size=27x27 at 0x163F709ECA0>. Consider rewriting this model with the Functional API.\n",
      "WARNING:tensorflow:Layers in a Sequential model should only have a single input tensor. Received: inputs=<PIL.Image.Image image mode=RGB size=27x27 at 0x163F709EEE0>. Consider rewriting this model with the Functional API.\n",
      "WARNING:tensorflow:Layers in a Sequential model should only have a single input tensor. Received: inputs=<PIL.Image.Image image mode=RGB size=27x27 at 0x163F709EDF0>. Consider rewriting this model with the Functional API.\n",
      "WARNING:tensorflow:Layers in a Sequential model should only have a single input tensor. Received: inputs=<PIL.Image.Image image mode=RGB size=27x27 at 0x163F709EA60>. Consider rewriting this model with the Functional API.\n",
      "WARNING:tensorflow:Layers in a Sequential model should only have a single input tensor. Received: inputs=<PIL.Image.Image image mode=RGB size=27x27 at 0x163F709E880>. Consider rewriting this model with the Functional API.\n",
      "WARNING:tensorflow:Layers in a Sequential model should only have a single input tensor. Received: inputs=<PIL.Image.Image image mode=RGB size=27x27 at 0x163F709ED30>. Consider rewriting this model with the Functional API.\n",
      "WARNING:tensorflow:Layers in a Sequential model should only have a single input tensor. Received: inputs=<PIL.Image.Image image mode=RGB size=27x27 at 0x163F709ECA0>. Consider rewriting this model with the Functional API.\n",
      "WARNING:tensorflow:Layers in a Sequential model should only have a single input tensor. Received: inputs=<PIL.Image.Image image mode=RGB size=27x27 at 0x163F709EEE0>. Consider rewriting this model with the Functional API.\n",
      "WARNING:tensorflow:Layers in a Sequential model should only have a single input tensor. Received: inputs=<PIL.Image.Image image mode=RGB size=27x27 at 0x163F709EDF0>. Consider rewriting this model with the Functional API.\n",
      "WARNING:tensorflow:Layers in a Sequential model should only have a single input tensor. Received: inputs=<PIL.Image.Image image mode=RGB size=27x27 at 0x163F709EA60>. Consider rewriting this model with the Functional API.\n",
      "WARNING:tensorflow:Layers in a Sequential model should only have a single input tensor. Received: inputs=<PIL.Image.Image image mode=RGB size=27x27 at 0x163F709E880>. Consider rewriting this model with the Functional API.\n",
      "WARNING:tensorflow:Layers in a Sequential model should only have a single input tensor. Received: inputs=<PIL.Image.Image image mode=RGB size=27x27 at 0x163F709ED30>. Consider rewriting this model with the Functional API.\n",
      "WARNING:tensorflow:Layers in a Sequential model should only have a single input tensor. Received: inputs=<PIL.Image.Image image mode=RGB size=27x27 at 0x163F709ECA0>. Consider rewriting this model with the Functional API.\n"
     ]
    },
    {
     "name": "stderr",
     "output_type": "stream",
     "text": [
      "\r",
      "Adding images:  86%|█████████████████████████████████████████████████████▌        | 8010/9268 [00:20<00:06, 190.85it/s]"
     ]
    },
    {
     "name": "stdout",
     "output_type": "stream",
     "text": [
      "WARNING:tensorflow:Layers in a Sequential model should only have a single input tensor. Received: inputs=<PIL.Image.Image image mode=RGB size=27x27 at 0x163F709EDF0>. Consider rewriting this model with the Functional API.\n",
      "WARNING:tensorflow:Layers in a Sequential model should only have a single input tensor. Received: inputs=<PIL.Image.Image image mode=RGB size=27x27 at 0x163F709EEB0>. Consider rewriting this model with the Functional API.\n",
      "WARNING:tensorflow:Layers in a Sequential model should only have a single input tensor. Received: inputs=<PIL.Image.Image image mode=RGB size=27x27 at 0x163F709E400>. Consider rewriting this model with the Functional API.\n",
      "WARNING:tensorflow:Layers in a Sequential model should only have a single input tensor. Received: inputs=<PIL.Image.Image image mode=RGB size=27x27 at 0x163F709E880>. Consider rewriting this model with the Functional API.\n",
      "WARNING:tensorflow:Layers in a Sequential model should only have a single input tensor. Received: inputs=<PIL.Image.Image image mode=RGB size=27x27 at 0x163F709ED90>. Consider rewriting this model with the Functional API.\n",
      "WARNING:tensorflow:Layers in a Sequential model should only have a single input tensor. Received: inputs=<PIL.Image.Image image mode=RGB size=27x27 at 0x163F709EA60>. Consider rewriting this model with the Functional API.\n",
      "WARNING:tensorflow:Layers in a Sequential model should only have a single input tensor. Received: inputs=<PIL.Image.Image image mode=RGB size=27x27 at 0x163F709EDF0>. Consider rewriting this model with the Functional API.\n",
      "WARNING:tensorflow:Layers in a Sequential model should only have a single input tensor. Received: inputs=<PIL.Image.Image image mode=RGB size=27x27 at 0x163F709EEB0>. Consider rewriting this model with the Functional API.\n",
      "WARNING:tensorflow:Layers in a Sequential model should only have a single input tensor. Received: inputs=<PIL.Image.Image image mode=RGB size=27x27 at 0x163F709E400>. Consider rewriting this model with the Functional API.\n",
      "WARNING:tensorflow:Layers in a Sequential model should only have a single input tensor. Received: inputs=<PIL.Image.Image image mode=RGB size=27x27 at 0x163F709E880>. Consider rewriting this model with the Functional API.\n",
      "WARNING:tensorflow:Layers in a Sequential model should only have a single input tensor. Received: inputs=<PIL.Image.Image image mode=RGB size=27x27 at 0x163F709ED90>. Consider rewriting this model with the Functional API.\n",
      "WARNING:tensorflow:Layers in a Sequential model should only have a single input tensor. Received: inputs=<PIL.Image.Image image mode=RGB size=27x27 at 0x163F709EA60>. Consider rewriting this model with the Functional API.\n",
      "WARNING:tensorflow:Layers in a Sequential model should only have a single input tensor. Received: inputs=<PIL.Image.Image image mode=RGB size=27x27 at 0x163F709EDF0>. Consider rewriting this model with the Functional API.\n",
      "WARNING:tensorflow:Layers in a Sequential model should only have a single input tensor. Received: inputs=<PIL.Image.Image image mode=RGB size=27x27 at 0x163F709EEB0>. Consider rewriting this model with the Functional API.\n",
      "WARNING:tensorflow:Layers in a Sequential model should only have a single input tensor. Received: inputs=<PIL.Image.Image image mode=RGB size=27x27 at 0x163F709E400>. Consider rewriting this model with the Functional API.\n",
      "WARNING:tensorflow:Layers in a Sequential model should only have a single input tensor. Received: inputs=<PIL.Image.Image image mode=RGB size=27x27 at 0x163F709E880>. Consider rewriting this model with the Functional API.\n",
      "WARNING:tensorflow:Layers in a Sequential model should only have a single input tensor. Received: inputs=<PIL.Image.Image image mode=RGB size=27x27 at 0x163F709ED90>. Consider rewriting this model with the Functional API.\n",
      "WARNING:tensorflow:Layers in a Sequential model should only have a single input tensor. Received: inputs=<PIL.Image.Image image mode=RGB size=27x27 at 0x163F709EA60>. Consider rewriting this model with the Functional API.\n",
      "WARNING:tensorflow:Layers in a Sequential model should only have a single input tensor. Received: inputs=<PIL.Image.Image image mode=RGB size=27x27 at 0x163F709EDF0>. Consider rewriting this model with the Functional API.\n",
      "WARNING:tensorflow:Layers in a Sequential model should only have a single input tensor. Received: inputs=<PIL.Image.Image image mode=RGB size=27x27 at 0x163F709EEB0>. Consider rewriting this model with the Functional API.\n",
      "WARNING:tensorflow:Layers in a Sequential model should only have a single input tensor. Received: inputs=<PIL.Image.Image image mode=RGB size=27x27 at 0x163F709E400>. Consider rewriting this model with the Functional API.\n",
      "WARNING:tensorflow:Layers in a Sequential model should only have a single input tensor. Received: inputs=<PIL.Image.Image image mode=RGB size=27x27 at 0x163F709E880>. Consider rewriting this model with the Functional API.\n"
     ]
    },
    {
     "name": "stderr",
     "output_type": "stream",
     "text": [
      "\r",
      "Adding images:  87%|█████████████████████████████████████████████████████▋        | 8032/9268 [00:20<00:06, 179.92it/s]"
     ]
    },
    {
     "name": "stdout",
     "output_type": "stream",
     "text": [
      "WARNING:tensorflow:Layers in a Sequential model should only have a single input tensor. Received: inputs=<PIL.Image.Image image mode=RGB size=27x27 at 0x163F709EA60>. Consider rewriting this model with the Functional API.\n",
      "WARNING:tensorflow:Layers in a Sequential model should only have a single input tensor. Received: inputs=<PIL.Image.Image image mode=RGB size=27x27 at 0x163F709ECA0>. Consider rewriting this model with the Functional API.\n",
      "WARNING:tensorflow:Layers in a Sequential model should only have a single input tensor. Received: inputs=<PIL.Image.Image image mode=RGB size=27x27 at 0x163F709EEE0>. Consider rewriting this model with the Functional API.\n",
      "WARNING:tensorflow:Layers in a Sequential model should only have a single input tensor. Received: inputs=<PIL.Image.Image image mode=RGB size=27x27 at 0x163F709EEB0>. Consider rewriting this model with the Functional API.\n",
      "WARNING:tensorflow:Layers in a Sequential model should only have a single input tensor. Received: inputs=<PIL.Image.Image image mode=RGB size=27x27 at 0x163F709EA30>. Consider rewriting this model with the Functional API.\n",
      "WARNING:tensorflow:Layers in a Sequential model should only have a single input tensor. Received: inputs=<PIL.Image.Image image mode=RGB size=27x27 at 0x163F709EDF0>. Consider rewriting this model with the Functional API.\n",
      "WARNING:tensorflow:Layers in a Sequential model should only have a single input tensor. Received: inputs=<PIL.Image.Image image mode=RGB size=27x27 at 0x163F709EA60>. Consider rewriting this model with the Functional API.\n",
      "WARNING:tensorflow:Layers in a Sequential model should only have a single input tensor. Received: inputs=<PIL.Image.Image image mode=RGB size=27x27 at 0x163F709ECA0>. Consider rewriting this model with the Functional API.\n",
      "WARNING:tensorflow:Layers in a Sequential model should only have a single input tensor. Received: inputs=<PIL.Image.Image image mode=RGB size=27x27 at 0x163F709EEE0>. Consider rewriting this model with the Functional API.\n",
      "WARNING:tensorflow:Layers in a Sequential model should only have a single input tensor. Received: inputs=<PIL.Image.Image image mode=RGB size=27x27 at 0x163F709EEB0>. Consider rewriting this model with the Functional API.\n",
      "WARNING:tensorflow:Layers in a Sequential model should only have a single input tensor. Received: inputs=<PIL.Image.Image image mode=RGB size=27x27 at 0x163F709EA30>. Consider rewriting this model with the Functional API.\n",
      "WARNING:tensorflow:Layers in a Sequential model should only have a single input tensor. Received: inputs=<PIL.Image.Image image mode=RGB size=27x27 at 0x163F709EDF0>. Consider rewriting this model with the Functional API.\n",
      "WARNING:tensorflow:Layers in a Sequential model should only have a single input tensor. Received: inputs=<PIL.Image.Image image mode=RGB size=27x27 at 0x163F709EA60>. Consider rewriting this model with the Functional API.\n",
      "WARNING:tensorflow:Layers in a Sequential model should only have a single input tensor. Received: inputs=<PIL.Image.Image image mode=RGB size=27x27 at 0x163F709ECA0>. Consider rewriting this model with the Functional API.\n",
      "WARNING:tensorflow:Layers in a Sequential model should only have a single input tensor. Received: inputs=<PIL.Image.Image image mode=RGB size=27x27 at 0x163F709EEE0>. Consider rewriting this model with the Functional API.\n",
      "WARNING:tensorflow:Layers in a Sequential model should only have a single input tensor. Received: inputs=<PIL.Image.Image image mode=RGB size=27x27 at 0x163F709EEB0>. Consider rewriting this model with the Functional API.\n",
      "WARNING:tensorflow:Layers in a Sequential model should only have a single input tensor. Received: inputs=<PIL.Image.Image image mode=RGB size=27x27 at 0x163F709EA30>. Consider rewriting this model with the Functional API.\n",
      "WARNING:tensorflow:Layers in a Sequential model should only have a single input tensor. Received: inputs=<PIL.Image.Image image mode=RGB size=27x27 at 0x163F709EDF0>. Consider rewriting this model with the Functional API.\n",
      "WARNING:tensorflow:Layers in a Sequential model should only have a single input tensor. Received: inputs=<PIL.Image.Image image mode=RGB size=27x27 at 0x163F709EA60>. Consider rewriting this model with the Functional API.\n",
      "WARNING:tensorflow:Layers in a Sequential model should only have a single input tensor. Received: inputs=<PIL.Image.Image image mode=RGB size=27x27 at 0x163F709ECA0>. Consider rewriting this model with the Functional API.\n"
     ]
    },
    {
     "name": "stderr",
     "output_type": "stream",
     "text": [
      "\r",
      "Adding images:  87%|█████████████████████████████████████████████████████▊        | 8052/9268 [00:20<00:07, 172.49it/s]"
     ]
    },
    {
     "name": "stdout",
     "output_type": "stream",
     "text": [
      "WARNING:tensorflow:Layers in a Sequential model should only have a single input tensor. Received: inputs=<PIL.Image.Image image mode=RGB size=27x27 at 0x163F709EEB0>. Consider rewriting this model with the Functional API.\n",
      "WARNING:tensorflow:Layers in a Sequential model should only have a single input tensor. Received: inputs=<PIL.Image.Image image mode=RGB size=27x27 at 0x163F709E880>. Consider rewriting this model with the Functional API.\n",
      "WARNING:tensorflow:Layers in a Sequential model should only have a single input tensor. Received: inputs=<PIL.Image.Image image mode=RGB size=27x27 at 0x163F709ED90>. Consider rewriting this model with the Functional API.\n",
      "WARNING:tensorflow:Layers in a Sequential model should only have a single input tensor. Received: inputs=<PIL.Image.Image image mode=RGB size=27x27 at 0x163F709EDF0>. Consider rewriting this model with the Functional API.\n",
      "WARNING:tensorflow:Layers in a Sequential model should only have a single input tensor. Received: inputs=<PIL.Image.Image image mode=RGB size=27x27 at 0x163F709ED30>. Consider rewriting this model with the Functional API.\n",
      "WARNING:tensorflow:Layers in a Sequential model should only have a single input tensor. Received: inputs=<PIL.Image.Image image mode=RGB size=27x27 at 0x163F709EA30>. Consider rewriting this model with the Functional API.\n",
      "WARNING:tensorflow:Layers in a Sequential model should only have a single input tensor. Received: inputs=<PIL.Image.Image image mode=RGB size=27x27 at 0x163F709EEB0>. Consider rewriting this model with the Functional API.\n",
      "WARNING:tensorflow:Layers in a Sequential model should only have a single input tensor. Received: inputs=<PIL.Image.Image image mode=RGB size=27x27 at 0x163F709E880>. Consider rewriting this model with the Functional API.\n",
      "WARNING:tensorflow:Layers in a Sequential model should only have a single input tensor. Received: inputs=<PIL.Image.Image image mode=RGB size=27x27 at 0x163F709ED90>. Consider rewriting this model with the Functional API.\n",
      "WARNING:tensorflow:Layers in a Sequential model should only have a single input tensor. Received: inputs=<PIL.Image.Image image mode=RGB size=27x27 at 0x163F709EDF0>. Consider rewriting this model with the Functional API.\n",
      "WARNING:tensorflow:Layers in a Sequential model should only have a single input tensor. Received: inputs=<PIL.Image.Image image mode=RGB size=27x27 at 0x163F709ED30>. Consider rewriting this model with the Functional API.\n",
      "WARNING:tensorflow:Layers in a Sequential model should only have a single input tensor. Received: inputs=<PIL.Image.Image image mode=RGB size=27x27 at 0x163F709EA30>. Consider rewriting this model with the Functional API.\n",
      "WARNING:tensorflow:Layers in a Sequential model should only have a single input tensor. Received: inputs=<PIL.Image.Image image mode=RGB size=27x27 at 0x163F709EEB0>. Consider rewriting this model with the Functional API.\n",
      "WARNING:tensorflow:Layers in a Sequential model should only have a single input tensor. Received: inputs=<PIL.Image.Image image mode=RGB size=27x27 at 0x163F709E880>. Consider rewriting this model with the Functional API.\n",
      "WARNING:tensorflow:Layers in a Sequential model should only have a single input tensor. Received: inputs=<PIL.Image.Image image mode=RGB size=27x27 at 0x163F709ED90>. Consider rewriting this model with the Functional API.\n",
      "WARNING:tensorflow:Layers in a Sequential model should only have a single input tensor. Received: inputs=<PIL.Image.Image image mode=RGB size=27x27 at 0x163F709EDF0>. Consider rewriting this model with the Functional API.\n",
      "WARNING:tensorflow:Layers in a Sequential model should only have a single input tensor. Received: inputs=<PIL.Image.Image image mode=RGB size=27x27 at 0x163F709ED30>. Consider rewriting this model with the Functional API.\n",
      "WARNING:tensorflow:Layers in a Sequential model should only have a single input tensor. Received: inputs=<PIL.Image.Image image mode=RGB size=27x27 at 0x163F709EA30>. Consider rewriting this model with the Functional API.\n",
      "WARNING:tensorflow:Layers in a Sequential model should only have a single input tensor. Received: inputs=<PIL.Image.Image image mode=RGB size=27x27 at 0x163F709EEB0>. Consider rewriting this model with the Functional API.\n"
     ]
    },
    {
     "name": "stderr",
     "output_type": "stream",
     "text": [
      "\r",
      "Adding images:  87%|█████████████████████████████████████████████████████▉        | 8071/9268 [00:20<00:07, 167.83it/s]"
     ]
    },
    {
     "name": "stdout",
     "output_type": "stream",
     "text": [
      "WARNING:tensorflow:Layers in a Sequential model should only have a single input tensor. Received: inputs=<PIL.Image.Image image mode=RGB size=27x27 at 0x163F709ED90>. Consider rewriting this model with the Functional API.\n",
      "WARNING:tensorflow:Layers in a Sequential model should only have a single input tensor. Received: inputs=<PIL.Image.Image image mode=RGB size=27x27 at 0x163F709ECA0>. Consider rewriting this model with the Functional API.\n",
      "WARNING:tensorflow:Layers in a Sequential model should only have a single input tensor. Received: inputs=<PIL.Image.Image image mode=RGB size=27x27 at 0x163F709EEE0>. Consider rewriting this model with the Functional API.\n",
      "WARNING:tensorflow:Layers in a Sequential model should only have a single input tensor. Received: inputs=<PIL.Image.Image image mode=RGB size=27x27 at 0x163F709ED30>. Consider rewriting this model with the Functional API.\n",
      "WARNING:tensorflow:Layers in a Sequential model should only have a single input tensor. Received: inputs=<PIL.Image.Image image mode=RGB size=27x27 at 0x163F709E400>. Consider rewriting this model with the Functional API.\n",
      "WARNING:tensorflow:Layers in a Sequential model should only have a single input tensor. Received: inputs=<PIL.Image.Image image mode=RGB size=27x27 at 0x163F709EDF0>. Consider rewriting this model with the Functional API.\n",
      "WARNING:tensorflow:Layers in a Sequential model should only have a single input tensor. Received: inputs=<PIL.Image.Image image mode=RGB size=27x27 at 0x163F709ED90>. Consider rewriting this model with the Functional API.\n",
      "WARNING:tensorflow:Layers in a Sequential model should only have a single input tensor. Received: inputs=<PIL.Image.Image image mode=RGB size=27x27 at 0x163F709ECA0>. Consider rewriting this model with the Functional API.\n",
      "WARNING:tensorflow:Layers in a Sequential model should only have a single input tensor. Received: inputs=<PIL.Image.Image image mode=RGB size=27x27 at 0x163F709EEE0>. Consider rewriting this model with the Functional API.\n",
      "WARNING:tensorflow:Layers in a Sequential model should only have a single input tensor. Received: inputs=<PIL.Image.Image image mode=RGB size=27x27 at 0x163F709ED30>. Consider rewriting this model with the Functional API.\n",
      "WARNING:tensorflow:Layers in a Sequential model should only have a single input tensor. Received: inputs=<PIL.Image.Image image mode=RGB size=27x27 at 0x163F709E400>. Consider rewriting this model with the Functional API.\n",
      "WARNING:tensorflow:Layers in a Sequential model should only have a single input tensor. Received: inputs=<PIL.Image.Image image mode=RGB size=27x27 at 0x163F709EDF0>. Consider rewriting this model with the Functional API.\n",
      "WARNING:tensorflow:Layers in a Sequential model should only have a single input tensor. Received: inputs=<PIL.Image.Image image mode=RGB size=27x27 at 0x163F709ED90>. Consider rewriting this model with the Functional API.\n",
      "WARNING:tensorflow:Layers in a Sequential model should only have a single input tensor. Received: inputs=<PIL.Image.Image image mode=RGB size=27x27 at 0x163F709ECA0>. Consider rewriting this model with the Functional API.\n",
      "WARNING:tensorflow:Layers in a Sequential model should only have a single input tensor. Received: inputs=<PIL.Image.Image image mode=RGB size=27x27 at 0x163F709EEE0>. Consider rewriting this model with the Functional API.\n",
      "WARNING:tensorflow:Layers in a Sequential model should only have a single input tensor. Received: inputs=<PIL.Image.Image image mode=RGB size=27x27 at 0x163F709ED30>. Consider rewriting this model with the Functional API.\n",
      "WARNING:tensorflow:Layers in a Sequential model should only have a single input tensor. Received: inputs=<PIL.Image.Image image mode=RGB size=27x27 at 0x163F709E400>. Consider rewriting this model with the Functional API.\n",
      "WARNING:tensorflow:Layers in a Sequential model should only have a single input tensor. Received: inputs=<PIL.Image.Image image mode=RGB size=27x27 at 0x163F709EDF0>. Consider rewriting this model with the Functional API.\n"
     ]
    },
    {
     "name": "stderr",
     "output_type": "stream",
     "text": [
      "\r",
      "Adding images:  87%|██████████████████████████████████████████████████████        | 8089/9268 [00:21<00:07, 160.98it/s]"
     ]
    },
    {
     "name": "stdout",
     "output_type": "stream",
     "text": [
      "WARNING:tensorflow:Layers in a Sequential model should only have a single input tensor. Received: inputs=<PIL.Image.Image image mode=RGB size=27x27 at 0x163F709ECA0>. Consider rewriting this model with the Functional API.\n",
      "WARNING:tensorflow:Layers in a Sequential model should only have a single input tensor. Received: inputs=<PIL.Image.Image image mode=RGB size=27x27 at 0x163F709EEB0>. Consider rewriting this model with the Functional API.\n",
      "WARNING:tensorflow:Layers in a Sequential model should only have a single input tensor. Received: inputs=<PIL.Image.Image image mode=RGB size=27x27 at 0x163F709E880>. Consider rewriting this model with the Functional API.\n",
      "WARNING:tensorflow:Layers in a Sequential model should only have a single input tensor. Received: inputs=<PIL.Image.Image image mode=RGB size=27x27 at 0x163F709ED30>. Consider rewriting this model with the Functional API.\n",
      "WARNING:tensorflow:Layers in a Sequential model should only have a single input tensor. Received: inputs=<PIL.Image.Image image mode=RGB size=27x27 at 0x163F709EA60>. Consider rewriting this model with the Functional API.\n",
      "WARNING:tensorflow:Layers in a Sequential model should only have a single input tensor. Received: inputs=<PIL.Image.Image image mode=RGB size=27x27 at 0x163F709EEE0>. Consider rewriting this model with the Functional API.\n",
      "WARNING:tensorflow:Layers in a Sequential model should only have a single input tensor. Received: inputs=<PIL.Image.Image image mode=RGB size=27x27 at 0x163F709ECA0>. Consider rewriting this model with the Functional API.\n",
      "WARNING:tensorflow:Layers in a Sequential model should only have a single input tensor. Received: inputs=<PIL.Image.Image image mode=RGB size=27x27 at 0x163F709EEB0>. Consider rewriting this model with the Functional API.\n",
      "WARNING:tensorflow:Layers in a Sequential model should only have a single input tensor. Received: inputs=<PIL.Image.Image image mode=RGB size=27x27 at 0x163F709E880>. Consider rewriting this model with the Functional API.\n",
      "WARNING:tensorflow:Layers in a Sequential model should only have a single input tensor. Received: inputs=<PIL.Image.Image image mode=RGB size=27x27 at 0x163F709ED30>. Consider rewriting this model with the Functional API.\n",
      "WARNING:tensorflow:Layers in a Sequential model should only have a single input tensor. Received: inputs=<PIL.Image.Image image mode=RGB size=27x27 at 0x163F709EA60>. Consider rewriting this model with the Functional API.\n",
      "WARNING:tensorflow:Layers in a Sequential model should only have a single input tensor. Received: inputs=<PIL.Image.Image image mode=RGB size=27x27 at 0x163F709EEE0>. Consider rewriting this model with the Functional API.\n",
      "WARNING:tensorflow:Layers in a Sequential model should only have a single input tensor. Received: inputs=<PIL.Image.Image image mode=RGB size=27x27 at 0x163F709ECA0>. Consider rewriting this model with the Functional API.\n",
      "WARNING:tensorflow:Layers in a Sequential model should only have a single input tensor. Received: inputs=<PIL.Image.Image image mode=RGB size=27x27 at 0x163F709EEB0>. Consider rewriting this model with the Functional API.\n",
      "WARNING:tensorflow:Layers in a Sequential model should only have a single input tensor. Received: inputs=<PIL.Image.Image image mode=RGB size=27x27 at 0x163F709E880>. Consider rewriting this model with the Functional API.\n",
      "WARNING:tensorflow:Layers in a Sequential model should only have a single input tensor. Received: inputs=<PIL.Image.Image image mode=RGB size=27x27 at 0x163F709ED30>. Consider rewriting this model with the Functional API.\n",
      "WARNING:tensorflow:Layers in a Sequential model should only have a single input tensor. Received: inputs=<PIL.Image.Image image mode=RGB size=27x27 at 0x163F709EA60>. Consider rewriting this model with the Functional API.\n"
     ]
    },
    {
     "name": "stderr",
     "output_type": "stream",
     "text": [
      "\r",
      "Adding images:  87%|██████████████████████████████████████████████████████▏       | 8106/9268 [00:21<00:07, 156.42it/s]"
     ]
    },
    {
     "name": "stdout",
     "output_type": "stream",
     "text": [
      "WARNING:tensorflow:Layers in a Sequential model should only have a single input tensor. Received: inputs=<PIL.Image.Image image mode=RGB size=27x27 at 0x163F709ECA0>. Consider rewriting this model with the Functional API.\n",
      "WARNING:tensorflow:Layers in a Sequential model should only have a single input tensor. Received: inputs=<PIL.Image.Image image mode=RGB size=27x27 at 0x163F709EDF0>. Consider rewriting this model with the Functional API.\n",
      "WARNING:tensorflow:Layers in a Sequential model should only have a single input tensor. Received: inputs=<PIL.Image.Image image mode=RGB size=27x27 at 0x163F709ED90>. Consider rewriting this model with the Functional API.\n",
      "WARNING:tensorflow:Layers in a Sequential model should only have a single input tensor. Received: inputs=<PIL.Image.Image image mode=RGB size=27x27 at 0x163F709E880>. Consider rewriting this model with the Functional API.\n",
      "WARNING:tensorflow:Layers in a Sequential model should only have a single input tensor. Received: inputs=<PIL.Image.Image image mode=RGB size=27x27 at 0x163F709EA30>. Consider rewriting this model with the Functional API.\n",
      "WARNING:tensorflow:Layers in a Sequential model should only have a single input tensor. Received: inputs=<PIL.Image.Image image mode=RGB size=27x27 at 0x163F709EEB0>. Consider rewriting this model with the Functional API.\n",
      "WARNING:tensorflow:Layers in a Sequential model should only have a single input tensor. Received: inputs=<PIL.Image.Image image mode=RGB size=27x27 at 0x163F709ECA0>. Consider rewriting this model with the Functional API.\n",
      "WARNING:tensorflow:Layers in a Sequential model should only have a single input tensor. Received: inputs=<PIL.Image.Image image mode=RGB size=27x27 at 0x163F709EDF0>. Consider rewriting this model with the Functional API.\n",
      "WARNING:tensorflow:Layers in a Sequential model should only have a single input tensor. Received: inputs=<PIL.Image.Image image mode=RGB size=27x27 at 0x163F709ED90>. Consider rewriting this model with the Functional API.\n",
      "WARNING:tensorflow:Layers in a Sequential model should only have a single input tensor. Received: inputs=<PIL.Image.Image image mode=RGB size=27x27 at 0x163F709E880>. Consider rewriting this model with the Functional API.\n",
      "WARNING:tensorflow:Layers in a Sequential model should only have a single input tensor. Received: inputs=<PIL.Image.Image image mode=RGB size=27x27 at 0x163F709EA30>. Consider rewriting this model with the Functional API.\n",
      "WARNING:tensorflow:Layers in a Sequential model should only have a single input tensor. Received: inputs=<PIL.Image.Image image mode=RGB size=27x27 at 0x163F709EEB0>. Consider rewriting this model with the Functional API.\n",
      "WARNING:tensorflow:Layers in a Sequential model should only have a single input tensor. Received: inputs=<PIL.Image.Image image mode=RGB size=27x27 at 0x163F709ECA0>. Consider rewriting this model with the Functional API.\n",
      "WARNING:tensorflow:Layers in a Sequential model should only have a single input tensor. Received: inputs=<PIL.Image.Image image mode=RGB size=27x27 at 0x163F709EDF0>. Consider rewriting this model with the Functional API.\n",
      "WARNING:tensorflow:Layers in a Sequential model should only have a single input tensor. Received: inputs=<PIL.Image.Image image mode=RGB size=27x27 at 0x163F709ED90>. Consider rewriting this model with the Functional API.\n",
      "WARNING:tensorflow:Layers in a Sequential model should only have a single input tensor. Received: inputs=<PIL.Image.Image image mode=RGB size=27x27 at 0x163F709E880>. Consider rewriting this model with the Functional API.\n"
     ]
    },
    {
     "name": "stderr",
     "output_type": "stream",
     "text": [
      "\r",
      "Adding images:  88%|██████████████████████████████████████████████████████▎       | 8122/9268 [00:21<00:07, 153.50it/s]"
     ]
    },
    {
     "name": "stdout",
     "output_type": "stream",
     "text": [
      "WARNING:tensorflow:Layers in a Sequential model should only have a single input tensor. Received: inputs=<PIL.Image.Image image mode=RGB size=27x27 at 0x163F709EEB0>. Consider rewriting this model with the Functional API.\n",
      "WARNING:tensorflow:Layers in a Sequential model should only have a single input tensor. Received: inputs=<PIL.Image.Image image mode=RGB size=27x27 at 0x163F709EA60>. Consider rewriting this model with the Functional API.\n",
      "WARNING:tensorflow:Layers in a Sequential model should only have a single input tensor. Received: inputs=<PIL.Image.Image image mode=RGB size=27x27 at 0x163F709EEE0>. Consider rewriting this model with the Functional API.\n",
      "WARNING:tensorflow:Layers in a Sequential model should only have a single input tensor. Received: inputs=<PIL.Image.Image image mode=RGB size=27x27 at 0x163F709EDF0>. Consider rewriting this model with the Functional API.\n",
      "WARNING:tensorflow:Layers in a Sequential model should only have a single input tensor. Received: inputs=<PIL.Image.Image image mode=RGB size=27x27 at 0x163F709E400>. Consider rewriting this model with the Functional API.\n",
      "WARNING:tensorflow:Layers in a Sequential model should only have a single input tensor. Received: inputs=<PIL.Image.Image image mode=RGB size=27x27 at 0x163F709ECA0>. Consider rewriting this model with the Functional API.\n",
      "WARNING:tensorflow:Layers in a Sequential model should only have a single input tensor. Received: inputs=<PIL.Image.Image image mode=RGB size=27x27 at 0x163F709EEB0>. Consider rewriting this model with the Functional API.\n",
      "WARNING:tensorflow:Layers in a Sequential model should only have a single input tensor. Received: inputs=<PIL.Image.Image image mode=RGB size=27x27 at 0x163F709EA60>. Consider rewriting this model with the Functional API.\n",
      "WARNING:tensorflow:Layers in a Sequential model should only have a single input tensor. Received: inputs=<PIL.Image.Image image mode=RGB size=27x27 at 0x163F709EEE0>. Consider rewriting this model with the Functional API.\n",
      "WARNING:tensorflow:Layers in a Sequential model should only have a single input tensor. Received: inputs=<PIL.Image.Image image mode=RGB size=27x27 at 0x163F709EDF0>. Consider rewriting this model with the Functional API.\n",
      "WARNING:tensorflow:Layers in a Sequential model should only have a single input tensor. Received: inputs=<PIL.Image.Image image mode=RGB size=27x27 at 0x163F709E400>. Consider rewriting this model with the Functional API.\n",
      "WARNING:tensorflow:Layers in a Sequential model should only have a single input tensor. Received: inputs=<PIL.Image.Image image mode=RGB size=27x27 at 0x163F709ECA0>. Consider rewriting this model with the Functional API.\n",
      "WARNING:tensorflow:Layers in a Sequential model should only have a single input tensor. Received: inputs=<PIL.Image.Image image mode=RGB size=27x27 at 0x163F709EEB0>. Consider rewriting this model with the Functional API.\n",
      "WARNING:tensorflow:Layers in a Sequential model should only have a single input tensor. Received: inputs=<PIL.Image.Image image mode=RGB size=27x27 at 0x163F709EA60>. Consider rewriting this model with the Functional API.\n",
      "WARNING:tensorflow:Layers in a Sequential model should only have a single input tensor. Received: inputs=<PIL.Image.Image image mode=RGB size=27x27 at 0x163F709EEE0>. Consider rewriting this model with the Functional API.\n",
      "WARNING:tensorflow:Layers in a Sequential model should only have a single input tensor. Received: inputs=<PIL.Image.Image image mode=RGB size=27x27 at 0x163F709EDF0>. Consider rewriting this model with the Functional API.\n"
     ]
    },
    {
     "name": "stderr",
     "output_type": "stream",
     "text": [
      "\r",
      "Adding images:  88%|██████████████████████████████████████████████████████▍       | 8138/9268 [00:21<00:07, 153.17it/s]"
     ]
    },
    {
     "name": "stdout",
     "output_type": "stream",
     "text": [
      "WARNING:tensorflow:Layers in a Sequential model should only have a single input tensor. Received: inputs=<PIL.Image.Image image mode=RGB size=27x27 at 0x163F709ECA0>. Consider rewriting this model with the Functional API.\n",
      "WARNING:tensorflow:Layers in a Sequential model should only have a single input tensor. Received: inputs=<PIL.Image.Image image mode=RGB size=27x27 at 0x163F709E880>. Consider rewriting this model with the Functional API.\n",
      "WARNING:tensorflow:Layers in a Sequential model should only have a single input tensor. Received: inputs=<PIL.Image.Image image mode=RGB size=27x27 at 0x163F709EA30>. Consider rewriting this model with the Functional API.\n",
      "WARNING:tensorflow:Layers in a Sequential model should only have a single input tensor. Received: inputs=<PIL.Image.Image image mode=RGB size=27x27 at 0x163F709EA60>. Consider rewriting this model with the Functional API.\n",
      "WARNING:tensorflow:Layers in a Sequential model should only have a single input tensor. Received: inputs=<PIL.Image.Image image mode=RGB size=27x27 at 0x163F709ED30>. Consider rewriting this model with the Functional API.\n",
      "WARNING:tensorflow:Layers in a Sequential model should only have a single input tensor. Received: inputs=<PIL.Image.Image image mode=RGB size=27x27 at 0x163F709EEB0>. Consider rewriting this model with the Functional API.\n",
      "WARNING:tensorflow:Layers in a Sequential model should only have a single input tensor. Received: inputs=<PIL.Image.Image image mode=RGB size=27x27 at 0x163F709ECA0>. Consider rewriting this model with the Functional API.\n",
      "WARNING:tensorflow:Layers in a Sequential model should only have a single input tensor. Received: inputs=<PIL.Image.Image image mode=RGB size=27x27 at 0x163F709E880>. Consider rewriting this model with the Functional API.\n",
      "WARNING:tensorflow:Layers in a Sequential model should only have a single input tensor. Received: inputs=<PIL.Image.Image image mode=RGB size=27x27 at 0x163F709EA30>. Consider rewriting this model with the Functional API.\n",
      "WARNING:tensorflow:Layers in a Sequential model should only have a single input tensor. Received: inputs=<PIL.Image.Image image mode=RGB size=27x27 at 0x163F709EA60>. Consider rewriting this model with the Functional API.\n",
      "WARNING:tensorflow:Layers in a Sequential model should only have a single input tensor. Received: inputs=<PIL.Image.Image image mode=RGB size=27x27 at 0x163F709ED30>. Consider rewriting this model with the Functional API.\n",
      "WARNING:tensorflow:Layers in a Sequential model should only have a single input tensor. Received: inputs=<PIL.Image.Image image mode=RGB size=27x27 at 0x163F709EEB0>. Consider rewriting this model with the Functional API.\n",
      "WARNING:tensorflow:Layers in a Sequential model should only have a single input tensor. Received: inputs=<PIL.Image.Image image mode=RGB size=27x27 at 0x163F709ECA0>. Consider rewriting this model with the Functional API.\n",
      "WARNING:tensorflow:Layers in a Sequential model should only have a single input tensor. Received: inputs=<PIL.Image.Image image mode=RGB size=27x27 at 0x163F709E880>. Consider rewriting this model with the Functional API.\n",
      "WARNING:tensorflow:Layers in a Sequential model should only have a single input tensor. Received: inputs=<PIL.Image.Image image mode=RGB size=27x27 at 0x163F709EA30>. Consider rewriting this model with the Functional API.\n",
      "WARNING:tensorflow:Layers in a Sequential model should only have a single input tensor. Received: inputs=<PIL.Image.Image image mode=RGB size=27x27 at 0x163F709EA60>. Consider rewriting this model with the Functional API.\n"
     ]
    },
    {
     "name": "stderr",
     "output_type": "stream",
     "text": [
      "\r",
      "Adding images:  88%|██████████████████████████████████████████████████████▌       | 8154/9268 [00:21<00:07, 150.54it/s]"
     ]
    },
    {
     "name": "stdout",
     "output_type": "stream",
     "text": [
      "WARNING:tensorflow:Layers in a Sequential model should only have a single input tensor. Received: inputs=<PIL.Image.Image image mode=RGB size=27x27 at 0x163F709EEB0>. Consider rewriting this model with the Functional API.\n",
      "WARNING:tensorflow:Layers in a Sequential model should only have a single input tensor. Received: inputs=<PIL.Image.Image image mode=RGB size=27x27 at 0x163F709EDF0>. Consider rewriting this model with the Functional API.\n",
      "WARNING:tensorflow:Layers in a Sequential model should only have a single input tensor. Received: inputs=<PIL.Image.Image image mode=RGB size=27x27 at 0x163F709E400>. Consider rewriting this model with the Functional API.\n",
      "WARNING:tensorflow:Layers in a Sequential model should only have a single input tensor. Received: inputs=<PIL.Image.Image image mode=RGB size=27x27 at 0x163F709E880>. Consider rewriting this model with the Functional API.\n",
      "WARNING:tensorflow:Layers in a Sequential model should only have a single input tensor. Received: inputs=<PIL.Image.Image image mode=RGB size=27x27 at 0x163F709ED90>. Consider rewriting this model with the Functional API.\n",
      "WARNING:tensorflow:Layers in a Sequential model should only have a single input tensor. Received: inputs=<PIL.Image.Image image mode=RGB size=27x27 at 0x163F709ECA0>. Consider rewriting this model with the Functional API.\n",
      "WARNING:tensorflow:Layers in a Sequential model should only have a single input tensor. Received: inputs=<PIL.Image.Image image mode=RGB size=27x27 at 0x163F709EEB0>. Consider rewriting this model with the Functional API.\n",
      "WARNING:tensorflow:Layers in a Sequential model should only have a single input tensor. Received: inputs=<PIL.Image.Image image mode=RGB size=27x27 at 0x163F709EDF0>. Consider rewriting this model with the Functional API.\n",
      "WARNING:tensorflow:Layers in a Sequential model should only have a single input tensor. Received: inputs=<PIL.Image.Image image mode=RGB size=27x27 at 0x163F709E400>. Consider rewriting this model with the Functional API.\n",
      "WARNING:tensorflow:Layers in a Sequential model should only have a single input tensor. Received: inputs=<PIL.Image.Image image mode=RGB size=27x27 at 0x163F709E880>. Consider rewriting this model with the Functional API.\n",
      "WARNING:tensorflow:Layers in a Sequential model should only have a single input tensor. Received: inputs=<PIL.Image.Image image mode=RGB size=27x27 at 0x163F709ED90>. Consider rewriting this model with the Functional API.\n",
      "WARNING:tensorflow:Layers in a Sequential model should only have a single input tensor. Received: inputs=<PIL.Image.Image image mode=RGB size=27x27 at 0x163F709ECA0>. Consider rewriting this model with the Functional API.\n",
      "WARNING:tensorflow:Layers in a Sequential model should only have a single input tensor. Received: inputs=<PIL.Image.Image image mode=RGB size=27x27 at 0x163F709EEB0>. Consider rewriting this model with the Functional API.\n",
      "WARNING:tensorflow:Layers in a Sequential model should only have a single input tensor. Received: inputs=<PIL.Image.Image image mode=RGB size=27x27 at 0x163F709EDF0>. Consider rewriting this model with the Functional API.\n",
      "WARNING:tensorflow:Layers in a Sequential model should only have a single input tensor. Received: inputs=<PIL.Image.Image image mode=RGB size=27x27 at 0x163F709E400>. Consider rewriting this model with the Functional API.\n",
      "WARNING:tensorflow:Layers in a Sequential model should only have a single input tensor. Received: inputs=<PIL.Image.Image image mode=RGB size=27x27 at 0x163F709E880>. Consider rewriting this model with the Functional API.\n"
     ]
    },
    {
     "name": "stderr",
     "output_type": "stream",
     "text": [
      "\r",
      "Adding images:  88%|██████████████████████████████████████████████████████▋       | 8170/9268 [00:21<00:07, 150.99it/s]"
     ]
    },
    {
     "name": "stdout",
     "output_type": "stream",
     "text": [
      "WARNING:tensorflow:Layers in a Sequential model should only have a single input tensor. Received: inputs=<PIL.Image.Image image mode=RGB size=27x27 at 0x163F709ECA0>. Consider rewriting this model with the Functional API.\n",
      "WARNING:tensorflow:Layers in a Sequential model should only have a single input tensor. Received: inputs=<PIL.Image.Image image mode=RGB size=27x27 at 0x163F709EA60>. Consider rewriting this model with the Functional API.\n",
      "WARNING:tensorflow:Layers in a Sequential model should only have a single input tensor. Received: inputs=<PIL.Image.Image image mode=RGB size=27x27 at 0x163F709ED30>. Consider rewriting this model with the Functional API.\n",
      "WARNING:tensorflow:Layers in a Sequential model should only have a single input tensor. Received: inputs=<PIL.Image.Image image mode=RGB size=27x27 at 0x163F709EDF0>. Consider rewriting this model with the Functional API.\n",
      "WARNING:tensorflow:Layers in a Sequential model should only have a single input tensor. Received: inputs=<PIL.Image.Image image mode=RGB size=27x27 at 0x163F709EEE0>. Consider rewriting this model with the Functional API.\n",
      "WARNING:tensorflow:Layers in a Sequential model should only have a single input tensor. Received: inputs=<PIL.Image.Image image mode=RGB size=27x27 at 0x163F709EEB0>. Consider rewriting this model with the Functional API.\n",
      "WARNING:tensorflow:Layers in a Sequential model should only have a single input tensor. Received: inputs=<PIL.Image.Image image mode=RGB size=27x27 at 0x163F709ECA0>. Consider rewriting this model with the Functional API.\n",
      "WARNING:tensorflow:Layers in a Sequential model should only have a single input tensor. Received: inputs=<PIL.Image.Image image mode=RGB size=27x27 at 0x163F709EA60>. Consider rewriting this model with the Functional API.\n",
      "WARNING:tensorflow:Layers in a Sequential model should only have a single input tensor. Received: inputs=<PIL.Image.Image image mode=RGB size=27x27 at 0x163F709ED30>. Consider rewriting this model with the Functional API.\n",
      "WARNING:tensorflow:Layers in a Sequential model should only have a single input tensor. Received: inputs=<PIL.Image.Image image mode=RGB size=27x27 at 0x163F709EDF0>. Consider rewriting this model with the Functional API.\n",
      "WARNING:tensorflow:Layers in a Sequential model should only have a single input tensor. Received: inputs=<PIL.Image.Image image mode=RGB size=27x27 at 0x163F709EEE0>. Consider rewriting this model with the Functional API.\n",
      "WARNING:tensorflow:Layers in a Sequential model should only have a single input tensor. Received: inputs=<PIL.Image.Image image mode=RGB size=27x27 at 0x163F709EEB0>. Consider rewriting this model with the Functional API.\n",
      "WARNING:tensorflow:Layers in a Sequential model should only have a single input tensor. Received: inputs=<PIL.Image.Image image mode=RGB size=27x27 at 0x163F709ECA0>. Consider rewriting this model with the Functional API.\n",
      "WARNING:tensorflow:Layers in a Sequential model should only have a single input tensor. Received: inputs=<PIL.Image.Image image mode=RGB size=27x27 at 0x163F709EA60>. Consider rewriting this model with the Functional API.\n",
      "WARNING:tensorflow:Layers in a Sequential model should only have a single input tensor. Received: inputs=<PIL.Image.Image image mode=RGB size=27x27 at 0x163F709ED30>. Consider rewriting this model with the Functional API.\n",
      "WARNING:tensorflow:Layers in a Sequential model should only have a single input tensor. Received: inputs=<PIL.Image.Image image mode=RGB size=27x27 at 0x163F709EDF0>. Consider rewriting this model with the Functional API.\n"
     ]
    },
    {
     "name": "stderr",
     "output_type": "stream",
     "text": [
      "\r",
      "Adding images:  88%|██████████████████████████████████████████████████████▊       | 8186/9268 [00:21<00:07, 151.31it/s]"
     ]
    },
    {
     "name": "stdout",
     "output_type": "stream",
     "text": [
      "WARNING:tensorflow:Layers in a Sequential model should only have a single input tensor. Received: inputs=<PIL.Image.Image image mode=RGB size=27x27 at 0x163F709EEB0>. Consider rewriting this model with the Functional API.\n",
      "WARNING:tensorflow:Layers in a Sequential model should only have a single input tensor. Received: inputs=<PIL.Image.Image image mode=RGB size=27x27 at 0x163F709E880>. Consider rewriting this model with the Functional API.\n",
      "WARNING:tensorflow:Layers in a Sequential model should only have a single input tensor. Received: inputs=<PIL.Image.Image image mode=RGB size=27x27 at 0x163F709ED90>. Consider rewriting this model with the Functional API.\n",
      "WARNING:tensorflow:Layers in a Sequential model should only have a single input tensor. Received: inputs=<PIL.Image.Image image mode=RGB size=27x27 at 0x163F709EA60>. Consider rewriting this model with the Functional API.\n",
      "WARNING:tensorflow:Layers in a Sequential model should only have a single input tensor. Received: inputs=<PIL.Image.Image image mode=RGB size=27x27 at 0x163F709EA30>. Consider rewriting this model with the Functional API.\n",
      "WARNING:tensorflow:Layers in a Sequential model should only have a single input tensor. Received: inputs=<PIL.Image.Image image mode=RGB size=27x27 at 0x163F709ECA0>. Consider rewriting this model with the Functional API.\n",
      "WARNING:tensorflow:Layers in a Sequential model should only have a single input tensor. Received: inputs=<PIL.Image.Image image mode=RGB size=27x27 at 0x163F709EEB0>. Consider rewriting this model with the Functional API.\n",
      "WARNING:tensorflow:Layers in a Sequential model should only have a single input tensor. Received: inputs=<PIL.Image.Image image mode=RGB size=27x27 at 0x163F709E880>. Consider rewriting this model with the Functional API.\n",
      "WARNING:tensorflow:Layers in a Sequential model should only have a single input tensor. Received: inputs=<PIL.Image.Image image mode=RGB size=27x27 at 0x163F709ED90>. Consider rewriting this model with the Functional API.\n",
      "WARNING:tensorflow:Layers in a Sequential model should only have a single input tensor. Received: inputs=<PIL.Image.Image image mode=RGB size=27x27 at 0x163F709EA60>. Consider rewriting this model with the Functional API.\n",
      "WARNING:tensorflow:Layers in a Sequential model should only have a single input tensor. Received: inputs=<PIL.Image.Image image mode=RGB size=27x27 at 0x163F709EA30>. Consider rewriting this model with the Functional API.\n",
      "WARNING:tensorflow:Layers in a Sequential model should only have a single input tensor. Received: inputs=<PIL.Image.Image image mode=RGB size=27x27 at 0x163F709ECA0>. Consider rewriting this model with the Functional API.\n",
      "WARNING:tensorflow:Layers in a Sequential model should only have a single input tensor. Received: inputs=<PIL.Image.Image image mode=RGB size=27x27 at 0x163F709EEB0>. Consider rewriting this model with the Functional API.\n",
      "WARNING:tensorflow:Layers in a Sequential model should only have a single input tensor. Received: inputs=<PIL.Image.Image image mode=RGB size=27x27 at 0x163F709E880>. Consider rewriting this model with the Functional API.\n",
      "WARNING:tensorflow:Layers in a Sequential model should only have a single input tensor. Received: inputs=<PIL.Image.Image image mode=RGB size=27x27 at 0x163F709ED90>. Consider rewriting this model with the Functional API.\n",
      "WARNING:tensorflow:Layers in a Sequential model should only have a single input tensor. Received: inputs=<PIL.Image.Image image mode=RGB size=27x27 at 0x163F709EA60>. Consider rewriting this model with the Functional API.\n"
     ]
    },
    {
     "name": "stderr",
     "output_type": "stream",
     "text": [
      "\r",
      "Adding images:  88%|██████████████████████████████████████████████████████▊       | 8202/9268 [00:21<00:07, 151.17it/s]"
     ]
    },
    {
     "name": "stdout",
     "output_type": "stream",
     "text": [
      "WARNING:tensorflow:Layers in a Sequential model should only have a single input tensor. Received: inputs=<PIL.Image.Image image mode=RGB size=27x27 at 0x163F709ECA0>. Consider rewriting this model with the Functional API.\n",
      "WARNING:tensorflow:Layers in a Sequential model should only have a single input tensor. Received: inputs=<PIL.Image.Image image mode=RGB size=27x27 at 0x163F709EDF0>. Consider rewriting this model with the Functional API.\n",
      "WARNING:tensorflow:Layers in a Sequential model should only have a single input tensor. Received: inputs=<PIL.Image.Image image mode=RGB size=27x27 at 0x163F709EEE0>. Consider rewriting this model with the Functional API.\n",
      "WARNING:tensorflow:Layers in a Sequential model should only have a single input tensor. Received: inputs=<PIL.Image.Image image mode=RGB size=27x27 at 0x163F709E880>. Consider rewriting this model with the Functional API.\n",
      "WARNING:tensorflow:Layers in a Sequential model should only have a single input tensor. Received: inputs=<PIL.Image.Image image mode=RGB size=27x27 at 0x163F709E400>. Consider rewriting this model with the Functional API.\n",
      "WARNING:tensorflow:Layers in a Sequential model should only have a single input tensor. Received: inputs=<PIL.Image.Image image mode=RGB size=27x27 at 0x163F709EEB0>. Consider rewriting this model with the Functional API.\n",
      "WARNING:tensorflow:Layers in a Sequential model should only have a single input tensor. Received: inputs=<PIL.Image.Image image mode=RGB size=27x27 at 0x163F709ECA0>. Consider rewriting this model with the Functional API.\n",
      "WARNING:tensorflow:Layers in a Sequential model should only have a single input tensor. Received: inputs=<PIL.Image.Image image mode=RGB size=27x27 at 0x163F709EDF0>. Consider rewriting this model with the Functional API.\n",
      "WARNING:tensorflow:Layers in a Sequential model should only have a single input tensor. Received: inputs=<PIL.Image.Image image mode=RGB size=27x27 at 0x163F709EEE0>. Consider rewriting this model with the Functional API.\n",
      "WARNING:tensorflow:Layers in a Sequential model should only have a single input tensor. Received: inputs=<PIL.Image.Image image mode=RGB size=27x27 at 0x163F709E880>. Consider rewriting this model with the Functional API.\n",
      "WARNING:tensorflow:Layers in a Sequential model should only have a single input tensor. Received: inputs=<PIL.Image.Image image mode=RGB size=27x27 at 0x163F709E400>. Consider rewriting this model with the Functional API.\n",
      "WARNING:tensorflow:Layers in a Sequential model should only have a single input tensor. Received: inputs=<PIL.Image.Image image mode=RGB size=27x27 at 0x163F709EEB0>. Consider rewriting this model with the Functional API.\n",
      "WARNING:tensorflow:Layers in a Sequential model should only have a single input tensor. Received: inputs=<PIL.Image.Image image mode=RGB size=27x27 at 0x163F709ECA0>. Consider rewriting this model with the Functional API.\n",
      "WARNING:tensorflow:Layers in a Sequential model should only have a single input tensor. Received: inputs=<PIL.Image.Image image mode=RGB size=27x27 at 0x163F709EDF0>. Consider rewriting this model with the Functional API.\n",
      "WARNING:tensorflow:Layers in a Sequential model should only have a single input tensor. Received: inputs=<PIL.Image.Image image mode=RGB size=27x27 at 0x163F709EEE0>. Consider rewriting this model with the Functional API.\n",
      "WARNING:tensorflow:Layers in a Sequential model should only have a single input tensor. Received: inputs=<PIL.Image.Image image mode=RGB size=27x27 at 0x163F709E880>. Consider rewriting this model with the Functional API.\n"
     ]
    },
    {
     "name": "stderr",
     "output_type": "stream",
     "text": [
      "\r",
      "Adding images:  89%|██████████████████████████████████████████████████████▉       | 8218/9268 [00:21<00:06, 153.18it/s]"
     ]
    },
    {
     "name": "stdout",
     "output_type": "stream",
     "text": [
      "WARNING:tensorflow:Layers in a Sequential model should only have a single input tensor. Received: inputs=<PIL.Image.Image image mode=RGB size=27x27 at 0x163F709EEB0>. Consider rewriting this model with the Functional API.\n",
      "WARNING:tensorflow:Layers in a Sequential model should only have a single input tensor. Received: inputs=<PIL.Image.Image image mode=RGB size=27x27 at 0x163F709EA60>. Consider rewriting this model with the Functional API.\n",
      "WARNING:tensorflow:Layers in a Sequential model should only have a single input tensor. Received: inputs=<PIL.Image.Image image mode=RGB size=27x27 at 0x163F709EA30>. Consider rewriting this model with the Functional API.\n",
      "WARNING:tensorflow:Layers in a Sequential model should only have a single input tensor. Received: inputs=<PIL.Image.Image image mode=RGB size=27x27 at 0x163F709EDF0>. Consider rewriting this model with the Functional API.\n",
      "WARNING:tensorflow:Layers in a Sequential model should only have a single input tensor. Received: inputs=<PIL.Image.Image image mode=RGB size=27x27 at 0x163F709ED30>. Consider rewriting this model with the Functional API.\n",
      "WARNING:tensorflow:Layers in a Sequential model should only have a single input tensor. Received: inputs=<PIL.Image.Image image mode=RGB size=27x27 at 0x163F709ECA0>. Consider rewriting this model with the Functional API.\n",
      "WARNING:tensorflow:Layers in a Sequential model should only have a single input tensor. Received: inputs=<PIL.Image.Image image mode=RGB size=27x27 at 0x163F709EEB0>. Consider rewriting this model with the Functional API.\n",
      "WARNING:tensorflow:Layers in a Sequential model should only have a single input tensor. Received: inputs=<PIL.Image.Image image mode=RGB size=27x27 at 0x163F709EA60>. Consider rewriting this model with the Functional API.\n",
      "WARNING:tensorflow:Layers in a Sequential model should only have a single input tensor. Received: inputs=<PIL.Image.Image image mode=RGB size=27x27 at 0x163F709EA30>. Consider rewriting this model with the Functional API.\n",
      "WARNING:tensorflow:Layers in a Sequential model should only have a single input tensor. Received: inputs=<PIL.Image.Image image mode=RGB size=27x27 at 0x163F709EDF0>. Consider rewriting this model with the Functional API.\n",
      "WARNING:tensorflow:Layers in a Sequential model should only have a single input tensor. Received: inputs=<PIL.Image.Image image mode=RGB size=27x27 at 0x163F709ED30>. Consider rewriting this model with the Functional API.\n",
      "WARNING:tensorflow:Layers in a Sequential model should only have a single input tensor. Received: inputs=<PIL.Image.Image image mode=RGB size=27x27 at 0x163F709ECA0>. Consider rewriting this model with the Functional API.\n",
      "WARNING:tensorflow:Layers in a Sequential model should only have a single input tensor. Received: inputs=<PIL.Image.Image image mode=RGB size=27x27 at 0x163F709EEB0>. Consider rewriting this model with the Functional API.\n",
      "WARNING:tensorflow:Layers in a Sequential model should only have a single input tensor. Received: inputs=<PIL.Image.Image image mode=RGB size=27x27 at 0x163F709EA60>. Consider rewriting this model with the Functional API.\n",
      "WARNING:tensorflow:Layers in a Sequential model should only have a single input tensor. Received: inputs=<PIL.Image.Image image mode=RGB size=27x27 at 0x163F709EA30>. Consider rewriting this model with the Functional API.\n",
      "WARNING:tensorflow:Layers in a Sequential model should only have a single input tensor. Received: inputs=<PIL.Image.Image image mode=RGB size=27x27 at 0x163F709EDF0>. Consider rewriting this model with the Functional API.\n"
     ]
    },
    {
     "name": "stderr",
     "output_type": "stream",
     "text": [
      "\r",
      "Adding images:  89%|███████████████████████████████████████████████████████       | 8234/9268 [00:22<00:06, 152.47it/s]"
     ]
    },
    {
     "name": "stdout",
     "output_type": "stream",
     "text": [
      "WARNING:tensorflow:Layers in a Sequential model should only have a single input tensor. Received: inputs=<PIL.Image.Image image mode=RGB size=27x27 at 0x163F709ECA0>. Consider rewriting this model with the Functional API.\n",
      "WARNING:tensorflow:Layers in a Sequential model should only have a single input tensor. Received: inputs=<PIL.Image.Image image mode=RGB size=27x27 at 0x163F709E880>. Consider rewriting this model with the Functional API.\n",
      "WARNING:tensorflow:Layers in a Sequential model should only have a single input tensor. Received: inputs=<PIL.Image.Image image mode=RGB size=27x27 at 0x163F709E400>. Consider rewriting this model with the Functional API.\n",
      "WARNING:tensorflow:Layers in a Sequential model should only have a single input tensor. Received: inputs=<PIL.Image.Image image mode=RGB size=27x27 at 0x163F7173400>. Consider rewriting this model with the Functional API.\n",
      "WARNING:tensorflow:Layers in a Sequential model should only have a single input tensor. Received: inputs=<PIL.Image.Image image mode=RGB size=27x27 at 0x163F609E280>. Consider rewriting this model with the Functional API.\n",
      "WARNING:tensorflow:Layers in a Sequential model should only have a single input tensor. Received: inputs=<PIL.Image.Image image mode=RGB size=27x27 at 0x163F7173DF0>. Consider rewriting this model with the Functional API.\n",
      "WARNING:tensorflow:Layers in a Sequential model should only have a single input tensor. Received: inputs=<PIL.Image.Image image mode=RGB size=27x27 at 0x163F609E5E0>. Consider rewriting this model with the Functional API.\n",
      "WARNING:tensorflow:Layers in a Sequential model should only have a single input tensor. Received: inputs=<PIL.Image.Image image mode=RGB size=27x27 at 0x163F7173400>. Consider rewriting this model with the Functional API.\n",
      "WARNING:tensorflow:Layers in a Sequential model should only have a single input tensor. Received: inputs=<PIL.Image.Image image mode=RGB size=27x27 at 0x163F609E280>. Consider rewriting this model with the Functional API.\n",
      "WARNING:tensorflow:Layers in a Sequential model should only have a single input tensor. Received: inputs=<PIL.Image.Image image mode=RGB size=27x27 at 0x163F609E5E0>. Consider rewriting this model with the Functional API.\n",
      "WARNING:tensorflow:Layers in a Sequential model should only have a single input tensor. Received: inputs=<PIL.Image.Image image mode=RGB size=27x27 at 0x163F609E5E0>. Consider rewriting this model with the Functional API.\n",
      "WARNING:tensorflow:Layers in a Sequential model should only have a single input tensor. Received: inputs=<PIL.Image.Image image mode=RGB size=27x27 at 0x163F7179640>. Consider rewriting this model with the Functional API.\n",
      "WARNING:tensorflow:Layers in a Sequential model should only have a single input tensor. Received: inputs=<PIL.Image.Image image mode=RGB size=27x27 at 0x163F609E5E0>. Consider rewriting this model with the Functional API.\n",
      "WARNING:tensorflow:Layers in a Sequential model should only have a single input tensor. Received: inputs=<PIL.Image.Image image mode=RGB size=27x27 at 0x163F609E5E0>. Consider rewriting this model with the Functional API.\n",
      "WARNING:tensorflow:Layers in a Sequential model should only have a single input tensor. Received: inputs=<PIL.Image.Image image mode=RGB size=27x27 at 0x163F7173DF0>. Consider rewriting this model with the Functional API.\n",
      "WARNING:tensorflow:Layers in a Sequential model should only have a single input tensor. Received: inputs=<PIL.Image.Image image mode=RGB size=27x27 at 0x163F7170D30>. Consider rewriting this model with the Functional API.\n"
     ]
    },
    {
     "name": "stderr",
     "output_type": "stream",
     "text": [
      "\r",
      "Adding images:  89%|███████████████████████████████████████████████████████▏      | 8250/9268 [00:22<00:06, 153.71it/s]"
     ]
    },
    {
     "name": "stdout",
     "output_type": "stream",
     "text": [
      "WARNING:tensorflow:Layers in a Sequential model should only have a single input tensor. Received: inputs=<PIL.Image.Image image mode=RGB size=27x27 at 0x163F7170D90>. Consider rewriting this model with the Functional API.\n",
      "WARNING:tensorflow:Layers in a Sequential model should only have a single input tensor. Received: inputs=<PIL.Image.Image image mode=RGB size=27x27 at 0x163F7170D30>. Consider rewriting this model with the Functional API.\n",
      "WARNING:tensorflow:Layers in a Sequential model should only have a single input tensor. Received: inputs=<PIL.Image.Image image mode=RGB size=27x27 at 0x163F7170D90>. Consider rewriting this model with the Functional API.\n",
      "WARNING:tensorflow:Layers in a Sequential model should only have a single input tensor. Received: inputs=<PIL.Image.Image image mode=RGB size=27x27 at 0x163F7170D30>. Consider rewriting this model with the Functional API.\n",
      "WARNING:tensorflow:Layers in a Sequential model should only have a single input tensor. Received: inputs=<PIL.Image.Image image mode=RGB size=27x27 at 0x163F7170D90>. Consider rewriting this model with the Functional API.\n",
      "WARNING:tensorflow:Layers in a Sequential model should only have a single input tensor. Received: inputs=<PIL.Image.Image image mode=RGB size=27x27 at 0x163F7170D30>. Consider rewriting this model with the Functional API.\n",
      "WARNING:tensorflow:Layers in a Sequential model should only have a single input tensor. Received: inputs=<PIL.Image.Image image mode=RGB size=27x27 at 0x163F7170D90>. Consider rewriting this model with the Functional API.\n",
      "WARNING:tensorflow:Layers in a Sequential model should only have a single input tensor. Received: inputs=<PIL.Image.Image image mode=RGB size=27x27 at 0x163F7170D30>. Consider rewriting this model with the Functional API.\n",
      "WARNING:tensorflow:Layers in a Sequential model should only have a single input tensor. Received: inputs=<PIL.Image.Image image mode=RGB size=27x27 at 0x163F7173DF0>. Consider rewriting this model with the Functional API.\n",
      "WARNING:tensorflow:Layers in a Sequential model should only have a single input tensor. Received: inputs=<PIL.Image.Image image mode=RGB size=27x27 at 0x163F7173DF0>. Consider rewriting this model with the Functional API.\n",
      "WARNING:tensorflow:Layers in a Sequential model should only have a single input tensor. Received: inputs=<PIL.Image.Image image mode=RGB size=27x27 at 0x163F7173DF0>. Consider rewriting this model with the Functional API.\n",
      "WARNING:tensorflow:Layers in a Sequential model should only have a single input tensor. Received: inputs=<PIL.Image.Image image mode=RGB size=27x27 at 0x163F7173DF0>. Consider rewriting this model with the Functional API.\n",
      "WARNING:tensorflow:Layers in a Sequential model should only have a single input tensor. Received: inputs=<PIL.Image.Image image mode=RGB size=27x27 at 0x163F7173DF0>. Consider rewriting this model with the Functional API.\n",
      "WARNING:tensorflow:Layers in a Sequential model should only have a single input tensor. Received: inputs=<PIL.Image.Image image mode=RGB size=27x27 at 0x163F7170D30>. Consider rewriting this model with the Functional API.\n",
      "WARNING:tensorflow:Layers in a Sequential model should only have a single input tensor. Received: inputs=<PIL.Image.Image image mode=RGB size=27x27 at 0x163F7171E80>. Consider rewriting this model with the Functional API.\n",
      "WARNING:tensorflow:Layers in a Sequential model should only have a single input tensor. Received: inputs=<PIL.Image.Image image mode=RGB size=27x27 at 0x163F7170D30>. Consider rewriting this model with the Functional API.\n"
     ]
    },
    {
     "name": "stderr",
     "output_type": "stream",
     "text": [
      "\r",
      "Adding images:  89%|███████████████████████████████████████████████████████▎      | 8266/9268 [00:22<00:06, 153.27it/s]"
     ]
    },
    {
     "name": "stdout",
     "output_type": "stream",
     "text": [
      "WARNING:tensorflow:Layers in a Sequential model should only have a single input tensor. Received: inputs=<PIL.Image.Image image mode=RGB size=27x27 at 0x163F7173DF0>. Consider rewriting this model with the Functional API.\n",
      "WARNING:tensorflow:Layers in a Sequential model should only have a single input tensor. Received: inputs=<PIL.Image.Image image mode=RGB size=27x27 at 0x163F7170D30>. Consider rewriting this model with the Functional API.\n",
      "WARNING:tensorflow:Layers in a Sequential model should only have a single input tensor. Received: inputs=<PIL.Image.Image image mode=RGB size=27x27 at 0x163F7171E80>. Consider rewriting this model with the Functional API.\n",
      "WARNING:tensorflow:Layers in a Sequential model should only have a single input tensor. Received: inputs=<PIL.Image.Image image mode=RGB size=27x27 at 0x163F71735B0>. Consider rewriting this model with the Functional API.\n",
      "WARNING:tensorflow:Layers in a Sequential model should only have a single input tensor. Received: inputs=<PIL.Image.Image image mode=RGB size=27x27 at 0x163F716AA30>. Consider rewriting this model with the Functional API.\n",
      "WARNING:tensorflow:Layers in a Sequential model should only have a single input tensor. Received: inputs=<PIL.Image.Image image mode=RGB size=27x27 at 0x163F71735B0>. Consider rewriting this model with the Functional API.\n",
      "WARNING:tensorflow:Layers in a Sequential model should only have a single input tensor. Received: inputs=<PIL.Image.Image image mode=RGB size=27x27 at 0x163F709E880>. Consider rewriting this model with the Functional API.\n",
      "WARNING:tensorflow:Layers in a Sequential model should only have a single input tensor. Received: inputs=<PIL.Image.Image image mode=RGB size=27x27 at 0x163F716AA30>. Consider rewriting this model with the Functional API.\n",
      "WARNING:tensorflow:Layers in a Sequential model should only have a single input tensor. Received: inputs=<PIL.Image.Image image mode=RGB size=27x27 at 0x163F71749A0>. Consider rewriting this model with the Functional API.\n",
      "WARNING:tensorflow:Layers in a Sequential model should only have a single input tensor. Received: inputs=<PIL.Image.Image image mode=RGB size=27x27 at 0x163F716AA30>. Consider rewriting this model with the Functional API.\n",
      "WARNING:tensorflow:Layers in a Sequential model should only have a single input tensor. Received: inputs=<PIL.Image.Image image mode=RGB size=27x27 at 0x163F71749A0>. Consider rewriting this model with the Functional API.\n",
      "WARNING:tensorflow:Layers in a Sequential model should only have a single input tensor. Received: inputs=<PIL.Image.Image image mode=RGB size=27x27 at 0x163F716AA30>. Consider rewriting this model with the Functional API.\n",
      "WARNING:tensorflow:Layers in a Sequential model should only have a single input tensor. Received: inputs=<PIL.Image.Image image mode=RGB size=27x27 at 0x163F71749A0>. Consider rewriting this model with the Functional API.\n",
      "WARNING:tensorflow:Layers in a Sequential model should only have a single input tensor. Received: inputs=<PIL.Image.Image image mode=RGB size=27x27 at 0x163F716AA30>. Consider rewriting this model with the Functional API.\n",
      "WARNING:tensorflow:Layers in a Sequential model should only have a single input tensor. Received: inputs=<PIL.Image.Image image mode=RGB size=27x27 at 0x163F71749A0>. Consider rewriting this model with the Functional API.\n",
      "WARNING:tensorflow:Layers in a Sequential model should only have a single input tensor. Received: inputs=<PIL.Image.Image image mode=RGB size=27x27 at 0x163F716AA30>. Consider rewriting this model with the Functional API.\n"
     ]
    },
    {
     "name": "stderr",
     "output_type": "stream",
     "text": [
      "\r",
      "Adding images:  89%|███████████████████████████████████████████████████████▍      | 8282/9268 [00:22<00:06, 153.81it/s]"
     ]
    },
    {
     "name": "stdout",
     "output_type": "stream",
     "text": [
      "WARNING:tensorflow:Layers in a Sequential model should only have a single input tensor. Received: inputs=<PIL.Image.Image image mode=RGB size=27x27 at 0x163F71749A0>. Consider rewriting this model with the Functional API.\n",
      "WARNING:tensorflow:Layers in a Sequential model should only have a single input tensor. Received: inputs=<PIL.Image.Image image mode=RGB size=27x27 at 0x163F716AA30>. Consider rewriting this model with the Functional API.\n",
      "WARNING:tensorflow:Layers in a Sequential model should only have a single input tensor. Received: inputs=<PIL.Image.Image image mode=RGB size=27x27 at 0x163F71749A0>. Consider rewriting this model with the Functional API.\n",
      "WARNING:tensorflow:Layers in a Sequential model should only have a single input tensor. Received: inputs=<PIL.Image.Image image mode=RGB size=27x27 at 0x163F716AA30>. Consider rewriting this model with the Functional API.\n",
      "WARNING:tensorflow:Layers in a Sequential model should only have a single input tensor. Received: inputs=<PIL.Image.Image image mode=RGB size=27x27 at 0x163F71749A0>. Consider rewriting this model with the Functional API.\n",
      "WARNING:tensorflow:Layers in a Sequential model should only have a single input tensor. Received: inputs=<PIL.Image.Image image mode=RGB size=27x27 at 0x163F716AA30>. Consider rewriting this model with the Functional API.\n",
      "WARNING:tensorflow:Layers in a Sequential model should only have a single input tensor. Received: inputs=<PIL.Image.Image image mode=RGB size=27x27 at 0x163F71749A0>. Consider rewriting this model with the Functional API.\n",
      "WARNING:tensorflow:Layers in a Sequential model should only have a single input tensor. Received: inputs=<PIL.Image.Image image mode=RGB size=27x27 at 0x163F7167CA0>. Consider rewriting this model with the Functional API.\n",
      "WARNING:tensorflow:Layers in a Sequential model should only have a single input tensor. Received: inputs=<PIL.Image.Image image mode=RGB size=27x27 at 0x163F7171E80>. Consider rewriting this model with the Functional API.\n",
      "WARNING:tensorflow:Layers in a Sequential model should only have a single input tensor. Received: inputs=<PIL.Image.Image image mode=RGB size=27x27 at 0x163F716AA30>. Consider rewriting this model with the Functional API.\n",
      "WARNING:tensorflow:Layers in a Sequential model should only have a single input tensor. Received: inputs=<PIL.Image.Image image mode=RGB size=27x27 at 0x163F7167CA0>. Consider rewriting this model with the Functional API.\n",
      "WARNING:tensorflow:Layers in a Sequential model should only have a single input tensor. Received: inputs=<PIL.Image.Image image mode=RGB size=27x27 at 0x163F7171E80>. Consider rewriting this model with the Functional API.\n",
      "WARNING:tensorflow:Layers in a Sequential model should only have a single input tensor. Received: inputs=<PIL.Image.Image image mode=RGB size=27x27 at 0x163F716AA30>. Consider rewriting this model with the Functional API.\n",
      "WARNING:tensorflow:Layers in a Sequential model should only have a single input tensor. Received: inputs=<PIL.Image.Image image mode=RGB size=27x27 at 0x163F7167CA0>. Consider rewriting this model with the Functional API.\n",
      "WARNING:tensorflow:Layers in a Sequential model should only have a single input tensor. Received: inputs=<PIL.Image.Image image mode=RGB size=27x27 at 0x163F71749A0>. Consider rewriting this model with the Functional API.\n",
      "WARNING:tensorflow:Layers in a Sequential model should only have a single input tensor. Received: inputs=<PIL.Image.Image image mode=RGB size=27x27 at 0x163F7171E80>. Consider rewriting this model with the Functional API.\n"
     ]
    },
    {
     "name": "stderr",
     "output_type": "stream",
     "text": [
      "\r",
      "Adding images:  90%|███████████████████████████████████████████████████████▌      | 8298/9268 [00:22<00:06, 154.22it/s]"
     ]
    },
    {
     "name": "stdout",
     "output_type": "stream",
     "text": [
      "WARNING:tensorflow:Layers in a Sequential model should only have a single input tensor. Received: inputs=<PIL.Image.Image image mode=RGB size=27x27 at 0x163F7167CA0>. Consider rewriting this model with the Functional API.\n",
      "WARNING:tensorflow:Layers in a Sequential model should only have a single input tensor. Received: inputs=<PIL.Image.Image image mode=RGB size=27x27 at 0x163F7171E80>. Consider rewriting this model with the Functional API.\n",
      "WARNING:tensorflow:Layers in a Sequential model should only have a single input tensor. Received: inputs=<PIL.Image.Image image mode=RGB size=27x27 at 0x163F716AA30>. Consider rewriting this model with the Functional API.\n",
      "WARNING:tensorflow:Layers in a Sequential model should only have a single input tensor. Received: inputs=<PIL.Image.Image image mode=RGB size=27x27 at 0x163F71749A0>. Consider rewriting this model with the Functional API.\n",
      "WARNING:tensorflow:Layers in a Sequential model should only have a single input tensor. Received: inputs=<PIL.Image.Image image mode=RGB size=27x27 at 0x163F7167CA0>. Consider rewriting this model with the Functional API.\n",
      "WARNING:tensorflow:Layers in a Sequential model should only have a single input tensor. Received: inputs=<PIL.Image.Image image mode=RGB size=27x27 at 0x163F7171E80>. Consider rewriting this model with the Functional API.\n",
      "WARNING:tensorflow:Layers in a Sequential model should only have a single input tensor. Received: inputs=<PIL.Image.Image image mode=RGB size=27x27 at 0x163F716AA30>. Consider rewriting this model with the Functional API.\n",
      "WARNING:tensorflow:Layers in a Sequential model should only have a single input tensor. Received: inputs=<PIL.Image.Image image mode=RGB size=27x27 at 0x163F709EEB0>. Consider rewriting this model with the Functional API.\n",
      "WARNING:tensorflow:Layers in a Sequential model should only have a single input tensor. Received: inputs=<PIL.Image.Image image mode=RGB size=27x27 at 0x163F7171E80>. Consider rewriting this model with the Functional API.\n",
      "WARNING:tensorflow:Layers in a Sequential model should only have a single input tensor. Received: inputs=<PIL.Image.Image image mode=RGB size=27x27 at 0x163F716AA30>. Consider rewriting this model with the Functional API.\n",
      "WARNING:tensorflow:Layers in a Sequential model should only have a single input tensor. Received: inputs=<PIL.Image.Image image mode=RGB size=27x27 at 0x163F709EA60>. Consider rewriting this model with the Functional API.\n",
      "WARNING:tensorflow:Layers in a Sequential model should only have a single input tensor. Received: inputs=<PIL.Image.Image image mode=RGB size=27x27 at 0x163F7167CA0>. Consider rewriting this model with the Functional API.\n",
      "WARNING:tensorflow:Layers in a Sequential model should only have a single input tensor. Received: inputs=<PIL.Image.Image image mode=RGB size=27x27 at 0x163F71749A0>. Consider rewriting this model with the Functional API.\n",
      "WARNING:tensorflow:Layers in a Sequential model should only have a single input tensor. Received: inputs=<PIL.Image.Image image mode=RGB size=27x27 at 0x163F71735E0>. Consider rewriting this model with the Functional API.\n",
      "WARNING:tensorflow:Layers in a Sequential model should only have a single input tensor. Received: inputs=<PIL.Image.Image image mode=RGB size=27x27 at 0x163F7167CA0>. Consider rewriting this model with the Functional API.\n",
      "WARNING:tensorflow:Layers in a Sequential model should only have a single input tensor. Received: inputs=<PIL.Image.Image image mode=RGB size=27x27 at 0x163F71749A0>. Consider rewriting this model with the Functional API.\n"
     ]
    },
    {
     "name": "stderr",
     "output_type": "stream",
     "text": [
      "\r",
      "Adding images:  90%|███████████████████████████████████████████████████████▌      | 8314/9268 [00:22<00:06, 153.62it/s]"
     ]
    },
    {
     "name": "stdout",
     "output_type": "stream",
     "text": [
      "WARNING:tensorflow:Layers in a Sequential model should only have a single input tensor. Received: inputs=<PIL.Image.Image image mode=RGB size=27x27 at 0x163F7170D30>. Consider rewriting this model with the Functional API.\n",
      "WARNING:tensorflow:Layers in a Sequential model should only have a single input tensor. Received: inputs=<PIL.Image.Image image mode=RGB size=27x27 at 0x163F71735E0>. Consider rewriting this model with the Functional API.\n",
      "WARNING:tensorflow:Layers in a Sequential model should only have a single input tensor. Received: inputs=<PIL.Image.Image image mode=RGB size=27x27 at 0x163F7170D30>. Consider rewriting this model with the Functional API.\n",
      "WARNING:tensorflow:Layers in a Sequential model should only have a single input tensor. Received: inputs=<PIL.Image.Image image mode=RGB size=27x27 at 0x163F716AA30>. Consider rewriting this model with the Functional API.\n",
      "WARNING:tensorflow:Layers in a Sequential model should only have a single input tensor. Received: inputs=<PIL.Image.Image image mode=RGB size=27x27 at 0x163F71735E0>. Consider rewriting this model with the Functional API.\n",
      "WARNING:tensorflow:Layers in a Sequential model should only have a single input tensor. Received: inputs=<PIL.Image.Image image mode=RGB size=27x27 at 0x163F7171E80>. Consider rewriting this model with the Functional API.\n",
      "WARNING:tensorflow:Layers in a Sequential model should only have a single input tensor. Received: inputs=<PIL.Image.Image image mode=RGB size=27x27 at 0x163F716AA30>. Consider rewriting this model with the Functional API.\n",
      "WARNING:tensorflow:Layers in a Sequential model should only have a single input tensor. Received: inputs=<PIL.Image.Image image mode=RGB size=27x27 at 0x163F71735E0>. Consider rewriting this model with the Functional API.\n",
      "WARNING:tensorflow:Layers in a Sequential model should only have a single input tensor. Received: inputs=<PIL.Image.Image image mode=RGB size=27x27 at 0x163F7171E80>. Consider rewriting this model with the Functional API.\n",
      "WARNING:tensorflow:Layers in a Sequential model should only have a single input tensor. Received: inputs=<PIL.Image.Image image mode=RGB size=27x27 at 0x163F716AA30>. Consider rewriting this model with the Functional API.\n",
      "WARNING:tensorflow:Layers in a Sequential model should only have a single input tensor. Received: inputs=<PIL.Image.Image image mode=RGB size=27x27 at 0x163F71735E0>. Consider rewriting this model with the Functional API.\n",
      "WARNING:tensorflow:Layers in a Sequential model should only have a single input tensor. Received: inputs=<PIL.Image.Image image mode=RGB size=27x27 at 0x163F7171E80>. Consider rewriting this model with the Functional API.\n",
      "WARNING:tensorflow:Layers in a Sequential model should only have a single input tensor. Received: inputs=<PIL.Image.Image image mode=RGB size=27x27 at 0x163F7176E20>. Consider rewriting this model with the Functional API.\n",
      "WARNING:tensorflow:Layers in a Sequential model should only have a single input tensor. Received: inputs=<PIL.Image.Image image mode=RGB size=27x27 at 0x163F71735E0>. Consider rewriting this model with the Functional API.\n",
      "WARNING:tensorflow:Layers in a Sequential model should only have a single input tensor. Received: inputs=<PIL.Image.Image image mode=RGB size=27x27 at 0x163F609EA30>. Consider rewriting this model with the Functional API.\n",
      "WARNING:tensorflow:Layers in a Sequential model should only have a single input tensor. Received: inputs=<PIL.Image.Image image mode=RGB size=27x27 at 0x163F716AA30>. Consider rewriting this model with the Functional API.\n"
     ]
    },
    {
     "name": "stderr",
     "output_type": "stream",
     "text": [
      "\r",
      "Adding images:  90%|███████████████████████████████████████████████████████▋      | 8330/9268 [00:22<00:06, 153.65it/s]"
     ]
    },
    {
     "name": "stdout",
     "output_type": "stream",
     "text": [
      "WARNING:tensorflow:Layers in a Sequential model should only have a single input tensor. Received: inputs=<PIL.Image.Image image mode=RGB size=27x27 at 0x163F7167CA0>. Consider rewriting this model with the Functional API.\n",
      "WARNING:tensorflow:Layers in a Sequential model should only have a single input tensor. Received: inputs=<PIL.Image.Image image mode=RGB size=27x27 at 0x163F7171E80>. Consider rewriting this model with the Functional API.\n",
      "WARNING:tensorflow:Layers in a Sequential model should only have a single input tensor. Received: inputs=<PIL.Image.Image image mode=RGB size=27x27 at 0x163F71749A0>. Consider rewriting this model with the Functional API.\n",
      "WARNING:tensorflow:Layers in a Sequential model should only have a single input tensor. Received: inputs=<PIL.Image.Image image mode=RGB size=27x27 at 0x163F716AA30>. Consider rewriting this model with the Functional API.\n",
      "WARNING:tensorflow:Layers in a Sequential model should only have a single input tensor. Received: inputs=<PIL.Image.Image image mode=RGB size=27x27 at 0x163F7171E80>. Consider rewriting this model with the Functional API.\n",
      "WARNING:tensorflow:Layers in a Sequential model should only have a single input tensor. Received: inputs=<PIL.Image.Image image mode=RGB size=27x27 at 0x163F71749A0>. Consider rewriting this model with the Functional API.\n",
      "WARNING:tensorflow:Layers in a Sequential model should only have a single input tensor. Received: inputs=<PIL.Image.Image image mode=RGB size=27x27 at 0x163F716AA30>. Consider rewriting this model with the Functional API.\n",
      "WARNING:tensorflow:Layers in a Sequential model should only have a single input tensor. Received: inputs=<PIL.Image.Image image mode=RGB size=27x27 at 0x163F7171E80>. Consider rewriting this model with the Functional API.\n",
      "WARNING:tensorflow:Layers in a Sequential model should only have a single input tensor. Received: inputs=<PIL.Image.Image image mode=RGB size=27x27 at 0x163F609EC10>. Consider rewriting this model with the Functional API.\n",
      "WARNING:tensorflow:Layers in a Sequential model should only have a single input tensor. Received: inputs=<PIL.Image.Image image mode=RGB size=27x27 at 0x163F71735E0>. Consider rewriting this model with the Functional API.\n",
      "WARNING:tensorflow:Layers in a Sequential model should only have a single input tensor. Received: inputs=<PIL.Image.Image image mode=RGB size=27x27 at 0x163F7170130>. Consider rewriting this model with the Functional API.\n",
      "WARNING:tensorflow:Layers in a Sequential model should only have a single input tensor. Received: inputs=<PIL.Image.Image image mode=RGB size=27x27 at 0x163F7171E80>. Consider rewriting this model with the Functional API.\n",
      "WARNING:tensorflow:Layers in a Sequential model should only have a single input tensor. Received: inputs=<PIL.Image.Image image mode=RGB size=27x27 at 0x163F716AA30>. Consider rewriting this model with the Functional API.\n",
      "WARNING:tensorflow:Layers in a Sequential model should only have a single input tensor. Received: inputs=<PIL.Image.Image image mode=RGB size=27x27 at 0x163F7167CA0>. Consider rewriting this model with the Functional API.\n",
      "WARNING:tensorflow:Layers in a Sequential model should only have a single input tensor. Received: inputs=<PIL.Image.Image image mode=RGB size=27x27 at 0x163F7171E80>. Consider rewriting this model with the Functional API.\n",
      "WARNING:tensorflow:Layers in a Sequential model should only have a single input tensor. Received: inputs=<PIL.Image.Image image mode=RGB size=27x27 at 0x163F716AA30>. Consider rewriting this model with the Functional API.\n"
     ]
    },
    {
     "name": "stderr",
     "output_type": "stream",
     "text": [
      "\r",
      "Adding images:  90%|███████████████████████████████████████████████████████▊      | 8346/9268 [00:22<00:06, 151.06it/s]"
     ]
    },
    {
     "name": "stdout",
     "output_type": "stream",
     "text": [
      "WARNING:tensorflow:Layers in a Sequential model should only have a single input tensor. Received: inputs=<PIL.Image.Image image mode=RGB size=27x27 at 0x163F7171E80>. Consider rewriting this model with the Functional API.\n",
      "WARNING:tensorflow:Layers in a Sequential model should only have a single input tensor. Received: inputs=<PIL.Image.Image image mode=RGB size=27x27 at 0x163F709ED90>. Consider rewriting this model with the Functional API.\n",
      "WARNING:tensorflow:Layers in a Sequential model should only have a single input tensor. Received: inputs=<PIL.Image.Image image mode=RGB size=27x27 at 0x163F709E400>. Consider rewriting this model with the Functional API.\n",
      "WARNING:tensorflow:Layers in a Sequential model should only have a single input tensor. Received: inputs=<PIL.Image.Image image mode=RGB size=27x27 at 0x163F71735E0>. Consider rewriting this model with the Functional API.\n",
      "WARNING:tensorflow:Layers in a Sequential model should only have a single input tensor. Received: inputs=<PIL.Image.Image image mode=RGB size=27x27 at 0x163F71749A0>. Consider rewriting this model with the Functional API.\n",
      "WARNING:tensorflow:Layers in a Sequential model should only have a single input tensor. Received: inputs=<PIL.Image.Image image mode=RGB size=27x27 at 0x163F71735E0>. Consider rewriting this model with the Functional API.\n",
      "WARNING:tensorflow:Layers in a Sequential model should only have a single input tensor. Received: inputs=<PIL.Image.Image image mode=RGB size=27x27 at 0x163F716AA30>. Consider rewriting this model with the Functional API.\n",
      "WARNING:tensorflow:Layers in a Sequential model should only have a single input tensor. Received: inputs=<PIL.Image.Image image mode=RGB size=27x27 at 0x163F71749A0>. Consider rewriting this model with the Functional API.\n",
      "WARNING:tensorflow:Layers in a Sequential model should only have a single input tensor. Received: inputs=<PIL.Image.Image image mode=RGB size=27x27 at 0x163F7171E80>. Consider rewriting this model with the Functional API.\n",
      "WARNING:tensorflow:Layers in a Sequential model should only have a single input tensor. Received: inputs=<PIL.Image.Image image mode=RGB size=27x27 at 0x163F716AA30>. Consider rewriting this model with the Functional API.\n",
      "WARNING:tensorflow:Layers in a Sequential model should only have a single input tensor. Received: inputs=<PIL.Image.Image image mode=RGB size=27x27 at 0x163F71749A0>. Consider rewriting this model with the Functional API.\n",
      "WARNING:tensorflow:Layers in a Sequential model should only have a single input tensor. Received: inputs=<PIL.Image.Image image mode=RGB size=27x27 at 0x163F7171E80>. Consider rewriting this model with the Functional API.\n",
      "WARNING:tensorflow:Layers in a Sequential model should only have a single input tensor. Received: inputs=<PIL.Image.Image image mode=RGB size=27x27 at 0x163F609E5E0>. Consider rewriting this model with the Functional API.\n",
      "WARNING:tensorflow:Layers in a Sequential model should only have a single input tensor. Received: inputs=<PIL.Image.Image image mode=RGB size=27x27 at 0x163F7167CA0>. Consider rewriting this model with the Functional API.\n",
      "WARNING:tensorflow:Layers in a Sequential model should only have a single input tensor. Received: inputs=<PIL.Image.Image image mode=RGB size=27x27 at 0x163F7171E80>. Consider rewriting this model with the Functional API.\n",
      "WARNING:tensorflow:Layers in a Sequential model should only have a single input tensor. Received: inputs=<PIL.Image.Image image mode=RGB size=27x27 at 0x163F609E5E0>. Consider rewriting this model with the Functional API.\n"
     ]
    },
    {
     "name": "stderr",
     "output_type": "stream",
     "text": [
      "\r",
      "Adding images:  90%|███████████████████████████████████████████████████████▉      | 8362/9268 [00:22<00:06, 147.64it/s]"
     ]
    },
    {
     "name": "stdout",
     "output_type": "stream",
     "text": [
      "WARNING:tensorflow:Layers in a Sequential model should only have a single input tensor. Received: inputs=<PIL.Image.Image image mode=RGB size=27x27 at 0x163F7171E80>. Consider rewriting this model with the Functional API.\n",
      "WARNING:tensorflow:Layers in a Sequential model should only have a single input tensor. Received: inputs=<PIL.Image.Image image mode=RGB size=27x27 at 0x163F609E5E0>. Consider rewriting this model with the Functional API.\n",
      "WARNING:tensorflow:Layers in a Sequential model should only have a single input tensor. Received: inputs=<PIL.Image.Image image mode=RGB size=27x27 at 0x163F716AA30>. Consider rewriting this model with the Functional API.\n",
      "WARNING:tensorflow:Layers in a Sequential model should only have a single input tensor. Received: inputs=<PIL.Image.Image image mode=RGB size=27x27 at 0x163F7171E80>. Consider rewriting this model with the Functional API.\n",
      "WARNING:tensorflow:Layers in a Sequential model should only have a single input tensor. Received: inputs=<PIL.Image.Image image mode=RGB size=27x27 at 0x163F7179D30>. Consider rewriting this model with the Functional API.\n",
      "WARNING:tensorflow:Layers in a Sequential model should only have a single input tensor. Received: inputs=<PIL.Image.Image image mode=RGB size=27x27 at 0x163F716AA30>. Consider rewriting this model with the Functional API.\n",
      "WARNING:tensorflow:Layers in a Sequential model should only have a single input tensor. Received: inputs=<PIL.Image.Image image mode=RGB size=27x27 at 0x163F7167CA0>. Consider rewriting this model with the Functional API.\n",
      "WARNING:tensorflow:Layers in a Sequential model should only have a single input tensor. Received: inputs=<PIL.Image.Image image mode=RGB size=27x27 at 0x163F716AA30>. Consider rewriting this model with the Functional API.\n",
      "WARNING:tensorflow:Layers in a Sequential model should only have a single input tensor. Received: inputs=<PIL.Image.Image image mode=RGB size=27x27 at 0x163F7167CA0>. Consider rewriting this model with the Functional API.\n",
      "WARNING:tensorflow:Layers in a Sequential model should only have a single input tensor. Received: inputs=<PIL.Image.Image image mode=RGB size=27x27 at 0x163F716AA30>. Consider rewriting this model with the Functional API.\n",
      "WARNING:tensorflow:Layers in a Sequential model should only have a single input tensor. Received: inputs=<PIL.Image.Image image mode=RGB size=27x27 at 0x163F7167CA0>. Consider rewriting this model with the Functional API.\n",
      "WARNING:tensorflow:Layers in a Sequential model should only have a single input tensor. Received: inputs=<PIL.Image.Image image mode=RGB size=27x27 at 0x163F716AA30>. Consider rewriting this model with the Functional API.\n",
      "WARNING:tensorflow:Layers in a Sequential model should only have a single input tensor. Received: inputs=<PIL.Image.Image image mode=RGB size=27x27 at 0x163F7167CA0>. Consider rewriting this model with the Functional API.\n",
      "WARNING:tensorflow:Layers in a Sequential model should only have a single input tensor. Received: inputs=<PIL.Image.Image image mode=RGB size=27x27 at 0x163F716AA30>. Consider rewriting this model with the Functional API.\n",
      "WARNING:tensorflow:Layers in a Sequential model should only have a single input tensor. Received: inputs=<PIL.Image.Image image mode=RGB size=27x27 at 0x163F7167CA0>. Consider rewriting this model with the Functional API.\n",
      "WARNING:tensorflow:Layers in a Sequential model should only have a single input tensor. Received: inputs=<PIL.Image.Image image mode=RGB size=27x27 at 0x163F716AA30>. Consider rewriting this model with the Functional API.\n"
     ]
    },
    {
     "name": "stderr",
     "output_type": "stream",
     "text": [
      "\r",
      "Adding images:  90%|████████████████████████████████████████████████████████      | 8378/9268 [00:22<00:05, 149.41it/s]"
     ]
    },
    {
     "name": "stdout",
     "output_type": "stream",
     "text": [
      "WARNING:tensorflow:Layers in a Sequential model should only have a single input tensor. Received: inputs=<PIL.Image.Image image mode=RGB size=27x27 at 0x163F71749A0>. Consider rewriting this model with the Functional API.\n",
      "WARNING:tensorflow:Layers in a Sequential model should only have a single input tensor. Received: inputs=<PIL.Image.Image image mode=RGB size=27x27 at 0x163F71760D0>. Consider rewriting this model with the Functional API.\n",
      "WARNING:tensorflow:Layers in a Sequential model should only have a single input tensor. Received: inputs=<PIL.Image.Image image mode=RGB size=27x27 at 0x163F7176DC0>. Consider rewriting this model with the Functional API.\n",
      "WARNING:tensorflow:Layers in a Sequential model should only have a single input tensor. Received: inputs=<PIL.Image.Image image mode=RGB size=27x27 at 0x163F7167CA0>. Consider rewriting this model with the Functional API.\n",
      "WARNING:tensorflow:Layers in a Sequential model should only have a single input tensor. Received: inputs=<PIL.Image.Image image mode=RGB size=27x27 at 0x163F716AA30>. Consider rewriting this model with the Functional API.\n",
      "WARNING:tensorflow:Layers in a Sequential model should only have a single input tensor. Received: inputs=<PIL.Image.Image image mode=RGB size=27x27 at 0x163F7176AC0>. Consider rewriting this model with the Functional API.\n",
      "WARNING:tensorflow:Layers in a Sequential model should only have a single input tensor. Received: inputs=<PIL.Image.Image image mode=RGB size=27x27 at 0x163F71749A0>. Consider rewriting this model with the Functional API.\n",
      "WARNING:tensorflow:Layers in a Sequential model should only have a single input tensor. Received: inputs=<PIL.Image.Image image mode=RGB size=27x27 at 0x163F7176AC0>. Consider rewriting this model with the Functional API.\n",
      "WARNING:tensorflow:Layers in a Sequential model should only have a single input tensor. Received: inputs=<PIL.Image.Image image mode=RGB size=27x27 at 0x163F716AA30>. Consider rewriting this model with the Functional API.\n",
      "WARNING:tensorflow:Layers in a Sequential model should only have a single input tensor. Received: inputs=<PIL.Image.Image image mode=RGB size=27x27 at 0x163F7176AC0>. Consider rewriting this model with the Functional API.\n",
      "WARNING:tensorflow:Layers in a Sequential model should only have a single input tensor. Received: inputs=<PIL.Image.Image image mode=RGB size=27x27 at 0x163F71749A0>. Consider rewriting this model with the Functional API.\n",
      "WARNING:tensorflow:Layers in a Sequential model should only have a single input tensor. Received: inputs=<PIL.Image.Image image mode=RGB size=27x27 at 0x163F7176730>. Consider rewriting this model with the Functional API.\n",
      "WARNING:tensorflow:Layers in a Sequential model should only have a single input tensor. Received: inputs=<PIL.Image.Image image mode=RGB size=27x27 at 0x163F7167CA0>. Consider rewriting this model with the Functional API.\n",
      "WARNING:tensorflow:Layers in a Sequential model should only have a single input tensor. Received: inputs=<PIL.Image.Image image mode=RGB size=27x27 at 0x163F7171E80>. Consider rewriting this model with the Functional API.\n",
      "WARNING:tensorflow:Layers in a Sequential model should only have a single input tensor. Received: inputs=<PIL.Image.Image image mode=RGB size=27x27 at 0x163F7167CA0>. Consider rewriting this model with the Functional API.\n"
     ]
    },
    {
     "name": "stderr",
     "output_type": "stream",
     "text": [
      "\r",
      "Adding images:  91%|████████████████████████████████████████████████████████▏     | 8393/9268 [00:23<00:05, 148.69it/s]"
     ]
    },
    {
     "name": "stdout",
     "output_type": "stream",
     "text": [
      "WARNING:tensorflow:Layers in a Sequential model should only have a single input tensor. Received: inputs=<PIL.Image.Image image mode=RGB size=27x27 at 0x163F7179BB0>. Consider rewriting this model with the Functional API.\n",
      "WARNING:tensorflow:Layers in a Sequential model should only have a single input tensor. Received: inputs=<PIL.Image.Image image mode=RGB size=27x27 at 0x163F7171E80>. Consider rewriting this model with the Functional API.\n",
      "WARNING:tensorflow:Layers in a Sequential model should only have a single input tensor. Received: inputs=<PIL.Image.Image image mode=RGB size=27x27 at 0x163F716AA30>. Consider rewriting this model with the Functional API.\n",
      "WARNING:tensorflow:Layers in a Sequential model should only have a single input tensor. Received: inputs=<PIL.Image.Image image mode=RGB size=27x27 at 0x163F7167CA0>. Consider rewriting this model with the Functional API.\n",
      "WARNING:tensorflow:Layers in a Sequential model should only have a single input tensor. Received: inputs=<PIL.Image.Image image mode=RGB size=27x27 at 0x163F7171E80>. Consider rewriting this model with the Functional API.\n",
      "WARNING:tensorflow:Layers in a Sequential model should only have a single input tensor. Received: inputs=<PIL.Image.Image image mode=RGB size=27x27 at 0x163F716AA30>. Consider rewriting this model with the Functional API.\n",
      "WARNING:tensorflow:Layers in a Sequential model should only have a single input tensor. Received: inputs=<PIL.Image.Image image mode=RGB size=27x27 at 0x163F7167CA0>. Consider rewriting this model with the Functional API.\n",
      "WARNING:tensorflow:Layers in a Sequential model should only have a single input tensor. Received: inputs=<PIL.Image.Image image mode=RGB size=27x27 at 0x163F71749A0>. Consider rewriting this model with the Functional API.\n",
      "WARNING:tensorflow:Layers in a Sequential model should only have a single input tensor. Received: inputs=<PIL.Image.Image image mode=RGB size=27x27 at 0x163F71704F0>. Consider rewriting this model with the Functional API.\n",
      "WARNING:tensorflow:Layers in a Sequential model should only have a single input tensor. Received: inputs=<PIL.Image.Image image mode=RGB size=27x27 at 0x163F716AA30>. Consider rewriting this model with the Functional API.\n",
      "WARNING:tensorflow:Layers in a Sequential model should only have a single input tensor. Received: inputs=<PIL.Image.Image image mode=RGB size=27x27 at 0x163F71704F0>. Consider rewriting this model with the Functional API.\n",
      "WARNING:tensorflow:Layers in a Sequential model should only have a single input tensor. Received: inputs=<PIL.Image.Image image mode=RGB size=27x27 at 0x163F71749A0>. Consider rewriting this model with the Functional API.\n",
      "WARNING:tensorflow:Layers in a Sequential model should only have a single input tensor. Received: inputs=<PIL.Image.Image image mode=RGB size=27x27 at 0x163F71735E0>. Consider rewriting this model with the Functional API.\n",
      "WARNING:tensorflow:Layers in a Sequential model should only have a single input tensor. Received: inputs=<PIL.Image.Image image mode=RGB size=27x27 at 0x163F7167CA0>. Consider rewriting this model with the Functional API.\n",
      "WARNING:tensorflow:Layers in a Sequential model should only have a single input tensor. Received: inputs=<PIL.Image.Image image mode=RGB size=27x27 at 0x163F71749A0>. Consider rewriting this model with the Functional API.\n",
      "WARNING:tensorflow:Layers in a Sequential model should only have a single input tensor. Received: inputs=<PIL.Image.Image image mode=RGB size=27x27 at 0x163F71794F0>. Consider rewriting this model with the Functional API.\n"
     ]
    },
    {
     "name": "stderr",
     "output_type": "stream",
     "text": [
      "\r",
      "Adding images:  91%|████████████████████████████████████████████████████████▎     | 8409/9268 [00:23<00:05, 151.91it/s]"
     ]
    },
    {
     "name": "stdout",
     "output_type": "stream",
     "text": [
      "WARNING:tensorflow:Layers in a Sequential model should only have a single input tensor. Received: inputs=<PIL.Image.Image image mode=RGB size=27x27 at 0x163F71749A0>. Consider rewriting this model with the Functional API.\n",
      "WARNING:tensorflow:Layers in a Sequential model should only have a single input tensor. Received: inputs=<PIL.Image.Image image mode=RGB size=27x27 at 0x163F7171E80>. Consider rewriting this model with the Functional API.\n",
      "WARNING:tensorflow:Layers in a Sequential model should only have a single input tensor. Received: inputs=<PIL.Image.Image image mode=RGB size=27x27 at 0x163F716AA30>. Consider rewriting this model with the Functional API.\n",
      "WARNING:tensorflow:Layers in a Sequential model should only have a single input tensor. Received: inputs=<PIL.Image.Image image mode=RGB size=27x27 at 0x163F71749A0>. Consider rewriting this model with the Functional API.\n",
      "WARNING:tensorflow:Layers in a Sequential model should only have a single input tensor. Received: inputs=<PIL.Image.Image image mode=RGB size=27x27 at 0x163F7171E80>. Consider rewriting this model with the Functional API.\n",
      "WARNING:tensorflow:Layers in a Sequential model should only have a single input tensor. Received: inputs=<PIL.Image.Image image mode=RGB size=27x27 at 0x163F716AA30>. Consider rewriting this model with the Functional API.\n",
      "WARNING:tensorflow:Layers in a Sequential model should only have a single input tensor. Received: inputs=<PIL.Image.Image image mode=RGB size=27x27 at 0x163F71749A0>. Consider rewriting this model with the Functional API.\n",
      "WARNING:tensorflow:Layers in a Sequential model should only have a single input tensor. Received: inputs=<PIL.Image.Image image mode=RGB size=27x27 at 0x163F7171E80>. Consider rewriting this model with the Functional API.\n",
      "WARNING:tensorflow:Layers in a Sequential model should only have a single input tensor. Received: inputs=<PIL.Image.Image image mode=RGB size=27x27 at 0x163F716AA30>. Consider rewriting this model with the Functional API.\n",
      "WARNING:tensorflow:Layers in a Sequential model should only have a single input tensor. Received: inputs=<PIL.Image.Image image mode=RGB size=27x27 at 0x163F71749A0>. Consider rewriting this model with the Functional API.\n",
      "WARNING:tensorflow:Layers in a Sequential model should only have a single input tensor. Received: inputs=<PIL.Image.Image image mode=RGB size=27x27 at 0x163F7171E80>. Consider rewriting this model with the Functional API.\n",
      "WARNING:tensorflow:Layers in a Sequential model should only have a single input tensor. Received: inputs=<PIL.Image.Image image mode=RGB size=27x27 at 0x163F716AA30>. Consider rewriting this model with the Functional API.\n",
      "WARNING:tensorflow:Layers in a Sequential model should only have a single input tensor. Received: inputs=<PIL.Image.Image image mode=RGB size=27x27 at 0x163F71749A0>. Consider rewriting this model with the Functional API.\n",
      "WARNING:tensorflow:Layers in a Sequential model should only have a single input tensor. Received: inputs=<PIL.Image.Image image mode=RGB size=27x27 at 0x163F7171E80>. Consider rewriting this model with the Functional API.\n",
      "WARNING:tensorflow:Layers in a Sequential model should only have a single input tensor. Received: inputs=<PIL.Image.Image image mode=RGB size=27x27 at 0x163F716AA30>. Consider rewriting this model with the Functional API.\n",
      "WARNING:tensorflow:Layers in a Sequential model should only have a single input tensor. Received: inputs=<PIL.Image.Image image mode=RGB size=27x27 at 0x163F71749A0>. Consider rewriting this model with the Functional API.\n"
     ]
    },
    {
     "name": "stderr",
     "output_type": "stream",
     "text": [
      "\r",
      "Adding images:  91%|████████████████████████████████████████████████████████▎     | 8425/9268 [00:23<00:05, 151.14it/s]"
     ]
    },
    {
     "name": "stdout",
     "output_type": "stream",
     "text": [
      "WARNING:tensorflow:Layers in a Sequential model should only have a single input tensor. Received: inputs=<PIL.Image.Image image mode=RGB size=27x27 at 0x163F7171B50>. Consider rewriting this model with the Functional API.\n",
      "WARNING:tensorflow:Layers in a Sequential model should only have a single input tensor. Received: inputs=<PIL.Image.Image image mode=RGB size=27x27 at 0x163F7170D30>. Consider rewriting this model with the Functional API.\n",
      "WARNING:tensorflow:Layers in a Sequential model should only have a single input tensor. Received: inputs=<PIL.Image.Image image mode=RGB size=27x27 at 0x163F7171B50>. Consider rewriting this model with the Functional API.\n",
      "WARNING:tensorflow:Layers in a Sequential model should only have a single input tensor. Received: inputs=<PIL.Image.Image image mode=RGB size=27x27 at 0x163F716AA30>. Consider rewriting this model with the Functional API.\n",
      "WARNING:tensorflow:Layers in a Sequential model should only have a single input tensor. Received: inputs=<PIL.Image.Image image mode=RGB size=27x27 at 0x163F7171B50>. Consider rewriting this model with the Functional API.\n",
      "WARNING:tensorflow:Layers in a Sequential model should only have a single input tensor. Received: inputs=<PIL.Image.Image image mode=RGB size=27x27 at 0x163F709ECA0>. Consider rewriting this model with the Functional API.\n",
      "WARNING:tensorflow:Layers in a Sequential model should only have a single input tensor. Received: inputs=<PIL.Image.Image image mode=RGB size=27x27 at 0x163F7171B50>. Consider rewriting this model with the Functional API.\n",
      "WARNING:tensorflow:Layers in a Sequential model should only have a single input tensor. Received: inputs=<PIL.Image.Image image mode=RGB size=27x27 at 0x163F709ED90>. Consider rewriting this model with the Functional API.\n",
      "WARNING:tensorflow:Layers in a Sequential model should only have a single input tensor. Received: inputs=<PIL.Image.Image image mode=RGB size=27x27 at 0x163F716AA30>. Consider rewriting this model with the Functional API.\n",
      "WARNING:tensorflow:Layers in a Sequential model should only have a single input tensor. Received: inputs=<PIL.Image.Image image mode=RGB size=27x27 at 0x163F71735E0>. Consider rewriting this model with the Functional API.\n",
      "WARNING:tensorflow:Layers in a Sequential model should only have a single input tensor. Received: inputs=<PIL.Image.Image image mode=RGB size=27x27 at 0x163F716AA30>. Consider rewriting this model with the Functional API.\n",
      "WARNING:tensorflow:Layers in a Sequential model should only have a single input tensor. Received: inputs=<PIL.Image.Image image mode=RGB size=27x27 at 0x163F71735E0>. Consider rewriting this model with the Functional API.\n",
      "WARNING:tensorflow:Layers in a Sequential model should only have a single input tensor. Received: inputs=<PIL.Image.Image image mode=RGB size=27x27 at 0x163F716AA30>. Consider rewriting this model with the Functional API.\n",
      "WARNING:tensorflow:Layers in a Sequential model should only have a single input tensor. Received: inputs=<PIL.Image.Image image mode=RGB size=27x27 at 0x163F71735E0>. Consider rewriting this model with the Functional API.\n",
      "WARNING:tensorflow:Layers in a Sequential model should only have a single input tensor. Received: inputs=<PIL.Image.Image image mode=RGB size=27x27 at 0x163F716AA30>. Consider rewriting this model with the Functional API.\n",
      "WARNING:tensorflow:Layers in a Sequential model should only have a single input tensor. Received: inputs=<PIL.Image.Image image mode=RGB size=27x27 at 0x163F71735E0>. Consider rewriting this model with the Functional API.\n"
     ]
    },
    {
     "name": "stderr",
     "output_type": "stream",
     "text": [
      "\r",
      "Adding images:  91%|████████████████████████████████████████████████████████▍     | 8441/9268 [00:23<00:05, 151.88it/s]"
     ]
    },
    {
     "name": "stdout",
     "output_type": "stream",
     "text": [
      "WARNING:tensorflow:Layers in a Sequential model should only have a single input tensor. Received: inputs=<PIL.Image.Image image mode=RGB size=27x27 at 0x163F7171E80>. Consider rewriting this model with the Functional API.\n",
      "WARNING:tensorflow:Layers in a Sequential model should only have a single input tensor. Received: inputs=<PIL.Image.Image image mode=RGB size=27x27 at 0x163F7171E80>. Consider rewriting this model with the Functional API.\n",
      "WARNING:tensorflow:Layers in a Sequential model should only have a single input tensor. Received: inputs=<PIL.Image.Image image mode=RGB size=27x27 at 0x163F71735E0>. Consider rewriting this model with the Functional API.\n",
      "WARNING:tensorflow:Layers in a Sequential model should only have a single input tensor. Received: inputs=<PIL.Image.Image image mode=RGB size=27x27 at 0x163F716AA30>. Consider rewriting this model with the Functional API.\n",
      "WARNING:tensorflow:Layers in a Sequential model should only have a single input tensor. Received: inputs=<PIL.Image.Image image mode=RGB size=27x27 at 0x163F71749A0>. Consider rewriting this model with the Functional API.\n",
      "WARNING:tensorflow:Layers in a Sequential model should only have a single input tensor. Received: inputs=<PIL.Image.Image image mode=RGB size=27x27 at 0x163F7171E80>. Consider rewriting this model with the Functional API.\n",
      "WARNING:tensorflow:Layers in a Sequential model should only have a single input tensor. Received: inputs=<PIL.Image.Image image mode=RGB size=27x27 at 0x163F71735E0>. Consider rewriting this model with the Functional API.\n",
      "WARNING:tensorflow:Layers in a Sequential model should only have a single input tensor. Received: inputs=<PIL.Image.Image image mode=RGB size=27x27 at 0x163F7171E80>. Consider rewriting this model with the Functional API.\n",
      "WARNING:tensorflow:Layers in a Sequential model should only have a single input tensor. Received: inputs=<PIL.Image.Image image mode=RGB size=27x27 at 0x163F71749A0>. Consider rewriting this model with the Functional API.\n",
      "WARNING:tensorflow:Layers in a Sequential model should only have a single input tensor. Received: inputs=<PIL.Image.Image image mode=RGB size=27x27 at 0x163F7179100>. Consider rewriting this model with the Functional API.\n",
      "WARNING:tensorflow:Layers in a Sequential model should only have a single input tensor. Received: inputs=<PIL.Image.Image image mode=RGB size=27x27 at 0x163F716AA30>. Consider rewriting this model with the Functional API.\n",
      "WARNING:tensorflow:Layers in a Sequential model should only have a single input tensor. Received: inputs=<PIL.Image.Image image mode=RGB size=27x27 at 0x163F71749A0>. Consider rewriting this model with the Functional API.\n",
      "WARNING:tensorflow:Layers in a Sequential model should only have a single input tensor. Received: inputs=<PIL.Image.Image image mode=RGB size=27x27 at 0x163F71735E0>. Consider rewriting this model with the Functional API.\n",
      "WARNING:tensorflow:Layers in a Sequential model should only have a single input tensor. Received: inputs=<PIL.Image.Image image mode=RGB size=27x27 at 0x163F7171E80>. Consider rewriting this model with the Functional API.\n",
      "WARNING:tensorflow:Layers in a Sequential model should only have a single input tensor. Received: inputs=<PIL.Image.Image image mode=RGB size=27x27 at 0x163F716AA30>. Consider rewriting this model with the Functional API.\n",
      "WARNING:tensorflow:Layers in a Sequential model should only have a single input tensor. Received: inputs=<PIL.Image.Image image mode=RGB size=27x27 at 0x163F7171E80>. Consider rewriting this model with the Functional API.\n"
     ]
    },
    {
     "name": "stderr",
     "output_type": "stream",
     "text": [
      "\r",
      "Adding images:  91%|████████████████████████████████████████████████████████▌     | 8457/9268 [00:23<00:05, 150.26it/s]"
     ]
    },
    {
     "name": "stdout",
     "output_type": "stream",
     "text": [
      "WARNING:tensorflow:Layers in a Sequential model should only have a single input tensor. Received: inputs=<PIL.Image.Image image mode=RGB size=27x27 at 0x163F716AA30>. Consider rewriting this model with the Functional API.\n",
      "WARNING:tensorflow:Layers in a Sequential model should only have a single input tensor. Received: inputs=<PIL.Image.Image image mode=RGB size=27x27 at 0x163F7176400>. Consider rewriting this model with the Functional API.\n",
      "WARNING:tensorflow:Layers in a Sequential model should only have a single input tensor. Received: inputs=<PIL.Image.Image image mode=RGB size=27x27 at 0x163F71735E0>. Consider rewriting this model with the Functional API.\n",
      "WARNING:tensorflow:Layers in a Sequential model should only have a single input tensor. Received: inputs=<PIL.Image.Image image mode=RGB size=27x27 at 0x163F7171B50>. Consider rewriting this model with the Functional API.\n",
      "WARNING:tensorflow:Layers in a Sequential model should only have a single input tensor. Received: inputs=<PIL.Image.Image image mode=RGB size=27x27 at 0x163F716AA30>. Consider rewriting this model with the Functional API.\n",
      "WARNING:tensorflow:Layers in a Sequential model should only have a single input tensor. Received: inputs=<PIL.Image.Image image mode=RGB size=27x27 at 0x163F7170130>. Consider rewriting this model with the Functional API.\n",
      "WARNING:tensorflow:Layers in a Sequential model should only have a single input tensor. Received: inputs=<PIL.Image.Image image mode=RGB size=27x27 at 0x163F71749A0>. Consider rewriting this model with the Functional API.\n",
      "WARNING:tensorflow:Layers in a Sequential model should only have a single input tensor. Received: inputs=<PIL.Image.Image image mode=RGB size=27x27 at 0x163F7170130>. Consider rewriting this model with the Functional API.\n",
      "WARNING:tensorflow:Layers in a Sequential model should only have a single input tensor. Received: inputs=<PIL.Image.Image image mode=RGB size=27x27 at 0x163F7167CA0>. Consider rewriting this model with the Functional API.\n",
      "WARNING:tensorflow:Layers in a Sequential model should only have a single input tensor. Received: inputs=<PIL.Image.Image image mode=RGB size=27x27 at 0x163F7170130>. Consider rewriting this model with the Functional API.\n",
      "WARNING:tensorflow:Layers in a Sequential model should only have a single input tensor. Received: inputs=<PIL.Image.Image image mode=RGB size=27x27 at 0x163F71749A0>. Consider rewriting this model with the Functional API.\n",
      "WARNING:tensorflow:Layers in a Sequential model should only have a single input tensor. Received: inputs=<PIL.Image.Image image mode=RGB size=27x27 at 0x163F7170130>. Consider rewriting this model with the Functional API.\n",
      "WARNING:tensorflow:Layers in a Sequential model should only have a single input tensor. Received: inputs=<PIL.Image.Image image mode=RGB size=27x27 at 0x163F7167CA0>. Consider rewriting this model with the Functional API.\n",
      "WARNING:tensorflow:Layers in a Sequential model should only have a single input tensor. Received: inputs=<PIL.Image.Image image mode=RGB size=27x27 at 0x163F7170130>. Consider rewriting this model with the Functional API.\n",
      "WARNING:tensorflow:Layers in a Sequential model should only have a single input tensor. Received: inputs=<PIL.Image.Image image mode=RGB size=27x27 at 0x163F71749A0>. Consider rewriting this model with the Functional API.\n",
      "WARNING:tensorflow:Layers in a Sequential model should only have a single input tensor. Received: inputs=<PIL.Image.Image image mode=RGB size=27x27 at 0x163F7170130>. Consider rewriting this model with the Functional API.\n"
     ]
    },
    {
     "name": "stderr",
     "output_type": "stream",
     "text": [
      "\r",
      "Adding images:  91%|████████████████████████████████████████████████████████▋     | 8473/9268 [00:23<00:05, 148.33it/s]"
     ]
    },
    {
     "name": "stdout",
     "output_type": "stream",
     "text": [
      "WARNING:tensorflow:Layers in a Sequential model should only have a single input tensor. Received: inputs=<PIL.Image.Image image mode=RGB size=27x27 at 0x163F71735B0>. Consider rewriting this model with the Functional API.\n",
      "WARNING:tensorflow:Layers in a Sequential model should only have a single input tensor. Received: inputs=<PIL.Image.Image image mode=RGB size=27x27 at 0x163F716AA30>. Consider rewriting this model with the Functional API.\n",
      "WARNING:tensorflow:Layers in a Sequential model should only have a single input tensor. Received: inputs=<PIL.Image.Image image mode=RGB size=27x27 at 0x163F7167CA0>. Consider rewriting this model with the Functional API.\n",
      "WARNING:tensorflow:Layers in a Sequential model should only have a single input tensor. Received: inputs=<PIL.Image.Image image mode=RGB size=27x27 at 0x163F716AA30>. Consider rewriting this model with the Functional API.\n",
      "WARNING:tensorflow:Layers in a Sequential model should only have a single input tensor. Received: inputs=<PIL.Image.Image image mode=RGB size=27x27 at 0x163F7167CA0>. Consider rewriting this model with the Functional API.\n",
      "WARNING:tensorflow:Layers in a Sequential model should only have a single input tensor. Received: inputs=<PIL.Image.Image image mode=RGB size=27x27 at 0x163F716AA30>. Consider rewriting this model with the Functional API.\n",
      "WARNING:tensorflow:Layers in a Sequential model should only have a single input tensor. Received: inputs=<PIL.Image.Image image mode=RGB size=27x27 at 0x163F7167CA0>. Consider rewriting this model with the Functional API.\n",
      "WARNING:tensorflow:Layers in a Sequential model should only have a single input tensor. Received: inputs=<PIL.Image.Image image mode=RGB size=27x27 at 0x163F709EEE0>. Consider rewriting this model with the Functional API.\n",
      "WARNING:tensorflow:Layers in a Sequential model should only have a single input tensor. Received: inputs=<PIL.Image.Image image mode=RGB size=27x27 at 0x163F7167CA0>. Consider rewriting this model with the Functional API.\n",
      "WARNING:tensorflow:Layers in a Sequential model should only have a single input tensor. Received: inputs=<PIL.Image.Image image mode=RGB size=27x27 at 0x163F709EEE0>. Consider rewriting this model with the Functional API.\n",
      "WARNING:tensorflow:Layers in a Sequential model should only have a single input tensor. Received: inputs=<PIL.Image.Image image mode=RGB size=27x27 at 0x163F71704F0>. Consider rewriting this model with the Functional API.\n",
      "WARNING:tensorflow:Layers in a Sequential model should only have a single input tensor. Received: inputs=<PIL.Image.Image image mode=RGB size=27x27 at 0x163F7171B50>. Consider rewriting this model with the Functional API.\n",
      "WARNING:tensorflow:Layers in a Sequential model should only have a single input tensor. Received: inputs=<PIL.Image.Image image mode=RGB size=27x27 at 0x163F7171130>. Consider rewriting this model with the Functional API.\n",
      "WARNING:tensorflow:Layers in a Sequential model should only have a single input tensor. Received: inputs=<PIL.Image.Image image mode=RGB size=27x27 at 0x163F71704F0>. Consider rewriting this model with the Functional API.\n",
      "WARNING:tensorflow:Layers in a Sequential model should only have a single input tensor. Received: inputs=<PIL.Image.Image image mode=RGB size=27x27 at 0x163F7171130>. Consider rewriting this model with the Functional API.\n",
      "WARNING:tensorflow:Layers in a Sequential model should only have a single input tensor. Received: inputs=<PIL.Image.Image image mode=RGB size=27x27 at 0x163F7167CA0>. Consider rewriting this model with the Functional API.\n"
     ]
    },
    {
     "name": "stderr",
     "output_type": "stream",
     "text": [
      "\r",
      "Adding images:  92%|████████████████████████████████████████████████████████▊     | 8489/9268 [00:23<00:05, 149.06it/s]"
     ]
    },
    {
     "name": "stdout",
     "output_type": "stream",
     "text": [
      "WARNING:tensorflow:Layers in a Sequential model should only have a single input tensor. Received: inputs=<PIL.Image.Image image mode=RGB size=27x27 at 0x163F71766A0>. Consider rewriting this model with the Functional API.\n",
      "WARNING:tensorflow:Layers in a Sequential model should only have a single input tensor. Received: inputs=<PIL.Image.Image image mode=RGB size=27x27 at 0x163F7167CA0>. Consider rewriting this model with the Functional API.\n",
      "WARNING:tensorflow:Layers in a Sequential model should only have a single input tensor. Received: inputs=<PIL.Image.Image image mode=RGB size=27x27 at 0x163F709EEE0>. Consider rewriting this model with the Functional API.\n",
      "WARNING:tensorflow:Layers in a Sequential model should only have a single input tensor. Received: inputs=<PIL.Image.Image image mode=RGB size=27x27 at 0x163F71760D0>. Consider rewriting this model with the Functional API.\n",
      "WARNING:tensorflow:Layers in a Sequential model should only have a single input tensor. Received: inputs=<PIL.Image.Image image mode=RGB size=27x27 at 0x163F716AA30>. Consider rewriting this model with the Functional API.\n",
      "WARNING:tensorflow:Layers in a Sequential model should only have a single input tensor. Received: inputs=<PIL.Image.Image image mode=RGB size=27x27 at 0x163F71760D0>. Consider rewriting this model with the Functional API.\n",
      "WARNING:tensorflow:Layers in a Sequential model should only have a single input tensor. Received: inputs=<PIL.Image.Image image mode=RGB size=27x27 at 0x163F709EEE0>. Consider rewriting this model with the Functional API.\n",
      "WARNING:tensorflow:Layers in a Sequential model should only have a single input tensor. Received: inputs=<PIL.Image.Image image mode=RGB size=27x27 at 0x163F7179B20>. Consider rewriting this model with the Functional API.\n",
      "WARNING:tensorflow:Layers in a Sequential model should only have a single input tensor. Received: inputs=<PIL.Image.Image image mode=RGB size=27x27 at 0x163F7179E80>. Consider rewriting this model with the Functional API.\n",
      "WARNING:tensorflow:Layers in a Sequential model should only have a single input tensor. Received: inputs=<PIL.Image.Image image mode=RGB size=27x27 at 0x163F7171130>. Consider rewriting this model with the Functional API.\n",
      "WARNING:tensorflow:Layers in a Sequential model should only have a single input tensor. Received: inputs=<PIL.Image.Image image mode=RGB size=27x27 at 0x163F7179520>. Consider rewriting this model with the Functional API.\n",
      "WARNING:tensorflow:Layers in a Sequential model should only have a single input tensor. Received: inputs=<PIL.Image.Image image mode=RGB size=27x27 at 0x163F7171B50>. Consider rewriting this model with the Functional API.\n",
      "WARNING:tensorflow:Layers in a Sequential model should only have a single input tensor. Received: inputs=<PIL.Image.Image image mode=RGB size=27x27 at 0x163F716AA30>. Consider rewriting this model with the Functional API.\n",
      "WARNING:tensorflow:Layers in a Sequential model should only have a single input tensor. Received: inputs=<PIL.Image.Image image mode=RGB size=27x27 at 0x163F7167CA0>. Consider rewriting this model with the Functional API.\n",
      "WARNING:tensorflow:Layers in a Sequential model should only have a single input tensor. Received: inputs=<PIL.Image.Image image mode=RGB size=27x27 at 0x163F71735B0>. Consider rewriting this model with the Functional API.\n"
     ]
    },
    {
     "name": "stderr",
     "output_type": "stream",
     "text": [
      "\r",
      "Adding images:  92%|████████████████████████████████████████████████████████▉     | 8504/9268 [00:23<00:05, 148.87it/s]"
     ]
    },
    {
     "name": "stdout",
     "output_type": "stream",
     "text": [
      "WARNING:tensorflow:Layers in a Sequential model should only have a single input tensor. Received: inputs=<PIL.Image.Image image mode=RGB size=27x27 at 0x163F7167CA0>. Consider rewriting this model with the Functional API.\n",
      "WARNING:tensorflow:Layers in a Sequential model should only have a single input tensor. Received: inputs=<PIL.Image.Image image mode=RGB size=27x27 at 0x163F7171130>. Consider rewriting this model with the Functional API.\n",
      "WARNING:tensorflow:Layers in a Sequential model should only have a single input tensor. Received: inputs=<PIL.Image.Image image mode=RGB size=27x27 at 0x163F71704F0>. Consider rewriting this model with the Functional API.\n",
      "WARNING:tensorflow:Layers in a Sequential model should only have a single input tensor. Received: inputs=<PIL.Image.Image image mode=RGB size=27x27 at 0x163F7167CA0>. Consider rewriting this model with the Functional API.\n",
      "WARNING:tensorflow:Layers in a Sequential model should only have a single input tensor. Received: inputs=<PIL.Image.Image image mode=RGB size=27x27 at 0x163F71794F0>. Consider rewriting this model with the Functional API.\n",
      "WARNING:tensorflow:Layers in a Sequential model should only have a single input tensor. Received: inputs=<PIL.Image.Image image mode=RGB size=27x27 at 0x163F71704F0>. Consider rewriting this model with the Functional API.\n",
      "WARNING:tensorflow:Layers in a Sequential model should only have a single input tensor. Received: inputs=<PIL.Image.Image image mode=RGB size=27x27 at 0x163F71749A0>. Consider rewriting this model with the Functional API.\n",
      "WARNING:tensorflow:Layers in a Sequential model should only have a single input tensor. Received: inputs=<PIL.Image.Image image mode=RGB size=27x27 at 0x163F7176E20>. Consider rewriting this model with the Functional API.\n",
      "WARNING:tensorflow:Layers in a Sequential model should only have a single input tensor. Received: inputs=<PIL.Image.Image image mode=RGB size=27x27 at 0x163F71704F0>. Consider rewriting this model with the Functional API.\n",
      "WARNING:tensorflow:Layers in a Sequential model should only have a single input tensor. Received: inputs=<PIL.Image.Image image mode=RGB size=27x27 at 0x163F7171B50>. Consider rewriting this model with the Functional API.\n",
      "WARNING:tensorflow:Layers in a Sequential model should only have a single input tensor. Received: inputs=<PIL.Image.Image image mode=RGB size=27x27 at 0x163F7176400>. Consider rewriting this model with the Functional API.\n",
      "WARNING:tensorflow:Layers in a Sequential model should only have a single input tensor. Received: inputs=<PIL.Image.Image image mode=RGB size=27x27 at 0x163F71704F0>. Consider rewriting this model with the Functional API.\n",
      "WARNING:tensorflow:Layers in a Sequential model should only have a single input tensor. Received: inputs=<PIL.Image.Image image mode=RGB size=27x27 at 0x163F609EF40>. Consider rewriting this model with the Functional API.\n",
      "WARNING:tensorflow:Layers in a Sequential model should only have a single input tensor. Received: inputs=<PIL.Image.Image image mode=RGB size=27x27 at 0x163F7173DF0>. Consider rewriting this model with the Functional API.\n",
      "WARNING:tensorflow:Layers in a Sequential model should only have a single input tensor. Received: inputs=<PIL.Image.Image image mode=RGB size=27x27 at 0x163F7176E20>. Consider rewriting this model with the Functional API.\n",
      "WARNING:tensorflow:Layers in a Sequential model should only have a single input tensor. Received: inputs=<PIL.Image.Image image mode=RGB size=27x27 at 0x163F71704F0>. Consider rewriting this model with the Functional API.\n"
     ]
    },
    {
     "name": "stderr",
     "output_type": "stream",
     "text": [
      "\r",
      "Adding images:  92%|████████████████████████████████████████████████████████▉     | 8520/9268 [00:23<00:04, 151.61it/s]"
     ]
    },
    {
     "name": "stdout",
     "output_type": "stream",
     "text": [
      "WARNING:tensorflow:Layers in a Sequential model should only have a single input tensor. Received: inputs=<PIL.Image.Image image mode=RGB size=27x27 at 0x163F609EF40>. Consider rewriting this model with the Functional API.\n",
      "WARNING:tensorflow:Layers in a Sequential model should only have a single input tensor. Received: inputs=<PIL.Image.Image image mode=RGB size=27x27 at 0x163F7173DF0>. Consider rewriting this model with the Functional API.\n",
      "WARNING:tensorflow:Layers in a Sequential model should only have a single input tensor. Received: inputs=<PIL.Image.Image image mode=RGB size=27x27 at 0x163F71704F0>. Consider rewriting this model with the Functional API.\n",
      "WARNING:tensorflow:Layers in a Sequential model should only have a single input tensor. Received: inputs=<PIL.Image.Image image mode=RGB size=27x27 at 0x163F709EEB0>. Consider rewriting this model with the Functional API.\n",
      "WARNING:tensorflow:Layers in a Sequential model should only have a single input tensor. Received: inputs=<PIL.Image.Image image mode=RGB size=27x27 at 0x163F7173DF0>. Consider rewriting this model with the Functional API.\n",
      "WARNING:tensorflow:Layers in a Sequential model should only have a single input tensor. Received: inputs=<PIL.Image.Image image mode=RGB size=27x27 at 0x163F71704F0>. Consider rewriting this model with the Functional API.\n",
      "WARNING:tensorflow:Layers in a Sequential model should only have a single input tensor. Received: inputs=<PIL.Image.Image image mode=RGB size=27x27 at 0x163F609EF40>. Consider rewriting this model with the Functional API.\n",
      "WARNING:tensorflow:Layers in a Sequential model should only have a single input tensor. Received: inputs=<PIL.Image.Image image mode=RGB size=27x27 at 0x163F7173DF0>. Consider rewriting this model with the Functional API.\n",
      "WARNING:tensorflow:Layers in a Sequential model should only have a single input tensor. Received: inputs=<PIL.Image.Image image mode=RGB size=27x27 at 0x163F71704F0>. Consider rewriting this model with the Functional API.\n",
      "WARNING:tensorflow:Layers in a Sequential model should only have a single input tensor. Received: inputs=<PIL.Image.Image image mode=RGB size=27x27 at 0x163F71749A0>. Consider rewriting this model with the Functional API.\n",
      "WARNING:tensorflow:Layers in a Sequential model should only have a single input tensor. Received: inputs=<PIL.Image.Image image mode=RGB size=27x27 at 0x163F709EEE0>. Consider rewriting this model with the Functional API.\n",
      "WARNING:tensorflow:Layers in a Sequential model should only have a single input tensor. Received: inputs=<PIL.Image.Image image mode=RGB size=27x27 at 0x163F609E8B0>. Consider rewriting this model with the Functional API.\n",
      "WARNING:tensorflow:Layers in a Sequential model should only have a single input tensor. Received: inputs=<PIL.Image.Image image mode=RGB size=27x27 at 0x163F71749A0>. Consider rewriting this model with the Functional API.\n",
      "WARNING:tensorflow:Layers in a Sequential model should only have a single input tensor. Received: inputs=<PIL.Image.Image image mode=RGB size=27x27 at 0x163F709EEE0>. Consider rewriting this model with the Functional API.\n",
      "WARNING:tensorflow:Layers in a Sequential model should only have a single input tensor. Received: inputs=<PIL.Image.Image image mode=RGB size=27x27 at 0x163F7173DF0>. Consider rewriting this model with the Functional API.\n",
      "WARNING:tensorflow:Layers in a Sequential model should only have a single input tensor. Received: inputs=<PIL.Image.Image image mode=RGB size=27x27 at 0x163F71704F0>. Consider rewriting this model with the Functional API.\n"
     ]
    },
    {
     "name": "stderr",
     "output_type": "stream",
     "text": [
      "\r",
      "Adding images:  92%|█████████████████████████████████████████████████████████     | 8536/9268 [00:24<00:04, 153.79it/s]"
     ]
    },
    {
     "name": "stdout",
     "output_type": "stream",
     "text": [
      "WARNING:tensorflow:Layers in a Sequential model should only have a single input tensor. Received: inputs=<PIL.Image.Image image mode=RGB size=27x27 at 0x163F7173DF0>. Consider rewriting this model with the Functional API.\n",
      "WARNING:tensorflow:Layers in a Sequential model should only have a single input tensor. Received: inputs=<PIL.Image.Image image mode=RGB size=27x27 at 0x163F71704F0>. Consider rewriting this model with the Functional API.\n",
      "WARNING:tensorflow:Layers in a Sequential model should only have a single input tensor. Received: inputs=<PIL.Image.Image image mode=RGB size=27x27 at 0x163F609E8B0>. Consider rewriting this model with the Functional API.\n",
      "WARNING:tensorflow:Layers in a Sequential model should only have a single input tensor. Received: inputs=<PIL.Image.Image image mode=RGB size=27x27 at 0x163F709EEE0>. Consider rewriting this model with the Functional API.\n",
      "WARNING:tensorflow:Layers in a Sequential model should only have a single input tensor. Received: inputs=<PIL.Image.Image image mode=RGB size=27x27 at 0x163F71704F0>. Consider rewriting this model with the Functional API.\n",
      "WARNING:tensorflow:Layers in a Sequential model should only have a single input tensor. Received: inputs=<PIL.Image.Image image mode=RGB size=27x27 at 0x163F7173DF0>. Consider rewriting this model with the Functional API.\n",
      "WARNING:tensorflow:Layers in a Sequential model should only have a single input tensor. Received: inputs=<PIL.Image.Image image mode=RGB size=27x27 at 0x163F7167CA0>. Consider rewriting this model with the Functional API.\n",
      "WARNING:tensorflow:Layers in a Sequential model should only have a single input tensor. Received: inputs=<PIL.Image.Image image mode=RGB size=27x27 at 0x163F709EEE0>. Consider rewriting this model with the Functional API.\n",
      "WARNING:tensorflow:Layers in a Sequential model should only have a single input tensor. Received: inputs=<PIL.Image.Image image mode=RGB size=27x27 at 0x163F71704F0>. Consider rewriting this model with the Functional API.\n",
      "WARNING:tensorflow:Layers in a Sequential model should only have a single input tensor. Received: inputs=<PIL.Image.Image image mode=RGB size=27x27 at 0x163F7173DF0>. Consider rewriting this model with the Functional API.\n",
      "WARNING:tensorflow:Layers in a Sequential model should only have a single input tensor. Received: inputs=<PIL.Image.Image image mode=RGB size=27x27 at 0x163F7167CA0>. Consider rewriting this model with the Functional API.\n",
      "WARNING:tensorflow:Layers in a Sequential model should only have a single input tensor. Received: inputs=<PIL.Image.Image image mode=RGB size=27x27 at 0x163F709EEE0>. Consider rewriting this model with the Functional API.\n",
      "WARNING:tensorflow:Layers in a Sequential model should only have a single input tensor. Received: inputs=<PIL.Image.Image image mode=RGB size=27x27 at 0x163F71704F0>. Consider rewriting this model with the Functional API.\n",
      "WARNING:tensorflow:Layers in a Sequential model should only have a single input tensor. Received: inputs=<PIL.Image.Image image mode=RGB size=27x27 at 0x163F7173DF0>. Consider rewriting this model with the Functional API.\n",
      "WARNING:tensorflow:Layers in a Sequential model should only have a single input tensor. Received: inputs=<PIL.Image.Image image mode=RGB size=27x27 at 0x163F7167CA0>. Consider rewriting this model with the Functional API.\n",
      "WARNING:tensorflow:Layers in a Sequential model should only have a single input tensor. Received: inputs=<PIL.Image.Image image mode=RGB size=27x27 at 0x163F709EEE0>. Consider rewriting this model with the Functional API.\n"
     ]
    },
    {
     "name": "stderr",
     "output_type": "stream",
     "text": [
      "\r",
      "Adding images:  92%|█████████████████████████████████████████████████████████▏    | 8552/9268 [00:24<00:04, 153.76it/s]"
     ]
    },
    {
     "name": "stdout",
     "output_type": "stream",
     "text": [
      "WARNING:tensorflow:Layers in a Sequential model should only have a single input tensor. Received: inputs=<PIL.Image.Image image mode=RGB size=27x27 at 0x163F7173DF0>. Consider rewriting this model with the Functional API.\n",
      "WARNING:tensorflow:Layers in a Sequential model should only have a single input tensor. Received: inputs=<PIL.Image.Image image mode=RGB size=27x27 at 0x163F7171E80>. Consider rewriting this model with the Functional API.\n",
      "WARNING:tensorflow:Layers in a Sequential model should only have a single input tensor. Received: inputs=<PIL.Image.Image image mode=RGB size=27x27 at 0x163F716AA30>. Consider rewriting this model with the Functional API.\n",
      "WARNING:tensorflow:Layers in a Sequential model should only have a single input tensor. Received: inputs=<PIL.Image.Image image mode=RGB size=27x27 at 0x163F7167CA0>. Consider rewriting this model with the Functional API.\n",
      "WARNING:tensorflow:Layers in a Sequential model should only have a single input tensor. Received: inputs=<PIL.Image.Image image mode=RGB size=27x27 at 0x163F716AA30>. Consider rewriting this model with the Functional API.\n",
      "WARNING:tensorflow:Layers in a Sequential model should only have a single input tensor. Received: inputs=<PIL.Image.Image image mode=RGB size=27x27 at 0x163F7167CA0>. Consider rewriting this model with the Functional API.\n",
      "WARNING:tensorflow:Layers in a Sequential model should only have a single input tensor. Received: inputs=<PIL.Image.Image image mode=RGB size=27x27 at 0x163F716AA30>. Consider rewriting this model with the Functional API.\n",
      "WARNING:tensorflow:Layers in a Sequential model should only have a single input tensor. Received: inputs=<PIL.Image.Image image mode=RGB size=27x27 at 0x163F7167CA0>. Consider rewriting this model with the Functional API.\n",
      "WARNING:tensorflow:Layers in a Sequential model should only have a single input tensor. Received: inputs=<PIL.Image.Image image mode=RGB size=27x27 at 0x163F716AA30>. Consider rewriting this model with the Functional API.\n",
      "WARNING:tensorflow:Layers in a Sequential model should only have a single input tensor. Received: inputs=<PIL.Image.Image image mode=RGB size=27x27 at 0x163F7167CA0>. Consider rewriting this model with the Functional API.\n",
      "WARNING:tensorflow:Layers in a Sequential model should only have a single input tensor. Received: inputs=<PIL.Image.Image image mode=RGB size=27x27 at 0x163F716AA30>. Consider rewriting this model with the Functional API.\n",
      "WARNING:tensorflow:Layers in a Sequential model should only have a single input tensor. Received: inputs=<PIL.Image.Image image mode=RGB size=27x27 at 0x163F7167CA0>. Consider rewriting this model with the Functional API.\n",
      "WARNING:tensorflow:Layers in a Sequential model should only have a single input tensor. Received: inputs=<PIL.Image.Image image mode=RGB size=27x27 at 0x163F716AA30>. Consider rewriting this model with the Functional API.\n",
      "WARNING:tensorflow:Layers in a Sequential model should only have a single input tensor. Received: inputs=<PIL.Image.Image image mode=RGB size=27x27 at 0x163F7167CA0>. Consider rewriting this model with the Functional API.\n",
      "WARNING:tensorflow:Layers in a Sequential model should only have a single input tensor. Received: inputs=<PIL.Image.Image image mode=RGB size=27x27 at 0x163F716AA30>. Consider rewriting this model with the Functional API.\n",
      "WARNING:tensorflow:Layers in a Sequential model should only have a single input tensor. Received: inputs=<PIL.Image.Image image mode=RGB size=27x27 at 0x163F7167CA0>. Consider rewriting this model with the Functional API.\n"
     ]
    },
    {
     "name": "stderr",
     "output_type": "stream",
     "text": [
      "\r",
      "Adding images:  92%|█████████████████████████████████████████████████████████▎    | 8568/9268 [00:24<00:04, 153.30it/s]"
     ]
    },
    {
     "name": "stdout",
     "output_type": "stream",
     "text": [
      "WARNING:tensorflow:Layers in a Sequential model should only have a single input tensor. Received: inputs=<PIL.Image.Image image mode=RGB size=27x27 at 0x163F7170F10>. Consider rewriting this model with the Functional API.\n",
      "WARNING:tensorflow:Layers in a Sequential model should only have a single input tensor. Received: inputs=<PIL.Image.Image image mode=RGB size=27x27 at 0x163F716AA30>. Consider rewriting this model with the Functional API.\n",
      "WARNING:tensorflow:Layers in a Sequential model should only have a single input tensor. Received: inputs=<PIL.Image.Image image mode=RGB size=27x27 at 0x163F7170F10>. Consider rewriting this model with the Functional API.\n",
      "WARNING:tensorflow:Layers in a Sequential model should only have a single input tensor. Received: inputs=<PIL.Image.Image image mode=RGB size=27x27 at 0x163F71749A0>. Consider rewriting this model with the Functional API.\n",
      "WARNING:tensorflow:Layers in a Sequential model should only have a single input tensor. Received: inputs=<PIL.Image.Image image mode=RGB size=27x27 at 0x163F7170F10>. Consider rewriting this model with the Functional API.\n",
      "WARNING:tensorflow:Layers in a Sequential model should only have a single input tensor. Received: inputs=<PIL.Image.Image image mode=RGB size=27x27 at 0x163F716AA30>. Consider rewriting this model with the Functional API.\n",
      "WARNING:tensorflow:Layers in a Sequential model should only have a single input tensor. Received: inputs=<PIL.Image.Image image mode=RGB size=27x27 at 0x163F7170F10>. Consider rewriting this model with the Functional API.\n",
      "WARNING:tensorflow:Layers in a Sequential model should only have a single input tensor. Received: inputs=<PIL.Image.Image image mode=RGB size=27x27 at 0x163F71749A0>. Consider rewriting this model with the Functional API.\n",
      "WARNING:tensorflow:Layers in a Sequential model should only have a single input tensor. Received: inputs=<PIL.Image.Image image mode=RGB size=27x27 at 0x163F7170F10>. Consider rewriting this model with the Functional API.\n",
      "WARNING:tensorflow:Layers in a Sequential model should only have a single input tensor. Received: inputs=<PIL.Image.Image image mode=RGB size=27x27 at 0x163F716AA30>. Consider rewriting this model with the Functional API.\n",
      "WARNING:tensorflow:Layers in a Sequential model should only have a single input tensor. Received: inputs=<PIL.Image.Image image mode=RGB size=27x27 at 0x163F7170F10>. Consider rewriting this model with the Functional API.\n",
      "WARNING:tensorflow:Layers in a Sequential model should only have a single input tensor. Received: inputs=<PIL.Image.Image image mode=RGB size=27x27 at 0x163F71749A0>. Consider rewriting this model with the Functional API.\n",
      "WARNING:tensorflow:Layers in a Sequential model should only have a single input tensor. Received: inputs=<PIL.Image.Image image mode=RGB size=27x27 at 0x163F7170F10>. Consider rewriting this model with the Functional API.\n",
      "WARNING:tensorflow:Layers in a Sequential model should only have a single input tensor. Received: inputs=<PIL.Image.Image image mode=RGB size=27x27 at 0x163F716AA30>. Consider rewriting this model with the Functional API.\n",
      "WARNING:tensorflow:Layers in a Sequential model should only have a single input tensor. Received: inputs=<PIL.Image.Image image mode=RGB size=27x27 at 0x163F7170F10>. Consider rewriting this model with the Functional API.\n",
      "WARNING:tensorflow:Layers in a Sequential model should only have a single input tensor. Received: inputs=<PIL.Image.Image image mode=RGB size=27x27 at 0x163F71749A0>. Consider rewriting this model with the Functional API.\n"
     ]
    },
    {
     "name": "stderr",
     "output_type": "stream",
     "text": [
      "\r",
      "Adding images:  93%|█████████████████████████████████████████████████████████▍    | 8584/9268 [00:24<00:04, 152.54it/s]"
     ]
    },
    {
     "name": "stdout",
     "output_type": "stream",
     "text": [
      "WARNING:tensorflow:Layers in a Sequential model should only have a single input tensor. Received: inputs=<PIL.Image.Image image mode=RGB size=27x27 at 0x163F716AA30>. Consider rewriting this model with the Functional API.\n",
      "WARNING:tensorflow:Layers in a Sequential model should only have a single input tensor. Received: inputs=<PIL.Image.Image image mode=RGB size=27x27 at 0x163F7170130>. Consider rewriting this model with the Functional API.\n",
      "WARNING:tensorflow:Layers in a Sequential model should only have a single input tensor. Received: inputs=<PIL.Image.Image image mode=RGB size=27x27 at 0x163F7167CA0>. Consider rewriting this model with the Functional API.\n",
      "WARNING:tensorflow:Layers in a Sequential model should only have a single input tensor. Received: inputs=<PIL.Image.Image image mode=RGB size=27x27 at 0x163F7170130>. Consider rewriting this model with the Functional API.\n",
      "WARNING:tensorflow:Layers in a Sequential model should only have a single input tensor. Received: inputs=<PIL.Image.Image image mode=RGB size=27x27 at 0x163F716AA30>. Consider rewriting this model with the Functional API.\n",
      "WARNING:tensorflow:Layers in a Sequential model should only have a single input tensor. Received: inputs=<PIL.Image.Image image mode=RGB size=27x27 at 0x163F7170130>. Consider rewriting this model with the Functional API.\n",
      "WARNING:tensorflow:Layers in a Sequential model should only have a single input tensor. Received: inputs=<PIL.Image.Image image mode=RGB size=27x27 at 0x163F71749A0>. Consider rewriting this model with the Functional API.\n",
      "WARNING:tensorflow:Layers in a Sequential model should only have a single input tensor. Received: inputs=<PIL.Image.Image image mode=RGB size=27x27 at 0x163F716AA30>. Consider rewriting this model with the Functional API.\n",
      "WARNING:tensorflow:Layers in a Sequential model should only have a single input tensor. Received: inputs=<PIL.Image.Image image mode=RGB size=27x27 at 0x163F7167CA0>. Consider rewriting this model with the Functional API.\n",
      "WARNING:tensorflow:Layers in a Sequential model should only have a single input tensor. Received: inputs=<PIL.Image.Image image mode=RGB size=27x27 at 0x163F7171130>. Consider rewriting this model with the Functional API.\n",
      "WARNING:tensorflow:Layers in a Sequential model should only have a single input tensor. Received: inputs=<PIL.Image.Image image mode=RGB size=27x27 at 0x163F71749A0>. Consider rewriting this model with the Functional API.\n",
      "WARNING:tensorflow:Layers in a Sequential model should only have a single input tensor. Received: inputs=<PIL.Image.Image image mode=RGB size=27x27 at 0x163F71735E0>. Consider rewriting this model with the Functional API.\n",
      "WARNING:tensorflow:Layers in a Sequential model should only have a single input tensor. Received: inputs=<PIL.Image.Image image mode=RGB size=27x27 at 0x163F716AA30>. Consider rewriting this model with the Functional API.\n",
      "WARNING:tensorflow:Layers in a Sequential model should only have a single input tensor. Received: inputs=<PIL.Image.Image image mode=RGB size=27x27 at 0x163F71766A0>. Consider rewriting this model with the Functional API.\n",
      "WARNING:tensorflow:Layers in a Sequential model should only have a single input tensor. Received: inputs=<PIL.Image.Image image mode=RGB size=27x27 at 0x163F7171B50>. Consider rewriting this model with the Functional API.\n",
      "WARNING:tensorflow:Layers in a Sequential model should only have a single input tensor. Received: inputs=<PIL.Image.Image image mode=RGB size=27x27 at 0x163F716AA30>. Consider rewriting this model with the Functional API.\n"
     ]
    },
    {
     "name": "stderr",
     "output_type": "stream",
     "text": [
      "\r",
      "Adding images:  93%|█████████████████████████████████████████████████████████▌    | 8600/9268 [00:24<00:04, 153.33it/s]"
     ]
    },
    {
     "name": "stdout",
     "output_type": "stream",
     "text": [
      "WARNING:tensorflow:Layers in a Sequential model should only have a single input tensor. Received: inputs=<PIL.Image.Image image mode=RGB size=27x27 at 0x163F7171B50>. Consider rewriting this model with the Functional API.\n",
      "WARNING:tensorflow:Layers in a Sequential model should only have a single input tensor. Received: inputs=<PIL.Image.Image image mode=RGB size=27x27 at 0x163F71766A0>. Consider rewriting this model with the Functional API.\n",
      "WARNING:tensorflow:Layers in a Sequential model should only have a single input tensor. Received: inputs=<PIL.Image.Image image mode=RGB size=27x27 at 0x163F7171B50>. Consider rewriting this model with the Functional API.\n",
      "WARNING:tensorflow:Layers in a Sequential model should only have a single input tensor. Received: inputs=<PIL.Image.Image image mode=RGB size=27x27 at 0x163F7167CA0>. Consider rewriting this model with the Functional API.\n",
      "WARNING:tensorflow:Layers in a Sequential model should only have a single input tensor. Received: inputs=<PIL.Image.Image image mode=RGB size=27x27 at 0x163F71766A0>. Consider rewriting this model with the Functional API.\n",
      "WARNING:tensorflow:Layers in a Sequential model should only have a single input tensor. Received: inputs=<PIL.Image.Image image mode=RGB size=27x27 at 0x163F71749A0>. Consider rewriting this model with the Functional API.\n",
      "WARNING:tensorflow:Layers in a Sequential model should only have a single input tensor. Received: inputs=<PIL.Image.Image image mode=RGB size=27x27 at 0x163F7167CA0>. Consider rewriting this model with the Functional API.\n",
      "WARNING:tensorflow:Layers in a Sequential model should only have a single input tensor. Received: inputs=<PIL.Image.Image image mode=RGB size=27x27 at 0x163F71766A0>. Consider rewriting this model with the Functional API.\n",
      "WARNING:tensorflow:Layers in a Sequential model should only have a single input tensor. Received: inputs=<PIL.Image.Image image mode=RGB size=27x27 at 0x163F71749A0>. Consider rewriting this model with the Functional API.\n",
      "WARNING:tensorflow:Layers in a Sequential model should only have a single input tensor. Received: inputs=<PIL.Image.Image image mode=RGB size=27x27 at 0x163F7167CA0>. Consider rewriting this model with the Functional API.\n",
      "WARNING:tensorflow:Layers in a Sequential model should only have a single input tensor. Received: inputs=<PIL.Image.Image image mode=RGB size=27x27 at 0x163F71766A0>. Consider rewriting this model with the Functional API.\n",
      "WARNING:tensorflow:Layers in a Sequential model should only have a single input tensor. Received: inputs=<PIL.Image.Image image mode=RGB size=27x27 at 0x163F71749A0>. Consider rewriting this model with the Functional API.\n",
      "WARNING:tensorflow:Layers in a Sequential model should only have a single input tensor. Received: inputs=<PIL.Image.Image image mode=RGB size=27x27 at 0x163F7167CA0>. Consider rewriting this model with the Functional API.\n",
      "WARNING:tensorflow:Layers in a Sequential model should only have a single input tensor. Received: inputs=<PIL.Image.Image image mode=RGB size=27x27 at 0x163F71766A0>. Consider rewriting this model with the Functional API.\n",
      "WARNING:tensorflow:Layers in a Sequential model should only have a single input tensor. Received: inputs=<PIL.Image.Image image mode=RGB size=27x27 at 0x163F71749A0>. Consider rewriting this model with the Functional API.\n",
      "WARNING:tensorflow:Layers in a Sequential model should only have a single input tensor. Received: inputs=<PIL.Image.Image image mode=RGB size=27x27 at 0x163F71735E0>. Consider rewriting this model with the Functional API.\n"
     ]
    },
    {
     "name": "stderr",
     "output_type": "stream",
     "text": [
      "\r",
      "Adding images:  93%|█████████████████████████████████████████████████████████▋    | 8616/9268 [00:24<00:04, 153.88it/s]"
     ]
    },
    {
     "name": "stdout",
     "output_type": "stream",
     "text": [
      "WARNING:tensorflow:Layers in a Sequential model should only have a single input tensor. Received: inputs=<PIL.Image.Image image mode=RGB size=27x27 at 0x163F71749A0>. Consider rewriting this model with the Functional API.\n",
      "WARNING:tensorflow:Layers in a Sequential model should only have a single input tensor. Received: inputs=<PIL.Image.Image image mode=RGB size=27x27 at 0x163F7179C10>. Consider rewriting this model with the Functional API.\n",
      "WARNING:tensorflow:Layers in a Sequential model should only have a single input tensor. Received: inputs=<PIL.Image.Image image mode=RGB size=27x27 at 0x163F71794F0>. Consider rewriting this model with the Functional API.\n",
      "WARNING:tensorflow:Layers in a Sequential model should only have a single input tensor. Received: inputs=<PIL.Image.Image image mode=RGB size=27x27 at 0x163F71749A0>. Consider rewriting this model with the Functional API.\n",
      "WARNING:tensorflow:Layers in a Sequential model should only have a single input tensor. Received: inputs=<PIL.Image.Image image mode=RGB size=27x27 at 0x163F71735E0>. Consider rewriting this model with the Functional API.\n",
      "WARNING:tensorflow:Layers in a Sequential model should only have a single input tensor. Received: inputs=<PIL.Image.Image image mode=RGB size=27x27 at 0x163F716AA30>. Consider rewriting this model with the Functional API.\n",
      "WARNING:tensorflow:Layers in a Sequential model should only have a single input tensor. Received: inputs=<PIL.Image.Image image mode=RGB size=27x27 at 0x163F71749A0>. Consider rewriting this model with the Functional API.\n",
      "WARNING:tensorflow:Layers in a Sequential model should only have a single input tensor. Received: inputs=<PIL.Image.Image image mode=RGB size=27x27 at 0x163F71735E0>. Consider rewriting this model with the Functional API.\n",
      "WARNING:tensorflow:Layers in a Sequential model should only have a single input tensor. Received: inputs=<PIL.Image.Image image mode=RGB size=27x27 at 0x163F716AA30>. Consider rewriting this model with the Functional API.\n",
      "WARNING:tensorflow:Layers in a Sequential model should only have a single input tensor. Received: inputs=<PIL.Image.Image image mode=RGB size=27x27 at 0x163F71749A0>. Consider rewriting this model with the Functional API.\n",
      "WARNING:tensorflow:Layers in a Sequential model should only have a single input tensor. Received: inputs=<PIL.Image.Image image mode=RGB size=27x27 at 0x163F71735E0>. Consider rewriting this model with the Functional API.\n",
      "WARNING:tensorflow:Layers in a Sequential model should only have a single input tensor. Received: inputs=<PIL.Image.Image image mode=RGB size=27x27 at 0x163F716AA30>. Consider rewriting this model with the Functional API.\n",
      "WARNING:tensorflow:Layers in a Sequential model should only have a single input tensor. Received: inputs=<PIL.Image.Image image mode=RGB size=27x27 at 0x163F71749A0>. Consider rewriting this model with the Functional API.\n",
      "WARNING:tensorflow:Layers in a Sequential model should only have a single input tensor. Received: inputs=<PIL.Image.Image image mode=RGB size=27x27 at 0x163F71735E0>. Consider rewriting this model with the Functional API.\n",
      "WARNING:tensorflow:Layers in a Sequential model should only have a single input tensor. Received: inputs=<PIL.Image.Image image mode=RGB size=27x27 at 0x163F716AA30>. Consider rewriting this model with the Functional API.\n",
      "WARNING:tensorflow:Layers in a Sequential model should only have a single input tensor. Received: inputs=<PIL.Image.Image image mode=RGB size=27x27 at 0x163F71749A0>. Consider rewriting this model with the Functional API.\n"
     ]
    },
    {
     "name": "stderr",
     "output_type": "stream",
     "text": [
      "\r",
      "Adding images:  93%|█████████████████████████████████████████████████████████▋    | 8632/9268 [00:24<00:04, 153.83it/s]"
     ]
    },
    {
     "name": "stdout",
     "output_type": "stream",
     "text": [
      "WARNING:tensorflow:Layers in a Sequential model should only have a single input tensor. Received: inputs=<PIL.Image.Image image mode=RGB size=27x27 at 0x163F716AA30>. Consider rewriting this model with the Functional API.\n",
      "WARNING:tensorflow:Layers in a Sequential model should only have a single input tensor. Received: inputs=<PIL.Image.Image image mode=RGB size=27x27 at 0x163F7170F10>. Consider rewriting this model with the Functional API.\n",
      "WARNING:tensorflow:Layers in a Sequential model should only have a single input tensor. Received: inputs=<PIL.Image.Image image mode=RGB size=27x27 at 0x163F7167CA0>. Consider rewriting this model with the Functional API.\n",
      "WARNING:tensorflow:Layers in a Sequential model should only have a single input tensor. Received: inputs=<PIL.Image.Image image mode=RGB size=27x27 at 0x163F716AA30>. Consider rewriting this model with the Functional API.\n",
      "WARNING:tensorflow:Layers in a Sequential model should only have a single input tensor. Received: inputs=<PIL.Image.Image image mode=RGB size=27x27 at 0x163F71749A0>. Consider rewriting this model with the Functional API.\n",
      "WARNING:tensorflow:Layers in a Sequential model should only have a single input tensor. Received: inputs=<PIL.Image.Image image mode=RGB size=27x27 at 0x163F7167CA0>. Consider rewriting this model with the Functional API.\n",
      "WARNING:tensorflow:Layers in a Sequential model should only have a single input tensor. Received: inputs=<PIL.Image.Image image mode=RGB size=27x27 at 0x163F716AA30>. Consider rewriting this model with the Functional API.\n",
      "WARNING:tensorflow:Layers in a Sequential model should only have a single input tensor. Received: inputs=<PIL.Image.Image image mode=RGB size=27x27 at 0x163F709ED30>. Consider rewriting this model with the Functional API.\n",
      "WARNING:tensorflow:Layers in a Sequential model should only have a single input tensor. Received: inputs=<PIL.Image.Image image mode=RGB size=27x27 at 0x163F7170F10>. Consider rewriting this model with the Functional API.\n",
      "WARNING:tensorflow:Layers in a Sequential model should only have a single input tensor. Received: inputs=<PIL.Image.Image image mode=RGB size=27x27 at 0x163F716AA30>. Consider rewriting this model with the Functional API.\n",
      "WARNING:tensorflow:Layers in a Sequential model should only have a single input tensor. Received: inputs=<PIL.Image.Image image mode=RGB size=27x27 at 0x163F709E400>. Consider rewriting this model with the Functional API.\n",
      "WARNING:tensorflow:Layers in a Sequential model should only have a single input tensor. Received: inputs=<PIL.Image.Image image mode=RGB size=27x27 at 0x163F71749A0>. Consider rewriting this model with the Functional API.\n",
      "WARNING:tensorflow:Layers in a Sequential model should only have a single input tensor. Received: inputs=<PIL.Image.Image image mode=RGB size=27x27 at 0x163F7170D30>. Consider rewriting this model with the Functional API.\n",
      "WARNING:tensorflow:Layers in a Sequential model should only have a single input tensor. Received: inputs=<PIL.Image.Image image mode=RGB size=27x27 at 0x163F7167CA0>. Consider rewriting this model with the Functional API.\n",
      "WARNING:tensorflow:Layers in a Sequential model should only have a single input tensor. Received: inputs=<PIL.Image.Image image mode=RGB size=27x27 at 0x163F71749A0>. Consider rewriting this model with the Functional API.\n",
      "WARNING:tensorflow:Layers in a Sequential model should only have a single input tensor. Received: inputs=<PIL.Image.Image image mode=RGB size=27x27 at 0x163F716AA30>. Consider rewriting this model with the Functional API.\n"
     ]
    },
    {
     "name": "stderr",
     "output_type": "stream",
     "text": [
      "\r",
      "Adding images:  93%|█████████████████████████████████████████████████████████▊    | 8648/9268 [00:24<00:03, 155.59it/s]"
     ]
    },
    {
     "name": "stdout",
     "output_type": "stream",
     "text": [
      "WARNING:tensorflow:Layers in a Sequential model should only have a single input tensor. Received: inputs=<PIL.Image.Image image mode=RGB size=27x27 at 0x163F7167CA0>. Consider rewriting this model with the Functional API.\n",
      "WARNING:tensorflow:Layers in a Sequential model should only have a single input tensor. Received: inputs=<PIL.Image.Image image mode=RGB size=27x27 at 0x163F7171130>. Consider rewriting this model with the Functional API.\n",
      "WARNING:tensorflow:Layers in a Sequential model should only have a single input tensor. Received: inputs=<PIL.Image.Image image mode=RGB size=27x27 at 0x163F7167CA0>. Consider rewriting this model with the Functional API.\n",
      "WARNING:tensorflow:Layers in a Sequential model should only have a single input tensor. Received: inputs=<PIL.Image.Image image mode=RGB size=27x27 at 0x163F71749A0>. Consider rewriting this model with the Functional API.\n",
      "WARNING:tensorflow:Layers in a Sequential model should only have a single input tensor. Received: inputs=<PIL.Image.Image image mode=RGB size=27x27 at 0x163F7167CA0>. Consider rewriting this model with the Functional API.\n",
      "WARNING:tensorflow:Layers in a Sequential model should only have a single input tensor. Received: inputs=<PIL.Image.Image image mode=RGB size=27x27 at 0x163F71749A0>. Consider rewriting this model with the Functional API.\n",
      "WARNING:tensorflow:Layers in a Sequential model should only have a single input tensor. Received: inputs=<PIL.Image.Image image mode=RGB size=27x27 at 0x163F7167CA0>. Consider rewriting this model with the Functional API.\n",
      "WARNING:tensorflow:Layers in a Sequential model should only have a single input tensor. Received: inputs=<PIL.Image.Image image mode=RGB size=27x27 at 0x163F71749A0>. Consider rewriting this model with the Functional API.\n",
      "WARNING:tensorflow:Layers in a Sequential model should only have a single input tensor. Received: inputs=<PIL.Image.Image image mode=RGB size=27x27 at 0x163F7167CA0>. Consider rewriting this model with the Functional API.\n",
      "WARNING:tensorflow:Layers in a Sequential model should only have a single input tensor. Received: inputs=<PIL.Image.Image image mode=RGB size=27x27 at 0x163F71749A0>. Consider rewriting this model with the Functional API.\n",
      "WARNING:tensorflow:Layers in a Sequential model should only have a single input tensor. Received: inputs=<PIL.Image.Image image mode=RGB size=27x27 at 0x163F7167CA0>. Consider rewriting this model with the Functional API.\n",
      "WARNING:tensorflow:Layers in a Sequential model should only have a single input tensor. Received: inputs=<PIL.Image.Image image mode=RGB size=27x27 at 0x163F71749A0>. Consider rewriting this model with the Functional API.\n",
      "WARNING:tensorflow:Layers in a Sequential model should only have a single input tensor. Received: inputs=<PIL.Image.Image image mode=RGB size=27x27 at 0x163F7167CA0>. Consider rewriting this model with the Functional API.\n",
      "WARNING:tensorflow:Layers in a Sequential model should only have a single input tensor. Received: inputs=<PIL.Image.Image image mode=RGB size=27x27 at 0x163F71749A0>. Consider rewriting this model with the Functional API.\n",
      "WARNING:tensorflow:Layers in a Sequential model should only have a single input tensor. Received: inputs=<PIL.Image.Image image mode=RGB size=27x27 at 0x163F7167CA0>. Consider rewriting this model with the Functional API.\n",
      "WARNING:tensorflow:Layers in a Sequential model should only have a single input tensor. Received: inputs=<PIL.Image.Image image mode=RGB size=27x27 at 0x163F71749A0>. Consider rewriting this model with the Functional API.\n"
     ]
    },
    {
     "name": "stderr",
     "output_type": "stream",
     "text": [
      "\r",
      "Adding images:  93%|█████████████████████████████████████████████████████████▉    | 8664/9268 [00:24<00:03, 153.23it/s]"
     ]
    },
    {
     "name": "stdout",
     "output_type": "stream",
     "text": [
      "WARNING:tensorflow:Layers in a Sequential model should only have a single input tensor. Received: inputs=<PIL.Image.Image image mode=RGB size=27x27 at 0x163F716AA30>. Consider rewriting this model with the Functional API.\n",
      "WARNING:tensorflow:Layers in a Sequential model should only have a single input tensor. Received: inputs=<PIL.Image.Image image mode=RGB size=27x27 at 0x163F7176730>. Consider rewriting this model with the Functional API.\n",
      "WARNING:tensorflow:Layers in a Sequential model should only have a single input tensor. Received: inputs=<PIL.Image.Image image mode=RGB size=27x27 at 0x163F71749A0>. Consider rewriting this model with the Functional API.\n",
      "WARNING:tensorflow:Layers in a Sequential model should only have a single input tensor. Received: inputs=<PIL.Image.Image image mode=RGB size=27x27 at 0x163F7167CA0>. Consider rewriting this model with the Functional API.\n",
      "WARNING:tensorflow:Layers in a Sequential model should only have a single input tensor. Received: inputs=<PIL.Image.Image image mode=RGB size=27x27 at 0x163F716AA30>. Consider rewriting this model with the Functional API.\n",
      "WARNING:tensorflow:Layers in a Sequential model should only have a single input tensor. Received: inputs=<PIL.Image.Image image mode=RGB size=27x27 at 0x163F7176730>. Consider rewriting this model with the Functional API.\n",
      "WARNING:tensorflow:Layers in a Sequential model should only have a single input tensor. Received: inputs=<PIL.Image.Image image mode=RGB size=27x27 at 0x163F71749A0>. Consider rewriting this model with the Functional API.\n",
      "WARNING:tensorflow:Layers in a Sequential model should only have a single input tensor. Received: inputs=<PIL.Image.Image image mode=RGB size=27x27 at 0x163F7167CA0>. Consider rewriting this model with the Functional API.\n",
      "WARNING:tensorflow:Layers in a Sequential model should only have a single input tensor. Received: inputs=<PIL.Image.Image image mode=RGB size=27x27 at 0x163F716AA30>. Consider rewriting this model with the Functional API.\n",
      "WARNING:tensorflow:Layers in a Sequential model should only have a single input tensor. Received: inputs=<PIL.Image.Image image mode=RGB size=27x27 at 0x163F7176730>. Consider rewriting this model with the Functional API.\n",
      "WARNING:tensorflow:Layers in a Sequential model should only have a single input tensor. Received: inputs=<PIL.Image.Image image mode=RGB size=27x27 at 0x163F7179820>. Consider rewriting this model with the Functional API.\n",
      "WARNING:tensorflow:Layers in a Sequential model should only have a single input tensor. Received: inputs=<PIL.Image.Image image mode=RGB size=27x27 at 0x163F716AA30>. Consider rewriting this model with the Functional API.\n"
     ]
    }
   ],
   "source": [
    "x1_train = train_task1['ImageName']\n",
    "y1_train = train_task1['isCancerous']\n",
    "print(\"Original Dataset:\\n\",y1_train.value_counts())\n",
    "\n",
    "#Generate sample\n",
    "x1_train, y1_train = GenerateSample(x1_train,y1_train)\n",
    "print(\"Sampled Dataset:\\n\",y1_train.value_counts())\n",
    "x1_train = GetImage(x1_train)\n",
    "\n",
    "x1_test = val_task1['ImageName']\n",
    "x1_test = GetImage(x1_test)\n",
    "\n",
    "y1_test = val_task1['isCancerous']"
   ]
  },
  {
   "cell_type": "code",
   "execution_count": null,
   "id": "b1253095",
   "metadata": {},
   "outputs": [],
   "source": [
    "x2_train = train_task2['ImageName']\n",
    "y2_train = train_task2['cellType']\n",
    "print(\"Original Dataset:\\n\",y2_train.value_counts())\n",
    "\n",
    "#Generate sample\n",
    "x2_train, y2_train = GenerateSample(x2_train,y2_train)\n",
    "print(\"Sampled Dataset:\\n\",y2_train.value_counts())\n",
    "x2_train = GetImage(x2_train)\n",
    "\n",
    "x2_test = val_task2['ImageName']\n",
    "x2_test = GetImage(x2_test)\n",
    "\n",
    "y2_test = val_task2['cellType']"
   ]
  },
  {
   "cell_type": "code",
   "execution_count": null,
   "id": "1d5058a2",
   "metadata": {},
   "outputs": [],
   "source": [
    "print(\"TASK 1 SHAPE\")\n",
    "print(\"TRAIN SHAPE:\")\n",
    "print(\"x1 shape:\", x1_train.shape)\n",
    "print(\"y1 shape:\", y1_train.shape)\n",
    "print(\"TEST SHAPE:\")\n",
    "print(\"x1 shape:\", x1_test.shape)\n",
    "print(\"y1 shape:\", y1_test.shape)\n",
    "\n",
    "print(\"\\n\")\n",
    "\n",
    "print(\"TASK 2 SHAPE\")\n",
    "print(\"x1 shape:\", x1_train.shape)\n",
    "print(\"y1 shape:\", y1_train.shape)\n",
    "print(\"TEST SHAPE:\")\n",
    "print(\"x1 shape:\", x1_test.shape)\n",
    "print(\"y1 shape:\", y1_test.shape)"
   ]
  },
  {
   "cell_type": "markdown",
   "id": "54a9788a",
   "metadata": {},
   "source": [
    "# 3.3. Data Augmentation Technique"
   ]
  },
  {
   "cell_type": "markdown",
   "id": "ee527563",
   "metadata": {},
   "source": [
    "Lý do dùng ??"
   ]
  },
  {
   "cell_type": "code",
   "execution_count": null,
   "id": "42cd5fa7",
   "metadata": {},
   "outputs": [],
   "source": [
    "plt.axis('off')\n",
    "plt.imshow(x1_train[2580].astype(np.uint8))"
   ]
  },
  {
   "cell_type": "code",
   "execution_count": null,
   "id": "e0ce4c21",
   "metadata": {},
   "outputs": [],
   "source": [
    "plt.imshow((x1_train)[7916].astype(np.uint8))"
   ]
  },
  {
   "cell_type": "code",
   "execution_count": null,
   "id": "67fba9d5",
   "metadata": {},
   "outputs": [],
   "source": [
    "# Apply loc to double check that only cellType = 2 is Cancerous\n",
    "#main_data.loc[(main_data['cellType'] == 2) & (main_data['isCancerous'] == 1)]"
   ]
  },
  {
   "cell_type": "code",
   "execution_count": null,
   "id": "74a19825",
   "metadata": {},
   "outputs": [],
   "source": [
    "# Create datagen\n",
    "from tensorflow.keras.preprocessing.image import ImageDataGenerator\n",
    "\n",
    "datagen = ImageDataGenerator()\n",
    "\n",
    "# train_datagen1 = datagen.flow(train_img_X1, train_mod_Y1, batch_size=16, shuffle=True)\n",
    "data_train2 = datagen.flow(x2_train, y2_train, batch_size=16, shuffle=True)"
   ]
  },
  {
   "cell_type": "code",
   "execution_count": null,
   "id": "ccfbcce2",
   "metadata": {},
   "outputs": [],
   "source": [
    "from tensorflow.keras.models import Sequential\n",
    "from tensorflow.keras.layers import Dense, Conv2D, MaxPooling2D , Flatten, BatchNormalization, Dropout\n",
    "from tensorflow.keras.regularizers import l2"
   ]
  },
  {
   "cell_type": "code",
   "execution_count": null,
   "id": "e103a483",
   "metadata": {},
   "outputs": [],
   "source": [
    "model = Sequential()\n",
    "model.add(Conv2D(32, (3, 3), activation='relu', kernel_initializer='he_uniform', padding='same', input_shape=(27, 27, 3)))\n",
    "model.add(BatchNormalization())\n",
    "model.add(Conv2D(32, (3, 3), activation='relu', kernel_initializer='he_uniform', padding='same'))\n",
    "model.add(BatchNormalization())\n",
    "model.add(MaxPooling2D((2, 2)))\n",
    "model.add(Dropout(0.2))\n",
    "\n",
    "model.add(Conv2D(64, (3, 3), activation='relu', kernel_initializer='he_uniform', kernel_regularizer=l2(l=0.01), padding='same'))\n",
    "model.add(BatchNormalization())\n",
    "model.add(Conv2D(64, (3, 3), activation='relu', kernel_initializer='he_uniform', kernel_regularizer=l2(l=0.01), padding='same'))\n",
    "model.add(BatchNormalization())\n",
    "model.add(MaxPooling2D((2, 2)))\n",
    "model.add(Dropout(0.3))\n",
    "\n",
    "model.add(Conv2D(128, (3, 3), activation='relu', kernel_initializer='he_uniform', kernel_regularizer=l2(l=0.01), padding='same'))\n",
    "model.add(BatchNormalization())\n",
    "model.add(Conv2D(128, (3, 3), activation='relu', kernel_initializer='he_uniform', kernel_regularizer=l2(l=0.01), padding='same'))\n",
    "model.add(BatchNormalization())\n",
    "model.add(MaxPooling2D((2, 2)))\n",
    "model.add(Dropout(0.4))\n",
    "\n",
    "model.add(Flatten())\n",
    "model.add(Dense(512, kernel_regularizer=l2(l=0.01), activation='relu'))\n",
    "model.add(BatchNormalization())\n",
    "model.add(Dropout(0.2))\n",
    "model.add(Dense(512, kernel_regularizer=l2(l=0.01), activation='relu'))\n",
    "model.add(BatchNormalization())\n",
    "model.add(Dropout(0.2))\n",
    "model.add(Dense(4, activation='softmax'))\n",
    "\n",
    "model.summary()"
   ]
  },
  {
   "cell_type": "code",
   "execution_count": null,
   "id": "ab175584",
   "metadata": {},
   "outputs": [],
   "source": [
    "from tensorflow.keras.optimizers import Adam\n",
    "\n",
    "opt = Adam(lr=0.0005, beta_1=0.4, beta_2=0.444, decay=1.0e-6, amsgrad=True)\n",
    "model.compile(optimizer=opt , loss='sparse_categorical_crossentropy', metrics=['accuracy'])"
   ]
  },
  {
   "cell_type": "code",
   "execution_count": null,
   "id": "bfadac3e",
   "metadata": {},
   "outputs": [],
   "source": [
    "from keras.callbacks import EarlyStopping, ReduceLROnPlateau\n",
    "early = EarlyStopping(monitor='accuracy', min_delta=0.001, patience=10, verbose=1, mode='auto')\n",
    "reduce_lr = ReduceLROnPlateau(monitor='val_loss', factor=np.sqrt(0.1), cooldown=0, patience=6, min_lr=0.5e-15) \n",
    "\n",
    "EPOCHS = 500\n",
    "BATCH_SIZE = 32\n",
    "\n",
    "import time\n",
    "start_time = time.time()\n",
    "\n",
    "history = model.fit(data_train2, \n",
    "                    validation_data=(x2_test, y2_test), \n",
    "                    batch_size=BATCH_SIZE, \n",
    "                    epochs=EPOCHS, \n",
    "                    verbose=1,\n",
    "                    callbacks=[reduce_lr, early])\n",
    "\n",
    "print(\"---  Training time in seconds ---%s \" % (time.time() - start_time))"
   ]
  },
  {
   "cell_type": "code",
   "execution_count": null,
   "id": "cc572a0a",
   "metadata": {},
   "outputs": [],
   "source": []
  }
 ],
 "metadata": {
  "kernelspec": {
   "display_name": "Python 3 (ipykernel)",
   "language": "python",
   "name": "python3"
  },
  "language_info": {
   "codemirror_mode": {
    "name": "ipython",
    "version": 3
   },
   "file_extension": ".py",
   "mimetype": "text/x-python",
   "name": "python",
   "nbconvert_exporter": "python",
   "pygments_lexer": "ipython3",
   "version": "3.9.7"
  }
 },
 "nbformat": 4,
 "nbformat_minor": 5
}

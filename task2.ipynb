{
 "cells": [
  {
   "cell_type": "markdown",
   "id": "f69b336b",
   "metadata": {},
   "source": [
    "<hr style=\"border:0.1px solid gray\">"
   ]
  },
  {
   "cell_type": "markdown",
   "id": "6f629d5c",
   "metadata": {},
   "source": [
    "# <center style='color:Red'> COSC2753 - Machine Learning </center> \n",
    "## <center style='color:Red'> Assignment 2 - Classify Images of Colon Cancer </center>"
   ]
  },
  {
   "cell_type": "markdown",
   "id": "92aa65e3",
   "metadata": {},
   "source": [
    "**Group Number:** 8\n",
    "\n",
    "**Student 1:** Ngo Quang Khai - s3836387 \n",
    "\n",
    "**Student 2:** Nguyen Quoc Minh - s3758994\n",
    "\n",
    "**Student 3:** Bui Thanh Huy - s3740934\n",
    "\n",
    "**Student 4:** Tran Vinh Khang - s3855823\n",
    "\n",
    "**Student 5:** Le Trong Hung - s3805504\n",
    "\n",
    "**Lecturer:** Dr. Bao Nguyen\n",
    "\n",
    "**Due Date:** May 14th, 2021"
   ]
  },
  {
   "cell_type": "markdown",
   "id": "baf7d6af",
   "metadata": {},
   "source": [
    "<hr style=\"border:0.1px solid gray\">"
   ]
  },
  {
   "cell_type": "markdown",
   "id": "d958fcfd",
   "metadata": {},
   "source": [
    "# Main Task"
   ]
  },
  {
   "cell_type": "markdown",
   "id": "0b10ae1e",
   "metadata": {},
   "source": [
    "- **Task 1**: Classify images according to whether given cell image represents a cancerous cells or not (isCancerous)\n",
    "\n",
    "\n",
    "- **Task 2**: Classify images according to cell-type, such as: fibroblast, inflammatory, epithelial or others.\n",
    "\n",
    "\n",
    "- **Extra task**:"
   ]
  },
  {
   "cell_type": "markdown",
   "id": "17cc28c3",
   "metadata": {},
   "source": [
    "# 1. Import libraries and setting up environment"
   ]
  },
  {
   "cell_type": "code",
   "execution_count": 1,
   "id": "968c270e",
   "metadata": {},
   "outputs": [],
   "source": [
    "#!pip install tensorflow\n",
    "#!pip install keras\n",
    "#!pip install opencv-python\n"
   ]
  },
  {
   "cell_type": "code",
   "execution_count": 2,
   "id": "bdcf75fd",
   "metadata": {},
   "outputs": [
    {
     "name": "stdout",
     "output_type": "stream",
     "text": [
      "Tensorflow version: 2.6.0\n",
      "CV2 version: 4.5.5\n"
     ]
    }
   ],
   "source": [
    "import pandas as pd\n",
    "import numpy as np\n",
    "import matplotlib.pyplot as plt\n",
    "%matplotlib inline \n",
    "import seaborn as sns\n",
    "from tqdm import tqdm\n",
    "\n",
    "import cv2\n",
    "import os\n",
    "import tensorflow as tf\n",
    "import sklearn as sk\n",
    "\n",
    "import warnings\n",
    "warnings.filterwarnings('ignore')\n",
    "\n",
    "\n",
    "#It is important to check the version of these libraries to make sure that implement the latest method.\n",
    "print('Tensorflow version:', tf.__version__)\n",
    "print('CV2 version:', cv2.__version__)"
   ]
  },
  {
   "cell_type": "markdown",
   "id": "9c253d70",
   "metadata": {},
   "source": [
    "# 2. Import Dataset"
   ]
  },
  {
   "cell_type": "code",
   "execution_count": 3,
   "id": "9a1ee400",
   "metadata": {},
   "outputs": [],
   "source": [
    "# Import data_labels_mainData.csv into a DataFrame\n",
    "main_data = pd.read_csv('data_labels_mainData.csv')\n",
    "\n",
    "# Import data_labels_extraData.csv into a DataFrame\n",
    "extra_data = pd.read_csv('data_labels_extraData.csv')"
   ]
  },
  {
   "cell_type": "markdown",
   "id": "b2d64513",
   "metadata": {},
   "source": [
    "# 3. Exploratory Data Analysis (EDA)"
   ]
  },
  {
   "cell_type": "markdown",
   "id": "520b23ab",
   "metadata": {},
   "source": [
    "## 3.1. Process the data"
   ]
  },
  {
   "cell_type": "code",
   "execution_count": 4,
   "id": "c7620550",
   "metadata": {},
   "outputs": [
    {
     "name": "stdout",
     "output_type": "stream",
     "text": [
      "Dataframe of main_data: \n",
      "       InstanceID  patientID  ImageName cellTypeName  cellType  isCancerous\n",
      "0          22405          1  22405.png   fibroblast         0            0\n",
      "1          22406          1  22406.png   fibroblast         0            0\n",
      "2          22407          1  22407.png   fibroblast         0            0\n",
      "3          22408          1  22408.png   fibroblast         0            0\n",
      "4          22409          1  22409.png   fibroblast         0            0\n",
      "...          ...        ...        ...          ...       ...          ...\n",
      "9891        1625         60   1625.png   epithelial         2            1\n",
      "9892        1626         60   1626.png   epithelial         2            1\n",
      "9893        1627         60   1627.png   epithelial         2            1\n",
      "9894        1628         60   1628.png   epithelial         2            1\n",
      "9895        1629         60   1629.png   epithelial         2            1\n",
      "\n",
      "[9896 rows x 6 columns] \n",
      "\n",
      "Dataframe of extra_data: \n",
      "        InstanceID  patientID  ImageName  isCancerous\n",
      "0           12681         61  12681.png            0\n",
      "1           12682         61  12682.png            0\n",
      "2           12683         61  12683.png            0\n",
      "3           12684         61  12684.png            0\n",
      "4           12685         61  12685.png            0\n",
      "...           ...        ...        ...          ...\n",
      "10379       20028         99  20028.png            0\n",
      "10380       20029         99  20029.png            0\n",
      "10381       20030         99  20030.png            0\n",
      "10382       20031         99  20031.png            0\n",
      "10383       20032         99  20032.png            0\n",
      "\n",
      "[10384 rows x 4 columns]\n"
     ]
    }
   ],
   "source": [
    "#See the data frame of main_data\n",
    "print(\"Dataframe of main_data: \\n\", main_data, \"\\n\")\n",
    "\n",
    "#See the data frame of extra_data\n",
    "print(\"Dataframe of extra_data: \\n\", extra_data)"
   ]
  },
  {
   "cell_type": "markdown",
   "id": "68ca9884",
   "metadata": {},
   "source": [
    "**=>** Next, we will check if the data have any null values and datatype of each columns."
   ]
  },
  {
   "cell_type": "code",
   "execution_count": 5,
   "id": "0e93d75f",
   "metadata": {},
   "outputs": [
    {
     "name": "stdout",
     "output_type": "stream",
     "text": [
      "<class 'pandas.core.frame.DataFrame'>\n",
      "RangeIndex: 9896 entries, 0 to 9895\n",
      "Data columns (total 6 columns):\n",
      " #   Column        Non-Null Count  Dtype \n",
      "---  ------        --------------  ----- \n",
      " 0   InstanceID    9896 non-null   int64 \n",
      " 1   patientID     9896 non-null   int64 \n",
      " 2   ImageName     9896 non-null   object\n",
      " 3   cellTypeName  9896 non-null   object\n",
      " 4   cellType      9896 non-null   int64 \n",
      " 5   isCancerous   9896 non-null   int64 \n",
      "dtypes: int64(4), object(2)\n",
      "memory usage: 464.0+ KB\n"
     ]
    },
    {
     "data": {
      "text/plain": [
       "InstanceID      0\n",
       "patientID       0\n",
       "ImageName       0\n",
       "cellTypeName    0\n",
       "cellType        0\n",
       "isCancerous     0\n",
       "dtype: int64"
      ]
     },
     "execution_count": 5,
     "metadata": {},
     "output_type": "execute_result"
    }
   ],
   "source": [
    "main_data.info()\n",
    "main_data.isnull().sum()"
   ]
  },
  {
   "cell_type": "code",
   "execution_count": 6,
   "id": "dc7dc0b6",
   "metadata": {},
   "outputs": [
    {
     "name": "stdout",
     "output_type": "stream",
     "text": [
      "<class 'pandas.core.frame.DataFrame'>\n",
      "RangeIndex: 10384 entries, 0 to 10383\n",
      "Data columns (total 4 columns):\n",
      " #   Column       Non-Null Count  Dtype \n",
      "---  ------       --------------  ----- \n",
      " 0   InstanceID   10384 non-null  int64 \n",
      " 1   patientID    10384 non-null  int64 \n",
      " 2   ImageName    10384 non-null  object\n",
      " 3   isCancerous  10384 non-null  int64 \n",
      "dtypes: int64(3), object(1)\n",
      "memory usage: 324.6+ KB\n"
     ]
    },
    {
     "data": {
      "text/plain": [
       "InstanceID     0\n",
       "patientID      0\n",
       "ImageName      0\n",
       "isCancerous    0\n",
       "dtype: int64"
      ]
     },
     "execution_count": 6,
     "metadata": {},
     "output_type": "execute_result"
    }
   ],
   "source": [
    "extra_data.info()\n",
    "extra_data.isnull().sum()"
   ]
  },
  {
   "cell_type": "markdown",
   "id": "5553755d",
   "metadata": {},
   "source": [
    "**=>** Since our data is no missing/null value and properly formatted, we will move on to analyzing data."
   ]
  },
  {
   "cell_type": "markdown",
   "id": "3d8ff5d3",
   "metadata": {},
   "source": [
    "## 3.2. Data Analysis and Visualiztion"
   ]
  },
  {
   "cell_type": "markdown",
   "id": "26ffbe57",
   "metadata": {},
   "source": [
    "Based on the information provided by the biomedical company as well as the DataFrames in **section 3.1** above. We are aware of:\n",
    "- The **main_data** contains both **cellType (0 to 3)** and **isCancerous (0 and 1)** columns. In there, **cellType** values 0 to 3 represent fibroblast, inflammatory, epithelial, and miscellaneous cell types respectively based on the **cellTypeName** column. In addition, **isCancerous** values 0 and 1 represent colon cells with non-Cancer and Cancer.\n",
    "\n",
    "\n",
    "- The **extra_data** only contains **isCancerous (0 and 1)** column.\n",
    "\n",
    "**=>** Therefore, we choose the **isCancerous** attribute as the target column because both **main_data** and **extra_data** have the column **isCancerous**."
   ]
  },
  {
   "cell_type": "markdown",
   "id": "5ecfa939",
   "metadata": {},
   "source": [
    "### 3.2.1. Correlation and Correlation Matrix"
   ]
  },
  {
   "cell_type": "markdown",
   "id": "57e95090",
   "metadata": {},
   "source": [
    "Firstly, we will draw the correlation matrix to find out any relationship between **isCancerous** column with the others\n",
    "columns in **main_data**."
   ]
  },
  {
   "cell_type": "code",
   "execution_count": 7,
   "id": "bd101a5d",
   "metadata": {},
   "outputs": [
    {
     "data": {
      "image/png": "[encoded data removed]",
      "text/plain": [
       "<Figure size 1008x720 with 2 Axes>"
      ]
     },
     "metadata": {
      "needs_background": "light"
     },
     "output_type": "display_data"
    }
   ],
   "source": [
    "f = plt.figure(figsize=(14, 10))\n",
    "plt.title('Correlation Matrix', fontsize=16);\n",
    "sns.heatmap(main_data.corr(), annot = True)\n",
    "plt.show()"
   ]
  },
  {
   "cell_type": "markdown",
   "id": "a690da07",
   "metadata": {},
   "source": [
    "**Analysis**\n",
    "\n",
    "As we can see from the matrix above, most of the attributes do not correlate with **isCancerous** much are **InstanceID** (-0.44), **patientID** (-0.0012). Since these attributes do not affect much to isCancerous attribute, we will not use these attributes to train our model. Applying these two attributes to train the model can cause noise and overcomplicated issue to our prediction model.\n",
    "\n",
    "**=>** There is only attribute **cellType** with 0.44 has high impact on the attribute 'isCancerous'"
   ]
  },
  {
   "cell_type": "markdown",
   "id": "9acfa007",
   "metadata": {},
   "source": [
    "### 3.2.2. Data Distribution"
   ]
  },
  {
   "cell_type": "markdown",
   "id": "8f4f6a62",
   "metadata": {},
   "source": [
    "### Countplot"
   ]
  },
  {
   "cell_type": "code",
   "execution_count": 8,
   "id": "593a2064",
   "metadata": {},
   "outputs": [
    {
     "data": {
      "image/png": "[encoded data removed]",
      "text/plain": [
       "<Figure size 864x432 with 2 Axes>"
      ]
     },
     "metadata": {
      "needs_background": "light"
     },
     "output_type": "display_data"
    }
   ],
   "source": [
    "#Using the countplot to see the classification of cellType and isCancerous \n",
    "fig, ax =plt.subplots(1,2, figsize = (12,6))\n",
    "\n",
    "# 0 = fibroblast, 1 = imflammatory, 2 = epithelial, 3 = others\n",
    "sns.countplot(main_data['cellType'], palette='Set2', ax=ax[0]).set_title(\"Classification of Cell Types\")\n",
    "\n",
    "sns.countplot(main_data['isCancerous'], palette='Set1', ax=ax[1]).set_title(\"Classification of Cells isCancerous and Non-Cancerous\")\n",
    "fig.show()"
   ]
  },
  {
   "cell_type": "markdown",
   "id": "647541d8",
   "metadata": {},
   "source": [
    "**Analysis**\n",
    "- The first countplot shows us there 4 different types of cell: 0, 1, 2, 3. The first type of cell is 0 has approximately 1900, the second type of cell is 2 has approximately 2600, the third one is 4100 and last one is 1500.\n",
    "\n",
    "\n",
    "- The second countplot shows us number of cells that are cancer and not. In the first column is 0 represent the cell that are not cancerous, and 1 represent the cell that are cancerous. There are approximately 5900 cells that are not cancerous and 4200 cells that are cancerous in our data."
   ]
  },
  {
   "cell_type": "markdown",
   "id": "5b791a84",
   "metadata": {},
   "source": [
    "### Histogram"
   ]
  },
  {
   "cell_type": "code",
   "execution_count": 9,
   "id": "f6360f9b",
   "metadata": {},
   "outputs": [
    {
     "data": {
      "text/plain": [
       "<seaborn.axisgrid.FacetGrid at 0x129c6f85850>"
      ]
     },
     "execution_count": 9,
     "metadata": {},
     "output_type": "execute_result"
    },
    {
     "data": {
      "image/png": "[encoded data removed]",
      "text/plain": [
       "<Figure size 1152x288 with 2 Axes>"
      ]
     },
     "metadata": {
      "needs_background": "light"
     },
     "output_type": "display_data"
    }
   ],
   "source": [
    "# Draw the histogram for cellType respected to isCancerous (class 0 and 1)\n",
    "g = sns.FacetGrid(main_data, col='isCancerous', height=4, aspect=2)\n",
    "g.map(plt.hist, str('cellType'), bins=20)\n",
    "g.set_axis_labels('cellType', \"Count\")"
   ]
  },
  {
   "cell_type": "markdown",
   "id": "79f79792",
   "metadata": {},
   "source": [
    "**Analysis**\n",
    "\n",
    "Looking at these two histograms, we can see that 'cellType' 0, 1, and 3 are not cancerous. Meanwhile only 'cellType' 2 is cancerous."
   ]
  },
  {
   "cell_type": "code",
   "execution_count": 10,
   "id": "bcad300b",
   "metadata": {},
   "outputs": [
    {
     "data": {
      "text/html": [
       "<div>\n",
       "<style scoped>\n",
       "    .dataframe tbody tr th:only-of-type {\n",
       "        vertical-align: middle;\n",
       "    }\n",
       "\n",
       "    .dataframe tbody tr th {\n",
       "        vertical-align: top;\n",
       "    }\n",
       "\n",
       "    .dataframe thead th {\n",
       "        text-align: right;\n",
       "    }\n",
       "</style>\n",
       "<table border=\"1\" class=\"dataframe\">\n",
       "  <thead>\n",
       "    <tr style=\"text-align: right;\">\n",
       "      <th></th>\n",
       "      <th>InstanceID</th>\n",
       "      <th>patientID</th>\n",
       "      <th>ImageName</th>\n",
       "      <th>cellTypeName</th>\n",
       "      <th>cellType</th>\n",
       "      <th>isCancerous</th>\n",
       "    </tr>\n",
       "  </thead>\n",
       "  <tbody>\n",
       "    <tr>\n",
       "      <th>449</th>\n",
       "      <td>276</td>\n",
       "      <td>5</td>\n",
       "      <td>276.png</td>\n",
       "      <td>epithelial</td>\n",
       "      <td>2</td>\n",
       "      <td>1</td>\n",
       "    </tr>\n",
       "    <tr>\n",
       "      <th>450</th>\n",
       "      <td>277</td>\n",
       "      <td>5</td>\n",
       "      <td>277.png</td>\n",
       "      <td>epithelial</td>\n",
       "      <td>2</td>\n",
       "      <td>1</td>\n",
       "    </tr>\n",
       "    <tr>\n",
       "      <th>451</th>\n",
       "      <td>278</td>\n",
       "      <td>5</td>\n",
       "      <td>278.png</td>\n",
       "      <td>epithelial</td>\n",
       "      <td>2</td>\n",
       "      <td>1</td>\n",
       "    </tr>\n",
       "    <tr>\n",
       "      <th>452</th>\n",
       "      <td>279</td>\n",
       "      <td>5</td>\n",
       "      <td>279.png</td>\n",
       "      <td>epithelial</td>\n",
       "      <td>2</td>\n",
       "      <td>1</td>\n",
       "    </tr>\n",
       "    <tr>\n",
       "      <th>453</th>\n",
       "      <td>280</td>\n",
       "      <td>5</td>\n",
       "      <td>280.png</td>\n",
       "      <td>epithelial</td>\n",
       "      <td>2</td>\n",
       "      <td>1</td>\n",
       "    </tr>\n",
       "    <tr>\n",
       "      <th>...</th>\n",
       "      <td>...</td>\n",
       "      <td>...</td>\n",
       "      <td>...</td>\n",
       "      <td>...</td>\n",
       "      <td>...</td>\n",
       "      <td>...</td>\n",
       "    </tr>\n",
       "    <tr>\n",
       "      <th>9891</th>\n",
       "      <td>1625</td>\n",
       "      <td>60</td>\n",
       "      <td>1625.png</td>\n",
       "      <td>epithelial</td>\n",
       "      <td>2</td>\n",
       "      <td>1</td>\n",
       "    </tr>\n",
       "    <tr>\n",
       "      <th>9892</th>\n",
       "      <td>1626</td>\n",
       "      <td>60</td>\n",
       "      <td>1626.png</td>\n",
       "      <td>epithelial</td>\n",
       "      <td>2</td>\n",
       "      <td>1</td>\n",
       "    </tr>\n",
       "    <tr>\n",
       "      <th>9893</th>\n",
       "      <td>1627</td>\n",
       "      <td>60</td>\n",
       "      <td>1627.png</td>\n",
       "      <td>epithelial</td>\n",
       "      <td>2</td>\n",
       "      <td>1</td>\n",
       "    </tr>\n",
       "    <tr>\n",
       "      <th>9894</th>\n",
       "      <td>1628</td>\n",
       "      <td>60</td>\n",
       "      <td>1628.png</td>\n",
       "      <td>epithelial</td>\n",
       "      <td>2</td>\n",
       "      <td>1</td>\n",
       "    </tr>\n",
       "    <tr>\n",
       "      <th>9895</th>\n",
       "      <td>1629</td>\n",
       "      <td>60</td>\n",
       "      <td>1629.png</td>\n",
       "      <td>epithelial</td>\n",
       "      <td>2</td>\n",
       "      <td>1</td>\n",
       "    </tr>\n",
       "  </tbody>\n",
       "</table>\n",
       "<p>4079 rows × 6 columns</p>\n",
       "</div>"
      ],
      "text/plain": [
       "      InstanceID  patientID ImageName cellTypeName  cellType  isCancerous\n",
       "449          276          5   276.png   epithelial         2            1\n",
       "450          277          5   277.png   epithelial         2            1\n",
       "451          278          5   278.png   epithelial         2            1\n",
       "452          279          5   279.png   epithelial         2            1\n",
       "453          280          5   280.png   epithelial         2            1\n",
       "...          ...        ...       ...          ...       ...          ...\n",
       "9891        1625         60  1625.png   epithelial         2            1\n",
       "9892        1626         60  1626.png   epithelial         2            1\n",
       "9893        1627         60  1627.png   epithelial         2            1\n",
       "9894        1628         60  1628.png   epithelial         2            1\n",
       "9895        1629         60  1629.png   epithelial         2            1\n",
       "\n",
       "[4079 rows x 6 columns]"
      ]
     },
     "execution_count": 10,
     "metadata": {},
     "output_type": "execute_result"
    }
   ],
   "source": [
    "# Apply loc to make sure\n",
    "main_data.loc[(main_data['cellType'] == 2) & (main_data['isCancerous'] == 1)]"
   ]
  },
  {
   "cell_type": "markdown",
   "id": "dfd878ff",
   "metadata": {},
   "source": [
    "### Conclusion\n",
    "\n",
    "- In **main_data**, only the attribute **cellType** continue to be our strongest candidate for to influence our model when it has high impact on our target attribute is **isCancerous**.\n",
    "\n",
    "\n",
    "- Attributes such as **InstanceID** and **patientID** might create a lot of noise in our model. \n",
    "\n",
    "\n",
    "- There are 4 types of cells: 0, 1, 2, 3. Only cell type number 2 is cancerous while others are not cancerous.\n",
    "\n",
    "\n",
    "- We expect the the model would predict class 0 more accurately than class 1"
   ]
  },
  {
   "cell_type": "markdown",
   "id": "9e43f450",
   "metadata": {},
   "source": [
    "## 3.3. Data Preparation"
   ]
  },
  {
   "cell_type": "code",
   "execution_count": 11,
   "id": "5ac75d03",
   "metadata": {},
   "outputs": [
    {
     "name": "stdout",
     "output_type": "stream",
     "text": [
      "Training data shape task 1: (6927, 2)\n",
      "Validation data shape task 1: (2969, 2)\n",
      "Training data shape task 2: (6927, 2)\n",
      "Validation data shape task 2: (2969, 2)\n"
     ]
    }
   ],
   "source": [
    "from sklearn.model_selection import train_test_split\n",
    "\n",
    "#splitting data into train and validation \n",
    "train_task1, val_task1 = train_test_split(main_data[['ImageName', 'isCancerous']], \n",
    "                                              test_size=0.3, random_state=9)\n",
    "\n",
    "\n",
    "train_task2, val_task2 = train_test_split(main_data[['ImageName','cellType']], \n",
    "                                              test_size=0.3, random_state=9)                                        \n",
    "\n",
    "print('Training data shape task 1:', train_task1.shape)\n",
    "print('Validation data shape task 1:', val_task1.shape)\n",
    "\n",
    "print('Training data shape task 2:', train_task2.shape)\n",
    "print('Validation data shape task 2:', val_task2.shape)"
   ]
  },
  {
   "cell_type": "code",
   "execution_count": 12,
   "id": "e8e9c4c3",
   "metadata": {},
   "outputs": [],
   "source": [
    "#Create a a function to add image according to the name given from the list\n",
    "from PIL import Image\n",
    "def GetImage(directory):\n",
    "    images=[]\n",
    "    for name in tqdm(directory, desc=\"Adding images\"):\n",
    "        image = cv2.imread(\"patch_images/\"+name)\n",
    "        image = Image.fromarray(image,'RGB')\n",
    "        images.append(np.array(image))\n",
    "    result = np.array(images)\n",
    "    print(\"\\ngetImage COMPLETED!\")\n",
    "    return result\n",
    "\n"
   ]
  },
  {
   "cell_type": "code",
   "execution_count": 13,
   "id": "d7ac7950",
   "metadata": {},
   "outputs": [],
   "source": [
    "#Create a function to generate sample to fix the Imblance of the dataset\n",
    "from imblearn.over_sampling import RandomOverSampler\n",
    "def GenerateSample(X,Y):\n",
    "    ros = RandomOverSampler(random_state = 1)\n",
    "    x, y = ros.fit_resample(X.values.reshape(-1,1), Y)\n",
    "    x = x.flatten()\n",
    "    return x,y"
   ]
  },
  {
   "cell_type": "code",
   "execution_count": 14,
   "id": "c0cc8fb2",
   "metadata": {},
   "outputs": [
    {
     "name": "stdout",
     "output_type": "stream",
     "text": [
      "Original Dataset:\n",
      " 0    4030\n",
      "1    2897\n",
      "Name: isCancerous, dtype: int64\n",
      "Sampled Dataset:\n",
      " 0    4030\n",
      "1    4030\n",
      "Name: isCancerous, dtype: int64\n"
     ]
    },
    {
     "name": "stderr",
     "output_type": "stream",
     "text": [
      "Adding images: 100%|█████████████████████████████████████████████████████████████| 8060/8060 [00:03<00:00, 2594.61it/s]\n"
     ]
    },
    {
     "name": "stdout",
     "output_type": "stream",
     "text": [
      "\n",
      "getImage COMPLETED!\n"
     ]
    },
    {
     "name": "stderr",
     "output_type": "stream",
     "text": [
      "Adding images: 100%|█████████████████████████████████████████████████████████████| 2969/2969 [00:01<00:00, 2795.45it/s]"
     ]
    },
    {
     "name": "stdout",
     "output_type": "stream",
     "text": [
      "\n",
      "getImage COMPLETED!\n"
     ]
    },
    {
     "name": "stderr",
     "output_type": "stream",
     "text": [
      "\n"
     ]
    }
   ],
   "source": [
    "x1_train = train_task1['ImageName']\n",
    "y1_train = train_task1['isCancerous']\n",
    "print(\"Original Dataset:\\n\",y1_train.value_counts())\n",
    "\n",
    "#Generate sample\n",
    "x1_train, y1_train = GenerateSample(x1_train,y1_train)\n",
    "print(\"Sampled Dataset:\\n\",y1_train.value_counts())\n",
    "x1_train = GetImage(x1_train)\n",
    "\n",
    "x1_test = val_task1['ImageName']\n",
    "x1_test = GetImage(x1_test)\n",
    "\n",
    "y1_test = val_task1['isCancerous']\n"
   ]
  },
  {
   "cell_type": "code",
   "execution_count": 15,
   "id": "c8e2fb20",
   "metadata": {},
   "outputs": [
    {
     "name": "stdout",
     "output_type": "stream",
     "text": [
      "Original Dataset:\n",
      " 2    2897\n",
      "1    1778\n",
      "0    1302\n",
      "3     950\n",
      "Name: cellType, dtype: int64\n",
      "Sampled Dataset:\n",
      " 1    2897\n",
      "2    2897\n",
      "3    2897\n",
      "0    2897\n",
      "Name: cellType, dtype: int64\n"
     ]
    },
    {
     "name": "stderr",
     "output_type": "stream",
     "text": [
      "Adding images: 100%|███████████████████████████████████████████████████████████| 11588/11588 [00:01<00:00, 6043.11it/s]\n"
     ]
    },
    {
     "name": "stdout",
     "output_type": "stream",
     "text": [
      "\n",
      "getImage COMPLETED!\n"
     ]
    },
    {
     "name": "stderr",
     "output_type": "stream",
     "text": [
      "Adding images: 100%|█████████████████████████████████████████████████████████████| 2969/2969 [00:00<00:00, 6168.75it/s]\n"
     ]
    },
    {
     "name": "stdout",
     "output_type": "stream",
     "text": [
      "\n",
      "getImage COMPLETED!\n"
     ]
    }
   ],
   "source": [
    "x2_train = train_task2['ImageName']\n",
    "y2_train = train_task2['cellType']\n",
    "print(\"Original Dataset:\\n\",y2_train.value_counts())\n",
    "\n",
    "#Generate sample\n",
    "x2_train, y2_train = GenerateSample(x2_train,y2_train)\n",
    "print(\"Sampled Dataset:\\n\",y2_train.value_counts())\n",
    "x2_train = GetImage(x2_train)\n",
    "\n",
    "x2_test = val_task2['ImageName']\n",
    "x2_test = GetImage(x2_test)\n",
    "\n",
    "y2_test = val_task2['cellType']\n",
    "\n",
    "x2_test,x2_val,y2_test,y2_val = train_test_split(x2_test, y2_test,\n",
    "                                              test_size=0.5, random_state=9)"
   ]
  },
  {
   "cell_type": "code",
   "execution_count": 16,
   "id": "a67fa11c",
   "metadata": {},
   "outputs": [
    {
     "name": "stdout",
     "output_type": "stream",
     "text": [
      "TASK 1 SHAPE:\n",
      "TRAIN SHAPE:\n",
      "x1 shape: (8060, 27, 27, 3)\n",
      "y1 shape: (8060,)\n",
      "TEST SHAPE:\n",
      "x1 shape: (2969, 27, 27, 3)\n",
      "y1 shape: (2969,)\n",
      "TASK 2 SHAPE:\n",
      "x1 shape: (11588, 27, 27, 3)\n",
      "y1 shape: (11588,)\n",
      "VALIDATION SHAPE:\n",
      "x1 shape: (1485, 27, 27, 3)\n",
      "y1 shape: (1485,)\n",
      "TEST SHAPE:\n",
      "x1 shape: (1484, 27, 27, 3)\n",
      "y1 shape: (1484,)\n"
     ]
    }
   ],
   "source": [
    "print(\"TASK 1 SHAPE:\")\n",
    "print(\"TRAIN SHAPE:\")\n",
    "print(\"x1 shape:\", x1_train.shape)\n",
    "print(\"y1 shape:\", y1_train.shape)\n",
    "print(\"TEST SHAPE:\")\n",
    "print(\"x1 shape:\", x1_test.shape)\n",
    "print(\"y1 shape:\", y1_test.shape)\n",
    "\n",
    "print(\"TASK 2 SHAPE:\")\n",
    "print(\"x1 shape:\", x2_train.shape)\n",
    "print(\"y1 shape:\", y2_train.shape)\n",
    "print(\"VALIDATION SHAPE:\")\n",
    "print(\"x1 shape:\", x2_val.shape)\n",
    "print(\"y1 shape:\", y2_val.shape)\n",
    "print(\"TEST SHAPE:\")\n",
    "print(\"x1 shape:\", x2_test.shape)\n",
    "print(\"y1 shape:\", y2_test.shape)"
   ]
  },
  {
   "cell_type": "code",
   "execution_count": 17,
   "id": "145b17be",
   "metadata": {},
   "outputs": [],
   "source": [
    "X2_train_scaled = x2_train / 255\n",
    "X2_val_scaled = x2_val / 255\n",
    "X2_test_scaled = x2_test / 255\n"
   ]
  },
  {
   "cell_type": "code",
   "execution_count": 18,
   "id": "a9dc56c9",
   "metadata": {},
   "outputs": [],
   "source": [
    "from tensorflow import keras\n",
    "from tensorflow.keras import layers\n",
    "from tensorflow.keras.models import Sequential"
   ]
  },
  {
   "cell_type": "markdown",
   "id": "319e6130",
   "metadata": {},
   "source": [
    "tf.config.experimental.list_physical_devices()"
   ]
  },
  {
   "cell_type": "code",
   "execution_count": 19,
   "id": "4861c72f",
   "metadata": {},
   "outputs": [],
   "source": [
    "data_augmentation = tf.keras.Sequential(\n",
    "  [\n",
    "    layers.experimental.preprocessing.RandomFlip(\"horizontal\",input_shape=(27,27,3)),\n",
    "    layers.experimental.preprocessing.RandomRotation(0.1),\n",
    "    layers.experimental.preprocessing.RandomZoom(0.1),\n",
    "  ]\n",
    ")"
   ]
  },
  {
   "cell_type": "code",
   "execution_count": 20,
   "id": "6290a044",
   "metadata": {},
   "outputs": [],
   "source": [
    "from tensorflow.keras.regularizers import l2\n",
    "\n",
    "model = Sequential([\n",
    "    data_augmentation,\n",
    "    layers.Conv2D(32, (3, 3), activation='relu', kernel_initializer='he_uniform', padding='same'),\n",
    "    layers.BatchNormalization(),\n",
    "    layers.Conv2D(32, (3, 3), activation='relu', kernel_initializer='he_uniform', padding='same'),\n",
    "    layers.BatchNormalization(),\n",
    "    layers.MaxPooling2D(2,2),\n",
    "    layers.Dropout(0.2),\n",
    "    \n",
    "    layers.Conv2D(64, (3, 3), activation='relu', kernel_initializer='he_uniform', padding='same'),\n",
    "    layers.BatchNormalization(),\n",
    "    layers.Conv2D(64, (3, 3), activation='relu', kernel_initializer='he_uniform', padding='same'),\n",
    "    layers.BatchNormalization(),\n",
    "    layers.MaxPooling2D(2,2),\n",
    "    layers.Dropout(0.3),\n",
    "\n",
    "    \n",
    "    layers.Conv2D(128, (3, 3), activation='relu', kernel_initializer='he_uniform', padding='same'),\n",
    "    layers.BatchNormalization(),\n",
    "    layers.Conv2D(128, (3, 3), activation='relu', kernel_initializer='he_uniform', padding='same'),\n",
    "    layers.BatchNormalization(),\n",
    "    layers.MaxPooling2D(2,2),\n",
    "    layers.Dropout(0.4),\n",
    "    \n",
    "    layers.Flatten(),\n",
    "    layers.Dense(512, kernel_regularizer=l2(l=0.01), activation='relu'),\n",
    "    layers.BatchNormalization(),\n",
    "    layers.Dropout(0.2),\n",
    "    layers.Dense(512, kernel_regularizer=l2(l=0.01), activation='relu'),\n",
    "    layers.BatchNormalization(),\n",
    "    layers.Dropout(0.2),\n",
    "    layers.Dense(4, activation='softmax')\n",
    "])\n",
    "\n",
    "\n"
   ]
  },
  {
   "cell_type": "code",
   "execution_count": 21,
   "id": "4e90bea7",
   "metadata": {},
   "outputs": [],
   "source": [
    "from tensorflow.keras.optimizers import Adam\n",
    "opt = Adam(lr=0.0005, beta_1=0.4, beta_2=0.444, decay=1.0e-6, amsgrad=True)\n",
    "model.compile(optimizer=opt , loss=tf.keras.losses.SparseCategoricalCrossentropy(from_logits=True), metrics=['accuracy'])"
   ]
  },
  {
   "cell_type": "code",
   "execution_count": 22,
   "id": "f898136a",
   "metadata": {},
   "outputs": [],
   "source": [
    "# model.compile(optimizer='adam',\n",
    "#               loss=tf.keras.losses.SparseCategoricalCrossentropy(from_logits=True),\n",
    "#               metrics=['accuracy'])"
   ]
  },
  {
   "cell_type": "code",
   "execution_count": 23,
   "id": "637c96d1",
   "metadata": {
    "scrolled": true
   },
   "outputs": [
    {
     "name": "stdout",
     "output_type": "stream",
     "text": [
      "Epoch 1/500\n",
      "363/363 [==============================] - 26s 17ms/step - loss: 12.1429 - accuracy: 0.5258 - val_loss: 11.3676 - val_accuracy: 0.5111\n",
      "Epoch 2/500\n",
      "363/363 [==============================] - 5s 15ms/step - loss: 10.1205 - accuracy: 0.5801 - val_loss: 9.1390 - val_accuracy: 0.6660\n",
      "Epoch 3/500\n",
      "363/363 [==============================] - 5s 15ms/step - loss: 8.7423 - accuracy: 0.5929 - val_loss: 7.9272 - val_accuracy: 0.7125\n",
      "Epoch 4/500\n",
      "363/363 [==============================] - 5s 15ms/step - loss: 7.6712 - accuracy: 0.6118 - val_loss: 7.0020 - val_accuracy: 0.7219\n",
      "Epoch 5/500\n",
      "363/363 [==============================] - 5s 15ms/step - loss: 6.7973 - accuracy: 0.6219 - val_loss: 6.2674 - val_accuracy: 0.7131\n",
      "Epoch 6/500\n",
      "363/363 [==============================] - 6s 15ms/step - loss: 6.0644 - accuracy: 0.6335 - val_loss: 5.6393 - val_accuracy: 0.7044\n",
      "Epoch 7/500\n",
      "363/363 [==============================] - 6s 16ms/step - loss: 5.4827 - accuracy: 0.6409 - val_loss: 5.0906 - val_accuracy: 0.7185\n",
      "Epoch 8/500\n",
      "363/363 [==============================] - 6s 16ms/step - loss: 4.9869 - accuracy: 0.6477 - val_loss: 4.6546 - val_accuracy: 0.7192\n",
      "Epoch 9/500\n",
      "363/363 [==============================] - 5s 15ms/step - loss: 4.5650 - accuracy: 0.6567 - val_loss: 4.3362 - val_accuracy: 0.7030\n",
      "Epoch 10/500\n",
      "363/363 [==============================] - 5s 15ms/step - loss: 4.2147 - accuracy: 0.6585 - val_loss: 3.9726 - val_accuracy: 0.7199\n",
      "Epoch 11/500\n",
      "363/363 [==============================] - 5s 15ms/step - loss: 3.8997 - accuracy: 0.6663 - val_loss: 3.7438 - val_accuracy: 0.6882\n",
      "Epoch 12/500\n",
      "363/363 [==============================] - 5s 15ms/step - loss: 3.6317 - accuracy: 0.6669 - val_loss: 3.4819 - val_accuracy: 0.6916\n",
      "Epoch 13/500\n",
      "363/363 [==============================] - 5s 15ms/step - loss: 3.3938 - accuracy: 0.6756 - val_loss: 3.2643 - val_accuracy: 0.7077\n",
      "Epoch 14/500\n",
      "363/363 [==============================] - 5s 15ms/step - loss: 3.1848 - accuracy: 0.6775 - val_loss: 3.0855 - val_accuracy: 0.6990\n",
      "Epoch 15/500\n",
      "363/363 [==============================] - 5s 15ms/step - loss: 3.0043 - accuracy: 0.6804 - val_loss: 2.9577 - val_accuracy: 0.6801\n",
      "Epoch 16/500\n",
      "363/363 [==============================] - 5s 15ms/step - loss: 2.8519 - accuracy: 0.6842 - val_loss: 2.7890 - val_accuracy: 0.6889\n",
      "Epoch 17/500\n",
      "363/363 [==============================] - 5s 15ms/step - loss: 2.7023 - accuracy: 0.6804 - val_loss: 2.6026 - val_accuracy: 0.7131\n",
      "Epoch 18/500\n",
      "363/363 [==============================] - 5s 15ms/step - loss: 2.5764 - accuracy: 0.6918 - val_loss: 2.5033 - val_accuracy: 0.7057\n",
      "Epoch 19/500\n",
      "363/363 [==============================] - 5s 15ms/step - loss: 2.4557 - accuracy: 0.6886 - val_loss: 2.3919 - val_accuracy: 0.7010\n",
      "Epoch 20/500\n",
      "363/363 [==============================] - 5s 15ms/step - loss: 2.3553 - accuracy: 0.6885 - val_loss: 2.3374 - val_accuracy: 0.6923\n",
      "Epoch 21/500\n",
      "363/363 [==============================] - 5s 15ms/step - loss: 2.2519 - accuracy: 0.6959 - val_loss: 2.2560 - val_accuracy: 0.6916\n",
      "Epoch 22/500\n",
      "363/363 [==============================] - 5s 15ms/step - loss: 2.1691 - accuracy: 0.6946 - val_loss: 2.1289 - val_accuracy: 0.7125\n",
      "Epoch 23/500\n",
      "363/363 [==============================] - 5s 15ms/step - loss: 2.0831 - accuracy: 0.6949 - val_loss: 2.0529 - val_accuracy: 0.7091\n",
      "Epoch 24/500\n",
      "363/363 [==============================] - 6s 15ms/step - loss: 2.0187 - accuracy: 0.6957 - val_loss: 1.9484 - val_accuracy: 0.7212\n",
      "Epoch 25/500\n",
      "363/363 [==============================] - 6s 15ms/step - loss: 1.9465 - accuracy: 0.6988 - val_loss: 1.9067 - val_accuracy: 0.7158\n",
      "Epoch 26/500\n",
      "363/363 [==============================] - 5s 15ms/step - loss: 1.8916 - accuracy: 0.7003 - val_loss: 1.9722 - val_accuracy: 0.6848\n",
      "Epoch 27/500\n",
      "363/363 [==============================] - 6s 15ms/step - loss: 1.8327 - accuracy: 0.7056 - val_loss: 1.8777 - val_accuracy: 0.6976\n",
      "Epoch 28/500\n",
      "363/363 [==============================] - 5s 15ms/step - loss: 1.7613 - accuracy: 0.7141 - val_loss: 1.8308 - val_accuracy: 0.6997\n",
      "Epoch 29/500\n",
      "363/363 [==============================] - 5s 15ms/step - loss: 1.7313 - accuracy: 0.7043 - val_loss: 1.7469 - val_accuracy: 0.7104\n",
      "Epoch 30/500\n",
      "363/363 [==============================] - 5s 15ms/step - loss: 1.6845 - accuracy: 0.7068 - val_loss: 1.6973 - val_accuracy: 0.7185\n",
      "Epoch 31/500\n",
      "363/363 [==============================] - 5s 15ms/step - loss: 1.6411 - accuracy: 0.7120 - val_loss: 1.6987 - val_accuracy: 0.7057\n",
      "Epoch 32/500\n",
      "363/363 [==============================] - 6s 15ms/step - loss: 1.5945 - accuracy: 0.7119 - val_loss: 1.6221 - val_accuracy: 0.7192\n",
      "Epoch 33/500\n",
      "363/363 [==============================] - 5s 15ms/step - loss: 1.5511 - accuracy: 0.7187 - val_loss: 1.6082 - val_accuracy: 0.7131\n",
      "Epoch 34/500\n",
      "363/363 [==============================] - 6s 15ms/step - loss: 1.5197 - accuracy: 0.7182 - val_loss: 1.5684 - val_accuracy: 0.7138\n",
      "Epoch 35/500\n",
      "363/363 [==============================] - 5s 15ms/step - loss: 1.4834 - accuracy: 0.7199 - val_loss: 1.5703 - val_accuracy: 0.7071\n",
      "Epoch 36/500\n",
      "363/363 [==============================] - 5s 15ms/step - loss: 1.4485 - accuracy: 0.7199 - val_loss: 1.5543 - val_accuracy: 0.6929\n",
      "Epoch 37/500\n",
      "363/363 [==============================] - 5s 15ms/step - loss: 1.4145 - accuracy: 0.7231 - val_loss: 1.4790 - val_accuracy: 0.7098\n",
      "Epoch 38/500\n",
      "363/363 [==============================] - 5s 15ms/step - loss: 1.3952 - accuracy: 0.7204 - val_loss: 1.4410 - val_accuracy: 0.7125\n",
      "Epoch 39/500\n",
      "363/363 [==============================] - 5s 15ms/step - loss: 1.3805 - accuracy: 0.7161 - val_loss: 1.4156 - val_accuracy: 0.7145\n",
      "Epoch 40/500\n",
      "363/363 [==============================] - 5s 15ms/step - loss: 1.3374 - accuracy: 0.7237 - val_loss: 1.3608 - val_accuracy: 0.7232\n",
      "Epoch 41/500\n",
      "363/363 [==============================] - 6s 16ms/step - loss: 1.3194 - accuracy: 0.7276 - val_loss: 1.3093 - val_accuracy: 0.7421\n",
      "Epoch 42/500\n",
      "363/363 [==============================] - 6s 15ms/step - loss: 1.2878 - accuracy: 0.7308 - val_loss: 1.4016 - val_accuracy: 0.7037\n",
      "Epoch 43/500\n",
      "363/363 [==============================] - 5s 15ms/step - loss: 1.2714 - accuracy: 0.7264 - val_loss: 1.3102 - val_accuracy: 0.7266\n",
      "Epoch 44/500\n",
      "363/363 [==============================] - ETA: 0s - loss: 1.2524 - accuracy: 0.73 - 5s 15ms/step - loss: 1.2518 - accuracy: 0.7325 - val_loss: 1.2956 - val_accuracy: 0.7253\n",
      "Epoch 45/500\n",
      "363/363 [==============================] - 5s 15ms/step - loss: 1.2312 - accuracy: 0.7339 - val_loss: 1.3053 - val_accuracy: 0.7138\n",
      "Epoch 46/500\n",
      "363/363 [==============================] - 5s 15ms/step - loss: 1.2173 - accuracy: 0.7320 - val_loss: 1.2625 - val_accuracy: 0.7232\n",
      "Epoch 47/500\n",
      "363/363 [==============================] - 5s 15ms/step - loss: 1.1953 - accuracy: 0.7350 - val_loss: 1.2836 - val_accuracy: 0.7178\n",
      "Epoch 48/500\n",
      "363/363 [==============================] - 5s 15ms/step - loss: 1.1764 - accuracy: 0.7408 - val_loss: 1.1867 - val_accuracy: 0.7448\n",
      "Epoch 49/500\n",
      "363/363 [==============================] - 6s 16ms/step - loss: 1.1615 - accuracy: 0.7378 - val_loss: 1.2490 - val_accuracy: 0.7152\n",
      "Epoch 50/500\n",
      "363/363 [==============================] - 5s 15ms/step - loss: 1.1341 - accuracy: 0.7413 - val_loss: 1.2193 - val_accuracy: 0.7205\n",
      "Epoch 51/500\n",
      "363/363 [==============================] - 5s 15ms/step - loss: 1.1290 - accuracy: 0.7406 - val_loss: 1.2136 - val_accuracy: 0.7172\n",
      "Epoch 52/500\n",
      "363/363 [==============================] - 6s 15ms/step - loss: 1.1174 - accuracy: 0.7393 - val_loss: 1.1640 - val_accuracy: 0.7293\n",
      "Epoch 53/500\n",
      "363/363 [==============================] - 6s 15ms/step - loss: 1.0985 - accuracy: 0.7351 - val_loss: 1.1379 - val_accuracy: 0.7407\n",
      "Epoch 54/500\n",
      "363/363 [==============================] - 5s 15ms/step - loss: 1.0875 - accuracy: 0.7437 - val_loss: 1.1479 - val_accuracy: 0.7313\n",
      "Epoch 55/500\n",
      "363/363 [==============================] - 6s 15ms/step - loss: 1.0751 - accuracy: 0.7405 - val_loss: 1.1019 - val_accuracy: 0.7327\n",
      "Epoch 56/500\n",
      "363/363 [==============================] - 6s 15ms/step - loss: 1.0609 - accuracy: 0.7441 - val_loss: 1.1257 - val_accuracy: 0.7313\n",
      "Epoch 57/500\n"
     ]
    },
    {
     "name": "stdout",
     "output_type": "stream",
     "text": [
      "363/363 [==============================] - 5s 15ms/step - loss: 1.0433 - accuracy: 0.7494 - val_loss: 1.0731 - val_accuracy: 0.7461\n",
      "Epoch 58/500\n",
      "363/363 [==============================] - 5s 15ms/step - loss: 1.0352 - accuracy: 0.7460 - val_loss: 1.1328 - val_accuracy: 0.7232\n",
      "Epoch 59/500\n",
      "363/363 [==============================] - 5s 15ms/step - loss: 1.0189 - accuracy: 0.7513 - val_loss: 1.0746 - val_accuracy: 0.7360\n",
      "Epoch 60/500\n",
      "363/363 [==============================] - 5s 15ms/step - loss: 1.0127 - accuracy: 0.7459 - val_loss: 1.1075 - val_accuracy: 0.7293\n",
      "Epoch 61/500\n",
      "363/363 [==============================] - 5s 15ms/step - loss: 0.9957 - accuracy: 0.7499 - val_loss: 1.0458 - val_accuracy: 0.7407\n",
      "Epoch 62/500\n",
      "363/363 [==============================] - 5s 15ms/step - loss: 0.9962 - accuracy: 0.7471 - val_loss: 1.0820 - val_accuracy: 0.7293\n",
      "Epoch 63/500\n",
      "363/363 [==============================] - 5s 15ms/step - loss: 0.9775 - accuracy: 0.7550 - val_loss: 1.0380 - val_accuracy: 0.7360\n",
      "Epoch 64/500\n",
      "363/363 [==============================] - 5s 15ms/step - loss: 0.9728 - accuracy: 0.7473 - val_loss: 1.0442 - val_accuracy: 0.7374\n",
      "Epoch 65/500\n",
      "363/363 [==============================] - 6s 15ms/step - loss: 0.9698 - accuracy: 0.7519 - val_loss: 1.0349 - val_accuracy: 0.7387\n",
      "Epoch 66/500\n",
      "363/363 [==============================] - 5s 15ms/step - loss: 0.9386 - accuracy: 0.7643 - val_loss: 0.9720 - val_accuracy: 0.7502\n",
      "Epoch 67/500\n",
      "363/363 [==============================] - 6s 15ms/step - loss: 0.9471 - accuracy: 0.7547 - val_loss: 1.0076 - val_accuracy: 0.7347\n",
      "Epoch 68/500\n",
      "363/363 [==============================] - 6s 15ms/step - loss: 0.9412 - accuracy: 0.7566 - val_loss: 0.9890 - val_accuracy: 0.7320\n",
      "Epoch 69/500\n",
      "363/363 [==============================] - 6s 15ms/step - loss: 0.9270 - accuracy: 0.7593 - val_loss: 0.9709 - val_accuracy: 0.7495\n",
      "Epoch 70/500\n",
      "363/363 [==============================] - 6s 15ms/step - loss: 0.9178 - accuracy: 0.7623 - val_loss: 1.0637 - val_accuracy: 0.7185\n",
      "Epoch 71/500\n",
      "363/363 [==============================] - 6s 15ms/step - loss: 0.9121 - accuracy: 0.7614 - val_loss: 1.0041 - val_accuracy: 0.7441\n",
      "Epoch 72/500\n",
      "363/363 [==============================] - 6s 15ms/step - loss: 0.9048 - accuracy: 0.7593 - val_loss: 0.9176 - val_accuracy: 0.7582\n",
      "Epoch 73/500\n",
      "363/363 [==============================] - 6s 15ms/step - loss: 0.9008 - accuracy: 0.7627 - val_loss: 0.9351 - val_accuracy: 0.7529\n",
      "Epoch 74/500\n",
      "363/363 [==============================] - 5s 15ms/step - loss: 0.8949 - accuracy: 0.7569 - val_loss: 0.9461 - val_accuracy: 0.7582\n",
      "Epoch 75/500\n",
      "363/363 [==============================] - 5s 15ms/step - loss: 0.8817 - accuracy: 0.7642 - val_loss: 0.8869 - val_accuracy: 0.7630\n",
      "Epoch 76/500\n",
      "363/363 [==============================] - 6s 15ms/step - loss: 0.8726 - accuracy: 0.7654 - val_loss: 0.9947 - val_accuracy: 0.7333\n",
      "Epoch 77/500\n",
      "363/363 [==============================] - 5s 15ms/step - loss: 0.8679 - accuracy: 0.7708 - val_loss: 0.9416 - val_accuracy: 0.7394\n",
      "Epoch 78/500\n",
      "363/363 [==============================] - 6s 16ms/step - loss: 0.8625 - accuracy: 0.7680 - val_loss: 0.8757 - val_accuracy: 0.7636\n",
      "Epoch 79/500\n",
      "363/363 [==============================] - 6s 15ms/step - loss: 0.8562 - accuracy: 0.7673 - val_loss: 0.8958 - val_accuracy: 0.7650\n",
      "Epoch 80/500\n",
      "363/363 [==============================] - 5s 15ms/step - loss: 0.8418 - accuracy: 0.7743 - val_loss: 0.9718 - val_accuracy: 0.7333\n",
      "Epoch 81/500\n",
      "363/363 [==============================] - 5s 15ms/step - loss: 0.8449 - accuracy: 0.7681 - val_loss: 0.9105 - val_accuracy: 0.7549\n",
      "Epoch 82/500\n",
      "363/363 [==============================] - 5s 15ms/step - loss: 0.8388 - accuracy: 0.7725 - val_loss: 0.8750 - val_accuracy: 0.7670\n",
      "Epoch 83/500\n",
      "363/363 [==============================] - 5s 15ms/step - loss: 0.8397 - accuracy: 0.7662 - val_loss: 0.9019 - val_accuracy: 0.7542\n",
      "Epoch 84/500\n",
      "363/363 [==============================] - 5s 15ms/step - loss: 0.8265 - accuracy: 0.7697 - val_loss: 0.9300 - val_accuracy: 0.7434\n",
      "Epoch 85/500\n",
      "363/363 [==============================] - 5s 15ms/step - loss: 0.8157 - accuracy: 0.7775 - val_loss: 0.8462 - val_accuracy: 0.7724\n",
      "Epoch 86/500\n",
      "363/363 [==============================] - 5s 15ms/step - loss: 0.8147 - accuracy: 0.7734 - val_loss: 0.9321 - val_accuracy: 0.7455\n",
      "Epoch 87/500\n",
      "363/363 [==============================] - 5s 15ms/step - loss: 0.8094 - accuracy: 0.7771 - val_loss: 0.8753 - val_accuracy: 0.7529\n",
      "Epoch 88/500\n",
      "363/363 [==============================] - 5s 15ms/step - loss: 0.8018 - accuracy: 0.7763 - val_loss: 0.8527 - val_accuracy: 0.7582\n",
      "Epoch 89/500\n",
      "363/363 [==============================] - 5s 15ms/step - loss: 0.7933 - accuracy: 0.7805 - val_loss: 0.8565 - val_accuracy: 0.7670\n",
      "Epoch 90/500\n",
      "363/363 [==============================] - 5s 15ms/step - loss: 0.7992 - accuracy: 0.7814 - val_loss: 0.8630 - val_accuracy: 0.7582\n",
      "Epoch 91/500\n",
      "363/363 [==============================] - 5s 15ms/step - loss: 0.7771 - accuracy: 0.7835 - val_loss: 0.8466 - val_accuracy: 0.7690\n",
      "Epoch 92/500\n",
      "363/363 [==============================] - 5s 15ms/step - loss: 0.7728 - accuracy: 0.7851 - val_loss: 0.8479 - val_accuracy: 0.7630\n",
      "Epoch 93/500\n",
      "363/363 [==============================] - 5s 15ms/step - loss: 0.7727 - accuracy: 0.7868 - val_loss: 0.8521 - val_accuracy: 0.7589\n",
      "Epoch 94/500\n",
      "363/363 [==============================] - 5s 15ms/step - loss: 0.7552 - accuracy: 0.7958 - val_loss: 0.8385 - val_accuracy: 0.7603\n",
      "Epoch 95/500\n",
      "363/363 [==============================] - 5s 15ms/step - loss: 0.7553 - accuracy: 0.7912 - val_loss: 0.8560 - val_accuracy: 0.7549\n",
      "Epoch 96/500\n",
      "363/363 [==============================] - 5s 15ms/step - loss: 0.7534 - accuracy: 0.7924 - val_loss: 0.8370 - val_accuracy: 0.7609\n",
      "Epoch 97/500\n",
      "363/363 [==============================] - 5s 15ms/step - loss: 0.7488 - accuracy: 0.7925 - val_loss: 0.8625 - val_accuracy: 0.7549\n",
      "Epoch 98/500\n",
      "363/363 [==============================] - 5s 15ms/step - loss: 0.7391 - accuracy: 0.7982 - val_loss: 0.8646 - val_accuracy: 0.7515\n",
      "Epoch 99/500\n",
      "363/363 [==============================] - 5s 14ms/step - loss: 0.7450 - accuracy: 0.7912 - val_loss: 0.8547 - val_accuracy: 0.7542\n",
      "Epoch 100/500\n",
      "363/363 [==============================] - 5s 15ms/step - loss: 0.7342 - accuracy: 0.7968 - val_loss: 0.8344 - val_accuracy: 0.7576\n",
      "Epoch 101/500\n",
      "363/363 [==============================] - 5s 15ms/step - loss: 0.7404 - accuracy: 0.7989 - val_loss: 0.8074 - val_accuracy: 0.7785\n",
      "Epoch 102/500\n",
      "363/363 [==============================] - 5s 15ms/step - loss: 0.7335 - accuracy: 0.7973 - val_loss: 0.8321 - val_accuracy: 0.7650\n",
      "Epoch 103/500\n",
      "363/363 [==============================] - 5s 15ms/step - loss: 0.7224 - accuracy: 0.7974 - val_loss: 0.8368 - val_accuracy: 0.7596\n",
      "Epoch 104/500\n",
      "363/363 [==============================] - 6s 15ms/step - loss: 0.7252 - accuracy: 0.7994 - val_loss: 0.8302 - val_accuracy: 0.7657\n",
      "Epoch 105/500\n",
      "363/363 [==============================] - 5s 15ms/step - loss: 0.7243 - accuracy: 0.7988 - val_loss: 0.8403 - val_accuracy: 0.7663\n",
      "Epoch 106/500\n",
      "363/363 [==============================] - 6s 15ms/step - loss: 0.7247 - accuracy: 0.7994 - val_loss: 0.8186 - val_accuracy: 0.7717\n",
      "Epoch 107/500\n",
      "363/363 [==============================] - 5s 15ms/step - loss: 0.7236 - accuracy: 0.8021 - val_loss: 0.8263 - val_accuracy: 0.7650\n",
      "Epoch 108/500\n",
      "363/363 [==============================] - 5s 15ms/step - loss: 0.7119 - accuracy: 0.8022 - val_loss: 0.8548 - val_accuracy: 0.7569\n",
      "Epoch 109/500\n",
      "363/363 [==============================] - 5s 15ms/step - loss: 0.7149 - accuracy: 0.7982 - val_loss: 0.8361 - val_accuracy: 0.7596\n",
      "Epoch 110/500\n",
      "363/363 [==============================] - 5s 15ms/step - loss: 0.7096 - accuracy: 0.8033 - val_loss: 0.8276 - val_accuracy: 0.7643\n",
      "Epoch 111/500\n",
      "363/363 [==============================] - 5s 15ms/step - loss: 0.7067 - accuracy: 0.8056 - val_loss: 0.8215 - val_accuracy: 0.7670\n",
      "Epoch 112/500\n",
      "363/363 [==============================] - 5s 15ms/step - loss: 0.7096 - accuracy: 0.8053 - val_loss: 0.8220 - val_accuracy: 0.7663\n",
      "Epoch 113/500\n"
     ]
    },
    {
     "name": "stdout",
     "output_type": "stream",
     "text": [
      "363/363 [==============================] - 5s 15ms/step - loss: 0.7031 - accuracy: 0.8045 - val_loss: 0.8224 - val_accuracy: 0.7636\n",
      "Epoch 114/500\n",
      "363/363 [==============================] - 5s 15ms/step - loss: 0.7046 - accuracy: 0.8050 - val_loss: 0.8238 - val_accuracy: 0.7677\n",
      "Epoch 115/500\n",
      "363/363 [==============================] - 5s 15ms/step - loss: 0.7101 - accuracy: 0.8031 - val_loss: 0.8186 - val_accuracy: 0.7697\n",
      "Epoch 116/500\n",
      "363/363 [==============================] - 5s 15ms/step - loss: 0.7005 - accuracy: 0.8092 - val_loss: 0.8204 - val_accuracy: 0.7657\n",
      "Epoch 117/500\n",
      "363/363 [==============================] - 5s 15ms/step - loss: 0.7089 - accuracy: 0.7995 - val_loss: 0.8147 - val_accuracy: 0.7704\n",
      "Epoch 118/500\n",
      "363/363 [==============================] - 5s 15ms/step - loss: 0.7035 - accuracy: 0.8024 - val_loss: 0.8305 - val_accuracy: 0.7596\n",
      "Epoch 119/500\n",
      "363/363 [==============================] - 5s 15ms/step - loss: 0.6980 - accuracy: 0.8070 - val_loss: 0.8144 - val_accuracy: 0.7697\n",
      "Epoch 120/500\n",
      "363/363 [==============================] - 5s 15ms/step - loss: 0.7023 - accuracy: 0.8063 - val_loss: 0.8225 - val_accuracy: 0.7657\n",
      "Epoch 121/500\n",
      "363/363 [==============================] - 5s 15ms/step - loss: 0.7053 - accuracy: 0.8038 - val_loss: 0.8264 - val_accuracy: 0.7677\n",
      "Epoch 122/500\n",
      "363/363 [==============================] - 5s 15ms/step - loss: 0.7075 - accuracy: 0.8021 - val_loss: 0.8267 - val_accuracy: 0.7663\n",
      "Epoch 123/500\n",
      "363/363 [==============================] - 5s 15ms/step - loss: 0.6962 - accuracy: 0.8061 - val_loss: 0.8213 - val_accuracy: 0.7650\n",
      "Epoch 124/500\n",
      "363/363 [==============================] - 5s 15ms/step - loss: 0.7052 - accuracy: 0.8060 - val_loss: 0.8287 - val_accuracy: 0.7623\n",
      "Epoch 125/500\n",
      "363/363 [==============================] - 5s 15ms/step - loss: 0.7055 - accuracy: 0.8048 - val_loss: 0.8263 - val_accuracy: 0.7630\n",
      "Epoch 126/500\n",
      "363/363 [==============================] - 5s 15ms/step - loss: 0.7075 - accuracy: 0.8050 - val_loss: 0.8231 - val_accuracy: 0.7643\n",
      "Epoch 00126: early stopping\n",
      "---  Training time in seconds ---707.4333164691925 \n"
     ]
    }
   ],
   "source": [
    "from tensorflow.keras.callbacks import EarlyStopping, ReduceLROnPlateau\n",
    "\n",
    "my_callbacks = [\n",
    "    tf.keras.callbacks.EarlyStopping(monitor='accuracy', min_delta=0.001, patience=10, verbose=1, mode='auto'),\n",
    "    tf.keras.callbacks.ModelCheckpoint(\n",
    "    filepath=\"task2/task2_weights.{epoch:02d}-valloss.{val_loss:.2f}.h5\",\n",
    "    save_weights_only=False,\n",
    "    monitor='val_accuracy',\n",
    "    mode='max',\n",
    "    save_best_only=True),\n",
    "    ReduceLROnPlateau(monitor='val_loss', factor=np.sqrt(0.1), cooldown=0, patience=6, min_lr=0.5e-15) \n",
    "]\n",
    "\n",
    "EPOCHS = 500\n",
    "BATCH_SIZE = 32\n",
    "\n",
    "import time\n",
    "start_time = time.time()\n",
    "\n",
    "with tf.device('/GPU:0'): \n",
    "    history = model.fit(X2_train_scaled, y2_train,\n",
    "                    validation_data=(X2_val_scaled, y2_val), \n",
    "                    batch_size=BATCH_SIZE, \n",
    "                    epochs=EPOCHS, \n",
    "                    verbose=1,\n",
    "                    callbacks=my_callbacks)\n",
    "\n",
    "print(\"---  Training time in seconds ---%s \" % (time.time() - start_time))"
   ]
  },
  {
   "cell_type": "code",
   "execution_count": 26,
   "id": "2e2d610c",
   "metadata": {},
   "outputs": [],
   "source": [
    " model.load_weights(\"task2/task2_weights.101-0.81.h5\")"
   ]
  },
  {
   "cell_type": "code",
   "execution_count": 27,
   "id": "b066b122",
   "metadata": {},
   "outputs": [
    {
     "name": "stdout",
     "output_type": "stream",
     "text": [
      "47/47 [==============================] - 0s 3ms/step - loss: 0.8074 - accuracy: 0.7785\n",
      "Validation loss: 0.8073897361755371\n",
      "Validation accuracy: 0.7784512042999268\n",
      "Max Validation accuracy: 0.8091991543769836\n"
     ]
    },
    {
     "data": {
      "image/png": "[encoded data removed]",
      "text/plain": [
       "<Figure size 432x288 with 1 Axes>"
      ]
     },
     "metadata": {
      "needs_background": "light"
     },
     "output_type": "display_data"
    },
    {
     "data": {
      "image/png": "[encoded data removed]",
      "text/plain": [
       "<Figure size 432x288 with 1 Axes>"
      ]
     },
     "metadata": {
      "needs_background": "light"
     },
     "output_type": "display_data"
    }
   ],
   "source": [
    "\n",
    "scores = model.evaluate(X2_val_scaled, y2_val, verbose=1)\n",
    "print('Validation loss:', scores[0])\n",
    "print('Validation accuracy:', scores[1])\n",
    "print('Max Validation accuracy:', max(history.history['accuracy']))\n",
    "\n",
    "# summarize history for accuracy\n",
    "plt.plot(history.history['accuracy'])\n",
    "plt.plot(history.history['val_accuracy'])\n",
    "plt.title('Model accuracy')\n",
    "plt.ylabel('Accuracy')\n",
    "plt.xlabel('Epoch')\n",
    "plt.legend(['Train', 'Validation'], loc='upper left')\n",
    "plt.show()\n",
    "# summarize history for loss\n",
    "plt.plot(history.history['loss'])\n",
    "plt.plot(history.history['val_loss'])\n",
    "plt.title('Model loss')\n",
    "plt.ylabel('Loss')\n",
    "plt.xlabel('Epoch')\n",
    "plt.legend(['Train', 'Validation'], loc='upper right')\n",
    "plt.show()"
   ]
  },
  {
   "cell_type": "code",
   "execution_count": 28,
   "id": "3df4116f",
   "metadata": {},
   "outputs": [
    {
     "name": "stdout",
     "output_type": "stream",
     "text": [
      "              precision    recall  f1-score   support\n",
      "\n",
      "           0       0.64      0.82      0.72       292\n",
      "           1       0.86      0.65      0.74       384\n",
      "           2       0.86      0.95      0.90       607\n",
      "           3       0.64      0.48      0.55       201\n",
      "\n",
      "    accuracy                           0.78      1484\n",
      "   macro avg       0.75      0.72      0.73      1484\n",
      "weighted avg       0.79      0.78      0.78      1484\n",
      "\n"
     ]
    }
   ],
   "source": [
    "from sklearn.metrics import classification_report\n",
    "predict=model.predict(X2_test_scaled)\n",
    "classes=np.argmax(predict,axis=1)\n",
    "\n",
    "print(classification_report(y2_test, classes))\n"
   ]
  },
  {
   "cell_type": "code",
   "execution_count": null,
   "id": "3f45f7e6",
   "metadata": {},
   "outputs": [],
   "source": [
    "class_names = [\"fibroblast\",\"inflammatory\",\"epithelial\",\"others\"]"
   ]
  },
  {
   "cell_type": "code",
   "execution_count": null,
   "id": "480c023a",
   "metadata": {},
   "outputs": [],
   "source": [
    "import numpy as np\n",
    "batch_predict = model.predict (X2_test_scaled)\n",
    "plt.figure(figsize=(15, 15))\n",
    "\n",
    "for i in range(9):\n",
    "    ax = plt.subplot(3, 3, i+1)\n",
    "    first_image = X2_test_scaled[i]\n",
    "    first_label = int(y2_test.iloc[i])\n",
    "    plt.imshow(first_image)\n",
    "    confidence = round(100 * (np.max(batch_predict[i][0])), 2)\n",
    "    actual_class= class_names[first_label]\n",
    "    predicted_class = class_names[np.argmax(batch_predict[i])]\n",
    "    \n",
    "    plt.title(f\"Actual: {actual_class},\\n Predicted: {predicted_class}.\\n Confidence: {confidence}%\")\n",
    "    plt.axis(\"off\")\n",
    "    "
   ]
  }
 ],
 "metadata": {
  "kernelspec": {
   "display_name": "Python 3 (ipykernel)",
   "language": "python",
   "name": "python3"
  },
  "language_info": {
   "codemirror_mode": {
    "name": "ipython",
    "version": 3
   },
   "file_extension": ".py",
   "mimetype": "text/x-python",
   "name": "python",
   "nbconvert_exporter": "python",
   "pygments_lexer": "ipython3",
   "version": "3.9.12"
  }
 },
 "nbformat": 4,
 "nbformat_minor": 5
}

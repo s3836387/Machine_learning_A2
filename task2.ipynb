{
 "cells": [
  {
   "cell_type": "markdown",
   "id": "f69b336b",
   "metadata": {},
   "source": [
    "<hr style=\"border:0.1px solid gray\">"
   ]
  },
  {
   "cell_type": "markdown",
   "id": "6f629d5c",
   "metadata": {},
   "source": [
    "# <center style='color:Red'> COSC2753 - Machine Learning </center> \n",
    "## <center style='color:Red'> Assignment 2 - Classify Images of Colon Cancer </center>"
   ]
  },
  {
   "cell_type": "markdown",
   "id": "39870a75",
   "metadata": {
    "toc": true
   },
   "source": [
    "<h1>Table of Contents<span class=\"tocSkip\"></span></h1>\n",
    "<div class=\"toc\"><ul class=\"toc-item\"><li><span><a href=\"#-COSC2753---Machine-Learning-\" data-toc-modified-id=\"-COSC2753---Machine-Learning--1\"><center style=\"color:Red\"> COSC2753 - Machine Learning </center></a></span><ul class=\"toc-item\"><li><span><a href=\"#-Assignment-2---Classify-Images-of-Colon-Cancer-\" data-toc-modified-id=\"-Assignment-2---Classify-Images-of-Colon-Cancer--1.1\"><center style=\"color:Red\"> Assignment 2 - Classify Images of Colon Cancer </center></a></span></li></ul></li><li><span><a href=\"#Main-Task\" data-toc-modified-id=\"Main-Task-2\">Main Task</a></span></li><li><span><a href=\"#1.-Import-libraries-and-setting-up-environment\" data-toc-modified-id=\"1.-Import-libraries-and-setting-up-environment-3\">1. Import libraries and setting up environment</a></span></li><li><span><a href=\"#2.-Import-Dataset\" data-toc-modified-id=\"2.-Import-Dataset-4\">2. Import Dataset</a></span></li><li><span><a href=\"#3.-Exploratory-Data-Analysis-(EDA)\" data-toc-modified-id=\"3.-Exploratory-Data-Analysis-(EDA)-5\">3. Exploratory Data Analysis (EDA)</a></span><ul class=\"toc-item\"><li><span><a href=\"#3.1.-Process-the-data\" data-toc-modified-id=\"3.1.-Process-the-data-5.1\">3.1. Process the data</a></span></li><li><span><a href=\"#3.2.-Data-Analysis-and-Visualiztion\" data-toc-modified-id=\"3.2.-Data-Analysis-and-Visualiztion-5.2\">3.2. Data Analysis and Visualiztion</a></span><ul class=\"toc-item\"><li><span><a href=\"#3.2.1.-Correlation-and-Correlation-Matrix\" data-toc-modified-id=\"3.2.1.-Correlation-and-Correlation-Matrix-5.2.1\">3.2.1. Correlation and Correlation Matrix</a></span></li><li><span><a href=\"#3.2.2.-Data-Distribution\" data-toc-modified-id=\"3.2.2.-Data-Distribution-5.2.2\">3.2.2. Data Distribution</a></span></li><li><span><a href=\"#Countplot\" data-toc-modified-id=\"Countplot-5.2.3\">Countplot</a></span></li><li><span><a href=\"#Histogram\" data-toc-modified-id=\"Histogram-5.2.4\">Histogram</a></span></li><li><span><a href=\"#Conclusion\" data-toc-modified-id=\"Conclusion-5.2.5\">Conclusion</a></span></li></ul></li><li><span><a href=\"#3.3.-Data-Preparation\" data-toc-modified-id=\"3.3.-Data-Preparation-5.3\">3.3. Data Preparation</a></span></li></ul></li><li><span><a href=\"#4.-Models\" data-toc-modified-id=\"4.-Models-6\">4. Models</a></span><ul class=\"toc-item\"><li><span><a href=\"#4.1-Convolutional-neural-network\" data-toc-modified-id=\"4.1-Convolutional-neural-network-6.1\">4.1 Convolutional neural network</a></span><ul class=\"toc-item\"><li><span><a href=\"#4.1.1-Baseline-model\" data-toc-modified-id=\"4.1.1-Baseline-model-6.1.1\">4.1.1 Baseline model</a></span></li><li><span><a href=\"#4.1.2-Hyperparameter-tuning\" data-toc-modified-id=\"4.1.2-Hyperparameter-tuning-6.1.2\">4.1.2 Hyperparameter tuning</a></span><ul class=\"toc-item\"><li><span><a href=\"#I.-Layers-tuning\" data-toc-modified-id=\"I.-Layers-tuning-6.1.2.1\">I. Layers tuning</a></span><ul class=\"toc-item\"><li><span><a href=\"#i.-32-64-128-Dense:256\" data-toc-modified-id=\"i.-32-64-128-Dense:256-6.1.2.1.1\">i. 32-64-128 Dense:256</a></span></li><li><span><a href=\"#ii.-32-64-128-Dense:512\" data-toc-modified-id=\"ii.-32-64-128-Dense:512-6.1.2.1.2\">ii. 32-64-128 Dense:512</a></span></li><li><span><a href=\"#iii.-32-64-128-Dense:512-With-Batch-Normalization\" data-toc-modified-id=\"iii.-32-64-128-Dense:512-With-Batch-Normalization-6.1.2.1.3\">iii. 32-64-128 Dense:512 With Batch Normalization</a></span></li><li><span><a href=\"#iv.-With-Batch-Normalization-and-Drop-out\" data-toc-modified-id=\"iv.-With-Batch-Normalization-and-Drop-out-6.1.2.1.4\">iv. With Batch Normalization and Drop out</a></span></li><li><span><a href=\"#v.-Layer-weight-initializers-and-regularizers\" data-toc-modified-id=\"v.-Layer-weight-initializers-and-regularizers-6.1.2.1.5\">v. Layer weight initializers and regularizers</a></span></li><li><span><a href=\"#vi.-Stack\" data-toc-modified-id=\"vi.-Stack-6.1.2.1.6\">vi. Stack</a></span></li><li><span><a href=\"#VGG16-architect\" data-toc-modified-id=\"VGG16-architect-6.1.2.1.7\">VGG16 architect</a></span></li></ul></li></ul></li><li><span><a href=\"#4.1.3-Final-model\" data-toc-modified-id=\"4.1.3-Final-model-6.1.3\">4.1.3 Final model</a></span></li></ul></li></ul></li><li><span><a href=\"#summarize-history-for-accuracy\" data-toc-modified-id=\"summarize-history-for-accuracy-7\">summarize history for accuracy</a></span></li><li><span><a href=\"#summarize-history-for-loss\" data-toc-modified-id=\"summarize-history-for-loss-8\">summarize history for loss</a></span></li></ul></div>"
   ]
  },
  {
   "cell_type": "markdown",
   "id": "92aa65e3",
   "metadata": {},
   "source": [
    "**Group Number:** 8\n",
    "\n",
    "**Student 1:** Ngo Quang Khai - s3836387 \n",
    "\n",
    "**Student 2:** Nguyen Quoc Minh - s3758994\n",
    "\n",
    "**Student 3:** Bui Thanh Huy - s3740934\n",
    "\n",
    "**Student 4:** Tran Vinh Khang - s3855823\n",
    "\n",
    "**Student 5:** Le Trong Hung - s3805504\n",
    "\n",
    "**Lecturer:** Dr. Bao Nguyen\n",
    "\n",
    "**Due Date:** May 14th, 2021"
   ]
  },
  {
   "cell_type": "markdown",
   "id": "baf7d6af",
   "metadata": {},
   "source": [
    "<hr style=\"border:0.1px solid gray\">"
   ]
  },
  {
   "cell_type": "markdown",
   "id": "d958fcfd",
   "metadata": {},
   "source": [
    "# Main Task"
   ]
  },
  {
   "cell_type": "markdown",
   "id": "0b10ae1e",
   "metadata": {},
   "source": [
    "- **Task 1**: Classify images according to whether given cell image represents a cancerous cells or not (isCancerous)\n",
    "\n",
    "\n",
    "- **Task 2**: Classify images according to cell-type, such as: fibroblast, inflammatory, epithelial or others.\n",
    "\n",
    "\n",
    "- **Extra task**:"
   ]
  },
  {
   "cell_type": "markdown",
   "id": "17cc28c3",
   "metadata": {},
   "source": [
    "# 1. Import libraries and setting up environment"
   ]
  },
  {
   "cell_type": "code",
   "execution_count": 1,
   "id": "968c270e",
   "metadata": {},
   "outputs": [],
   "source": [
    "# !pip install tensorflow\n",
    "# !pip install keras\n",
    "# !pip install opencv-python\n",
    "# !pip install bayesian-optimization "
   ]
  },
  {
   "cell_type": "code",
   "execution_count": 2,
   "id": "45899c69",
   "metadata": {},
   "outputs": [],
   "source": [
    "# Import packages\n",
    "import numpy as np\n",
    "import pandas as pd\n",
    "import matplotlib.pyplot as plt\n",
    "%matplotlib inline\n",
    "import sklearn as sk\n",
    "import seaborn as sns\n",
    "import cv2\n",
    "import os\n",
    "import tensorflow as tf\n",
    "\n",
    "from tqdm import tqdm\n",
    "from sklearn.model_selection import train_test_split, cross_val_score\n",
    "from imblearn.over_sampling import RandomOverSampler\n",
    "\n",
    "from tensorflow.keras.models import Sequential\n",
    "from tensorflow.keras.optimizers import Adam, SGD, RMSprop, Adadelta, Adagrad, Adamax, Nadam, Ftrl\n",
    "from tensorflow.keras.callbacks import EarlyStopping, ModelCheckpoint, ReduceLROnPlateau\n",
    "from tensorflow.keras.wrappers.scikit_learn import KerasClassifier\n",
    "from tensorflow.keras import layers\n",
    "from tensorflow.keras.layers import LeakyReLU\n",
    "from tensorflow.keras.regularizers import l2\n",
    "\n",
    "from math import floor\n",
    "from sklearn.metrics import make_scorer, accuracy_score, classification_report\n",
    "\n",
    "from bayes_opt import BayesianOptimization\n",
    "from sklearn.model_selection import StratifiedKFold,GridSearchCV\n",
    "\n",
    "from PIL import Image\n",
    "import warnings\n",
    "warnings.filterwarnings('ignore')\n",
    "\n",
    "LeakyReLU = LeakyReLU(alpha=0.1)"
   ]
  },
  {
   "cell_type": "code",
   "execution_count": 3,
   "id": "bdcf75fd",
   "metadata": {},
   "outputs": [
    {
     "name": "stdout",
     "output_type": "stream",
     "text": [
      "Tensorflow version: 2.6.0\n",
      "CV2 version: 4.5.5\n"
     ]
    }
   ],
   "source": [
    "#It is important to check the version of these libraries to make sure that implement the latest method.\n",
    "print('Tensorflow version:', tf.__version__)\n",
    "print('CV2 version:', cv2.__version__)"
   ]
  },
  {
   "cell_type": "markdown",
   "id": "9c253d70",
   "metadata": {},
   "source": [
    "# 2. Import Dataset"
   ]
  },
  {
   "cell_type": "code",
   "execution_count": 4,
   "id": "9a1ee400",
   "metadata": {},
   "outputs": [],
   "source": [
    "# Import data_labels_mainData.csv into a DataFrame\n",
    "main_data = pd.read_csv('data_labels_mainData.csv')\n",
    "\n",
    "# Import data_labels_extraData.csv into a DataFrame\n",
    "extra_data = pd.read_csv('data_labels_extraData.csv')"
   ]
  },
  {
   "cell_type": "markdown",
   "id": "b2d64513",
   "metadata": {},
   "source": [
    "# 3. Exploratory Data Analysis (EDA)"
   ]
  },
  {
   "cell_type": "markdown",
   "id": "520b23ab",
   "metadata": {},
   "source": [
    "## 3.1. Process the data"
   ]
  },
  {
   "cell_type": "code",
   "execution_count": 5,
   "id": "c7620550",
   "metadata": {},
   "outputs": [
    {
     "name": "stdout",
     "output_type": "stream",
     "text": [
      "Dataframe of main_data: \n",
      "       InstanceID  patientID  ImageName cellTypeName  cellType  isCancerous\n",
      "0          22405          1  22405.png   fibroblast         0            0\n",
      "1          22406          1  22406.png   fibroblast         0            0\n",
      "2          22407          1  22407.png   fibroblast         0            0\n",
      "3          22408          1  22408.png   fibroblast         0            0\n",
      "4          22409          1  22409.png   fibroblast         0            0\n",
      "...          ...        ...        ...          ...       ...          ...\n",
      "9891        1625         60   1625.png   epithelial         2            1\n",
      "9892        1626         60   1626.png   epithelial         2            1\n",
      "9893        1627         60   1627.png   epithelial         2            1\n",
      "9894        1628         60   1628.png   epithelial         2            1\n",
      "9895        1629         60   1629.png   epithelial         2            1\n",
      "\n",
      "[9896 rows x 6 columns] \n",
      "\n",
      "Dataframe of extra_data: \n",
      "        InstanceID  patientID  ImageName  isCancerous\n",
      "0           12681         61  12681.png            0\n",
      "1           12682         61  12682.png            0\n",
      "2           12683         61  12683.png            0\n",
      "3           12684         61  12684.png            0\n",
      "4           12685         61  12685.png            0\n",
      "...           ...        ...        ...          ...\n",
      "10379       20028         99  20028.png            0\n",
      "10380       20029         99  20029.png            0\n",
      "10381       20030         99  20030.png            0\n",
      "10382       20031         99  20031.png            0\n",
      "10383       20032         99  20032.png            0\n",
      "\n",
      "[10384 rows x 4 columns]\n"
     ]
    }
   ],
   "source": [
    "#See the data frame of main_data\n",
    "print(\"Dataframe of main_data: \\n\", main_data, \"\\n\")\n",
    "\n",
    "#See the data frame of extra_data\n",
    "print(\"Dataframe of extra_data: \\n\", extra_data)"
   ]
  },
  {
   "cell_type": "markdown",
   "id": "68ca9884",
   "metadata": {},
   "source": [
    "**=>** Next, we will check if the data have any null values and datatype of each columns."
   ]
  },
  {
   "cell_type": "code",
   "execution_count": 6,
   "id": "0e93d75f",
   "metadata": {},
   "outputs": [
    {
     "name": "stdout",
     "output_type": "stream",
     "text": [
      "<class 'pandas.core.frame.DataFrame'>\n",
      "RangeIndex: 9896 entries, 0 to 9895\n",
      "Data columns (total 6 columns):\n",
      " #   Column        Non-Null Count  Dtype \n",
      "---  ------        --------------  ----- \n",
      " 0   InstanceID    9896 non-null   int64 \n",
      " 1   patientID     9896 non-null   int64 \n",
      " 2   ImageName     9896 non-null   object\n",
      " 3   cellTypeName  9896 non-null   object\n",
      " 4   cellType      9896 non-null   int64 \n",
      " 5   isCancerous   9896 non-null   int64 \n",
      "dtypes: int64(4), object(2)\n",
      "memory usage: 464.0+ KB\n"
     ]
    },
    {
     "data": {
      "text/plain": [
       "InstanceID      0\n",
       "patientID       0\n",
       "ImageName       0\n",
       "cellTypeName    0\n",
       "cellType        0\n",
       "isCancerous     0\n",
       "dtype: int64"
      ]
     },
     "execution_count": 6,
     "metadata": {},
     "output_type": "execute_result"
    }
   ],
   "source": [
    "main_data.info()\n",
    "main_data.isnull().sum()"
   ]
  },
  {
   "cell_type": "code",
   "execution_count": 7,
   "id": "dc7dc0b6",
   "metadata": {},
   "outputs": [
    {
     "name": "stdout",
     "output_type": "stream",
     "text": [
      "<class 'pandas.core.frame.DataFrame'>\n",
      "RangeIndex: 10384 entries, 0 to 10383\n",
      "Data columns (total 4 columns):\n",
      " #   Column       Non-Null Count  Dtype \n",
      "---  ------       --------------  ----- \n",
      " 0   InstanceID   10384 non-null  int64 \n",
      " 1   patientID    10384 non-null  int64 \n",
      " 2   ImageName    10384 non-null  object\n",
      " 3   isCancerous  10384 non-null  int64 \n",
      "dtypes: int64(3), object(1)\n",
      "memory usage: 324.6+ KB\n"
     ]
    },
    {
     "data": {
      "text/plain": [
       "InstanceID     0\n",
       "patientID      0\n",
       "ImageName      0\n",
       "isCancerous    0\n",
       "dtype: int64"
      ]
     },
     "execution_count": 7,
     "metadata": {},
     "output_type": "execute_result"
    }
   ],
   "source": [
    "extra_data.info()\n",
    "extra_data.isnull().sum()"
   ]
  },
  {
   "cell_type": "markdown",
   "id": "5553755d",
   "metadata": {},
   "source": [
    "**=>** Since our data is no missing/null value and properly formatted, we will move on to analyzing data."
   ]
  },
  {
   "cell_type": "markdown",
   "id": "3d8ff5d3",
   "metadata": {},
   "source": [
    "## 3.2. Data Analysis and Visualiztion"
   ]
  },
  {
   "cell_type": "markdown",
   "id": "26ffbe57",
   "metadata": {},
   "source": [
    "Based on the information provided by the biomedical company as well as the DataFrames in **section 3.1** above. We are aware of:\n",
    "- The **main_data** contains both **cellType (0 to 3)** and **isCancerous (0 and 1)** columns. In there, **cellType** values 0 to 3 represent fibroblast, inflammatory, epithelial, and miscellaneous cell types respectively based on the **cellTypeName** column. In addition, **isCancerous** values 0 and 1 represent colon cells with non-Cancer and Cancer.\n",
    "\n",
    "\n",
    "- The **extra_data** only contains **isCancerous (0 and 1)** column.\n",
    "\n",
    "**=>** Therefore, we choose the **isCancerous** attribute as the target column because both **main_data** and **extra_data** have the column **isCancerous**."
   ]
  },
  {
   "cell_type": "markdown",
   "id": "5ecfa939",
   "metadata": {},
   "source": [
    "### 3.2.1. Correlation and Correlation Matrix"
   ]
  },
  {
   "cell_type": "markdown",
   "id": "57e95090",
   "metadata": {},
   "source": [
    "Firstly, we will draw the correlation matrix to find out any relationship between **isCancerous** column with the others\n",
    "columns in **main_data**."
   ]
  },
  {
   "cell_type": "code",
   "execution_count": 8,
   "id": "bd101a5d",
   "metadata": {},
   "outputs": [
    {
     "data": {
      "image/png": "[encoded data removed]",
      "text/plain": [
       "<Figure size 1008x720 with 2 Axes>"
      ]
     },
     "metadata": {
      "needs_background": "light"
     },
     "output_type": "display_data"
    }
   ],
   "source": [
    "f = plt.figure(figsize=(14, 10))\n",
    "plt.title('Correlation Matrix', fontsize=16);\n",
    "sns.heatmap(main_data.corr(), annot = True)\n",
    "plt.show()"
   ]
  },
  {
   "cell_type": "markdown",
   "id": "a690da07",
   "metadata": {},
   "source": [
    "**Analysis**\n",
    "\n",
    "As we can see from the matrix above, most of the attributes do not correlate with **isCancerous** much are **InstanceID** (-0.44), **patientID** (-0.0012). Since these attributes do not affect much to isCancerous attribute, we will not use these attributes to train our model. Applying these two attributes to train the model can cause noise and overcomplicated issue to our prediction model.\n",
    "\n",
    "**=>** There is only attribute **cellType** with 0.44 has high impact on the attribute 'isCancerous'"
   ]
  },
  {
   "cell_type": "markdown",
   "id": "9acfa007",
   "metadata": {},
   "source": [
    "### 3.2.2. Data Distribution"
   ]
  },
  {
   "cell_type": "markdown",
   "id": "8f4f6a62",
   "metadata": {},
   "source": [
    "### Countplot"
   ]
  },
  {
   "cell_type": "code",
   "execution_count": 9,
   "id": "593a2064",
   "metadata": {},
   "outputs": [
    {
     "data": {
      "image/png": "[encoded data removed]",
      "text/plain": [
       "<Figure size 864x432 with 2 Axes>"
      ]
     },
     "metadata": {
      "needs_background": "light"
     },
     "output_type": "display_data"
    }
   ],
   "source": [
    "#Using the countplot to see the classification of cellType and isCancerous \n",
    "fig, ax =plt.subplots(1,2, figsize = (12,6))\n",
    "\n",
    "# 0 = fibroblast, 1 = imflammatory, 2 = epithelial, 3 = others\n",
    "sns.countplot(main_data['cellType'], palette='Set2', ax=ax[0]).set_title(\"Classification of Cell Types\")\n",
    "\n",
    "sns.countplot(main_data['isCancerous'], palette='Set1', ax=ax[1]).set_title(\"Classification of Cells isCancerous and Non-Cancerous\")\n",
    "fig.show()"
   ]
  },
  {
   "cell_type": "markdown",
   "id": "647541d8",
   "metadata": {},
   "source": [
    "**Analysis**\n",
    "- The first countplot shows us there 4 different types of cell: 0, 1, 2, 3. The first type of cell is 0 has approximately 1900, the second type of cell is 2 has approximately 2600, the third one is 4100 and last one is 1500.\n",
    "\n",
    "\n",
    "- The second countplot shows us number of cells that are cancer and not. In the first column is 0 represent the cell that are not cancerous, and 1 represent the cell that are cancerous. There are approximately 5900 cells that are not cancerous and 4200 cells that are cancerous in our data."
   ]
  },
  {
   "cell_type": "markdown",
   "id": "5b791a84",
   "metadata": {},
   "source": [
    "### Histogram"
   ]
  },
  {
   "cell_type": "code",
   "execution_count": 10,
   "id": "f6360f9b",
   "metadata": {},
   "outputs": [
    {
     "data": {
      "text/plain": [
       "<seaborn.axisgrid.FacetGrid at 0x24e55a4c160>"
      ]
     },
     "execution_count": 10,
     "metadata": {},
     "output_type": "execute_result"
    },
    {
     "data": {
      "image/png": "[encoded data removed]",
      "text/plain": [
       "<Figure size 1152x288 with 2 Axes>"
      ]
     },
     "metadata": {
      "needs_background": "light"
     },
     "output_type": "display_data"
    }
   ],
   "source": [
    "# Draw the histogram for cellType respected to isCancerous (class 0 and 1)\n",
    "g = sns.FacetGrid(main_data, col='isCancerous', height=4, aspect=2)\n",
    "g.map(plt.hist, str('cellType'), bins=20)\n",
    "g.set_axis_labels('cellType', \"Count\")"
   ]
  },
  {
   "cell_type": "markdown",
   "id": "79f79792",
   "metadata": {},
   "source": [
    "**Analysis**\n",
    "\n",
    "Looking at these two histograms, we can see that 'cellType' 0, 1, and 3 are not cancerous. Meanwhile only 'cellType' 2 is cancerous."
   ]
  },
  {
   "cell_type": "code",
   "execution_count": 11,
   "id": "bcad300b",
   "metadata": {},
   "outputs": [
    {
     "data": {
      "text/html": [
       "<div>\n",
       "<style scoped>\n",
       "    .dataframe tbody tr th:only-of-type {\n",
       "        vertical-align: middle;\n",
       "    }\n",
       "\n",
       "    .dataframe tbody tr th {\n",
       "        vertical-align: top;\n",
       "    }\n",
       "\n",
       "    .dataframe thead th {\n",
       "        text-align: right;\n",
       "    }\n",
       "</style>\n",
       "<table border=\"1\" class=\"dataframe\">\n",
       "  <thead>\n",
       "    <tr style=\"text-align: right;\">\n",
       "      <th></th>\n",
       "      <th>InstanceID</th>\n",
       "      <th>patientID</th>\n",
       "      <th>ImageName</th>\n",
       "      <th>cellTypeName</th>\n",
       "      <th>cellType</th>\n",
       "      <th>isCancerous</th>\n",
       "    </tr>\n",
       "  </thead>\n",
       "  <tbody>\n",
       "    <tr>\n",
       "      <th>449</th>\n",
       "      <td>276</td>\n",
       "      <td>5</td>\n",
       "      <td>276.png</td>\n",
       "      <td>epithelial</td>\n",
       "      <td>2</td>\n",
       "      <td>1</td>\n",
       "    </tr>\n",
       "    <tr>\n",
       "      <th>450</th>\n",
       "      <td>277</td>\n",
       "      <td>5</td>\n",
       "      <td>277.png</td>\n",
       "      <td>epithelial</td>\n",
       "      <td>2</td>\n",
       "      <td>1</td>\n",
       "    </tr>\n",
       "    <tr>\n",
       "      <th>451</th>\n",
       "      <td>278</td>\n",
       "      <td>5</td>\n",
       "      <td>278.png</td>\n",
       "      <td>epithelial</td>\n",
       "      <td>2</td>\n",
       "      <td>1</td>\n",
       "    </tr>\n",
       "    <tr>\n",
       "      <th>452</th>\n",
       "      <td>279</td>\n",
       "      <td>5</td>\n",
       "      <td>279.png</td>\n",
       "      <td>epithelial</td>\n",
       "      <td>2</td>\n",
       "      <td>1</td>\n",
       "    </tr>\n",
       "    <tr>\n",
       "      <th>453</th>\n",
       "      <td>280</td>\n",
       "      <td>5</td>\n",
       "      <td>280.png</td>\n",
       "      <td>epithelial</td>\n",
       "      <td>2</td>\n",
       "      <td>1</td>\n",
       "    </tr>\n",
       "    <tr>\n",
       "      <th>...</th>\n",
       "      <td>...</td>\n",
       "      <td>...</td>\n",
       "      <td>...</td>\n",
       "      <td>...</td>\n",
       "      <td>...</td>\n",
       "      <td>...</td>\n",
       "    </tr>\n",
       "    <tr>\n",
       "      <th>9891</th>\n",
       "      <td>1625</td>\n",
       "      <td>60</td>\n",
       "      <td>1625.png</td>\n",
       "      <td>epithelial</td>\n",
       "      <td>2</td>\n",
       "      <td>1</td>\n",
       "    </tr>\n",
       "    <tr>\n",
       "      <th>9892</th>\n",
       "      <td>1626</td>\n",
       "      <td>60</td>\n",
       "      <td>1626.png</td>\n",
       "      <td>epithelial</td>\n",
       "      <td>2</td>\n",
       "      <td>1</td>\n",
       "    </tr>\n",
       "    <tr>\n",
       "      <th>9893</th>\n",
       "      <td>1627</td>\n",
       "      <td>60</td>\n",
       "      <td>1627.png</td>\n",
       "      <td>epithelial</td>\n",
       "      <td>2</td>\n",
       "      <td>1</td>\n",
       "    </tr>\n",
       "    <tr>\n",
       "      <th>9894</th>\n",
       "      <td>1628</td>\n",
       "      <td>60</td>\n",
       "      <td>1628.png</td>\n",
       "      <td>epithelial</td>\n",
       "      <td>2</td>\n",
       "      <td>1</td>\n",
       "    </tr>\n",
       "    <tr>\n",
       "      <th>9895</th>\n",
       "      <td>1629</td>\n",
       "      <td>60</td>\n",
       "      <td>1629.png</td>\n",
       "      <td>epithelial</td>\n",
       "      <td>2</td>\n",
       "      <td>1</td>\n",
       "    </tr>\n",
       "  </tbody>\n",
       "</table>\n",
       "<p>4079 rows × 6 columns</p>\n",
       "</div>"
      ],
      "text/plain": [
       "      InstanceID  patientID ImageName cellTypeName  cellType  isCancerous\n",
       "449          276          5   276.png   epithelial         2            1\n",
       "450          277          5   277.png   epithelial         2            1\n",
       "451          278          5   278.png   epithelial         2            1\n",
       "452          279          5   279.png   epithelial         2            1\n",
       "453          280          5   280.png   epithelial         2            1\n",
       "...          ...        ...       ...          ...       ...          ...\n",
       "9891        1625         60  1625.png   epithelial         2            1\n",
       "9892        1626         60  1626.png   epithelial         2            1\n",
       "9893        1627         60  1627.png   epithelial         2            1\n",
       "9894        1628         60  1628.png   epithelial         2            1\n",
       "9895        1629         60  1629.png   epithelial         2            1\n",
       "\n",
       "[4079 rows x 6 columns]"
      ]
     },
     "execution_count": 11,
     "metadata": {},
     "output_type": "execute_result"
    }
   ],
   "source": [
    "# Apply loc to make sure\n",
    "main_data.loc[(main_data['cellType'] == 2) & (main_data['isCancerous'] == 1)]"
   ]
  },
  {
   "cell_type": "markdown",
   "id": "dfd878ff",
   "metadata": {},
   "source": [
    "### Conclusion\n",
    "\n",
    "- In **main_data**, only the attribute **cellType** continue to be our strongest candidate for to influence our model when it has high impact on our target attribute is **isCancerous**.\n",
    "\n",
    "\n",
    "- Attributes such as **InstanceID** and **patientID** might create a lot of noise in our model. \n",
    "\n",
    "\n",
    "- There are 4 types of cells: 0, 1, 2, 3. Only cell type number 2 is cancerous while others are not cancerous.\n",
    "\n",
    "\n",
    "- We expect the the model would predict class 0 more accurately than class 1"
   ]
  },
  {
   "cell_type": "markdown",
   "id": "9e43f450",
   "metadata": {},
   "source": [
    "## 3.3. Data Preparation"
   ]
  },
  {
   "cell_type": "code",
   "execution_count": 12,
   "id": "5ac75d03",
   "metadata": {},
   "outputs": [
    {
     "name": "stdout",
     "output_type": "stream",
     "text": [
      "Training data shape task 1: (6927, 2)\n",
      "Validation data shape task 1: (2969, 2)\n",
      "Training data shape task 2: (6927, 2)\n",
      "Validation data shape task 2: (2969, 2)\n"
     ]
    }
   ],
   "source": [
    "#splitting data into train and validation \n",
    "train_task1, val_task1 = train_test_split(main_data[['ImageName', 'isCancerous']], \n",
    "                                              test_size=0.3, random_state=9,shuffle= True)\n",
    "\n",
    "\n",
    "train_task2, val_task2 = train_test_split(main_data[['ImageName','cellType']], \n",
    "                                              test_size=0.3, random_state=9, stratify = main_data[['cellType']])                                        \n",
    "\n",
    "print('Training data shape task 1:', train_task1.shape)\n",
    "print('Validation data shape task 1:', val_task1.shape)\n",
    "\n",
    "print('Training data shape task 2:', train_task2.shape)\n",
    "print('Validation data shape task 2:', val_task2.shape)\n"
   ]
  },
  {
   "cell_type": "code",
   "execution_count": 13,
   "id": "e8e9c4c3",
   "metadata": {},
   "outputs": [],
   "source": [
    "#Create a a function to add image according to the name given from the list\n",
    "\n",
    "def GetImage(directory):\n",
    "    images=[]\n",
    "    for name in tqdm(directory, desc=\"Adding images\"):\n",
    "        image = cv2.imread(\"patch_images/\"+name)\n",
    "        image = Image.fromarray(image,'RGB')\n",
    "        images.append(np.array(image))\n",
    "    result = np.array(images)\n",
    "    print(\"\\ngetImage COMPLETED!\")\n",
    "    return result\n",
    "\n"
   ]
  },
  {
   "cell_type": "code",
   "execution_count": 14,
   "id": "d7ac7950",
   "metadata": {},
   "outputs": [],
   "source": [
    "#Create a function to generate sample to fix the Imblance of the dataset\n",
    "def GenerateSample(X,Y):\n",
    "    ros = RandomOverSampler(random_state = 1)\n",
    "    x, y = ros.fit_resample(X.values.reshape(-1,1), Y)\n",
    "    x = x.flatten()\n",
    "    return x,y"
   ]
  },
  {
   "cell_type": "code",
   "execution_count": 15,
   "id": "c8e2fb20",
   "metadata": {},
   "outputs": [
    {
     "name": "stdout",
     "output_type": "stream",
     "text": [
      "Original Dataset:\n",
      " 2    2855\n",
      "1    1780\n",
      "0    1322\n",
      "3     970\n",
      "Name: cellType, dtype: int64\n",
      "Sampled Dataset:\n",
      " 2    2855\n",
      "3    2855\n",
      "1    2855\n",
      "0    2855\n",
      "Name: cellType, dtype: int64\n"
     ]
    },
    {
     "name": "stderr",
     "output_type": "stream",
     "text": [
      "Adding images: 100%|███████████████████████████████████████████████████████████| 11420/11420 [00:01<00:00, 6062.57it/s]\n"
     ]
    },
    {
     "name": "stdout",
     "output_type": "stream",
     "text": [
      "\n",
      "getImage COMPLETED!\n"
     ]
    },
    {
     "name": "stderr",
     "output_type": "stream",
     "text": [
      "Adding images: 100%|█████████████████████████████████████████████████████████████| 2969/2969 [00:00<00:00, 6079.29it/s]"
     ]
    },
    {
     "name": "stdout",
     "output_type": "stream",
     "text": [
      "\n",
      "getImage COMPLETED!\n"
     ]
    },
    {
     "name": "stderr",
     "output_type": "stream",
     "text": [
      "\n"
     ]
    }
   ],
   "source": [
    "x2_train = train_task2['ImageName']\n",
    "y2_train = train_task2['cellType']\n",
    "print(\"Original Dataset:\\n\",y2_train.value_counts())\n",
    "\n",
    "#Generate sample\n",
    "x2_train, y2_train = GenerateSample(x2_train,y2_train)\n",
    "print(\"Sampled Dataset:\\n\",y2_train.value_counts())\n",
    "x2_train = GetImage(x2_train)\n",
    "\n",
    "x2_val = val_task2['ImageName']\n",
    "x2_val = GetImage(x2_val)\n",
    "\n",
    "y2_val = val_task2['cellType']\n",
    "\n",
    "x2_test,x2_val,y2_test,y2_val = train_test_split(x2_val, y2_val,\n",
    "                                              test_size=0.5, random_state=9, stratify = y2_val)\n"
   ]
  },
  {
   "cell_type": "code",
   "execution_count": 16,
   "id": "a67fa11c",
   "metadata": {},
   "outputs": [
    {
     "name": "stdout",
     "output_type": "stream",
     "text": [
      "TASK 2 SHAPE:\n",
      "x1 shape: (11420, 27, 27, 3)\n",
      "y1 shape: (11420,)\n",
      "VALIDATION SHAPE:\n",
      "x1 shape: (1485, 27, 27, 3)\n",
      "y1 shape: (1485,)\n",
      "TEST SHAPE:\n",
      "x1 shape: (1484, 27, 27, 3)\n",
      "y1 shape: (1484,)\n"
     ]
    }
   ],
   "source": [
    "print(\"TASK 2 SHAPE:\")\n",
    "print(\"x1 shape:\", x2_train.shape)\n",
    "print(\"y1 shape:\", y2_train.shape)\n",
    "print(\"VALIDATION SHAPE:\")\n",
    "print(\"x1 shape:\", x2_val.shape)\n",
    "print(\"y1 shape:\", y2_val.shape)\n",
    "print(\"TEST SHAPE:\")\n",
    "print(\"x1 shape:\", x2_test.shape)\n",
    "print(\"y1 shape:\", y2_test.shape)"
   ]
  },
  {
   "cell_type": "code",
   "execution_count": 17,
   "id": "145b17be",
   "metadata": {},
   "outputs": [],
   "source": [
    "X2_train_scaled = x2_train / 255\n",
    "X2_val_scaled = x2_val / 255\n",
    "X2_test_scaled = x2_test / 255\n"
   ]
  },
  {
   "cell_type": "code",
   "execution_count": 18,
   "id": "4861c72f",
   "metadata": {},
   "outputs": [],
   "source": [
    "data_augmentation = tf.keras.Sequential(\n",
    "  [\n",
    "    layers.experimental.preprocessing.RandomFlip(\"horizontal_and_vertical\",input_shape=(27,27,3)),\n",
    "    layers.experimental.preprocessing.RandomRotation(0.2),\n",
    "    layers.experimental.preprocessing.RandomZoom(0.1),\n",
    "  ]\n",
    ")"
   ]
  },
  {
   "cell_type": "markdown",
   "id": "8d363c85",
   "metadata": {},
   "source": [
    "# 4. Models"
   ]
  },
  {
   "cell_type": "markdown",
   "id": "61cce0ad",
   "metadata": {},
   "source": [
    "## 4.1 Convolutional neural network"
   ]
  },
  {
   "cell_type": "markdown",
   "id": "8e8aa6ab",
   "metadata": {},
   "source": [
    "### 4.1.1 Baseline model"
   ]
  },
  {
   "cell_type": "markdown",
   "id": "208b5295",
   "metadata": {
    "collapsed": true
   },
   "source": [
    "cnn_baseline = Sequential([ \n",
    "    data_augmentation, \n",
    "    layers.Conv2D(16, (3, 3), activation='relu', padding='same'), \n",
    "    layers.MaxPooling2D(2,2),\n",
    "    layers.Conv2D(32, (3, 3), activation='relu', padding='same'),\n",
    "    layers.MaxPooling2D(2,2),\n",
    "    layers.Conv2D(64, (3, 3), activation='relu', padding='same'),\n",
    "    layers.MaxPooling2D(2,2),\n",
    "    layers.Flatten(),\n",
    "    layers.Dense(256, kernel_regularizer=l2(l=0.01), activation='relu'),\n",
    "    layers.Dense(4, activation='softmax')\n",
    "])\n",
    "\n",
    "cnn_baseline.compile(optimizer=\"adam\" , \n",
    "                      loss=tf.keras.losses.SparseCategoricalCrossentropy(from_logits=True), \n",
    "                      metrics=['accuracy']) \n",
    "with tf.device('/GPU:0'): \n",
    "    cnn_baseline.fit(X2_train_scaled,y2_train, epochs=30,verbose=1)\n",
    "\n",
    "predict=cnn_baseline.predict(X2_val_scaled) \n",
    "classes=np.argmax(predict,axis=1)\n",
    "\n",
    "print(classification_report(y2_val, classes))"
   ]
  },
  {
   "cell_type": "markdown",
   "id": "20f5564a",
   "metadata": {},
   "source": [
    "357/357 [==============================] - 2s 6ms/step - loss: 0.6858 - accuracy: 0.7405\n",
    "\n",
    "              precision    recall  f1-score   support\n",
    "\n",
    "           0       0.68      0.50      0.58       283\n",
    "           1       0.77      0.53      0.63       382\n",
    "           2       0.94      0.78      0.85       612\n",
    "           3       0.35      0.85      0.50       208\n",
    "\n",
    "    accuracy                           0.67      1485\n",
    "    macro avg      0.68      0.67      0.64      1485\n",
    "    weighted avg   0.76      0.67      0.69      1485\n"
   ]
  },
  {
   "cell_type": "markdown",
   "id": "3b969744",
   "metadata": {},
   "source": [
    "### 4.1.2 Hyperparameter tuning\n",
    "#### I. Layers tuning"
   ]
  },
  {
   "cell_type": "markdown",
   "id": "af9cb73a",
   "metadata": {},
   "source": [
    "##### i. 32-64-128 Dense:256"
   ]
  },
  {
   "cell_type": "markdown",
   "id": "b7455e2e",
   "metadata": {
    "collapsed": true
   },
   "source": [
    "cnn_x2 = Sequential([ \n",
    "    data_augmentation, \n",
    "    layers.Conv2D(32, (3, 3), activation='relu', padding='same'), \n",
    "    layers.MaxPooling2D(2,2),\n",
    "    layers.Conv2D(64, (3, 3), activation='relu', padding='same'),\n",
    "    layers.MaxPooling2D(2,2),\n",
    "    layers.Conv2D(128, (3, 3), activation='relu', padding='same'),\n",
    "    layers.MaxPooling2D(2,2),\n",
    "    layers.Flatten(),\n",
    "    layers.Dense(256, kernel_regularizer=l2(l=0.01), activation='relu'),\n",
    "    layers.Dense(4, activation='softmax')\n",
    "])\n",
    "\n",
    "cnn_x2.compile(optimizer=\"adam\" , \n",
    "                      loss=tf.keras.losses.SparseCategoricalCrossentropy(from_logits=True), \n",
    "                      metrics=['accuracy']) \n",
    "with tf.device('/GPU:0'): \n",
    "    cnn_x2.fit(X2_train_scaled,y2_train, epochs=30,verbose=1)\n",
    "\n",
    "predict=cnn_x2.predict(X2_val_scaled) \n",
    "classes=np.argmax(predict,axis=1)\n",
    "\n",
    "print(classification_report(y2_val, classes))"
   ]
  },
  {
   "cell_type": "markdown",
   "id": "726725b4",
   "metadata": {},
   "source": [
    "357/357 [==============================] - 2s 6ms/step - loss: 0.6506 - accuracy: 0.7575\n",
    "\n",
    "              precision    recall  f1-score   support\n",
    "\n",
    "           0       0.72      0.68      0.70       283\n",
    "           1       0.78      0.66      0.71       382\n",
    "           2       0.87      0.92      0.89       612\n",
    "           3       0.54      0.66      0.59       208\n",
    "\n",
    "    accuracy                           0.77      1485\n",
    "    macro avg      0.73      0.73      0.72      1485\n",
    "    weighted avg   0.77      0.77      0.77      1485\n"
   ]
  },
  {
   "cell_type": "markdown",
   "id": "d030d137",
   "metadata": {},
   "source": [
    "##### ii. 32-64-128 Dense:512"
   ]
  },
  {
   "cell_type": "markdown",
   "id": "64868ab2",
   "metadata": {
    "collapsed": true
   },
   "source": [
    "cnn_x3 = Sequential([ \n",
    "    data_augmentation, \n",
    "    layers.Conv2D(32, (3, 3), activation='relu', padding='same'), \n",
    "    layers.MaxPooling2D(2,2),\n",
    "    layers.Conv2D(64, (3, 3), activation='relu', padding='same'),\n",
    "    layers.MaxPooling2D(2,2),\n",
    "    layers.Conv2D(128, (3, 3), activation='relu', padding='same'),\n",
    "    layers.MaxPooling2D(2,2),\n",
    "    layers.Flatten(),\n",
    "    layers.Dense(512, kernel_regularizer=l2(l=0.01), activation='relu'),\n",
    "    layers.Dense(4, activation='softmax')\n",
    "])\n",
    "\n",
    "cnn_x3.compile(optimizer=\"adam\" , \n",
    "                      loss=tf.keras.losses.SparseCategoricalCrossentropy(from_logits=True), \n",
    "                      metrics=['accuracy']) \n",
    "with tf.device('/GPU:0'): \n",
    "    cnn_x3.fit(X2_train_scaled,y2_train, epochs=30,verbose=1)\n",
    "\n",
    "predict=cnn_x3.predict(X2_val_scaled) \n",
    "classes=np.argmax(predict,axis=1)\n",
    "\n",
    "print(classification_report(y2_val, classes))"
   ]
  },
  {
   "cell_type": "markdown",
   "id": "66da9108",
   "metadata": {},
   "source": [
    "357/357 [==============================] - 2s 6ms/step - loss: 0.6669 - accuracy: 0.7512\n",
    "\n",
    "              precision    recall  f1-score   support\n",
    "\n",
    "           0       0.63      0.76      0.69       283\n",
    "           1       0.77      0.57      0.66       382\n",
    "           2       0.93      0.79      0.86       612\n",
    "           3       0.45      0.73      0.56       208\n",
    "\n",
    "    accuracy                           0.72      1485\n",
    "    macro avg      0.70      0.71      0.69      1485\n",
    "    weighted avg   0.77      0.72      0.73      1485\n"
   ]
  },
  {
   "cell_type": "markdown",
   "id": "5d3c5378",
   "metadata": {},
   "source": [
    "##### iii. 32-64-128 Dense:512 With Batch Normalization"
   ]
  },
  {
   "cell_type": "markdown",
   "id": "8ce1bbc1",
   "metadata": {
    "collapsed": true
   },
   "source": [
    "cnn_x3 = Sequential([ \n",
    "    data_augmentation, \n",
    "    layers.Conv2D(32, (3, 3), activation='relu', padding='same'), \n",
    "    layers.BatchNormalization(),\n",
    "    layers.MaxPooling2D(2,2),\n",
    "    layers.Conv2D(64, (3, 3), activation='relu', padding='same'),\n",
    "    layers.BatchNormalization(),\n",
    "    layers.MaxPooling2D(2,2),\n",
    "    layers.Conv2D(128, (3, 3), activation='relu', padding='same'),\n",
    "    layers.BatchNormalization(),\n",
    "    layers.MaxPooling2D(2,2),\n",
    "    layers.Flatten(),\n",
    "    layers.Dense(512, kernel_regularizer=l2(l=0.01), activation='relu'),\n",
    "    layers.BatchNormalization(),\n",
    "    layers.Dense(4, activation='softmax')\n",
    "])\n",
    "\n",
    "cnn_x3.compile(optimizer=\"adam\" , \n",
    "                      loss=tf.keras.losses.SparseCategoricalCrossentropy(from_logits=True), \n",
    "                      metrics=['accuracy']) \n",
    "with tf.device('/GPU:0'): \n",
    "    cnn_x3.fit(X2_train_scaled,y2_train, epochs=30,verbose=1)\n",
    "\n",
    "predict=cnn_x3.predict(X2_val_scaled) \n",
    "classes=np.argmax(predict,axis=1)\n",
    "\n",
    "print(classification_report(y2_val, classes))"
   ]
  },
  {
   "cell_type": "markdown",
   "id": "206b0510",
   "metadata": {},
   "source": [
    "357/357 [==============================] - 3s 8ms/step - loss: 0.5885 - accuracy: 0.7972\n",
    "\n",
    "              precision    recall  f1-score   support\n",
    "\n",
    "           0       0.45      0.28      0.34       283\n",
    "           1       0.81      0.65      0.72       382\n",
    "           2       0.96      0.54      0.70       612\n",
    "           3       0.29      0.90      0.43       208\n",
    "\n",
    "    accuracy                           0.57      1485\n",
    "    macro avg      0.63      0.59      0.55      1485\n",
    "    weighted avg   0.73      0.57      0.60      1485\n"
   ]
  },
  {
   "cell_type": "markdown",
   "id": "2981a924",
   "metadata": {},
   "source": [
    "##### iv. With Batch Normalization and Drop out"
   ]
  },
  {
   "cell_type": "markdown",
   "id": "62bfa542",
   "metadata": {},
   "source": [
    "cnn_drop = Sequential([ \n",
    "     data_augmentation, \n",
    "    layers.Conv2D(32, (3, 3), activation='relu', padding='same'), \n",
    "    layers.BatchNormalization(),\n",
    "    layers.MaxPooling2D(2,2),\n",
    "    layers.Dropout(0.2),\n",
    "\n",
    "    layers.Conv2D(64, (3, 3), activation='relu', padding='same'),\n",
    "    layers.BatchNormalization(),\n",
    "    layers.MaxPooling2D(2,2),\n",
    "    layers.Dropout(0.3),\n",
    "    \n",
    "    layers.Conv2D(128, (3, 3), activation='relu', padding='same'),\n",
    "    layers.BatchNormalization(),\n",
    "    layers.MaxPooling2D(2,2),\n",
    "    layers.Dropout(0.4),\n",
    "    \n",
    "    layers.Flatten(),\n",
    "    layers.Dense(512, kernel_regularizer=l2(l=0.01), activation='relu'),\n",
    "    layers.BatchNormalization(),\n",
    "    layers.Dropout(0.2),\n",
    "    layers.Dense(4, activation='softmax')\n",
    "])"
   ]
  },
  {
   "cell_type": "markdown",
   "id": "a3c136d7",
   "metadata": {
    "collapsed": true
   },
   "source": [
    "cnn_drop.compile(optimizer=\"adam\" , \n",
    "                loss=tf.keras.losses.SparseCategoricalCrossentropy(from_logits=True), \n",
    "                metrics=['accuracy']) \n",
    "with tf.device('/GPU:0'): \n",
    "    cnn_drop.fit(X2_train_scaled,y2_train, epochs=30,verbose=1)\n",
    "\n",
    "predict=cnn_drop.predict(X2_val_scaled) \n",
    "classes=np.argmax(predict,axis=1)\n",
    "\n",
    "print(classification_report(y2_val, classes))"
   ]
  },
  {
   "cell_type": "markdown",
   "id": "5a00aafb",
   "metadata": {},
   "source": [
    "357/357 [==============================] - 3s 9ms/step - loss: 0.8203 - accuracy: 0.7292\n",
    "\n",
    "              precision    recall  f1-score   support\n",
    "\n",
    "           0       0.78      0.58      0.67       283\n",
    "           1       0.71      0.86      0.78       382\n",
    "           2       0.86      0.94      0.90       612\n",
    "           3       0.68      0.47      0.56       208\n",
    "\n",
    "    accuracy                           0.78      1485\n",
    "    macro avg      0.76      0.71      0.72      1485\n",
    "    weighted avg   0.78      0.78      0.77      1485\n"
   ]
  },
  {
   "cell_type": "markdown",
   "id": "d1e6170e",
   "metadata": {},
   "source": [
    "##### v. Layer weight initializers and regularizers\n",
    "###### l = 0.1"
   ]
  },
  {
   "cell_type": "markdown",
   "id": "2dafb989",
   "metadata": {},
   "source": [
    "model_regu1 = Sequential([ \n",
    "    data_augmentation, \n",
    "\n",
    "    layers.Conv2D(32, (3, 3), activation='relu', kernel_initializer='he_uniform', padding='same'), \n",
    "    layers.BatchNormalization(), \n",
    "    layers.MaxPooling2D(2,2), \n",
    "    layers.Dropout(0.2),\n",
    "\n",
    "    layers.Conv2D(64, (3, 3), activation='relu', kernel_initializer='he_uniform',kernel_regularizer=l2(l=0.1), padding='same'),\n",
    "    layers.BatchNormalization(),\n",
    "    layers.MaxPooling2D(2,2),\n",
    "    layers.Dropout(0.3),\n",
    "\n",
    "\n",
    "    layers.Conv2D(128, (3, 3), activation='relu', kernel_initializer='he_uniform',kernel_regularizer=l2(l=0.1), padding='same'),\n",
    "    layers.BatchNormalization(),\n",
    "    layers.MaxPooling2D(2,2),\n",
    "    layers.Dropout(0.4),\n",
    "\n",
    "    layers.Flatten(),\n",
    "    layers.Dense(512, kernel_regularizer=l2(l=0.1), activation='relu'),\n",
    "    layers.BatchNormalization(),\n",
    "    layers.Dropout(0.2),\n",
    "    layers.Dense(4, activation='softmax')\n",
    "    ])\n"
   ]
  },
  {
   "cell_type": "markdown",
   "id": "4cdde408",
   "metadata": {
    "collapsed": true
   },
   "source": [
    "model_regu1.compile(optimizer=\"adam\" , \n",
    "                loss=tf.keras.losses.SparseCategoricalCrossentropy(from_logits=True), \n",
    "                metrics=['accuracy']) \n",
    "with tf.device('/GPU:0'): \n",
    "    model_regu1.fit(X2_train_scaled,y2_train, epochs=30,verbose=1)\n",
    "\n",
    "predict=model_regu1.predict(X2_val_scaled) \n",
    "classes=np.argmax(predict,axis=1)\n",
    "\n",
    "print(classification_report(y2_val, classes))"
   ]
  },
  {
   "cell_type": "markdown",
   "id": "8d61a495",
   "metadata": {},
   "source": [
    "357/357 [==============================] - 3s 9ms/step - loss: 1.1541 - accuracy: 0.6644\n",
    "\n",
    "              precision    recall  f1-score   support\n",
    "\n",
    "           0       0.69      0.66      0.67       283\n",
    "           1       0.69      0.69      0.69       382\n",
    "           2       0.83      0.91      0.87       612\n",
    "           3       0.55      0.43      0.48       208\n",
    "\n",
    "    accuracy                           0.74      1485\n",
    "    macro avg      0.69      0.67      0.68      1485\n",
    "    weighted avg   0.73      0.74      0.73      1485\n"
   ]
  },
  {
   "cell_type": "markdown",
   "id": "c6d6fe3b",
   "metadata": {},
   "source": [
    "###### l =0.001"
   ]
  },
  {
   "cell_type": "markdown",
   "id": "7ad416e3",
   "metadata": {},
   "source": [
    "model_regu2 = Sequential([ \n",
    "    data_augmentation, \n",
    "\n",
    "    layers.Conv2D(32, (3, 3), activation='relu', kernel_initializer='he_uniform', padding='same'), \n",
    "    layers.BatchNormalization(), \n",
    "    layers.MaxPooling2D(2,2), \n",
    "    layers.Dropout(0.2),\n",
    "\n",
    "    layers.Conv2D(64, (3, 3), activation='relu', kernel_initializer='he_uniform',kernel_regularizer=l2(l=0.001), padding='same'),\n",
    "    layers.BatchNormalization(),\n",
    "    layers.MaxPooling2D(2,2),\n",
    "    layers.Dropout(0.3),\n",
    "\n",
    "\n",
    "    layers.Conv2D(128, (3, 3), activation='relu', kernel_initializer='he_uniform',kernel_regularizer=l2(l=0.001), padding='same'),\n",
    "    layers.BatchNormalization(),\n",
    "    layers.MaxPooling2D(2,2),\n",
    "    layers.Dropout(0.4),\n",
    "\n",
    "    layers.Flatten(),\n",
    "    layers.Dense(512, kernel_regularizer=l2(l=0.001), activation='relu'),\n",
    "    layers.BatchNormalization(),\n",
    "    layers.Dropout(0.2),\n",
    "    layers.Dense(4, activation='softmax')\n",
    "    ])\n"
   ]
  },
  {
   "cell_type": "markdown",
   "id": "8918076e",
   "metadata": {
    "collapsed": true
   },
   "source": [
    "model_regu2.compile(optimizer=\"adam\" , \n",
    "                loss=tf.keras.losses.SparseCategoricalCrossentropy(from_logits=True), \n",
    "                metrics=['accuracy']) \n",
    "with tf.device('/GPU:0'): \n",
    "    model_regu2.fit(X2_train_scaled,y2_train, epochs=30,verbose=1)\n",
    "\n",
    "predict=model_regu2.predict(X2_val_scaled) \n",
    "classes=np.argmax(predict,axis=1)\n",
    "\n",
    "print(classification_report(y2_val, classes))"
   ]
  },
  {
   "cell_type": "markdown",
   "id": "909449a0",
   "metadata": {},
   "source": [
    "357/357 [==============================] - 3s 9ms/step - loss: 0.8573 - accuracy: 0.7377\n",
    "\n",
    "              precision    recall  f1-score   support\n",
    "\n",
    "           0       0.74      0.68      0.71       283\n",
    "           1       0.68      0.86      0.76       382\n",
    "           2       0.93      0.83      0.88       612\n",
    "           3       0.56      0.52      0.54       208\n",
    "\n",
    "    accuracy                           0.76      1485\n",
    "    macro avg      0.73      0.72      0.72      1485\n",
    "    weighted avg   0.78      0.76      0.77      1485"
   ]
  },
  {
   "cell_type": "markdown",
   "id": "1e50ac89",
   "metadata": {},
   "source": [
    "##### vi. Stack"
   ]
  },
  {
   "cell_type": "markdown",
   "id": "1ce30c48",
   "metadata": {},
   "source": [
    "model_stack = Sequential([ \n",
    "    data_augmentation, \n",
    "                    \n",
    "    layers.Conv2D(32, (3, 3), activation='relu', kernel_initializer='he_uniform', padding='same'), \n",
    "    layers.BatchNormalization(), \n",
    "    layers.Conv2D(32, (3, 3), activation='relu', kernel_initializer='he_uniform', padding='same'), \n",
    "    layers.BatchNormalization(), \n",
    "    layers.MaxPooling2D(2,2), \n",
    "    layers.Dropout(0.2),\n",
    "\n",
    "    layers.Conv2D(64, (3, 3), activation='relu', kernel_initializer='he_uniform', kernel_regularizer=l2(l=0.01), padding='same'),\n",
    "    layers.BatchNormalization(),\n",
    "    layers.Conv2D(64, (3, 3), activation='relu', kernel_initializer='he_uniform', kernel_regularizer=l2(l=0.01), padding='same'),\n",
    "    layers.BatchNormalization(),\n",
    "    layers.MaxPooling2D(2,2),\n",
    "    layers.Dropout(0.3),\n",
    "\n",
    "\n",
    "    layers.Conv2D(128, (3, 3), activation='relu', kernel_initializer='he_uniform', kernel_regularizer=l2(l=0.01), padding='same'),\n",
    "    layers.BatchNormalization(),\n",
    "    layers.Conv2D(128, (3, 3), activation='relu', kernel_initializer='he_uniform', kernel_regularizer=l2(l=0.01), padding='same'),\n",
    "    layers.BatchNormalization(),\n",
    "    layers.MaxPooling2D(2,2),\n",
    "    layers.Dropout(0.4),\n",
    "\n",
    "    layers.Flatten(),\n",
    "    layers.Dense(512, kernel_regularizer=l2(l=0.01), activation='relu'),\n",
    "    layers.BatchNormalization(),\n",
    "    layers.Dropout(0.2),\n",
    "    layers.Dense(512, kernel_regularizer=l2(l=0.01), activation='relu'),\n",
    "    layers.BatchNormalization(),\n",
    "    layers.Dropout(0.2),\n",
    "    layers.Dense(4, activation='softmax')\n",
    "    ])\n"
   ]
  },
  {
   "cell_type": "markdown",
   "id": "8b27b07d",
   "metadata": {
    "collapsed": true
   },
   "source": [
    "model_stack.compile(optimizer=\"adam\" , \n",
    "                loss=tf.keras.losses.SparseCategoricalCrossentropy(from_logits=True), \n",
    "                metrics=['accuracy']) \n",
    "with tf.device('/GPU:0'): \n",
    "    model_stack.fit(X2_train_scaled,y2_train, epochs=30,verbose=1)\n",
    "\n",
    "predict=model_stack.predict(X2_val_scaled) \n",
    "classes=np.argmax(predict,axis=1)\n",
    "\n",
    "print(classification_report(y2_val, classes))"
   ]
  },
  {
   "cell_type": "code",
   "execution_count": 26,
   "id": "77f2058e",
   "metadata": {
    "scrolled": true
   },
   "outputs": [
    {
     "name": "stdout",
     "output_type": "stream",
     "text": [
      "Epoch 1/30\n",
      "357/357 [==============================] - 6s 12ms/step - loss: 10.8792 - accuracy: 0.5725\n",
      "Epoch 2/30\n",
      "357/357 [==============================] - 4s 12ms/step - loss: 4.2651 - accuracy: 0.6261\n",
      "Epoch 3/30\n",
      "357/357 [==============================] - 4s 12ms/step - loss: 1.9976 - accuracy: 0.6517\n",
      "Epoch 4/30\n",
      "357/357 [==============================] - 4s 12ms/step - loss: 1.2927 - accuracy: 0.6638\n",
      "Epoch 5/30\n",
      "357/357 [==============================] - 4s 12ms/step - loss: 1.0975 - accuracy: 0.6649\n",
      "Epoch 6/30\n",
      "357/357 [==============================] - 4s 12ms/step - loss: 1.0450 - accuracy: 0.6748\n",
      "Epoch 7/30\n",
      "357/357 [==============================] - 4s 12ms/step - loss: 1.0382 - accuracy: 0.6825\n",
      "Epoch 8/30\n",
      "357/357 [==============================] - 4s 12ms/step - loss: 1.0255 - accuracy: 0.6883\n",
      "Epoch 9/30\n",
      "357/357 [==============================] - 4s 12ms/step - loss: 1.0269 - accuracy: 0.6933\n",
      "Epoch 10/30\n",
      "357/357 [==============================] - 4s 12ms/step - loss: 1.0039 - accuracy: 0.6936\n",
      "Epoch 11/30\n",
      "357/357 [==============================] - 4s 12ms/step - loss: 1.0230 - accuracy: 0.6970\n",
      "Epoch 12/30\n",
      "357/357 [==============================] - 4s 12ms/step - loss: 1.0207 - accuracy: 0.6953\n",
      "Epoch 13/30\n",
      "357/357 [==============================] - 4s 12ms/step - loss: 1.0188 - accuracy: 0.6988\n",
      "Epoch 14/30\n",
      "357/357 [==============================] - 4s 12ms/step - loss: 1.0138 - accuracy: 0.7060\n",
      "Epoch 15/30\n",
      "357/357 [==============================] - 4s 12ms/step - loss: 1.0044 - accuracy: 0.7050\n",
      "Epoch 16/30\n",
      "357/357 [==============================] - 4s 12ms/step - loss: 0.9977 - accuracy: 0.7082\n",
      "Epoch 17/30\n",
      "357/357 [==============================] - 4s 12ms/step - loss: 1.0046 - accuracy: 0.7149\n",
      "Epoch 18/30\n",
      "357/357 [==============================] - 4s 11ms/step - loss: 0.9920 - accuracy: 0.7078\n",
      "Epoch 19/30\n",
      "357/357 [==============================] - 4s 12ms/step - loss: 0.9887 - accuracy: 0.7126\n",
      "Epoch 20/30\n",
      "357/357 [==============================] - 4s 12ms/step - loss: 0.9866 - accuracy: 0.7109\n",
      "Epoch 21/30\n",
      "357/357 [==============================] - 4s 11ms/step - loss: 0.9863 - accuracy: 0.7087\n",
      "Epoch 22/30\n",
      "357/357 [==============================] - 4s 12ms/step - loss: 0.9680 - accuracy: 0.7158\n",
      "Epoch 23/30\n",
      "357/357 [==============================] - 4s 12ms/step - loss: 0.9606 - accuracy: 0.7175\n",
      "Epoch 24/30\n",
      "357/357 [==============================] - 4s 12ms/step - loss: 0.9541 - accuracy: 0.7191\n",
      "Epoch 25/30\n",
      "357/357 [==============================] - 4s 11ms/step - loss: 0.9698 - accuracy: 0.7158\n",
      "Epoch 26/30\n",
      "357/357 [==============================] - 4s 12ms/step - loss: 0.9503 - accuracy: 0.7154\n",
      "Epoch 27/30\n",
      "357/357 [==============================] - 4s 12ms/step - loss: 0.9358 - accuracy: 0.7232\n",
      "Epoch 28/30\n",
      "357/357 [==============================] - 4s 12ms/step - loss: 0.9238 - accuracy: 0.7258\n",
      "Epoch 29/30\n",
      "357/357 [==============================] - 4s 12ms/step - loss: 0.9335 - accuracy: 0.7215\n",
      "Epoch 30/30\n",
      "357/357 [==============================] - 4s 12ms/step - loss: 0.9139 - accuracy: 0.7231\n",
      "              precision    recall  f1-score   support\n",
      "\n",
      "           0       0.44      0.69      0.54       283\n",
      "           1       0.92      0.44      0.60       382\n",
      "           2       0.96      0.58      0.73       612\n",
      "           3       0.35      0.83      0.50       208\n",
      "\n",
      "    accuracy                           0.60      1485\n",
      "   macro avg       0.67      0.64      0.59      1485\n",
      "weighted avg       0.77      0.60      0.63      1485\n",
      "\n"
     ]
    }
   ],
   "source": [
    "model_stack2 = Sequential([ \n",
    "    data_augmentation,\n",
    "    layers.Conv2D(32, (3, 3), activation='relu', kernel_initializer='he_uniform', padding='same'), \n",
    "    layers.BatchNormalization(), \n",
    "    layers.Conv2D(32, (3, 3), activation='relu', kernel_initializer='he_uniform', padding='same'), \n",
    "    layers.BatchNormalization(),  \n",
    "    layers.MaxPooling2D(2,2), \n",
    "    layers.Dropout(0.2),\n",
    "\n",
    "    layers.Conv2D(64, (3, 3), activation='relu', kernel_initializer='he_uniform', kernel_regularizer=l2(l=0.01), padding='same'),\n",
    "    layers.BatchNormalization(),\n",
    "    layers.Conv2D(64, (3, 3), activation='relu', kernel_initializer='he_uniform', kernel_regularizer=l2(l=0.01), padding='same'),\n",
    "    layers.BatchNormalization(),\n",
    "    layers.MaxPooling2D(2,2),\n",
    "    layers.Dropout(0.3),\n",
    "\n",
    "\n",
    "    layers.Conv2D(128, (3, 3), activation='relu', kernel_initializer='he_uniform', kernel_regularizer=l2(l=0.01), padding='same'),\n",
    "    layers.BatchNormalization(),\n",
    "    layers.Conv2D(128, (3, 3), activation='relu', kernel_initializer='he_uniform', kernel_regularizer=l2(l=0.01), padding='same'),\n",
    "    layers.BatchNormalization(),\n",
    "    layers.MaxPooling2D(2,2),\n",
    "    layers.Dropout(0.4),\n",
    "\n",
    "    layers.Flatten(),\n",
    "    layers.Dense(512, kernel_regularizer=l2(l=0.01), activation='relu'),\n",
    "    layers.BatchNormalization(),\n",
    "    layers.Dropout(0.2),\n",
    "    layers.Dense(512, kernel_regularizer=l2(l=0.01), activation='relu'),\n",
    "    layers.BatchNormalization(),\n",
    "    layers.Dropout(0.2),\n",
    "    layers.Dense(4, activation='softmax')\n",
    "])\n",
    "\n",
    "model_stack2.compile(optimizer=\"adam\" , \n",
    "                    loss=tf.keras.losses.SparseCategoricalCrossentropy(from_logits=True), metrics=['accuracy']) \n",
    "with tf.device('/GPU:0'):\n",
    "    model_stack2.fit(X2_train_scaled,y2_train, epochs=30,verbose=1)\n",
    "\n",
    "predict=model_stack2.predict(X2_val_scaled) \n",
    "classes=np.argmax(predict,axis=1)\n",
    "\n",
    "print(classification_report(y2_val, classes))"
   ]
  },
  {
   "cell_type": "markdown",
   "id": "307d0e1e",
   "metadata": {},
   "source": [
    "357/357 [==============================] - 5s 13ms/step - loss: 1.0042 - accuracy: 0.7209\n",
    "\n",
    "              precision    recall  f1-score   support\n",
    "\n",
    "           0       0.78      0.54      0.64       283\n",
    "           1       0.73      0.76      0.75       382\n",
    "           2       0.79      0.92      0.85       612\n",
    "           3       0.65      0.55      0.60       208\n",
    "\n",
    "    accuracy                           0.76      1485\n",
    "    macro avg      0.74      0.69      0.71      1485\n",
    "    weighted avg   0.75      0.76      0.75      1485"
   ]
  },
  {
   "cell_type": "markdown",
   "id": "5e73d129",
   "metadata": {},
   "source": [
    "##### VGG16 architect"
   ]
  },
  {
   "cell_type": "markdown",
   "id": "be618b9f",
   "metadata": {},
   "source": [
    "model_stack2 = Sequential([ \n",
    "    data_augmentation, \n",
    "    layers.Conv2D(16, (3, 3), activation='relu', kernel_initializer='he_uniform', padding='same'), \n",
    "    layers.BatchNormalization(), \n",
    "    layers.Conv2D(16, (3, 3), activation='relu', kernel_initializer='he_uniform', padding='same'), \n",
    "    layers.BatchNormalization(), \n",
    "    layers.MaxPooling2D(1,1), \n",
    "    layers.Dropout(0.2),\n",
    "    \n",
    "    layers.Conv2D(32, (3, 3), activation='relu', kernel_initializer='he_uniform', padding='same'), \n",
    "    layers.BatchNormalization(), \n",
    "    layers.Conv2D(32, (3, 3), activation='relu', kernel_initializer='he_uniform', padding='same'), \n",
    "    layers.BatchNormalization(), \n",
    "    layers.MaxPooling2D(2,2), \n",
    "    layers.Dropout(0.2),\n",
    "\n",
    "    layers.Conv2D(64, (3, 3), activation='relu', kernel_initializer='he_uniform', kernel_regularizer=l2(l=0.01), padding='same'),\n",
    "    layers.BatchNormalization(),\n",
    "    layers.Conv2D(64, (3, 3), activation='relu', kernel_initializer='he_uniform', kernel_regularizer=l2(l=0.01), padding='same'),\n",
    "    layers.BatchNormalization(),\n",
    "    layers.Conv2D(64, (3, 3), activation='relu', kernel_initializer='he_uniform', kernel_regularizer=l2(l=0.01), padding='same'),\n",
    "    layers.BatchNormalization(),\n",
    "    layers.MaxPooling2D(2,2),\n",
    "    layers.Dropout(0.3),\n",
    "\n",
    "\n",
    "    layers.Conv2D(128, (3, 3), activation='relu', kernel_initializer='he_uniform', kernel_regularizer=l2(l=0.01), padding='same'),\n",
    "    layers.BatchNormalization(),\n",
    "    layers.Conv2D(128, (3, 3), activation='relu', kernel_initializer='he_uniform', kernel_regularizer=l2(l=0.01), padding='same'),\n",
    "    layers.BatchNormalization(),\n",
    "    layers.Conv2D(128, (3, 3), activation='relu', kernel_initializer='he_uniform', kernel_regularizer=l2(l=0.01), padding='same'),\n",
    "    layers.BatchNormalization(),\n",
    "    layers.MaxPooling2D(2,2),\n",
    "    layers.Dropout(0.4),\n",
    "    \n",
    "    layers.Conv2D(256, (3, 3), activation='relu', kernel_initializer='he_uniform', kernel_regularizer=l2(l=0.01), padding='same'),\n",
    "    layers.BatchNormalization(),\n",
    "    layers.Conv2D(256, (3, 3), activation='relu', kernel_initializer='he_uniform', kernel_regularizer=l2(l=0.01), padding='same'),\n",
    "    layers.BatchNormalization(),\n",
    "    layers.Conv2D(256, (3, 3), activation='relu', kernel_initializer='he_uniform', kernel_regularizer=l2(l=0.01), padding='same'),\n",
    "    layers.BatchNormalization(),\n",
    "    layers.MaxPooling2D(2,2),\n",
    "    layers.Dropout(0.4),\n",
    "\n",
    "\n",
    "    layers.Flatten(),\n",
    "    layers.Dense(512, kernel_regularizer=l2(l=0.01), activation='relu'),\n",
    "    layers.BatchNormalization(),\n",
    "    layers.Dense(512, kernel_regularizer=l2(l=0.01), activation='relu'),\n",
    "    layers.BatchNormalization(),\n",
    "    layers.Dropout(0.2),\n",
    "    layers.Dense(512, kernel_regularizer=l2(l=0.01), activation='relu'),\n",
    "    layers.BatchNormalization(),\n",
    "    layers.Dropout(0.2),\n",
    "    layers.Dense(4, activation='softmax')\n",
    "    ])\n"
   ]
  },
  {
   "cell_type": "markdown",
   "id": "8fd9b4e1",
   "metadata": {},
   "source": [
    "model_stack2.compile(optimizer=\"adam\" , \n",
    "                loss=tf.keras.losses.SparseCategoricalCrossentropy(from_logits=True), \n",
    "                metrics=['accuracy']) \n",
    "with tf.device('/GPU:0'): \n",
    "    model_stack2.fit(X2_train_scaled,y2_train, epochs=30,verbose=1)\n",
    "\n",
    "predict=model_stack2.predict(X2_val_scaled) \n",
    "classes=np.argmax(predict,axis=1)\n",
    "\n",
    "print(classification_report(y2_val, classes))"
   ]
  },
  {
   "cell_type": "markdown",
   "id": "4957abec",
   "metadata": {},
   "source": [
    "VGG16\n",
    "\n",
    "357/357 [==============================] - 7s 21ms/step - loss: 1.2135 - accuracy: 0.6634\n",
    "              precision    recall  f1-score   support\n",
    "\n",
    "           0       0.69      0.43      0.53       283\n",
    "           1       0.51      0.90      0.65       382\n",
    "           2       0.90      0.82      0.86       612\n",
    "           3       0.56      0.24      0.33       208\n",
    "\n",
    "    accuracy                           0.68      1485\n",
    "   macro avg       0.67      0.60      0.59      1485\n",
    "weighted avg       0.71      0.68      0.67      1485"
   ]
  },
  {
   "cell_type": "markdown",
   "id": "da74cd95",
   "metadata": {},
   "source": [
    "### 4.1.3 Final model"
   ]
  },
  {
   "cell_type": "markdown",
   "id": "319e6130",
   "metadata": {},
   "source": [
    "tf.config.experimental.list_physical_devices()"
   ]
  },
  {
   "cell_type": "code",
   "execution_count": 20,
   "id": "7558676a",
   "metadata": {},
   "outputs": [],
   "source": [
    "model = Sequential([\n",
    "    data_augmentation,\n",
    "    layers.Conv2D(32, (3, 3), activation='relu', kernel_initializer='he_uniform', padding='same'),\n",
    "    layers.BatchNormalization(),\n",
    "    layers.Conv2D(32, (3, 3), activation='relu', kernel_initializer='he_uniform', padding='same'),\n",
    "    layers.BatchNormalization(),\n",
    "    layers.MaxPooling2D(2,2),\n",
    "    layers.Dropout(0.2),\n",
    "    \n",
    "    layers.Conv2D(64, (3, 3), activation='relu', kernel_initializer='he_uniform', kernel_regularizer=l2(l=0.01),padding='same'),\n",
    "    layers.BatchNormalization(),\n",
    "    layers.Conv2D(64, (3, 3), activation='relu', kernel_initializer='he_uniform', kernel_regularizer=l2(l=0.01),padding='same'),\n",
    "    layers.BatchNormalization(),\n",
    "    layers.MaxPooling2D(2,2),\n",
    "    layers.Dropout(0.3),\n",
    "\n",
    "    \n",
    "    layers.Conv2D(128, (3, 3), activation='relu', kernel_initializer='he_uniform', kernel_regularizer=l2(l=0.01),padding='same'),\n",
    "    layers.BatchNormalization(),\n",
    "    layers.Conv2D(128, (3, 3), activation='relu', kernel_initializer='he_uniform', kernel_regularizer=l2(l=0.01),padding='same'),\n",
    "    layers.BatchNormalization(),\n",
    "    layers.MaxPooling2D(2,2),\n",
    "    layers.Dropout(0.4),\n",
    "    \n",
    "    layers.Flatten(),\n",
    "    layers.Dense(512, kernel_regularizer=l2(l=0.01), activation='relu'),\n",
    "    layers.BatchNormalization(),\n",
    "    layers.Dropout(0.2),\n",
    "    layers.Dense(512, kernel_regularizer=l2(l=0.01), activation='relu'),\n",
    "    layers.BatchNormalization(),\n",
    "    layers.Dropout(0.2),\n",
    "    layers.Dense(4, activation='softmax')\n",
    "])\n",
    "\n"
   ]
  },
  {
   "cell_type": "code",
   "execution_count": 21,
   "id": "60221ada",
   "metadata": {},
   "outputs": [],
   "source": [
    "opt = Adam(lr=0.0005, beta_1=0.4, beta_2=0.444, decay=1.0e-6, amsgrad=True)\n",
    "model.compile(optimizer=opt , loss=tf.keras.losses.SparseCategoricalCrossentropy(from_logits=True), metrics=['accuracy'])"
   ]
  },
  {
   "cell_type": "code",
   "execution_count": 22,
   "id": "c7cf7d05",
   "metadata": {
    "scrolled": true
   },
   "outputs": [
    {
     "name": "stdout",
     "output_type": "stream",
     "text": [
      "Epoch 1/500\n",
      "357/357 [==============================] - 7s 15ms/step - loss: 19.5438 - accuracy: 0.5335 - val_loss: 18.5836 - val_accuracy: 0.5697\n",
      "Epoch 2/500\n",
      "357/357 [==============================] - 5s 14ms/step - loss: 17.0211 - accuracy: 0.5886 - val_loss: 15.8545 - val_accuracy: 0.6673\n",
      "Epoch 3/500\n",
      "357/357 [==============================] - 5s 14ms/step - loss: 15.1145 - accuracy: 0.6089 - val_loss: 14.1652 - val_accuracy: 0.6949\n",
      "Epoch 4/500\n",
      "357/357 [==============================] - 5s 14ms/step - loss: 13.5727 - accuracy: 0.6168 - val_loss: 12.8370 - val_accuracy: 0.6734\n",
      "Epoch 5/500\n",
      "357/357 [==============================] - 5s 14ms/step - loss: 12.2531 - accuracy: 0.6384 - val_loss: 11.5885 - val_accuracy: 0.6909\n",
      "Epoch 6/500\n",
      "357/357 [==============================] - 5s 14ms/step - loss: 11.1268 - accuracy: 0.6427 - val_loss: 10.5376 - val_accuracy: 0.7010\n",
      "Epoch 7/500\n",
      "357/357 [==============================] - 5s 14ms/step - loss: 10.1435 - accuracy: 0.6555 - val_loss: 9.6667 - val_accuracy: 0.6990\n",
      "Epoch 8/500\n",
      "357/357 [==============================] - 5s 14ms/step - loss: 9.2844 - accuracy: 0.6586 - val_loss: 8.8484 - val_accuracy: 0.7071\n",
      "Epoch 9/500\n",
      "357/357 [==============================] - 5s 14ms/step - loss: 8.5235 - accuracy: 0.6715 - val_loss: 8.1475 - val_accuracy: 0.7091\n",
      "Epoch 10/500\n",
      "357/357 [==============================] - 5s 14ms/step - loss: 7.8576 - accuracy: 0.6750 - val_loss: 7.5026 - val_accuracy: 0.7232\n",
      "Epoch 11/500\n",
      "357/357 [==============================] - 5s 14ms/step - loss: 7.2636 - accuracy: 0.6771 - val_loss: 6.9663 - val_accuracy: 0.7158\n",
      "Epoch 12/500\n",
      "357/357 [==============================] - 5s 14ms/step - loss: 6.7318 - accuracy: 0.6851 - val_loss: 6.4597 - val_accuracy: 0.7131\n",
      "Epoch 13/500\n",
      "357/357 [==============================] - 5s 14ms/step - loss: 6.2703 - accuracy: 0.6823 - val_loss: 5.9920 - val_accuracy: 0.7293\n",
      "Epoch 14/500\n",
      "357/357 [==============================] - 5s 14ms/step - loss: 5.8289 - accuracy: 0.6930 - val_loss: 5.6404 - val_accuracy: 0.7199\n",
      "Epoch 15/500\n",
      "357/357 [==============================] - 5s 14ms/step - loss: 5.4406 - accuracy: 0.6979 - val_loss: 5.2992 - val_accuracy: 0.7253\n",
      "Epoch 16/500\n",
      "357/357 [==============================] - 5s 14ms/step - loss: 5.1034 - accuracy: 0.7026 - val_loss: 4.9388 - val_accuracy: 0.7320\n",
      "Epoch 17/500\n",
      "357/357 [==============================] - 5s 14ms/step - loss: 4.7960 - accuracy: 0.7011 - val_loss: 4.6385 - val_accuracy: 0.7367\n",
      "Epoch 18/500\n",
      "357/357 [==============================] - 5s 14ms/step - loss: 4.4975 - accuracy: 0.7123 - val_loss: 4.3926 - val_accuracy: 0.7354\n",
      "Epoch 19/500\n",
      "357/357 [==============================] - 5s 14ms/step - loss: 4.2544 - accuracy: 0.7108 - val_loss: 4.1010 - val_accuracy: 0.7428\n",
      "Epoch 20/500\n",
      "357/357 [==============================] - 5s 14ms/step - loss: 4.0088 - accuracy: 0.7128 - val_loss: 3.9056 - val_accuracy: 0.7374\n",
      "Epoch 21/500\n",
      "357/357 [==============================] - 5s 14ms/step - loss: 3.7931 - accuracy: 0.7170 - val_loss: 3.7174 - val_accuracy: 0.7421\n",
      "Epoch 22/500\n",
      "357/357 [==============================] - 5s 14ms/step - loss: 3.6016 - accuracy: 0.7200 - val_loss: 3.5328 - val_accuracy: 0.7448\n",
      "Epoch 23/500\n",
      "357/357 [==============================] - 5s 14ms/step - loss: 3.4172 - accuracy: 0.7194 - val_loss: 3.3220 - val_accuracy: 0.7502\n",
      "Epoch 24/500\n",
      "357/357 [==============================] - 5s 14ms/step - loss: 3.2512 - accuracy: 0.7235 - val_loss: 3.1328 - val_accuracy: 0.7650\n",
      "Epoch 25/500\n",
      "357/357 [==============================] - 5s 14ms/step - loss: 3.0834 - accuracy: 0.7360 - val_loss: 3.0354 - val_accuracy: 0.7468\n",
      "Epoch 26/500\n",
      "357/357 [==============================] - 5s 14ms/step - loss: 2.9520 - accuracy: 0.7250 - val_loss: 2.8724 - val_accuracy: 0.7522\n",
      "Epoch 27/500\n",
      "357/357 [==============================] - 5s 14ms/step - loss: 2.8181 - accuracy: 0.7330 - val_loss: 2.7630 - val_accuracy: 0.7535\n",
      "Epoch 28/500\n",
      "357/357 [==============================] - 5s 14ms/step - loss: 2.6947 - accuracy: 0.7364 - val_loss: 2.6231 - val_accuracy: 0.7522\n",
      "Epoch 29/500\n",
      "357/357 [==============================] - 5s 14ms/step - loss: 2.5837 - accuracy: 0.7335 - val_loss: 2.5155 - val_accuracy: 0.7623\n",
      "Epoch 30/500\n",
      "357/357 [==============================] - 5s 14ms/step - loss: 2.4764 - accuracy: 0.7373 - val_loss: 2.4073 - val_accuracy: 0.7670\n",
      "Epoch 31/500\n",
      "357/357 [==============================] - 5s 14ms/step - loss: 2.3796 - accuracy: 0.7409 - val_loss: 2.3231 - val_accuracy: 0.7603\n",
      "Epoch 32/500\n",
      "357/357 [==============================] - 5s 14ms/step - loss: 2.2916 - accuracy: 0.7406 - val_loss: 2.2442 - val_accuracy: 0.7657\n",
      "Epoch 33/500\n",
      "357/357 [==============================] - 5s 14ms/step - loss: 2.2035 - accuracy: 0.7426 - val_loss: 2.1231 - val_accuracy: 0.7771\n",
      "Epoch 34/500\n",
      "357/357 [==============================] - 5s 14ms/step - loss: 2.1247 - accuracy: 0.7446 - val_loss: 2.0444 - val_accuracy: 0.7758\n",
      "Epoch 35/500\n",
      "357/357 [==============================] - 5s 14ms/step - loss: 2.0552 - accuracy: 0.7463 - val_loss: 2.0390 - val_accuracy: 0.7582\n",
      "Epoch 36/500\n",
      "357/357 [==============================] - 5s 14ms/step - loss: 1.9793 - accuracy: 0.7504 - val_loss: 1.9373 - val_accuracy: 0.7710\n",
      "Epoch 37/500\n",
      "357/357 [==============================] - 5s 14ms/step - loss: 1.9139 - accuracy: 0.7465 - val_loss: 1.9372 - val_accuracy: 0.7495\n",
      "Epoch 38/500\n",
      "357/357 [==============================] - 5s 14ms/step - loss: 1.8501 - accuracy: 0.7549 - val_loss: 1.7814 - val_accuracy: 0.7697\n",
      "Epoch 39/500\n",
      "357/357 [==============================] - 5s 14ms/step - loss: 1.7978 - accuracy: 0.7533 - val_loss: 1.7440 - val_accuracy: 0.7751\n",
      "Epoch 40/500\n",
      "357/357 [==============================] - 5s 14ms/step - loss: 1.7456 - accuracy: 0.7545 - val_loss: 1.6860 - val_accuracy: 0.7852\n",
      "Epoch 41/500\n",
      "357/357 [==============================] - 5s 14ms/step - loss: 1.6862 - accuracy: 0.7578 - val_loss: 1.7463 - val_accuracy: 0.7556\n",
      "Epoch 42/500\n",
      "357/357 [==============================] - 5s 14ms/step - loss: 1.6427 - accuracy: 0.7555 - val_loss: 1.6310 - val_accuracy: 0.7643\n",
      "Epoch 43/500\n",
      "357/357 [==============================] - 5s 14ms/step - loss: 1.5972 - accuracy: 0.7579 - val_loss: 1.5518 - val_accuracy: 0.7751\n",
      "Epoch 44/500\n",
      "357/357 [==============================] - 5s 14ms/step - loss: 1.5546 - accuracy: 0.7637 - val_loss: 1.4762 - val_accuracy: 0.7818\n",
      "Epoch 45/500\n",
      "357/357 [==============================] - 5s 14ms/step - loss: 1.5071 - accuracy: 0.7653 - val_loss: 1.4968 - val_accuracy: 0.7778\n",
      "Epoch 46/500\n",
      "357/357 [==============================] - 5s 14ms/step - loss: 1.4769 - accuracy: 0.7618 - val_loss: 1.4354 - val_accuracy: 0.7758\n",
      "Epoch 47/500\n",
      "357/357 [==============================] - 5s 14ms/step - loss: 1.4473 - accuracy: 0.7617 - val_loss: 1.4412 - val_accuracy: 0.7663\n",
      "Epoch 48/500\n",
      "357/357 [==============================] - 5s 14ms/step - loss: 1.3859 - accuracy: 0.7785 - val_loss: 1.3597 - val_accuracy: 0.7980\n",
      "Epoch 49/500\n",
      "357/357 [==============================] - 5s 14ms/step - loss: 1.3782 - accuracy: 0.7658 - val_loss: 1.2932 - val_accuracy: 0.8020\n",
      "Epoch 50/500\n",
      "357/357 [==============================] - 5s 14ms/step - loss: 1.3382 - accuracy: 0.7682 - val_loss: 1.3234 - val_accuracy: 0.7859\n",
      "Epoch 51/500\n",
      "357/357 [==============================] - 5s 14ms/step - loss: 1.3120 - accuracy: 0.7726 - val_loss: 1.3112 - val_accuracy: 0.7838\n",
      "Epoch 52/500\n",
      "357/357 [==============================] - 5s 14ms/step - loss: 1.2898 - accuracy: 0.7702 - val_loss: 1.2282 - val_accuracy: 0.8074\n",
      "Epoch 53/500\n",
      "357/357 [==============================] - 5s 14ms/step - loss: 1.2604 - accuracy: 0.7708 - val_loss: 1.2560 - val_accuracy: 0.7791\n",
      "Epoch 54/500\n",
      "357/357 [==============================] - 5s 14ms/step - loss: 1.2307 - accuracy: 0.7753 - val_loss: 1.2248 - val_accuracy: 0.7973\n",
      "Epoch 55/500\n",
      "357/357 [==============================] - 5s 14ms/step - loss: 1.2142 - accuracy: 0.7729 - val_loss: 1.2039 - val_accuracy: 0.7825\n",
      "Epoch 56/500\n",
      "357/357 [==============================] - 5s 14ms/step - loss: 1.1815 - accuracy: 0.7757 - val_loss: 1.1908 - val_accuracy: 0.7670\n",
      "Epoch 57/500\n",
      "357/357 [==============================] - 5s 14ms/step - loss: 1.1647 - accuracy: 0.7771 - val_loss: 1.1565 - val_accuracy: 0.7933\n",
      "Epoch 58/500\n",
      "357/357 [==============================] - 5s 14ms/step - loss: 1.1466 - accuracy: 0.7743 - val_loss: 1.1300 - val_accuracy: 0.7939\n",
      "Epoch 00058: early stopping\n",
      "---  Training time in seconds ---299.31650161743164 \n"
     ]
    }
   ],
   "source": [
    "my_callbacks = [\n",
    "    tf.keras.callbacks.EarlyStopping(monitor='accuracy', min_delta=0.001, patience=10, verbose=1, mode='auto'),\n",
    "    tf.keras.callbacks.ModelCheckpoint(\n",
    "    filepath=\"task2/task2_weights.{epoch:02d}-valloss.{val_loss:.2f}.h5\",\n",
    "    save_weights_only=False,\n",
    "    monitor='val_accuracy',\n",
    "    mode='max',\n",
    "    save_best_only=True),\n",
    "    ReduceLROnPlateau(monitor='val_loss', factor=np.sqrt(0.1), cooldown=0, patience=6, min_lr=0.5e-15) \n",
    "]\n",
    "\n",
    "EPOCHS = 500\n",
    "BATCH_SIZE = 32\n",
    "\n",
    "import time\n",
    "start_time = time.time()\n",
    "\n",
    "with tf.device('/GPU:0'): \n",
    "    history = model.fit(X2_train_scaled, y2_train,\n",
    "                    validation_data=(X2_val_scaled, y2_val), \n",
    "                    batch_size=BATCH_SIZE, \n",
    "                    epochs=EPOCHS, \n",
    "                    verbose=1,\n",
    "                    callbacks=my_callbacks)\n",
    "\n",
    "print(\"---  Training time in seconds ---%s \" % (time.time() - start_time))"
   ]
  },
  {
   "cell_type": "markdown",
   "id": "c460916a",
   "metadata": {},
   "source": [
    " model.load_weights(\"task2_weights.111-0.76.h5\")"
   ]
  },
  {
   "cell_type": "markdown",
   "id": "90c50cf1",
   "metadata": {},
   "source": [
    "\n",
    "scores = model.evaluate(X2_val_scaled, y2_val, verbose=1)\n",
    "print('Validation loss:', scores[0])\n",
    "print('Validation accuracy:', scores[1])\n",
    "print('Max Validation accuracy:', max(history.history['accuracy']))\n",
    "\n",
    "# summarize history for accuracy\n",
    "plt.plot(history.history['accuracy'])\n",
    "plt.plot(history.history['val_accuracy'])\n",
    "plt.title('Model accuracy')\n",
    "plt.ylabel('Accuracy')\n",
    "plt.xlabel('Epoch')\n",
    "plt.legend(['Train', 'Validation'], loc='upper left')\n",
    "plt.show()\n",
    "# summarize history for loss\n",
    "plt.plot(history.history['loss'])\n",
    "plt.plot(history.history['val_loss'])\n",
    "plt.title('Model loss')\n",
    "plt.ylabel('Loss')\n",
    "plt.xlabel('Epoch')\n",
    "plt.legend(['Train', 'Validation'], loc='upper right')\n",
    "plt.show()"
   ]
  },
  {
   "cell_type": "markdown",
   "id": "93baac1e",
   "metadata": {},
   "source": [
    "from sklearn.metrics import classification_report\n",
    "predict=model.predict(X2_test_scaled)\n",
    "classes=np.argmax(predict,axis=1)\n",
    "\n",
    "print(classification_report(y2_test, classes))\n"
   ]
  },
  {
   "cell_type": "code",
   "execution_count": 23,
   "id": "3f45f7e6",
   "metadata": {},
   "outputs": [],
   "source": [
    "class_names = [\"fibroblast\",\"inflammatory\",\"epithelial\",\"others\"]"
   ]
  },
  {
   "cell_type": "markdown",
   "id": "f783414b",
   "metadata": {},
   "source": [
    "import numpy as np\n",
    "batch_predict = model.predict (X2_test_scaled)\n",
    "plt.figure(figsize=(15, 15))\n",
    "\n",
    "for i in range(9):\n",
    "    ax = plt.subplot(3, 3, i+1)\n",
    "    first_image = X2_test_scaled[i]\n",
    "    first_label = int(y2_test.iloc[i])\n",
    "    plt.imshow(first_image)\n",
    "    confidence = round(100 * (np.max(batch_predict[i][0])), 2)\n",
    "    actual_class= class_names[first_label]\n",
    "    predicted_class = class_names[np.argmax(batch_predict[i])]\n",
    "    \n",
    "    plt.title(f\"Actual: {actual_class},\\n Predicted: {predicted_class}.\\n Confidence: {confidence}%\")\n",
    "    plt.axis(\"off\")\n",
    "    "
   ]
  }
 ],
 "metadata": {
  "kernelspec": {
   "display_name": "Python 3 (ipykernel)",
   "language": "python",
   "name": "python3"
  },
  "language_info": {
   "codemirror_mode": {
    "name": "ipython",
    "version": 3
   },
   "file_extension": ".py",
   "mimetype": "text/x-python",
   "name": "python",
   "nbconvert_exporter": "python",
   "pygments_lexer": "ipython3",
   "version": "3.9.12"
  },
  "toc": {
   "base_numbering": 1,
   "nav_menu": {},
   "number_sections": false,
   "sideBar": true,
   "skip_h1_title": false,
   "title_cell": "Table of Contents",
   "title_sidebar": "Contents",
   "toc_cell": true,
   "toc_position": {
    "height": "calc(100% - 180px)",
    "left": "10px",
    "top": "150px",
    "width": "384px"
   },
   "toc_section_display": true,
   "toc_window_display": true
  }
 },
 "nbformat": 4,
 "nbformat_minor": 5
}
